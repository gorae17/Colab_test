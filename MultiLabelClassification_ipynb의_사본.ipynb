{
  "nbformat": 4,
  "nbformat_minor": 0,
  "metadata": {
    "colab": {
      "name": "MultiLabelClassification.ipynb의 사본",
      "version": "0.3.2",
      "provenance": [],
      "collapsed_sections": [],
      "include_colab_link": true
    },
    "kernelspec": {
      "name": "python3",
      "display_name": "Python 3"
    }
  },
  "cells": [
    {
      "cell_type": "markdown",
      "metadata": {
        "id": "view-in-github",
        "colab_type": "text"
      },
      "source": [
        "<a href=\"https://colab.research.google.com/github/gorae17/Colab_test/blob/master/MultiLabelClassification_ipynb%EC%9D%98_%EC%82%AC%EB%B3%B8.ipynb\" target=\"_parent\"><img src=\"https://colab.research.google.com/assets/colab-badge.svg\" alt=\"Open In Colab\"/></a>"
      ]
    },
    {
      "metadata": {
        "id": "pt0VwOC_fLSL",
        "colab_type": "code",
        "outputId": "dad1f4f1-5943-4642-d2c8-ac7d44bd17e2",
        "colab": {
          "base_uri": "https://localhost:8080/",
          "height": 241
        }
      },
      "cell_type": "code",
      "source": [
        "# 삭제\n",
        "from google.colab import drive\n",
        "drive.mount('/gdrive')\n",
        "!ls /gdrive/My\\ Drive/Colab\\ Notebooks/"
      ],
      "execution_count": 0,
      "outputs": [
        {
          "output_type": "stream",
          "text": [
            "Go to this URL in a browser: https://accounts.google.com/o/oauth2/auth?client_id=947318989803-6bn6qk8qdgf4n4g3pfee6491hc0brc4i.apps.googleusercontent.com&redirect_uri=urn%3Aietf%3Awg%3Aoauth%3A2.0%3Aoob&scope=email%20https%3A%2F%2Fwww.googleapis.com%2Fauth%2Fdocs.test%20https%3A%2F%2Fwww.googleapis.com%2Fauth%2Fdrive%20https%3A%2F%2Fwww.googleapis.com%2Fauth%2Fdrive.photos.readonly%20https%3A%2F%2Fwww.googleapis.com%2Fauth%2Fpeopleapi.readonly&response_type=code\n",
            "\n",
            "Enter your authorization code:\n",
            "··········\n",
            "Mounted at /gdrive\n",
            " 캐글스터디\t\t  0414.ipynb\n",
            " 04122.ipynb\t\t  AClassification.train.txt\n",
            "'04122.ipynb의 사본'\t  models\n",
            " 0412.ipynb\t\t  MultiLabelClassification_실험.ipynb\n",
            "'0412.ipynb의 사본'\t  MultiLabelClassification.ipynb\n",
            "'0412.ipynb의 사본 (1)'   Untitled\n",
            " 0413.ipynb\n"
          ],
          "name": "stdout"
        }
      ]
    },
    {
      "metadata": {
        "id": "lTg5G7BSfep8",
        "colab_type": "text"
      },
      "cell_type": "markdown",
      "source": [
        "# DATA 확인하기"
      ]
    },
    {
      "metadata": {
        "id": "npPtvH5Bfk2c",
        "colab_type": "code",
        "colab": {}
      },
      "cell_type": "code",
      "source": [
        "data = open('/gdrive/My Drive/Colab Notebooks/AClassification.train.txt','r').readlines()\n",
        "data = [line.strip().split('\\t') for line in data]\n",
        "df = pd.DataFrame.from_records(data, columns=['id','labels','features'])"
      ],
      "execution_count": 0,
      "outputs": []
    },
    {
      "metadata": {
        "id": "uevJtN6QfdvA",
        "colab_type": "code",
        "outputId": "fdf84121-ab8b-42c7-e2a1-75503fa7815e",
        "colab": {
          "base_uri": "https://localhost:8080/",
          "height": 204
        }
      },
      "cell_type": "code",
      "source": [
        "df.head()"
      ],
      "execution_count": 0,
      "outputs": [
        {
          "output_type": "execute_result",
          "data": {
            "text/html": [
              "<div>\n",
              "<style scoped>\n",
              "    .dataframe tbody tr th:only-of-type {\n",
              "        vertical-align: middle;\n",
              "    }\n",
              "\n",
              "    .dataframe tbody tr th {\n",
              "        vertical-align: top;\n",
              "    }\n",
              "\n",
              "    .dataframe thead th {\n",
              "        text-align: right;\n",
              "    }\n",
              "</style>\n",
              "<table border=\"1\" class=\"dataframe\">\n",
              "  <thead>\n",
              "    <tr style=\"text-align: right;\">\n",
              "      <th></th>\n",
              "      <th>id</th>\n",
              "      <th>labels</th>\n",
              "      <th>features</th>\n",
              "    </tr>\n",
              "  </thead>\n",
              "  <tbody>\n",
              "    <tr>\n",
              "      <th>0</th>\n",
              "      <td>7510</td>\n",
              "      <td>0</td>\n",
              "      <td>33/nc 60/nc 1531/nc 373/num 539/nbu 28/nc 36/n...</td>\n",
              "    </tr>\n",
              "    <tr>\n",
              "      <th>1</th>\n",
              "      <td>4344</td>\n",
              "      <td>0</td>\n",
              "      <td>1494/nc 10215/nc 3339/con 10216/nq 1494/nc 102...</td>\n",
              "    </tr>\n",
              "    <tr>\n",
              "      <th>2</th>\n",
              "      <td>2508</td>\n",
              "      <td>0</td>\n",
              "      <td>789/nc 1730/nc 4931/nc 342/nc 677/nc 48/nc 644...</td>\n",
              "    </tr>\n",
              "    <tr>\n",
              "      <th>3</th>\n",
              "      <td>7067</td>\n",
              "      <td>1 0</td>\n",
              "      <td>57/nc 1547/nc 173/nc 199/num 36/nc 233/nc 198/...</td>\n",
              "    </tr>\n",
              "    <tr>\n",
              "      <th>4</th>\n",
              "      <td>6471</td>\n",
              "      <td>0</td>\n",
              "      <td>298/nc 1969/nc 298/nc 1969/nc 886/nc 574/nc 10...</td>\n",
              "    </tr>\n",
              "  </tbody>\n",
              "</table>\n",
              "</div>"
            ],
            "text/plain": [
              "     id labels                                           features\n",
              "0  7510      0  33/nc 60/nc 1531/nc 373/num 539/nbu 28/nc 36/n...\n",
              "1  4344      0  1494/nc 10215/nc 3339/con 10216/nq 1494/nc 102...\n",
              "2  2508      0  789/nc 1730/nc 4931/nc 342/nc 677/nc 48/nc 644...\n",
              "3  7067    1 0  57/nc 1547/nc 173/nc 199/num 36/nc 233/nc 198/...\n",
              "4  6471      0  298/nc 1969/nc 298/nc 1969/nc 886/nc 574/nc 10..."
            ]
          },
          "metadata": {
            "tags": []
          },
          "execution_count": 4
        }
      ]
    },
    {
      "metadata": {
        "id": "KWs3Mwwvf4b5",
        "colab_type": "code",
        "outputId": "6bde3170-7396-4242-c94d-68e7393ca94d",
        "colab": {
          "base_uri": "https://localhost:8080/",
          "height": 173
        }
      },
      "cell_type": "code",
      "source": [
        "df.describe()"
      ],
      "execution_count": 0,
      "outputs": [
        {
          "output_type": "execute_result",
          "data": {
            "text/html": [
              "<div>\n",
              "<style scoped>\n",
              "    .dataframe tbody tr th:only-of-type {\n",
              "        vertical-align: middle;\n",
              "    }\n",
              "\n",
              "    .dataframe tbody tr th {\n",
              "        vertical-align: top;\n",
              "    }\n",
              "\n",
              "    .dataframe thead th {\n",
              "        text-align: right;\n",
              "    }\n",
              "</style>\n",
              "<table border=\"1\" class=\"dataframe\">\n",
              "  <thead>\n",
              "    <tr style=\"text-align: right;\">\n",
              "      <th></th>\n",
              "      <th>id</th>\n",
              "      <th>labels</th>\n",
              "      <th>features</th>\n",
              "    </tr>\n",
              "  </thead>\n",
              "  <tbody>\n",
              "    <tr>\n",
              "      <th>count</th>\n",
              "      <td>304181</td>\n",
              "      <td>304181</td>\n",
              "      <td>304181</td>\n",
              "    </tr>\n",
              "    <tr>\n",
              "      <th>unique</th>\n",
              "      <td>304181</td>\n",
              "      <td>114</td>\n",
              "      <td>301394</td>\n",
              "    </tr>\n",
              "    <tr>\n",
              "      <th>top</th>\n",
              "      <td>10591</td>\n",
              "      <td>5</td>\n",
              "      <td>80/num 2023/nbu 2005/nc 354/nc</td>\n",
              "    </tr>\n",
              "    <tr>\n",
              "      <th>freq</th>\n",
              "      <td>1</td>\n",
              "      <td>90646</td>\n",
              "      <td>519</td>\n",
              "    </tr>\n",
              "  </tbody>\n",
              "</table>\n",
              "</div>"
            ],
            "text/plain": [
              "            id  labels                        features\n",
              "count   304181  304181                          304181\n",
              "unique  304181     114                          301394\n",
              "top      10591       5  80/num 2023/nbu 2005/nc 354/nc\n",
              "freq         1   90646                             519"
            ]
          },
          "metadata": {
            "tags": []
          },
          "execution_count": 5
        }
      ]
    },
    {
      "metadata": {
        "id": "Cc_0qXIyf5sA",
        "colab_type": "code",
        "outputId": "593a6371-4d9a-48b3-b6e3-f52d4bae1a84",
        "colab": {
          "base_uri": "https://localhost:8080/",
          "height": 34
        }
      },
      "cell_type": "code",
      "source": [
        "df.shape"
      ],
      "execution_count": 0,
      "outputs": [
        {
          "output_type": "execute_result",
          "data": {
            "text/plain": [
              "(304181, 3)"
            ]
          },
          "metadata": {
            "tags": []
          },
          "execution_count": 7
        }
      ]
    },
    {
      "metadata": {
        "id": "Ju1EfAJlgEt0",
        "colab_type": "code",
        "outputId": "7885ce4f-0276-42f0-e28a-ec0cf7f44104",
        "colab": {
          "base_uri": "https://localhost:8080/",
          "height": 34
        }
      },
      "cell_type": "code",
      "source": [
        "max(df['labels'].apply(lambda x: len(x.split())))\n",
        "# 샘플 하나는 1~5개의 label을 가지고 있음"
      ],
      "execution_count": 0,
      "outputs": [
        {
          "output_type": "execute_result",
          "data": {
            "text/plain": [
              "5"
            ]
          },
          "metadata": {
            "tags": []
          },
          "execution_count": 8
        }
      ]
    },
    {
      "metadata": {
        "id": "LZRp4IyrgY8Y",
        "colab_type": "code",
        "outputId": "c5a2fb98-18b1-4e34-ea5b-0225187fa598",
        "colab": {
          "base_uri": "https://localhost:8080/",
          "height": 204
        }
      },
      "cell_type": "code",
      "source": [
        "from collections import defaultdict\n",
        "\n",
        "labeldict = defaultdict(lambda: 0)\n",
        "def make_labeldict(x):\n",
        "  for label in x.split():\n",
        "    labeldict[label] += 1\n",
        "df['labels'].apply(make_labeldict)\n",
        "labelpd = pd.DataFrame.from_dict(labeldict, orient='index', columns=['count'])\n",
        "labelpd.head()"
      ],
      "execution_count": 0,
      "outputs": [
        {
          "output_type": "execute_result",
          "data": {
            "text/html": [
              "<div>\n",
              "<style scoped>\n",
              "    .dataframe tbody tr th:only-of-type {\n",
              "        vertical-align: middle;\n",
              "    }\n",
              "\n",
              "    .dataframe tbody tr th {\n",
              "        vertical-align: top;\n",
              "    }\n",
              "\n",
              "    .dataframe thead th {\n",
              "        text-align: right;\n",
              "    }\n",
              "</style>\n",
              "<table border=\"1\" class=\"dataframe\">\n",
              "  <thead>\n",
              "    <tr style=\"text-align: right;\">\n",
              "      <th></th>\n",
              "      <th>count</th>\n",
              "    </tr>\n",
              "  </thead>\n",
              "  <tbody>\n",
              "    <tr>\n",
              "      <th>0</th>\n",
              "      <td>6649</td>\n",
              "    </tr>\n",
              "    <tr>\n",
              "      <th>1</th>\n",
              "      <td>17293</td>\n",
              "    </tr>\n",
              "    <tr>\n",
              "      <th>7</th>\n",
              "      <td>8223</td>\n",
              "    </tr>\n",
              "    <tr>\n",
              "      <th>8</th>\n",
              "      <td>12691</td>\n",
              "    </tr>\n",
              "    <tr>\n",
              "      <th>3</th>\n",
              "      <td>7629</td>\n",
              "    </tr>\n",
              "  </tbody>\n",
              "</table>\n",
              "</div>"
            ],
            "text/plain": [
              "   count\n",
              "0   6649\n",
              "1  17293\n",
              "7   8223\n",
              "8  12691\n",
              "3   7629"
            ]
          },
          "metadata": {
            "tags": []
          },
          "execution_count": 22
        }
      ]
    },
    {
      "metadata": {
        "id": "8qD9LQhyicHJ",
        "colab_type": "code",
        "outputId": "5aa12235-4219-485b-950e-baf9e352c05a",
        "colab": {
          "base_uri": "https://localhost:8080/",
          "height": 269
        }
      },
      "cell_type": "code",
      "source": [
        "from matplotlib import pyplot as plt\n",
        "labelpd['count'].hist()\n",
        "plt.show()"
      ],
      "execution_count": 0,
      "outputs": [
        {
          "output_type": "display_data",
          "data": {
            "image/png": "[encoded data removed]",
            "text/plain": [
              "<Figure size 432x288 with 1 Axes>"
            ]
          },
          "metadata": {
            "tags": []
          }
        }
      ]
    },
    {
      "metadata": {
        "id": "RDdEN-txhXao",
        "colab_type": "code",
        "outputId": "0f2417fc-f61d-4c70-b8d0-c38c8877528f",
        "colab": {
          "base_uri": "https://localhost:8080/",
          "height": 34
        }
      },
      "cell_type": "code",
      "source": [
        "# 영어기호는 feature의 숫자에 속하는 정보인지 확인하기\n",
        "featuredict = defaultdict(lambda: set([]))\n",
        "def make_featuredict(x):\n",
        "  for feature in x.split():\n",
        "    feature = feature.split('/')\n",
        "    featuredict[feature[0]].add(feature[1])\n",
        "df['features'].apply(make_featuredict)\n",
        "max([len(x) for _,x in featuredict.items()])"
      ],
      "execution_count": 0,
      "outputs": [
        {
          "output_type": "execute_result",
          "data": {
            "text/plain": [
              "1"
            ]
          },
          "metadata": {
            "tags": []
          },
          "execution_count": 14
        }
      ]
    },
    {
      "metadata": {
        "id": "DJ57jxtFixuI",
        "colab_type": "code",
        "outputId": "710ee242-901a-4cf7-9527-560b5015f19b",
        "colab": {
          "base_uri": "https://localhost:8080/",
          "height": 204
        }
      },
      "cell_type": "code",
      "source": [
        "df['features_len'] = df['features'].apply(lambda x: len(x.split()))\n",
        "df.head()"
      ],
      "execution_count": 0,
      "outputs": [
        {
          "output_type": "execute_result",
          "data": {
            "text/html": [
              "<div>\n",
              "<style scoped>\n",
              "    .dataframe tbody tr th:only-of-type {\n",
              "        vertical-align: middle;\n",
              "    }\n",
              "\n",
              "    .dataframe tbody tr th {\n",
              "        vertical-align: top;\n",
              "    }\n",
              "\n",
              "    .dataframe thead th {\n",
              "        text-align: right;\n",
              "    }\n",
              "</style>\n",
              "<table border=\"1\" class=\"dataframe\">\n",
              "  <thead>\n",
              "    <tr style=\"text-align: right;\">\n",
              "      <th></th>\n",
              "      <th>id</th>\n",
              "      <th>labels</th>\n",
              "      <th>features</th>\n",
              "      <th>features_len</th>\n",
              "    </tr>\n",
              "  </thead>\n",
              "  <tbody>\n",
              "    <tr>\n",
              "      <th>0</th>\n",
              "      <td>7510</td>\n",
              "      <td>0</td>\n",
              "      <td>33/nc 60/nc 1531/nc 373/num 539/nbu 28/nc 36/n...</td>\n",
              "      <td>37</td>\n",
              "    </tr>\n",
              "    <tr>\n",
              "      <th>1</th>\n",
              "      <td>4344</td>\n",
              "      <td>0</td>\n",
              "      <td>1494/nc 10215/nc 3339/con 10216/nq 1494/nc 102...</td>\n",
              "      <td>14</td>\n",
              "    </tr>\n",
              "    <tr>\n",
              "      <th>2</th>\n",
              "      <td>2508</td>\n",
              "      <td>0</td>\n",
              "      <td>789/nc 1730/nc 4931/nc 342/nc 677/nc 48/nc 644...</td>\n",
              "      <td>39</td>\n",
              "    </tr>\n",
              "    <tr>\n",
              "      <th>3</th>\n",
              "      <td>7067</td>\n",
              "      <td>1 0</td>\n",
              "      <td>57/nc 1547/nc 173/nc 199/num 36/nc 233/nc 198/...</td>\n",
              "      <td>28</td>\n",
              "    </tr>\n",
              "    <tr>\n",
              "      <th>4</th>\n",
              "      <td>6471</td>\n",
              "      <td>0</td>\n",
              "      <td>298/nc 1969/nc 298/nc 1969/nc 886/nc 574/nc 10...</td>\n",
              "      <td>10</td>\n",
              "    </tr>\n",
              "  </tbody>\n",
              "</table>\n",
              "</div>"
            ],
            "text/plain": [
              "     id labels                                           features  \\\n",
              "0  7510      0  33/nc 60/nc 1531/nc 373/num 539/nbu 28/nc 36/n...   \n",
              "1  4344      0  1494/nc 10215/nc 3339/con 10216/nq 1494/nc 102...   \n",
              "2  2508      0  789/nc 1730/nc 4931/nc 342/nc 677/nc 48/nc 644...   \n",
              "3  7067    1 0  57/nc 1547/nc 173/nc 199/num 36/nc 233/nc 198/...   \n",
              "4  6471      0  298/nc 1969/nc 298/nc 1969/nc 886/nc 574/nc 10...   \n",
              "\n",
              "   features_len  \n",
              "0            37  \n",
              "1            14  \n",
              "2            39  \n",
              "3            28  \n",
              "4            10  "
            ]
          },
          "metadata": {
            "tags": []
          },
          "execution_count": 23
        }
      ]
    },
    {
      "metadata": {
        "id": "Cl0j_-OekMlL",
        "colab_type": "code",
        "outputId": "c7a3f34a-287f-4234-be76-83b1ff065256",
        "colab": {
          "base_uri": "https://localhost:8080/",
          "height": 269
        }
      },
      "cell_type": "code",
      "source": [
        "df['features_len'].hist()\n",
        "plt.show()"
      ],
      "execution_count": 0,
      "outputs": [
        {
          "output_type": "display_data",
          "data": {
            "image/png": "[encoded data removed]",
            "text/plain": [
              "<Figure size 432x288 with 1 Axes>"
            ]
          },
          "metadata": {
            "tags": []
          }
        }
      ]
    },
    {
      "metadata": {
        "id": "8ykdFuiSlYww",
        "colab_type": "code",
        "outputId": "b34ca12f-6233-4812-8ec9-900870931817",
        "colab": {
          "base_uri": "https://localhost:8080/",
          "height": 281
        }
      },
      "cell_type": "code",
      "source": [
        "df[df['features_len']<300].hist()\n",
        "plt.show()"
      ],
      "execution_count": 0,
      "outputs": [
        {
          "output_type": "display_data",
          "data": {
            "image/png": "[encoded data removed]",
            "text/plain": [
              "<Figure size 432x288 with 1 Axes>"
            ]
          },
          "metadata": {
            "tags": []
          }
        }
      ]
    },
    {
      "metadata": {
        "id": "OZSYuN7lldDa",
        "colab_type": "code",
        "colab": {}
      },
      "cell_type": "code",
      "source": [
        ""
      ],
      "execution_count": 0,
      "outputs": []
    },
    {
      "metadata": {
        "id": "r16rxkbsUSQm",
        "colab_type": "text"
      },
      "cell_type": "markdown",
      "source": [
        "# Code"
      ]
    },
    {
      "metadata": {
        "id": "z5JUcNs5UTk0",
        "colab_type": "code",
        "colab": {}
      },
      "cell_type": "code",
      "source": [
        "import numpy as np\n",
        "import pandas as pd\n",
        "import sys\n",
        "from sklearn.model_selection import train_test_split\n",
        "from sklearn.feature_extraction.text import TfidfVectorizer\n",
        "from sklearn.multiclass import OneVsRestClassifier\n",
        "from sklearn.svm import LinearSVC\n",
        "from sklearn.linear_model import LogisticRegression\n",
        "#from sklearn.naive_bayes import MultinomialNB\n",
        "from sklearn.pipeline import Pipeline\n",
        "from sklearn.metrics import fbeta_score\n",
        "#from sklearn.metrics import accuracy_score\n",
        "\n",
        "Ep = sys.float_info.epsilon"
      ],
      "execution_count": 0,
      "outputs": []
    },
    {
      "metadata": {
        "id": "uHUXbrIcKEC3",
        "colab_type": "code",
        "colab": {}
      },
      "cell_type": "code",
      "source": [
        "def final_predict2(x):\n",
        "  re = [0 for i in range(0,len(x))]\n",
        "  arg = np.array(x).argsort()\n",
        "  re[arg[-1]] = 1\n",
        "  for idx in arg[-3:-1]:\n",
        "    if x[idx] < 1:\n",
        "      re[idx] = 0\n",
        "    else:\n",
        "      re[idx] = 1\n",
        "  return re"
      ],
      "execution_count": 0,
      "outputs": []
    },
    {
      "metadata": {
        "id": "LDWnINqFcZKo",
        "colab_type": "code",
        "colab": {}
      },
      "cell_type": "code",
      "source": [
        "data = open('/gdrive/My Drive/Colab Notebooks/AClassification.train.txt','r').readlines()\n",
        "data = [line.strip().split('\\t') for line in data]\n",
        "df = pd.DataFrame.from_records(data, columns=['id','labels','features_origin'])\n",
        "df['features'] = df['features_origin'].apply(lambda x: \" \".join([tok.split('/')[0] for tok in x.split(' ')[:300]]))\n",
        "df['labels'] = df['labels'].apply(lambda x: [int(y) for y in x.split()])\n",
        "categories = list(range(0, 20))\n",
        "for i in categories:\n",
        "  df[i] = df['labels'].apply(lambda x: 1 if i in x else 0)"
      ],
      "execution_count": 0,
      "outputs": []
    },
    {
      "metadata": {
        "id": "_XzNCQZ7hbm2",
        "colab_type": "code",
        "colab": {}
      },
      "cell_type": "code",
      "source": [
        "train, test = train_test_split(df, random_state=42, test_size=0.3, shuffle=True)\n",
        "x_train = train.features\n",
        "x_test = test.features\n",
        "trainedmodel = {}"
      ],
      "execution_count": 0,
      "outputs": []
    },
    {
      "metadata": {
        "id": "jsfYZ5h5TFBN",
        "colab_type": "code",
        "outputId": "1b4063c0-1fb4-4e07-f2c6-86b269099782",
        "colab": {
          "base_uri": "https://localhost:8080/",
          "height": 2774
        }
      },
      "cell_type": "code",
      "source": [
        "vectorizer = TfidfVectorizer()\n",
        "vectorizer.fit(x_train)\n",
        "x_train_v = vectorizer.transform(x_train)\n",
        "x_test_v = vectorizer.transform(x_test)                             \n",
        "\n",
        "for category in categories:\n",
        "  SVC_pipeline = Pipeline([\n",
        "    #('tfidf', TfidfVectorizer(max_df=1.0,ngram_range=(1,2))),\n",
        "    ('clf', OneVsRestClassifier(LinearSVC(C=0.6))),##################\n",
        "  ])\n",
        "  LR_pipeline = Pipeline([\n",
        "    #('tfidf', TfidfVectorizer(max_df=1.0,ngram_range=(1,2))),\n",
        "    ('clf', OneVsRestClassifier(LogisticRegression(solver='sag'))),\n",
        "  ])\n",
        "  \n",
        "  print('... Processing {}'.format(category))\n",
        "  \n",
        "  print('. SVC')  \n",
        "  SVC_pipeline.fit(x_train_v, train[category])\n",
        "  trainedmodel['SVC{}'.format(category)] = SVC_pipeline\n",
        "  \n",
        "  print('. LR') \n",
        "  LR_pipeline.fit(x_train_v, train[category])\n",
        "  trainedmodel['LR{}'.format(category)] = LR_pipeline\n",
        "  \n",
        "  test['p{}'.format(category)] = np.sum([SVC_pipeline.predict(x_test_v), \n",
        "                                         np.array(LR_pipeline.predict_proba(x_test_v))[:,1]], axis=0)\n",
        "\n",
        "col = ['id','labels','features','features_origin'] + ['p{}'.format(x) for x in range(0,20)]\n",
        "y_test = test.drop(columns=col)\n",
        "col = ['id','labels','features','features_origin'] + list(range(0,20))\n",
        "y_pred = test.drop(columns=col)\n",
        "y_pred = np.array([res for res in y_pred.apply(lambda x: final_predict2(x), axis=1)])##################\n",
        "\n",
        "print('f0.5 score {}'.format(fbeta_score(np.array(y_test),np.array(y_pred),0.5,average='micro')))\n",
        "#f0.5 score 0.8817145413439416"
      ],
      "execution_count": 0,
      "outputs": [
        {
          "output_type": "stream",
          "text": [
            "... Processing 0\n",
            ". SVC\n",
            ". LR\n"
          ],
          "name": "stdout"
        },
        {
          "output_type": "stream",
          "text": [
            "/usr/local/lib/python3.6/dist-packages/ipykernel_launcher.py:32: SettingWithCopyWarning: \n",
            "A value is trying to be set on a copy of a slice from a DataFrame.\n",
            "Try using .loc[row_indexer,col_indexer] = value instead\n",
            "\n",
            "See the caveats in the documentation: http://pandas.pydata.org/pandas-docs/stable/indexing.html#indexing-view-versus-copy\n"
          ],
          "name": "stderr"
        },
        {
          "output_type": "stream",
          "text": [
            "... Processing 1\n",
            ". SVC\n",
            ". LR\n"
          ],
          "name": "stdout"
        },
        {
          "output_type": "stream",
          "text": [
            "/usr/local/lib/python3.6/dist-packages/ipykernel_launcher.py:32: SettingWithCopyWarning: \n",
            "A value is trying to be set on a copy of a slice from a DataFrame.\n",
            "Try using .loc[row_indexer,col_indexer] = value instead\n",
            "\n",
            "See the caveats in the documentation: http://pandas.pydata.org/pandas-docs/stable/indexing.html#indexing-view-versus-copy\n"
          ],
          "name": "stderr"
        },
        {
          "output_type": "stream",
          "text": [
            "... Processing 2\n",
            ". SVC\n",
            ". LR\n"
          ],
          "name": "stdout"
        },
        {
          "output_type": "stream",
          "text": [
            "/usr/local/lib/python3.6/dist-packages/ipykernel_launcher.py:32: SettingWithCopyWarning: \n",
            "A value is trying to be set on a copy of a slice from a DataFrame.\n",
            "Try using .loc[row_indexer,col_indexer] = value instead\n",
            "\n",
            "See the caveats in the documentation: http://pandas.pydata.org/pandas-docs/stable/indexing.html#indexing-view-versus-copy\n"
          ],
          "name": "stderr"
        },
        {
          "output_type": "stream",
          "text": [
            "... Processing 3\n",
            ". SVC\n",
            ". LR\n"
          ],
          "name": "stdout"
        },
        {
          "output_type": "stream",
          "text": [
            "/usr/local/lib/python3.6/dist-packages/ipykernel_launcher.py:32: SettingWithCopyWarning: \n",
            "A value is trying to be set on a copy of a slice from a DataFrame.\n",
            "Try using .loc[row_indexer,col_indexer] = value instead\n",
            "\n",
            "See the caveats in the documentation: http://pandas.pydata.org/pandas-docs/stable/indexing.html#indexing-view-versus-copy\n"
          ],
          "name": "stderr"
        },
        {
          "output_type": "stream",
          "text": [
            "... Processing 4\n",
            ". SVC\n",
            ". LR\n"
          ],
          "name": "stdout"
        },
        {
          "output_type": "stream",
          "text": [
            "/usr/local/lib/python3.6/dist-packages/ipykernel_launcher.py:32: SettingWithCopyWarning: \n",
            "A value is trying to be set on a copy of a slice from a DataFrame.\n",
            "Try using .loc[row_indexer,col_indexer] = value instead\n",
            "\n",
            "See the caveats in the documentation: http://pandas.pydata.org/pandas-docs/stable/indexing.html#indexing-view-versus-copy\n"
          ],
          "name": "stderr"
        },
        {
          "output_type": "stream",
          "text": [
            "... Processing 5\n",
            ". SVC\n",
            ". LR\n"
          ],
          "name": "stdout"
        },
        {
          "output_type": "stream",
          "text": [
            "/usr/local/lib/python3.6/dist-packages/ipykernel_launcher.py:32: SettingWithCopyWarning: \n",
            "A value is trying to be set on a copy of a slice from a DataFrame.\n",
            "Try using .loc[row_indexer,col_indexer] = value instead\n",
            "\n",
            "See the caveats in the documentation: http://pandas.pydata.org/pandas-docs/stable/indexing.html#indexing-view-versus-copy\n"
          ],
          "name": "stderr"
        },
        {
          "output_type": "stream",
          "text": [
            "... Processing 6\n",
            ". SVC\n",
            ". LR\n"
          ],
          "name": "stdout"
        },
        {
          "output_type": "stream",
          "text": [
            "/usr/local/lib/python3.6/dist-packages/ipykernel_launcher.py:32: SettingWithCopyWarning: \n",
            "A value is trying to be set on a copy of a slice from a DataFrame.\n",
            "Try using .loc[row_indexer,col_indexer] = value instead\n",
            "\n",
            "See the caveats in the documentation: http://pandas.pydata.org/pandas-docs/stable/indexing.html#indexing-view-versus-copy\n"
          ],
          "name": "stderr"
        },
        {
          "output_type": "stream",
          "text": [
            "... Processing 7\n",
            ". SVC\n",
            ". LR\n"
          ],
          "name": "stdout"
        },
        {
          "output_type": "stream",
          "text": [
            "/usr/local/lib/python3.6/dist-packages/ipykernel_launcher.py:32: SettingWithCopyWarning: \n",
            "A value is trying to be set on a copy of a slice from a DataFrame.\n",
            "Try using .loc[row_indexer,col_indexer] = value instead\n",
            "\n",
            "See the caveats in the documentation: http://pandas.pydata.org/pandas-docs/stable/indexing.html#indexing-view-versus-copy\n"
          ],
          "name": "stderr"
        },
        {
          "output_type": "stream",
          "text": [
            "... Processing 8\n",
            ". SVC\n",
            ". LR\n"
          ],
          "name": "stdout"
        },
        {
          "output_type": "stream",
          "text": [
            "/usr/local/lib/python3.6/dist-packages/ipykernel_launcher.py:32: SettingWithCopyWarning: \n",
            "A value is trying to be set on a copy of a slice from a DataFrame.\n",
            "Try using .loc[row_indexer,col_indexer] = value instead\n",
            "\n",
            "See the caveats in the documentation: http://pandas.pydata.org/pandas-docs/stable/indexing.html#indexing-view-versus-copy\n"
          ],
          "name": "stderr"
        },
        {
          "output_type": "stream",
          "text": [
            "... Processing 9\n",
            ". SVC\n",
            ". LR\n"
          ],
          "name": "stdout"
        },
        {
          "output_type": "stream",
          "text": [
            "/usr/local/lib/python3.6/dist-packages/ipykernel_launcher.py:32: SettingWithCopyWarning: \n",
            "A value is trying to be set on a copy of a slice from a DataFrame.\n",
            "Try using .loc[row_indexer,col_indexer] = value instead\n",
            "\n",
            "See the caveats in the documentation: http://pandas.pydata.org/pandas-docs/stable/indexing.html#indexing-view-versus-copy\n"
          ],
          "name": "stderr"
        },
        {
          "output_type": "stream",
          "text": [
            "... Processing 10\n",
            ". SVC\n",
            ". LR\n"
          ],
          "name": "stdout"
        },
        {
          "output_type": "stream",
          "text": [
            "/usr/local/lib/python3.6/dist-packages/ipykernel_launcher.py:32: SettingWithCopyWarning: \n",
            "A value is trying to be set on a copy of a slice from a DataFrame.\n",
            "Try using .loc[row_indexer,col_indexer] = value instead\n",
            "\n",
            "See the caveats in the documentation: http://pandas.pydata.org/pandas-docs/stable/indexing.html#indexing-view-versus-copy\n"
          ],
          "name": "stderr"
        },
        {
          "output_type": "stream",
          "text": [
            "... Processing 11\n",
            ". SVC\n",
            ". LR\n"
          ],
          "name": "stdout"
        },
        {
          "output_type": "stream",
          "text": [
            "/usr/local/lib/python3.6/dist-packages/ipykernel_launcher.py:32: SettingWithCopyWarning: \n",
            "A value is trying to be set on a copy of a slice from a DataFrame.\n",
            "Try using .loc[row_indexer,col_indexer] = value instead\n",
            "\n",
            "See the caveats in the documentation: http://pandas.pydata.org/pandas-docs/stable/indexing.html#indexing-view-versus-copy\n"
          ],
          "name": "stderr"
        },
        {
          "output_type": "stream",
          "text": [
            "... Processing 12\n",
            ". SVC\n",
            ". LR\n"
          ],
          "name": "stdout"
        },
        {
          "output_type": "stream",
          "text": [
            "/usr/local/lib/python3.6/dist-packages/ipykernel_launcher.py:32: SettingWithCopyWarning: \n",
            "A value is trying to be set on a copy of a slice from a DataFrame.\n",
            "Try using .loc[row_indexer,col_indexer] = value instead\n",
            "\n",
            "See the caveats in the documentation: http://pandas.pydata.org/pandas-docs/stable/indexing.html#indexing-view-versus-copy\n"
          ],
          "name": "stderr"
        },
        {
          "output_type": "stream",
          "text": [
            "... Processing 13\n",
            ". SVC\n",
            ". LR\n"
          ],
          "name": "stdout"
        },
        {
          "output_type": "stream",
          "text": [
            "/usr/local/lib/python3.6/dist-packages/ipykernel_launcher.py:32: SettingWithCopyWarning: \n",
            "A value is trying to be set on a copy of a slice from a DataFrame.\n",
            "Try using .loc[row_indexer,col_indexer] = value instead\n",
            "\n",
            "See the caveats in the documentation: http://pandas.pydata.org/pandas-docs/stable/indexing.html#indexing-view-versus-copy\n"
          ],
          "name": "stderr"
        },
        {
          "output_type": "stream",
          "text": [
            "... Processing 14\n",
            ". SVC\n",
            ". LR\n"
          ],
          "name": "stdout"
        },
        {
          "output_type": "stream",
          "text": [
            "/usr/local/lib/python3.6/dist-packages/ipykernel_launcher.py:32: SettingWithCopyWarning: \n",
            "A value is trying to be set on a copy of a slice from a DataFrame.\n",
            "Try using .loc[row_indexer,col_indexer] = value instead\n",
            "\n",
            "See the caveats in the documentation: http://pandas.pydata.org/pandas-docs/stable/indexing.html#indexing-view-versus-copy\n"
          ],
          "name": "stderr"
        },
        {
          "output_type": "stream",
          "text": [
            "... Processing 15\n",
            ". SVC\n",
            ". LR\n"
          ],
          "name": "stdout"
        },
        {
          "output_type": "stream",
          "text": [
            "/usr/local/lib/python3.6/dist-packages/ipykernel_launcher.py:32: SettingWithCopyWarning: \n",
            "A value is trying to be set on a copy of a slice from a DataFrame.\n",
            "Try using .loc[row_indexer,col_indexer] = value instead\n",
            "\n",
            "See the caveats in the documentation: http://pandas.pydata.org/pandas-docs/stable/indexing.html#indexing-view-versus-copy\n"
          ],
          "name": "stderr"
        },
        {
          "output_type": "stream",
          "text": [
            "... Processing 16\n",
            ". SVC\n",
            ". LR\n"
          ],
          "name": "stdout"
        },
        {
          "output_type": "stream",
          "text": [
            "/usr/local/lib/python3.6/dist-packages/ipykernel_launcher.py:32: SettingWithCopyWarning: \n",
            "A value is trying to be set on a copy of a slice from a DataFrame.\n",
            "Try using .loc[row_indexer,col_indexer] = value instead\n",
            "\n",
            "See the caveats in the documentation: http://pandas.pydata.org/pandas-docs/stable/indexing.html#indexing-view-versus-copy\n"
          ],
          "name": "stderr"
        },
        {
          "output_type": "stream",
          "text": [
            "... Processing 17\n",
            ". SVC\n",
            ". LR\n"
          ],
          "name": "stdout"
        },
        {
          "output_type": "stream",
          "text": [
            "/usr/local/lib/python3.6/dist-packages/ipykernel_launcher.py:32: SettingWithCopyWarning: \n",
            "A value is trying to be set on a copy of a slice from a DataFrame.\n",
            "Try using .loc[row_indexer,col_indexer] = value instead\n",
            "\n",
            "See the caveats in the documentation: http://pandas.pydata.org/pandas-docs/stable/indexing.html#indexing-view-versus-copy\n"
          ],
          "name": "stderr"
        },
        {
          "output_type": "stream",
          "text": [
            "... Processing 18\n",
            ". SVC\n",
            ". LR\n"
          ],
          "name": "stdout"
        },
        {
          "output_type": "stream",
          "text": [
            "/usr/local/lib/python3.6/dist-packages/ipykernel_launcher.py:32: SettingWithCopyWarning: \n",
            "A value is trying to be set on a copy of a slice from a DataFrame.\n",
            "Try using .loc[row_indexer,col_indexer] = value instead\n",
            "\n",
            "See the caveats in the documentation: http://pandas.pydata.org/pandas-docs/stable/indexing.html#indexing-view-versus-copy\n"
          ],
          "name": "stderr"
        },
        {
          "output_type": "stream",
          "text": [
            "... Processing 19\n",
            ". SVC\n",
            ". LR\n"
          ],
          "name": "stdout"
        },
        {
          "output_type": "stream",
          "text": [
            "/usr/local/lib/python3.6/dist-packages/ipykernel_launcher.py:32: SettingWithCopyWarning: \n",
            "A value is trying to be set on a copy of a slice from a DataFrame.\n",
            "Try using .loc[row_indexer,col_indexer] = value instead\n",
            "\n",
            "See the caveats in the documentation: http://pandas.pydata.org/pandas-docs/stable/indexing.html#indexing-view-versus-copy\n"
          ],
          "name": "stderr"
        },
        {
          "output_type": "stream",
          "text": [
            "f0.5 score 0.8817145413439416\n"
          ],
          "name": "stdout"
        }
      ]
    },
    {
      "metadata": {
        "id": "lTZVKJ5-X3FB",
        "colab_type": "code",
        "outputId": "a2af81fe-c5ae-4a05-f388-028b90a5a9bf",
        "colab": {
          "base_uri": "https://localhost:8080/",
          "height": 714
        }
      },
      "cell_type": "code",
      "source": [
        "import pickle\n",
        "import os\n",
        "for k, m in trainedmodel.items():\n",
        "  filename = k+'.bin'\n",
        "  pickle.dump(m, open(os.path.join('/gdrive/My Drive/Colab Notebooks/models',filename), 'wb'))\n",
        "  print('Save a model {}'.format(filename))\n",
        "filename = 'tdidf.bin'\n",
        "pickle.dump(vectorizer, open(os.path.join('/gdrive/My Drive/Colab Notebooks/models',filename), 'wb'))\n",
        "print('Save a vectorizer {}'.format(filename))"
      ],
      "execution_count": 0,
      "outputs": [
        {
          "output_type": "stream",
          "text": [
            "Save a model SVC0.bin\n",
            "Save a model LR0.bin\n",
            "Save a model SVC1.bin\n",
            "Save a model LR1.bin\n",
            "Save a model SVC2.bin\n",
            "Save a model LR2.bin\n",
            "Save a model SVC3.bin\n",
            "Save a model LR3.bin\n",
            "Save a model SVC4.bin\n",
            "Save a model LR4.bin\n",
            "Save a model SVC5.bin\n",
            "Save a model LR5.bin\n",
            "Save a model SVC6.bin\n",
            "Save a model LR6.bin\n",
            "Save a model SVC7.bin\n",
            "Save a model LR7.bin\n",
            "Save a model SVC8.bin\n",
            "Save a model LR8.bin\n",
            "Save a model SVC9.bin\n",
            "Save a model LR9.bin\n",
            "Save a model SVC10.bin\n",
            "Save a model LR10.bin\n",
            "Save a model SVC11.bin\n",
            "Save a model LR11.bin\n",
            "Save a model SVC12.bin\n",
            "Save a model LR12.bin\n",
            "Save a model SVC13.bin\n",
            "Save a model LR13.bin\n",
            "Save a model SVC14.bin\n",
            "Save a model LR14.bin\n",
            "Save a model SVC15.bin\n",
            "Save a model LR15.bin\n",
            "Save a model SVC16.bin\n",
            "Save a model LR16.bin\n",
            "Save a model SVC17.bin\n",
            "Save a model LR17.bin\n",
            "Save a model SVC18.bin\n",
            "Save a model LR18.bin\n",
            "Save a model SVC19.bin\n",
            "Save a model LR19.bin\n",
            "Save a vectorizer tdidf.bin\n"
          ],
          "name": "stdout"
        }
      ]
    },
    {
      "metadata": {
        "id": "RVmwOHR5aes8",
        "colab_type": "code",
        "colab": {}
      },
      "cell_type": "code",
      "source": [
        "with open('/gdrive/My Drive/Colab Notebooks/test.txt','w') as fw:\n",
        "  test['features_origin'].apply(lambda x: fw.write(x+'\\n'))"
      ],
      "execution_count": 0,
      "outputs": []
    },
    {
      "metadata": {
        "id": "m9TBg-sYd6ke",
        "colab_type": "code",
        "outputId": "a1fbaa60-9aba-4aeb-dda3-f989200956b1",
        "colab": {
          "base_uri": "https://localhost:8080/",
          "height": 207
        }
      },
      "cell_type": "code",
      "source": [
        "!head '/gdrive/My Drive/Colab Notebooks/test.txt'"
      ],
      "execution_count": 0,
      "outputs": [
        {
          "output_type": "stream",
          "text": [
            "5364/nc 22097/nc 271/nc 53/nc 3174/nc 5364/nc 285/nc 115/nc 611/nc 4911/nc 4073/nc 38391/nc 22097/nc 20/nc 271/nc\n",
            "33148/num 682/nbu 61077/nc 23848/nc 719/nbu 33148/num 682/nbu 61077/nc 366/num 1069/nbu 366/num 512/nbu\n",
            "241/nc 80/num 106844/eng 107331/nc 4151/nc 7416/nc 1586/nc 186/nc 394/nc 259245/nc 259246/nc 104295/nq 14719/nc 240152/nc 240151/nc 111674/nc 5468/nc 176/nc 35625/nq 240151/nc 240152/nc 107331/nc 4151/nc 2626/nc 886/nc 259247/nc 11548/nc 259248/nc 11548/nc 33002/nc 266/num 34829/nc 217837/nc 217837/nc 761/asc 5404/eng 2642/nc 50155/nc 1597/nc\n",
            "13334/nc 5803/nc 473/nc 13334/nc 55830/nc 5364/nc 5364/nc 285/nc 44573/nc 13334/nc 5803/nc 13334/nc 9172/nn 36906/nc 4491/nc 5364/nc 6361/nc 13334/nc 80/num 388/nbu 4073/nc 36906/nc 2630/nc 33972/nc 1271/nc 13650/nc 476/nc 477/nc 21/nc 271/nc\n",
            "1479/nc 2005/nc 11671/eng 7210/eng 228528/eng 17814/eng 1284/eng 997/eng 12835/eng 1058/eng 228577/eng 4614/eng 40430/eng 257939/eng 228297/eng 4614/eng 997/eng 232546/eng 227450/eng 205302/eng 997/eng 22234/eng 1763/eng 257940/eng 22234/eng 66657/eng 17939/eng\n",
            "24323/nc 263/nc 271/nc 80/num 24323/nc 263/nc 271/nc 10683/nc\n",
            "32427/nc 33518/nq 6053/nc 32427/nc 17316/nq 709/nc\n",
            "50966/nc 93/nc 378/nc 93094/nc 14555/nc 2604/nc 7408/num 2910/nbu 2319/nc 2604/nc 281/nc 658/nc 378/nc 441/nc 14555/nc 38/nc 91776/nc 189/num 682/nbu 368/nbu 500/nc 30469/nc 1841/nc 3933/num 376/nc\n",
            "15514/nc 482/nc 1687/nc 19151/nc 11130/nc 15514/nc 177/nc 3344/nc 948/num 521/nbu 809/num 512/nbu 376/nc 3344/nc 1687/nc 482/nc 1687/nc 2548/nc 1349/nc 683/nc 2367/nc 1229/num 1018/num 1229/num 1731/nc 626/nc 561/num 719/nbu 1366/num 512/nbu 4130/nbu 1759/nc 5748/nc 3344/nc 632/nc 93/nc 1544/nc 2530/nc 30708/nc 561/num 699/num 512/nbu 4130/nbu 1544/nc 1229/num 1018/num 512/nbu 4130/nbu 15514/nc 63078/nc 48592/nc 1018/num 85985/nbu 464/nc 108/con 1864/nc 441/nc 6067/nc 84218/nc 2339/nc 48592/nc 49526/nc 15300/nc 267/nc 48592/nc 2207/nc 2339/nc 15808/nc 1290/nc 626/nc 632/nc 5748/nc 3344/nc 1290/nc 21/nc 271/nc 2339/nc\n",
            "13534/nc 20/nc 80/num 644/nc 2928/nc 193/num 1093/nc 25846/nc 1093/nc 189/num 37328/nc 39195/nc 142/nc 150/nc 193/num 3750/nbu 46087/nc 30977/nc 150/nc\n"
          ],
          "name": "stdout"
        }
      ]
    },
    {
      "metadata": {
        "id": "DYlf0IuVWqNG",
        "colab_type": "code",
        "outputId": "58f9929b-1c2d-44c4-a596-4ab38d3acf5a",
        "colab": {
          "base_uri": "https://localhost:8080/",
          "height": 119
        }
      },
      "cell_type": "code",
      "source": [
        "!ls '/gdrive/My Drive/Colab Notebooks/models'"
      ],
      "execution_count": 0,
      "outputs": [
        {
          "output_type": "stream",
          "text": [
            "LR0.bin   LR15.bin  LR2.bin  LR8.bin\tSVC13.bin  SVC19.bin  SVC6.bin\n",
            "LR10.bin  LR16.bin  LR3.bin  LR9.bin\tSVC14.bin  SVC1.bin   SVC7.bin\n",
            "LR11.bin  LR17.bin  LR4.bin  SVC0.bin\tSVC15.bin  SVC2.bin   SVC8.bin\n",
            "LR12.bin  LR18.bin  LR5.bin  SVC10.bin\tSVC16.bin  SVC3.bin   SVC9.bin\n",
            "LR13.bin  LR19.bin  LR6.bin  SVC11.bin\tSVC17.bin  SVC4.bin   tdidf.bin\n",
            "LR14.bin  LR1.bin   LR7.bin  SVC12.bin\tSVC18.bin  SVC5.bin\n"
          ],
          "name": "stdout"
        }
      ]
    },
    {
      "metadata": {
        "id": "vjLsgtEYUXBv",
        "colab_type": "text"
      },
      "cell_type": "markdown",
      "source": [
        "### Prediction"
      ]
    },
    {
      "metadata": {
        "id": "lO-IqKHxUV2Q",
        "colab_type": "code",
        "outputId": "5355227f-3d2a-485d-82d9-3b97a7f3020c",
        "colab": {
          "base_uri": "https://localhost:8080/",
          "height": 34
        }
      },
      "cell_type": "code",
      "source": [
        "import pickle\n",
        "import os\n",
        "from collections import defaultdict\n",
        "\n",
        "def load_from_bin(argpath):\n",
        "  print('...load models...')\n",
        "  trainedmodel = {}\n",
        "  for filename in os.listdir(argpath):\n",
        "    trainedmodel[filename[:-4]] = 0\n",
        "    pickle.dump(trainedmodel[filename[:-4]], open(filename, \"wb\"))\n",
        "  return trainedmodel\n",
        "\n",
        "def predict_from_text(datapath, modelpath, vectorizer='tdidf',classnum=20):\n",
        "  trainedmodel = load_from_bin(modelpath)\n",
        "  df = pd.DataFrame.from_records(open(datapath,'r').readlines(), columns=['features'])\n",
        "  df['features'] = df['features'].apply(lambda x: \" \".join([tok.split('/')[0] for tok in x.split(' ')[:300]]))\n",
        "  categories = list(range(0, classnum))\n",
        "\n",
        "  x_test_v = trainedmodel[vectorizer].transform(df.features)                             \n",
        "\n",
        "  for category in categories:\n",
        "    SVC_pipeline = trainedmodel['SVC{}'.format(category)]\n",
        "    LR_pipeline = trainedmodel['LR{}'.format(category)]\n",
        "\n",
        "    df['p{}'.format(category)] = np.sum([SVC_pipeline.predict(x_test_v),\n",
        "                                         np.array(LR_pipeline.predict_proba(x_test_v))[:,1]], axis=0)\n",
        "\n",
        "  y_pred = df.drop(columns=['features'])\n",
        "  y_pred = np.array([res for res in y_pred.apply(lambda x: final_predict2(x), axis=1)])\n",
        "\n",
        "  y_pred['labels'] = y_pred.apply(lambda x: \" \".join(numpy.where(np.array(x) > 1)), axis=1)\n",
        "  y_pred['labels'].apply(lambda x: print(x))\n",
        "  \n",
        "  return y_pred\n",
        "  \n",
        "col = ['id','labels','features','features_origin']\n",
        "y_test = test.drop(columns=col)\n",
        "  \n",
        "y_pred_from_text = predict_from_text('/gdrive/My Drive/Colab Notebooks/test.txt','/gdrive/My Drive/Colab Notebooks/models')\n",
        "print('f0.5 score {}'.format(fbeta_score(np.array(y_test),np.array(y_pred_from_text),0.5,average='micro')))"
      ],
      "execution_count": 0,
      "outputs": [
        {
          "output_type": "stream",
          "text": [
            "...load models...\n"
          ],
          "name": "stdout"
        }
      ]
    },
    {
      "metadata": {
        "id": "uX2BMwS3djrF",
        "colab_type": "text"
      },
      "cell_type": "markdown",
      "source": [
        "# More\n",
        "\n",
        "\n",
        "### OOV\n",
        "1.   wordpiece : 이미 숫자 id가 있는 정보이기 때문에 나누는 의미가 없음\n",
        "1.   품사 정보 사용하기?\n",
        "\n",
        "\n",
        "\n",
        "### Prediction\n",
        "\n",
        "1.   test 파일 읽는 predict 만들기 \n",
        "\n",
        "\n",
        "\n",
        "### Train\n",
        "\n",
        "1.   tfidfVectorizer 중복 개선 -> 개선되었으나 저장 필요\n",
        "1.   교차검증으로 하이퍼파라미터 튜닝\n",
        "1.   앙상블\n",
        "2.   Lidge, Lasso, Tree, XGboost 등 모델 비교 \n",
        "1.   Chain, Algorithm Method\n",
        "1.   품사 정보 합친 버전, 빈도수 많은 id 제한 버전 비교\n",
        "1.   연속성 정보 살리기 : RNN Test (ing) -> 빈도수에 따른 전처리 버전 비교\n",
        "\n",
        "\n",
        "\n",
        "### EDA\n",
        "\n",
        "1. label density\n",
        "2. class 간 유사도\n",
        "\n",
        "\n",
        "\n",
        "\n",
        "### Study\n",
        "\n",
        "1.   모델 별 특성\n",
        "2.   Multi-label Classification 특성\n",
        "1.   F0.5 Score 특성\n",
        "1.   sklearn 함수들 특성 \n",
        "\n",
        "\n"
      ]
    },
    {
      "metadata": {
        "id": "1LefZHsTd4UD",
        "colab_type": "code",
        "colab": {}
      },
      "cell_type": "code",
      "source": [
        ""
      ],
      "execution_count": 0,
      "outputs": []
    }
  ]
}