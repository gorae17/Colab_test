{
  "nbformat": 4,
  "nbformat_minor": 0,
  "metadata": {
    "colab": {
      "name": "04122.ipynb",
      "version": "0.3.2",
      "provenance": [],
      "collapsed_sections": [],
      "include_colab_link": true
    },
    "kernelspec": {
      "name": "python3",
      "display_name": "Python 3"
    }
  },
  "cells": [
    {
      "cell_type": "markdown",
      "metadata": {
        "id": "view-in-github",
        "colab_type": "text"
      },
      "source": [
        "<a href=\"https://colab.research.google.com/github/gorae17/Colab_test/blob/master/04122.ipynb\" target=\"_parent\"><img src=\"https://colab.research.google.com/assets/colab-badge.svg\" alt=\"Open In Colab\"/></a>"
      ]
    },
    {
      "metadata": {
        "id": "qxdylhb3R7Oh",
        "colab_type": "code",
        "outputId": "8912754e-9b6d-48f3-a9b7-088939f10683",
        "colab": {
          "base_uri": "https://localhost:8080/",
          "height": 34
        }
      },
      "cell_type": "code",
      "source": [
        "from google.colab import drive\n",
        "drive.mount('/gdrive')"
      ],
      "execution_count": 0,
      "outputs": [
        {
          "output_type": "stream",
          "text": [
            "Drive already mounted at /gdrive; to attempt to forcibly remount, call drive.mount(\"/gdrive\", force_remount=True).\n"
          ],
          "name": "stdout"
        }
      ]
    },
    {
      "metadata": {
        "id": "2S3VWw34SKnk",
        "colab_type": "code",
        "outputId": "1b37e833-d61a-4e76-cc56-199cf8452ba0",
        "colab": {
          "base_uri": "https://localhost:8080/",
          "height": 102
        }
      },
      "cell_type": "code",
      "source": [
        "!ls /gdrive/My\\ Drive/Colab\\ Notebooks/"
      ],
      "execution_count": 0,
      "outputs": [
        {
          "output_type": "stream",
          "text": [
            " 캐글스터디\t      '0412.ipynb의 사본 (1)'\n",
            " 04122.ipynb\t       0413.ipynb\n",
            "'04122.ipynb의 사본'   AClassification.train.txt\n",
            " 0412.ipynb\t       models\n",
            "'0412.ipynb의 사본'    MultiLabelClassification.ipynb\n"
          ],
          "name": "stdout"
        }
      ]
    },
    {
      "metadata": {
        "id": "h51B0GcnLF_U",
        "colab_type": "code",
        "colab": {}
      },
      "cell_type": "code",
      "source": [
        "import numpy as np\n",
        "import pandas as pd\n",
        "import sys\n",
        "from sklearn.model_selection import train_test_split\n",
        "from sklearn.feature_extraction.text import TfidfVectorizer\n",
        "from sklearn.multiclass import OneVsRestClassifier\n",
        "from sklearn.svm import LinearSVC\n",
        "from sklearn.linear_model import LogisticRegression, Ridge\n",
        "from sklearn.pipeline import Pipeline\n",
        "from sklearn.metrics import fbeta_score\n",
        "from sklearn.metrics import accuracy_score\n",
        "\n",
        "Ep = sys.float_info.epsilon\n",
        "beta=0.5\n",
        "\n",
        "def _fbscore(pre, rec, beta=0.5):\n",
        "  return (beta*beta+1)*pre*rec/(beta*beta*pre+rec+Ep)"
      ],
      "execution_count": 0,
      "outputs": []
    },
    {
      "metadata": {
        "id": "kOzCCOKMEFr4",
        "colab_type": "code",
        "outputId": "b86c047a-b669-4be4-c2a9-70ede573118a",
        "colab": {
          "base_uri": "https://localhost:8080/",
          "height": 34
        }
      },
      "cell_type": "code",
      "source": [
        "y = np.array([[1,1,1,0],[1,0,0,0]])\n",
        "p = np.array([[1,0,1,0],[1,0,0,1]])\n",
        "fbeta_score(y,p,0.5,average='micro')"
      ],
      "execution_count": 0,
      "outputs": [
        {
          "output_type": "execute_result",
          "data": {
            "text/plain": [
              "0.75"
            ]
          },
          "metadata": {
            "tags": []
          },
          "execution_count": 8
        }
      ]
    },
    {
      "metadata": {
        "id": "9fGXp9MjE10-",
        "colab_type": "code",
        "outputId": "a8b9cccf-94ba-4ceb-bf17-8c52a6ebd66d",
        "colab": {
          "base_uri": "https://localhost:8080/",
          "height": 34
        }
      },
      "cell_type": "code",
      "source": [
        "type(y)"
      ],
      "execution_count": 0,
      "outputs": [
        {
          "output_type": "execute_result",
          "data": {
            "text/plain": [
              "numpy.ndarray"
            ]
          },
          "metadata": {
            "tags": []
          },
          "execution_count": 14
        }
      ]
    },
    {
      "metadata": {
        "id": "HFmvtwyTF4YF",
        "colab_type": "code",
        "outputId": "22830a40-aaf1-4b42-caa2-72e6851edc61",
        "colab": {
          "base_uri": "https://localhost:8080/",
          "height": 34
        }
      },
      "cell_type": "code",
      "source": [
        "np.mean([_fbscore(1,2/3),_fbscore(1/2,1/3)])"
      ],
      "execution_count": 0,
      "outputs": [
        {
          "output_type": "execute_result",
          "data": {
            "text/plain": [
              "0.6818181818181818"
            ]
          },
          "metadata": {
            "tags": []
          },
          "execution_count": 12
        }
      ]
    },
    {
      "metadata": {
        "id": "0TWn8ps1Ln8S",
        "colab_type": "code",
        "outputId": "b174021e-69af-4234-f0a9-0741c7382f60",
        "colab": {
          "base_uri": "https://localhost:8080/",
          "height": 19941
        }
      },
      "cell_type": "code",
      "source": [
        "\n",
        "def go():\n",
        "  \n",
        "  data = open('/gdrive/My Drive/Colab Notebooks/AClassification.train.txt','r').readlines()\n",
        "  data = [line.strip().split('\\t') for line in data]\n",
        "  df = pd.DataFrame.from_records(data, columns=['id','labels','features'])\n",
        "  df['features'] = df['features'].apply(lambda x: \" \".join([tok.split('/')[0] for tok in x.split(' ')[:300]]))\n",
        "  categories = list(range(0, 20))\n",
        "  for i in categories:\n",
        "    df[i] = df['labels'].apply(lambda x: 1 if i in [int(y) for y in x.split()] else 0)\n",
        "\n",
        "  SVC_pipeline = Pipeline([\n",
        "      ('tfidf', TfidfVectorizer()),\n",
        "      ('clf', OneVsRestClassifier(LinearSVC(), n_jobs=1)),\n",
        "  ])\n",
        "  LogReg_pipeline = Pipeline([\n",
        "      ('tfidf', TfidfVectorizer()),\n",
        "      ('clf', OneVsRestClassifier(LogisticRegression(solver='sag'), n_jobs=1)),\n",
        "  ])\n",
        "\n",
        "  models = {'SVC':SVC_pipeline, 'LR':LogReg_pipeline}\n",
        "\n",
        "  for i in range(0,5):\n",
        "    train, test = train_test_split(df, random_state=42+i, test_size=0.3, shuffle=True)\n",
        "    x_train = train.features\n",
        "    x_test = test.features\n",
        "    \n",
        "    for method, model in models.items():\n",
        "      for category in categories:\n",
        "        print('... {} Processing {}'.format(method, category))\n",
        "        model.fit(x_train, train[category])\n",
        "        prediction = model.predict(x_test)\n",
        "        print('... Test acc {}, fbs {}'.format(\n",
        "            accuracy_score(test[category], prediction), \n",
        "            fbeta_score(test[category], prediction, 0.5)))\n",
        "        test.loc[:,'p{}'.format(category)] = prediction[:]\n",
        "        \n",
        "      fscoreli = []  \n",
        "      yzli = []\n",
        "      yli = []\n",
        "      zli = []\n",
        "      preli = []\n",
        "      recli = []\n",
        "      for idx in range(0,len(test)):\n",
        "        yz = 0.0\n",
        "        y = 0.0\n",
        "        z = 0.0\n",
        "\n",
        "        for category in categories:\n",
        "          if test.iloc[idx][category] == 1:\n",
        "            y+=1\n",
        "            if test.iloc[idx][category] == test.iloc[idx]['p{}'.format(category)]:\n",
        "              yz+=1\n",
        "          if test.iloc[idx]['p{}'.format(category)] == 1:\n",
        "            z+=1\n",
        "        pre = yz/(z+Ep)\n",
        "        rec = yz/(y+Ep)\n",
        "\n",
        "        yzli.append(yz)\n",
        "        yli.append(y)\n",
        "        zli.append(z)\n",
        "        preli.append(pre)\n",
        "        recli.append(rec)\n",
        "        fscoreli.append(_fbscore(pre, rec))\n",
        "\n",
        "      print('... mean1 {}'.format(np.mean(fscoreli)))\n",
        "      print('... mean2 {}'.format(_fbscore(np.mean(preli), np.mean(recli))))\n",
        "      print('... mean3 {}'.format((beta*beta+1)*np.sum(yzli)/(beta*beta*np.sum(yli)+np.sum(zli)+Ep)))\n",
        "    \n",
        "    \n",
        "go()"
      ],
      "execution_count": 0,
      "outputs": [
        {
          "output_type": "stream",
          "text": [
            "... SVC Processing 0\n",
            "... Test acc 0.9844611254177853, fbs 0.6555978474865468\n"
          ],
          "name": "stdout"
        },
        {
          "output_type": "stream",
          "text": [
            "/usr/local/lib/python3.6/dist-packages/pandas/core/indexing.py:357: SettingWithCopyWarning: \n",
            "A value is trying to be set on a copy of a slice from a DataFrame.\n",
            "Try using .loc[row_indexer,col_indexer] = value instead\n",
            "\n",
            "See the caveats in the documentation: http://pandas.pydata.org/pandas-docs/stable/indexing.html#indexing-view-versus-copy\n",
            "  self.obj[key] = _infer_fill_value(value)\n",
            "/usr/local/lib/python3.6/dist-packages/pandas/core/indexing.py:537: SettingWithCopyWarning: \n",
            "A value is trying to be set on a copy of a slice from a DataFrame.\n",
            "Try using .loc[row_indexer,col_indexer] = value instead\n",
            "\n",
            "See the caveats in the documentation: http://pandas.pydata.org/pandas-docs/stable/indexing.html#indexing-view-versus-copy\n",
            "  self.obj[item] = s\n"
          ],
          "name": "stderr"
        },
        {
          "output_type": "stream",
          "text": [
            "... SVC Processing 1\n",
            "... Test acc 0.9862802038244479, fbs 0.8907682901976768\n"
          ],
          "name": "stdout"
        },
        {
          "output_type": "stream",
          "text": [
            "/usr/local/lib/python3.6/dist-packages/pandas/core/indexing.py:357: SettingWithCopyWarning: \n",
            "A value is trying to be set on a copy of a slice from a DataFrame.\n",
            "Try using .loc[row_indexer,col_indexer] = value instead\n",
            "\n",
            "See the caveats in the documentation: http://pandas.pydata.org/pandas-docs/stable/indexing.html#indexing-view-versus-copy\n",
            "  self.obj[key] = _infer_fill_value(value)\n",
            "/usr/local/lib/python3.6/dist-packages/pandas/core/indexing.py:537: SettingWithCopyWarning: \n",
            "A value is trying to be set on a copy of a slice from a DataFrame.\n",
            "Try using .loc[row_indexer,col_indexer] = value instead\n",
            "\n",
            "See the caveats in the documentation: http://pandas.pydata.org/pandas-docs/stable/indexing.html#indexing-view-versus-copy\n",
            "  self.obj[item] = s\n"
          ],
          "name": "stderr"
        },
        {
          "output_type": "stream",
          "text": [
            "... SVC Processing 2\n",
            "... Test acc 0.9913210235055614, fbs 0.8404149652356252\n"
          ],
          "name": "stdout"
        },
        {
          "output_type": "stream",
          "text": [
            "/usr/local/lib/python3.6/dist-packages/pandas/core/indexing.py:357: SettingWithCopyWarning: \n",
            "A value is trying to be set on a copy of a slice from a DataFrame.\n",
            "Try using .loc[row_indexer,col_indexer] = value instead\n",
            "\n",
            "See the caveats in the documentation: http://pandas.pydata.org/pandas-docs/stable/indexing.html#indexing-view-versus-copy\n",
            "  self.obj[key] = _infer_fill_value(value)\n",
            "/usr/local/lib/python3.6/dist-packages/pandas/core/indexing.py:537: SettingWithCopyWarning: \n",
            "A value is trying to be set on a copy of a slice from a DataFrame.\n",
            "Try using .loc[row_indexer,col_indexer] = value instead\n",
            "\n",
            "See the caveats in the documentation: http://pandas.pydata.org/pandas-docs/stable/indexing.html#indexing-view-versus-copy\n",
            "  self.obj[item] = s\n"
          ],
          "name": "stderr"
        },
        {
          "output_type": "stream",
          "text": [
            "... SVC Processing 3\n",
            "... Test acc 0.9958906361295271, fbs 0.9365517241379311\n"
          ],
          "name": "stdout"
        },
        {
          "output_type": "stream",
          "text": [
            "/usr/local/lib/python3.6/dist-packages/pandas/core/indexing.py:357: SettingWithCopyWarning: \n",
            "A value is trying to be set on a copy of a slice from a DataFrame.\n",
            "Try using .loc[row_indexer,col_indexer] = value instead\n",
            "\n",
            "See the caveats in the documentation: http://pandas.pydata.org/pandas-docs/stable/indexing.html#indexing-view-versus-copy\n",
            "  self.obj[key] = _infer_fill_value(value)\n",
            "/usr/local/lib/python3.6/dist-packages/pandas/core/indexing.py:537: SettingWithCopyWarning: \n",
            "A value is trying to be set on a copy of a slice from a DataFrame.\n",
            "Try using .loc[row_indexer,col_indexer] = value instead\n",
            "\n",
            "See the caveats in the documentation: http://pandas.pydata.org/pandas-docs/stable/indexing.html#indexing-view-versus-copy\n",
            "  self.obj[item] = s\n"
          ],
          "name": "stderr"
        },
        {
          "output_type": "stream",
          "text": [
            "... SVC Processing 4\n",
            "... Test acc 0.9928003944989315, fbs 0.8620155038759689\n"
          ],
          "name": "stdout"
        },
        {
          "output_type": "stream",
          "text": [
            "/usr/local/lib/python3.6/dist-packages/pandas/core/indexing.py:357: SettingWithCopyWarning: \n",
            "A value is trying to be set on a copy of a slice from a DataFrame.\n",
            "Try using .loc[row_indexer,col_indexer] = value instead\n",
            "\n",
            "See the caveats in the documentation: http://pandas.pydata.org/pandas-docs/stable/indexing.html#indexing-view-versus-copy\n",
            "  self.obj[key] = _infer_fill_value(value)\n",
            "/usr/local/lib/python3.6/dist-packages/pandas/core/indexing.py:537: SettingWithCopyWarning: \n",
            "A value is trying to be set on a copy of a slice from a DataFrame.\n",
            "Try using .loc[row_indexer,col_indexer] = value instead\n",
            "\n",
            "See the caveats in the documentation: http://pandas.pydata.org/pandas-docs/stable/indexing.html#indexing-view-versus-copy\n",
            "  self.obj[item] = s\n"
          ],
          "name": "stderr"
        },
        {
          "output_type": "stream",
          "text": [
            "... SVC Processing 5\n",
            "... Test acc 0.9760122733000931, fbs 0.9665378699778668\n"
          ],
          "name": "stdout"
        },
        {
          "output_type": "stream",
          "text": [
            "/usr/local/lib/python3.6/dist-packages/pandas/core/indexing.py:357: SettingWithCopyWarning: \n",
            "A value is trying to be set on a copy of a slice from a DataFrame.\n",
            "Try using .loc[row_indexer,col_indexer] = value instead\n",
            "\n",
            "See the caveats in the documentation: http://pandas.pydata.org/pandas-docs/stable/indexing.html#indexing-view-versus-copy\n",
            "  self.obj[key] = _infer_fill_value(value)\n",
            "/usr/local/lib/python3.6/dist-packages/pandas/core/indexing.py:537: SettingWithCopyWarning: \n",
            "A value is trying to be set on a copy of a slice from a DataFrame.\n",
            "Try using .loc[row_indexer,col_indexer] = value instead\n",
            "\n",
            "See the caveats in the documentation: http://pandas.pydata.org/pandas-docs/stable/indexing.html#indexing-view-versus-copy\n",
            "  self.obj[item] = s\n"
          ],
          "name": "stderr"
        },
        {
          "output_type": "stream",
          "text": [
            "... SVC Processing 6\n",
            "... Test acc 0.9538436250068489, fbs 0.7680763614731491\n"
          ],
          "name": "stdout"
        },
        {
          "output_type": "stream",
          "text": [
            "/usr/local/lib/python3.6/dist-packages/pandas/core/indexing.py:357: SettingWithCopyWarning: \n",
            "A value is trying to be set on a copy of a slice from a DataFrame.\n",
            "Try using .loc[row_indexer,col_indexer] = value instead\n",
            "\n",
            "See the caveats in the documentation: http://pandas.pydata.org/pandas-docs/stable/indexing.html#indexing-view-versus-copy\n",
            "  self.obj[key] = _infer_fill_value(value)\n",
            "/usr/local/lib/python3.6/dist-packages/pandas/core/indexing.py:537: SettingWithCopyWarning: \n",
            "A value is trying to be set on a copy of a slice from a DataFrame.\n",
            "Try using .loc[row_indexer,col_indexer] = value instead\n",
            "\n",
            "See the caveats in the documentation: http://pandas.pydata.org/pandas-docs/stable/indexing.html#indexing-view-versus-copy\n",
            "  self.obj[item] = s\n"
          ],
          "name": "stderr"
        },
        {
          "output_type": "stream",
          "text": [
            "... SVC Processing 7\n",
            "... Test acc 0.9887348638430771, fbs 0.8229977886741658\n"
          ],
          "name": "stdout"
        },
        {
          "output_type": "stream",
          "text": [
            "/usr/local/lib/python3.6/dist-packages/pandas/core/indexing.py:357: SettingWithCopyWarning: \n",
            "A value is trying to be set on a copy of a slice from a DataFrame.\n",
            "Try using .loc[row_indexer,col_indexer] = value instead\n",
            "\n",
            "See the caveats in the documentation: http://pandas.pydata.org/pandas-docs/stable/indexing.html#indexing-view-versus-copy\n",
            "  self.obj[key] = _infer_fill_value(value)\n",
            "/usr/local/lib/python3.6/dist-packages/pandas/core/indexing.py:537: SettingWithCopyWarning: \n",
            "A value is trying to be set on a copy of a slice from a DataFrame.\n",
            "Try using .loc[row_indexer,col_indexer] = value instead\n",
            "\n",
            "See the caveats in the documentation: http://pandas.pydata.org/pandas-docs/stable/indexing.html#indexing-view-versus-copy\n",
            "  self.obj[item] = s\n"
          ],
          "name": "stderr"
        },
        {
          "output_type": "stream",
          "text": [
            "... SVC Processing 8\n",
            "... Test acc 0.9892937373294614, fbs 0.9106060606060605\n"
          ],
          "name": "stdout"
        },
        {
          "output_type": "stream",
          "text": [
            "/usr/local/lib/python3.6/dist-packages/pandas/core/indexing.py:357: SettingWithCopyWarning: \n",
            "A value is trying to be set on a copy of a slice from a DataFrame.\n",
            "Try using .loc[row_indexer,col_indexer] = value instead\n",
            "\n",
            "See the caveats in the documentation: http://pandas.pydata.org/pandas-docs/stable/indexing.html#indexing-view-versus-copy\n",
            "  self.obj[key] = _infer_fill_value(value)\n",
            "/usr/local/lib/python3.6/dist-packages/pandas/core/indexing.py:537: SettingWithCopyWarning: \n",
            "A value is trying to be set on a copy of a slice from a DataFrame.\n",
            "Try using .loc[row_indexer,col_indexer] = value instead\n",
            "\n",
            "See the caveats in the documentation: http://pandas.pydata.org/pandas-docs/stable/indexing.html#indexing-view-versus-copy\n",
            "  self.obj[item] = s\n"
          ],
          "name": "stderr"
        },
        {
          "output_type": "stream",
          "text": [
            "... SVC Processing 9\n",
            "... Test acc 0.9973480905155881, fbs 0.9723031126642074\n"
          ],
          "name": "stdout"
        },
        {
          "output_type": "stream",
          "text": [
            "/usr/local/lib/python3.6/dist-packages/pandas/core/indexing.py:357: SettingWithCopyWarning: \n",
            "A value is trying to be set on a copy of a slice from a DataFrame.\n",
            "Try using .loc[row_indexer,col_indexer] = value instead\n",
            "\n",
            "See the caveats in the documentation: http://pandas.pydata.org/pandas-docs/stable/indexing.html#indexing-view-versus-copy\n",
            "  self.obj[key] = _infer_fill_value(value)\n",
            "/usr/local/lib/python3.6/dist-packages/pandas/core/indexing.py:537: SettingWithCopyWarning: \n",
            "A value is trying to be set on a copy of a slice from a DataFrame.\n",
            "Try using .loc[row_indexer,col_indexer] = value instead\n",
            "\n",
            "See the caveats in the documentation: http://pandas.pydata.org/pandas-docs/stable/indexing.html#indexing-view-versus-copy\n",
            "  self.obj[item] = s\n"
          ],
          "name": "stderr"
        },
        {
          "output_type": "stream",
          "text": [
            "... SVC Processing 10\n",
            "... Test acc 0.9892170292038792, fbs 0.9459513442256222\n"
          ],
          "name": "stdout"
        },
        {
          "output_type": "stream",
          "text": [
            "/usr/local/lib/python3.6/dist-packages/pandas/core/indexing.py:357: SettingWithCopyWarning: \n",
            "A value is trying to be set on a copy of a slice from a DataFrame.\n",
            "Try using .loc[row_indexer,col_indexer] = value instead\n",
            "\n",
            "See the caveats in the documentation: http://pandas.pydata.org/pandas-docs/stable/indexing.html#indexing-view-versus-copy\n",
            "  self.obj[key] = _infer_fill_value(value)\n",
            "/usr/local/lib/python3.6/dist-packages/pandas/core/indexing.py:537: SettingWithCopyWarning: \n",
            "A value is trying to be set on a copy of a slice from a DataFrame.\n",
            "Try using .loc[row_indexer,col_indexer] = value instead\n",
            "\n",
            "See the caveats in the documentation: http://pandas.pydata.org/pandas-docs/stable/indexing.html#indexing-view-versus-copy\n",
            "  self.obj[item] = s\n"
          ],
          "name": "stderr"
        },
        {
          "output_type": "stream",
          "text": [
            "... SVC Processing 11\n",
            "... Test acc 0.9915511478823078, fbs 0.8976564179746293\n"
          ],
          "name": "stdout"
        },
        {
          "output_type": "stream",
          "text": [
            "/usr/local/lib/python3.6/dist-packages/pandas/core/indexing.py:357: SettingWithCopyWarning: \n",
            "A value is trying to be set on a copy of a slice from a DataFrame.\n",
            "Try using .loc[row_indexer,col_indexer] = value instead\n",
            "\n",
            "See the caveats in the documentation: http://pandas.pydata.org/pandas-docs/stable/indexing.html#indexing-view-versus-copy\n",
            "  self.obj[key] = _infer_fill_value(value)\n",
            "/usr/local/lib/python3.6/dist-packages/pandas/core/indexing.py:537: SettingWithCopyWarning: \n",
            "A value is trying to be set on a copy of a slice from a DataFrame.\n",
            "Try using .loc[row_indexer,col_indexer] = value instead\n",
            "\n",
            "See the caveats in the documentation: http://pandas.pydata.org/pandas-docs/stable/indexing.html#indexing-view-versus-copy\n",
            "  self.obj[item] = s\n"
          ],
          "name": "stderr"
        },
        {
          "output_type": "stream",
          "text": [
            "... SVC Processing 12\n",
            "... Test acc 0.9728124486329516, fbs 0.8345561887861312\n"
          ],
          "name": "stdout"
        },
        {
          "output_type": "stream",
          "text": [
            "/usr/local/lib/python3.6/dist-packages/pandas/core/indexing.py:357: SettingWithCopyWarning: \n",
            "A value is trying to be set on a copy of a slice from a DataFrame.\n",
            "Try using .loc[row_indexer,col_indexer] = value instead\n",
            "\n",
            "See the caveats in the documentation: http://pandas.pydata.org/pandas-docs/stable/indexing.html#indexing-view-versus-copy\n",
            "  self.obj[key] = _infer_fill_value(value)\n",
            "/usr/local/lib/python3.6/dist-packages/pandas/core/indexing.py:537: SettingWithCopyWarning: \n",
            "A value is trying to be set on a copy of a slice from a DataFrame.\n",
            "Try using .loc[row_indexer,col_indexer] = value instead\n",
            "\n",
            "See the caveats in the documentation: http://pandas.pydata.org/pandas-docs/stable/indexing.html#indexing-view-versus-copy\n",
            "  self.obj[item] = s\n"
          ],
          "name": "stderr"
        },
        {
          "output_type": "stream",
          "text": [
            "... SVC Processing 13\n",
            "... Test acc 0.9896115281354446, fbs 0.8973665223665225\n"
          ],
          "name": "stdout"
        },
        {
          "output_type": "stream",
          "text": [
            "/usr/local/lib/python3.6/dist-packages/pandas/core/indexing.py:357: SettingWithCopyWarning: \n",
            "A value is trying to be set on a copy of a slice from a DataFrame.\n",
            "Try using .loc[row_indexer,col_indexer] = value instead\n",
            "\n",
            "See the caveats in the documentation: http://pandas.pydata.org/pandas-docs/stable/indexing.html#indexing-view-versus-copy\n",
            "  self.obj[key] = _infer_fill_value(value)\n",
            "/usr/local/lib/python3.6/dist-packages/pandas/core/indexing.py:537: SettingWithCopyWarning: \n",
            "A value is trying to be set on a copy of a slice from a DataFrame.\n",
            "Try using .loc[row_indexer,col_indexer] = value instead\n",
            "\n",
            "See the caveats in the documentation: http://pandas.pydata.org/pandas-docs/stable/indexing.html#indexing-view-versus-copy\n",
            "  self.obj[item] = s\n"
          ],
          "name": "stderr"
        },
        {
          "output_type": "stream",
          "text": [
            "... SVC Processing 14\n",
            "... Test acc 0.9616130622979563, fbs 0.7856700101431309\n"
          ],
          "name": "stdout"
        },
        {
          "output_type": "stream",
          "text": [
            "/usr/local/lib/python3.6/dist-packages/pandas/core/indexing.py:357: SettingWithCopyWarning: \n",
            "A value is trying to be set on a copy of a slice from a DataFrame.\n",
            "Try using .loc[row_indexer,col_indexer] = value instead\n",
            "\n",
            "See the caveats in the documentation: http://pandas.pydata.org/pandas-docs/stable/indexing.html#indexing-view-versus-copy\n",
            "  self.obj[key] = _infer_fill_value(value)\n",
            "/usr/local/lib/python3.6/dist-packages/pandas/core/indexing.py:537: SettingWithCopyWarning: \n",
            "A value is trying to be set on a copy of a slice from a DataFrame.\n",
            "Try using .loc[row_indexer,col_indexer] = value instead\n",
            "\n",
            "See the caveats in the documentation: http://pandas.pydata.org/pandas-docs/stable/indexing.html#indexing-view-versus-copy\n",
            "  self.obj[item] = s\n"
          ],
          "name": "stderr"
        },
        {
          "output_type": "stream",
          "text": [
            "... SVC Processing 15\n",
            "... Test acc 0.9960659689880007, fbs 0.9438957336320131\n"
          ],
          "name": "stdout"
        },
        {
          "output_type": "stream",
          "text": [
            "/usr/local/lib/python3.6/dist-packages/pandas/core/indexing.py:357: SettingWithCopyWarning: \n",
            "A value is trying to be set on a copy of a slice from a DataFrame.\n",
            "Try using .loc[row_indexer,col_indexer] = value instead\n",
            "\n",
            "See the caveats in the documentation: http://pandas.pydata.org/pandas-docs/stable/indexing.html#indexing-view-versus-copy\n",
            "  self.obj[key] = _infer_fill_value(value)\n",
            "/usr/local/lib/python3.6/dist-packages/pandas/core/indexing.py:537: SettingWithCopyWarning: \n",
            "A value is trying to be set on a copy of a slice from a DataFrame.\n",
            "Try using .loc[row_indexer,col_indexer] = value instead\n",
            "\n",
            "See the caveats in the documentation: http://pandas.pydata.org/pandas-docs/stable/indexing.html#indexing-view-versus-copy\n",
            "  self.obj[item] = s\n"
          ],
          "name": "stderr"
        },
        {
          "output_type": "stream",
          "text": [
            "... SVC Processing 16\n",
            "... Test acc 0.9988055449016492, fbs 0.9861916823269874\n"
          ],
          "name": "stdout"
        },
        {
          "output_type": "stream",
          "text": [
            "/usr/local/lib/python3.6/dist-packages/pandas/core/indexing.py:357: SettingWithCopyWarning: \n",
            "A value is trying to be set on a copy of a slice from a DataFrame.\n",
            "Try using .loc[row_indexer,col_indexer] = value instead\n",
            "\n",
            "See the caveats in the documentation: http://pandas.pydata.org/pandas-docs/stable/indexing.html#indexing-view-versus-copy\n",
            "  self.obj[key] = _infer_fill_value(value)\n",
            "/usr/local/lib/python3.6/dist-packages/pandas/core/indexing.py:537: SettingWithCopyWarning: \n",
            "A value is trying to be set on a copy of a slice from a DataFrame.\n",
            "Try using .loc[row_indexer,col_indexer] = value instead\n",
            "\n",
            "See the caveats in the documentation: http://pandas.pydata.org/pandas-docs/stable/indexing.html#indexing-view-versus-copy\n",
            "  self.obj[item] = s\n"
          ],
          "name": "stderr"
        },
        {
          "output_type": "stream",
          "text": [
            "... SVC Processing 17\n",
            "... Test acc 0.9993425017807244, fbs 0.9924888506376652\n"
          ],
          "name": "stdout"
        },
        {
          "output_type": "stream",
          "text": [
            "/usr/local/lib/python3.6/dist-packages/pandas/core/indexing.py:357: SettingWithCopyWarning: \n",
            "A value is trying to be set on a copy of a slice from a DataFrame.\n",
            "Try using .loc[row_indexer,col_indexer] = value instead\n",
            "\n",
            "See the caveats in the documentation: http://pandas.pydata.org/pandas-docs/stable/indexing.html#indexing-view-versus-copy\n",
            "  self.obj[key] = _infer_fill_value(value)\n",
            "/usr/local/lib/python3.6/dist-packages/pandas/core/indexing.py:537: SettingWithCopyWarning: \n",
            "A value is trying to be set on a copy of a slice from a DataFrame.\n",
            "Try using .loc[row_indexer,col_indexer] = value instead\n",
            "\n",
            "See the caveats in the documentation: http://pandas.pydata.org/pandas-docs/stable/indexing.html#indexing-view-versus-copy\n",
            "  self.obj[item] = s\n"
          ],
          "name": "stderr"
        },
        {
          "output_type": "stream",
          "text": [
            "... SVC Processing 18\n",
            "... Test acc 0.9706646211166512, fbs 0.7148590079726042\n"
          ],
          "name": "stdout"
        },
        {
          "output_type": "stream",
          "text": [
            "/usr/local/lib/python3.6/dist-packages/pandas/core/indexing.py:357: SettingWithCopyWarning: \n",
            "A value is trying to be set on a copy of a slice from a DataFrame.\n",
            "Try using .loc[row_indexer,col_indexer] = value instead\n",
            "\n",
            "See the caveats in the documentation: http://pandas.pydata.org/pandas-docs/stable/indexing.html#indexing-view-versus-copy\n",
            "  self.obj[key] = _infer_fill_value(value)\n",
            "/usr/local/lib/python3.6/dist-packages/pandas/core/indexing.py:537: SettingWithCopyWarning: \n",
            "A value is trying to be set on a copy of a slice from a DataFrame.\n",
            "Try using .loc[row_indexer,col_indexer] = value instead\n",
            "\n",
            "See the caveats in the documentation: http://pandas.pydata.org/pandas-docs/stable/indexing.html#indexing-view-versus-copy\n",
            "  self.obj[item] = s\n"
          ],
          "name": "stderr"
        },
        {
          "output_type": "stream",
          "text": [
            "... SVC Processing 19\n",
            "... Test acc 0.995057805051778, fbs 0.9616716122650841\n"
          ],
          "name": "stdout"
        },
        {
          "output_type": "stream",
          "text": [
            "/usr/local/lib/python3.6/dist-packages/pandas/core/indexing.py:357: SettingWithCopyWarning: \n",
            "A value is trying to be set on a copy of a slice from a DataFrame.\n",
            "Try using .loc[row_indexer,col_indexer] = value instead\n",
            "\n",
            "See the caveats in the documentation: http://pandas.pydata.org/pandas-docs/stable/indexing.html#indexing-view-versus-copy\n",
            "  self.obj[key] = _infer_fill_value(value)\n",
            "/usr/local/lib/python3.6/dist-packages/pandas/core/indexing.py:537: SettingWithCopyWarning: \n",
            "A value is trying to be set on a copy of a slice from a DataFrame.\n",
            "Try using .loc[row_indexer,col_indexer] = value instead\n",
            "\n",
            "See the caveats in the documentation: http://pandas.pydata.org/pandas-docs/stable/indexing.html#indexing-view-versus-copy\n",
            "  self.obj[item] = s\n"
          ],
          "name": "stderr"
        },
        {
          "output_type": "stream",
          "text": [
            "... mean1 0.8461196417392761\n",
            "... mean2 0.8507380247722793\n",
            "... mean3 0.894527573423484\n",
            "... LR Processing 0\n",
            "... Test acc 0.9836502109473454, fbs 0.6326791128131483\n"
          ],
          "name": "stdout"
        },
        {
          "output_type": "stream",
          "text": [
            "/usr/local/lib/python3.6/dist-packages/pandas/core/indexing.py:537: SettingWithCopyWarning: \n",
            "A value is trying to be set on a copy of a slice from a DataFrame.\n",
            "Try using .loc[row_indexer,col_indexer] = value instead\n",
            "\n",
            "See the caveats in the documentation: http://pandas.pydata.org/pandas-docs/stable/indexing.html#indexing-view-versus-copy\n",
            "  self.obj[item] = s\n"
          ],
          "name": "stderr"
        },
        {
          "output_type": "stream",
          "text": [
            "... LR Processing 1\n",
            "... Test acc 0.9842200427373843, fbs 0.884917737016195\n"
          ],
          "name": "stdout"
        },
        {
          "output_type": "stream",
          "text": [
            "/usr/local/lib/python3.6/dist-packages/pandas/core/indexing.py:537: SettingWithCopyWarning: \n",
            "A value is trying to be set on a copy of a slice from a DataFrame.\n",
            "Try using .loc[row_indexer,col_indexer] = value instead\n",
            "\n",
            "See the caveats in the documentation: http://pandas.pydata.org/pandas-docs/stable/indexing.html#indexing-view-versus-copy\n",
            "  self.obj[item] = s\n"
          ],
          "name": "stderr"
        },
        {
          "output_type": "stream",
          "text": [
            "... LR Processing 2\n",
            "... Test acc 0.9876390334776176, fbs 0.7864923747276689\n"
          ],
          "name": "stdout"
        },
        {
          "output_type": "stream",
          "text": [
            "/usr/local/lib/python3.6/dist-packages/pandas/core/indexing.py:537: SettingWithCopyWarning: \n",
            "A value is trying to be set on a copy of a slice from a DataFrame.\n",
            "Try using .loc[row_indexer,col_indexer] = value instead\n",
            "\n",
            "See the caveats in the documentation: http://pandas.pydata.org/pandas-docs/stable/indexing.html#indexing-view-versus-copy\n",
            "  self.obj[item] = s\n"
          ],
          "name": "stderr"
        },
        {
          "output_type": "stream",
          "text": [
            "... LR Processing 3\n",
            "... Test acc 0.9937428086132267, fbs 0.9151897466706717\n"
          ],
          "name": "stdout"
        },
        {
          "output_type": "stream",
          "text": [
            "/usr/local/lib/python3.6/dist-packages/pandas/core/indexing.py:537: SettingWithCopyWarning: \n",
            "A value is trying to be set on a copy of a slice from a DataFrame.\n",
            "Try using .loc[row_indexer,col_indexer] = value instead\n",
            "\n",
            "See the caveats in the documentation: http://pandas.pydata.org/pandas-docs/stable/indexing.html#indexing-view-versus-copy\n",
            "  self.obj[item] = s\n"
          ],
          "name": "stderr"
        },
        {
          "output_type": "stream",
          "text": [
            "... LR Processing 4\n",
            "... Test acc 0.990652566982631, fbs 0.8296447622290318\n"
          ],
          "name": "stdout"
        },
        {
          "output_type": "stream",
          "text": [
            "/usr/local/lib/python3.6/dist-packages/pandas/core/indexing.py:537: SettingWithCopyWarning: \n",
            "A value is trying to be set on a copy of a slice from a DataFrame.\n",
            "Try using .loc[row_indexer,col_indexer] = value instead\n",
            "\n",
            "See the caveats in the documentation: http://pandas.pydata.org/pandas-docs/stable/indexing.html#indexing-view-versus-copy\n",
            "  self.obj[item] = s\n"
          ],
          "name": "stderr"
        },
        {
          "output_type": "stream",
          "text": [
            "... LR Processing 5\n",
            "... Test acc 0.9726590323817873, fbs 0.9665799174228605\n"
          ],
          "name": "stdout"
        },
        {
          "output_type": "stream",
          "text": [
            "/usr/local/lib/python3.6/dist-packages/pandas/core/indexing.py:537: SettingWithCopyWarning: \n",
            "A value is trying to be set on a copy of a slice from a DataFrame.\n",
            "Try using .loc[row_indexer,col_indexer] = value instead\n",
            "\n",
            "See the caveats in the documentation: http://pandas.pydata.org/pandas-docs/stable/indexing.html#indexing-view-versus-copy\n",
            "  self.obj[item] = s\n"
          ],
          "name": "stderr"
        },
        {
          "output_type": "stream",
          "text": [
            "... LR Processing 6\n",
            "... Test acc 0.9528025861596625, fbs 0.7646294966016467\n"
          ],
          "name": "stdout"
        },
        {
          "output_type": "stream",
          "text": [
            "/usr/local/lib/python3.6/dist-packages/pandas/core/indexing.py:537: SettingWithCopyWarning: \n",
            "A value is trying to be set on a copy of a slice from a DataFrame.\n",
            "Try using .loc[row_indexer,col_indexer] = value instead\n",
            "\n",
            "See the caveats in the documentation: http://pandas.pydata.org/pandas-docs/stable/indexing.html#indexing-view-versus-copy\n",
            "  self.obj[item] = s\n"
          ],
          "name": "stderr"
        },
        {
          "output_type": "stream",
          "text": [
            "... LR Processing 7\n",
            "... Test acc 0.9863678702536848, fbs 0.792019347037485\n"
          ],
          "name": "stdout"
        },
        {
          "output_type": "stream",
          "text": [
            "/usr/local/lib/python3.6/dist-packages/pandas/core/indexing.py:537: SettingWithCopyWarning: \n",
            "A value is trying to be set on a copy of a slice from a DataFrame.\n",
            "Try using .loc[row_indexer,col_indexer] = value instead\n",
            "\n",
            "See the caveats in the documentation: http://pandas.pydata.org/pandas-docs/stable/indexing.html#indexing-view-versus-copy\n",
            "  self.obj[item] = s\n"
          ],
          "name": "stderr"
        },
        {
          "output_type": "stream",
          "text": [
            "... LR Processing 8\n",
            "... Test acc 0.9853049147991891, fbs 0.8882581002492385\n"
          ],
          "name": "stdout"
        },
        {
          "output_type": "stream",
          "text": [
            "/usr/local/lib/python3.6/dist-packages/pandas/core/indexing.py:537: SettingWithCopyWarning: \n",
            "A value is trying to be set on a copy of a slice from a DataFrame.\n",
            "Try using .loc[row_indexer,col_indexer] = value instead\n",
            "\n",
            "See the caveats in the documentation: http://pandas.pydata.org/pandas-docs/stable/indexing.html#indexing-view-versus-copy\n",
            "  self.obj[item] = s\n"
          ],
          "name": "stderr"
        },
        {
          "output_type": "stream",
          "text": [
            "... LR Processing 9\n",
            "... Test acc 0.9955180538052709, fbs 0.9563500033473922\n"
          ],
          "name": "stdout"
        },
        {
          "output_type": "stream",
          "text": [
            "/usr/local/lib/python3.6/dist-packages/pandas/core/indexing.py:537: SettingWithCopyWarning: \n",
            "A value is trying to be set on a copy of a slice from a DataFrame.\n",
            "Try using .loc[row_indexer,col_indexer] = value instead\n",
            "\n",
            "See the caveats in the documentation: http://pandas.pydata.org/pandas-docs/stable/indexing.html#indexing-view-versus-copy\n",
            "  self.obj[item] = s\n"
          ],
          "name": "stderr"
        },
        {
          "output_type": "stream",
          "text": [
            "... LR Processing 10\n",
            "... Test acc 0.9847350830091501, fbs 0.9279018532118019\n"
          ],
          "name": "stdout"
        },
        {
          "output_type": "stream",
          "text": [
            "/usr/local/lib/python3.6/dist-packages/pandas/core/indexing.py:537: SettingWithCopyWarning: \n",
            "A value is trying to be set on a copy of a slice from a DataFrame.\n",
            "Try using .loc[row_indexer,col_indexer] = value instead\n",
            "\n",
            "See the caveats in the documentation: http://pandas.pydata.org/pandas-docs/stable/indexing.html#indexing-view-versus-copy\n",
            "  self.obj[item] = s\n"
          ],
          "name": "stderr"
        },
        {
          "output_type": "stream",
          "text": [
            "... LR Processing 11\n",
            "... Test acc 0.9881650320530382, fbs 0.8716342634019361\n"
          ],
          "name": "stdout"
        },
        {
          "output_type": "stream",
          "text": [
            "/usr/local/lib/python3.6/dist-packages/pandas/core/indexing.py:537: SettingWithCopyWarning: \n",
            "A value is trying to be set on a copy of a slice from a DataFrame.\n",
            "Try using .loc[row_indexer,col_indexer] = value instead\n",
            "\n",
            "See the caveats in the documentation: http://pandas.pydata.org/pandas-docs/stable/indexing.html#indexing-view-versus-copy\n",
            "  self.obj[item] = s\n"
          ],
          "name": "stderr"
        },
        {
          "output_type": "stream",
          "text": [
            "... LR Processing 12\n",
            "... Test acc 0.9684729603857323, fbs 0.8186980557331429\n"
          ],
          "name": "stdout"
        },
        {
          "output_type": "stream",
          "text": [
            "/usr/local/lib/python3.6/dist-packages/pandas/core/indexing.py:537: SettingWithCopyWarning: \n",
            "A value is trying to be set on a copy of a slice from a DataFrame.\n",
            "Try using .loc[row_indexer,col_indexer] = value instead\n",
            "\n",
            "See the caveats in the documentation: http://pandas.pydata.org/pandas-docs/stable/indexing.html#indexing-view-versus-copy\n",
            "  self.obj[item] = s\n"
          ],
          "name": "stderr"
        },
        {
          "output_type": "stream",
          "text": [
            "... LR Processing 13\n",
            "... Test acc 0.9883294066078571, fbs 0.890042531898924\n"
          ],
          "name": "stdout"
        },
        {
          "output_type": "stream",
          "text": [
            "/usr/local/lib/python3.6/dist-packages/pandas/core/indexing.py:537: SettingWithCopyWarning: \n",
            "A value is trying to be set on a copy of a slice from a DataFrame.\n",
            "Try using .loc[row_indexer,col_indexer] = value instead\n",
            "\n",
            "See the caveats in the documentation: http://pandas.pydata.org/pandas-docs/stable/indexing.html#indexing-view-versus-copy\n",
            "  self.obj[item] = s\n"
          ],
          "name": "stderr"
        },
        {
          "output_type": "stream",
          "text": [
            "... LR Processing 14\n",
            "... Test acc 0.9602761492520958, fbs 0.7807630151217824\n"
          ],
          "name": "stdout"
        },
        {
          "output_type": "stream",
          "text": [
            "/usr/local/lib/python3.6/dist-packages/pandas/core/indexing.py:537: SettingWithCopyWarning: \n",
            "A value is trying to be set on a copy of a slice from a DataFrame.\n",
            "Try using .loc[row_indexer,col_indexer] = value instead\n",
            "\n",
            "See the caveats in the documentation: http://pandas.pydata.org/pandas-docs/stable/indexing.html#indexing-view-versus-copy\n",
            "  self.obj[item] = s\n"
          ],
          "name": "stderr"
        },
        {
          "output_type": "stream",
          "text": [
            "... LR Processing 15\n",
            "... Test acc 0.9936989753986083, fbs 0.9217909080499255\n"
          ],
          "name": "stdout"
        },
        {
          "output_type": "stream",
          "text": [
            "/usr/local/lib/python3.6/dist-packages/pandas/core/indexing.py:537: SettingWithCopyWarning: \n",
            "A value is trying to be set on a copy of a slice from a DataFrame.\n",
            "Try using .loc[row_indexer,col_indexer] = value instead\n",
            "\n",
            "See the caveats in the documentation: http://pandas.pydata.org/pandas-docs/stable/indexing.html#indexing-view-versus-copy\n",
            "  self.obj[item] = s\n"
          ],
          "name": "stderr"
        },
        {
          "output_type": "stream",
          "text": [
            "... LR Processing 16\n",
            "... Test acc 0.9978960056983179, fbs 0.9812293903779489\n"
          ],
          "name": "stdout"
        },
        {
          "output_type": "stream",
          "text": [
            "/usr/local/lib/python3.6/dist-packages/pandas/core/indexing.py:537: SettingWithCopyWarning: \n",
            "A value is trying to be set on a copy of a slice from a DataFrame.\n",
            "Try using .loc[row_indexer,col_indexer] = value instead\n",
            "\n",
            "See the caveats in the documentation: http://pandas.pydata.org/pandas-docs/stable/indexing.html#indexing-view-versus-copy\n",
            "  self.obj[item] = s\n"
          ],
          "name": "stderr"
        },
        {
          "output_type": "stream",
          "text": [
            "... LR Processing 17\n",
            "... Test acc 0.9984548791847022, fbs 0.9853283091477593\n"
          ],
          "name": "stdout"
        },
        {
          "output_type": "stream",
          "text": [
            "/usr/local/lib/python3.6/dist-packages/pandas/core/indexing.py:537: SettingWithCopyWarning: \n",
            "A value is trying to be set on a copy of a slice from a DataFrame.\n",
            "Try using .loc[row_indexer,col_indexer] = value instead\n",
            "\n",
            "See the caveats in the documentation: http://pandas.pydata.org/pandas-docs/stable/indexing.html#indexing-view-versus-copy\n",
            "  self.obj[item] = s\n"
          ],
          "name": "stderr"
        },
        {
          "output_type": "stream",
          "text": [
            "... LR Processing 18\n",
            "... Test acc 0.9695687907511917, fbs 0.7032575964960307\n"
          ],
          "name": "stdout"
        },
        {
          "output_type": "stream",
          "text": [
            "/usr/local/lib/python3.6/dist-packages/pandas/core/indexing.py:537: SettingWithCopyWarning: \n",
            "A value is trying to be set on a copy of a slice from a DataFrame.\n",
            "Try using .loc[row_indexer,col_indexer] = value instead\n",
            "\n",
            "See the caveats in the documentation: http://pandas.pydata.org/pandas-docs/stable/indexing.html#indexing-view-versus-copy\n",
            "  self.obj[item] = s\n"
          ],
          "name": "stderr"
        },
        {
          "output_type": "stream",
          "text": [
            "... LR Processing 19\n",
            "... Test acc 0.9941044326338283, fbs 0.9591784989858011\n"
          ],
          "name": "stdout"
        },
        {
          "output_type": "stream",
          "text": [
            "/usr/local/lib/python3.6/dist-packages/pandas/core/indexing.py:537: SettingWithCopyWarning: \n",
            "A value is trying to be set on a copy of a slice from a DataFrame.\n",
            "Try using .loc[row_indexer,col_indexer] = value instead\n",
            "\n",
            "See the caveats in the documentation: http://pandas.pydata.org/pandas-docs/stable/indexing.html#indexing-view-versus-copy\n",
            "  self.obj[item] = s\n"
          ],
          "name": "stderr"
        },
        {
          "output_type": "stream",
          "text": [
            "... mean1 0.7962566208390517\n",
            "... mean2 0.8007176685346777\n",
            "... mean3 0.8862154509121252\n",
            "... SVC Processing 0\n",
            "... Test acc 0.9853268314064982, fbs 0.6669334400426837\n"
          ],
          "name": "stdout"
        },
        {
          "output_type": "stream",
          "text": [
            "/usr/local/lib/python3.6/dist-packages/pandas/core/indexing.py:357: SettingWithCopyWarning: \n",
            "A value is trying to be set on a copy of a slice from a DataFrame.\n",
            "Try using .loc[row_indexer,col_indexer] = value instead\n",
            "\n",
            "See the caveats in the documentation: http://pandas.pydata.org/pandas-docs/stable/indexing.html#indexing-view-versus-copy\n",
            "  self.obj[key] = _infer_fill_value(value)\n",
            "/usr/local/lib/python3.6/dist-packages/pandas/core/indexing.py:537: SettingWithCopyWarning: \n",
            "A value is trying to be set on a copy of a slice from a DataFrame.\n",
            "Try using .loc[row_indexer,col_indexer] = value instead\n",
            "\n",
            "See the caveats in the documentation: http://pandas.pydata.org/pandas-docs/stable/indexing.html#indexing-view-versus-copy\n",
            "  self.obj[item] = s\n"
          ],
          "name": "stderr"
        },
        {
          "output_type": "stream",
          "text": [
            "... SVC Processing 1\n",
            "... Test acc 0.9868171607035231, fbs 0.893162045694772\n"
          ],
          "name": "stdout"
        },
        {
          "output_type": "stream",
          "text": [
            "/usr/local/lib/python3.6/dist-packages/pandas/core/indexing.py:357: SettingWithCopyWarning: \n",
            "A value is trying to be set on a copy of a slice from a DataFrame.\n",
            "Try using .loc[row_indexer,col_indexer] = value instead\n",
            "\n",
            "See the caveats in the documentation: http://pandas.pydata.org/pandas-docs/stable/indexing.html#indexing-view-versus-copy\n",
            "  self.obj[key] = _infer_fill_value(value)\n",
            "/usr/local/lib/python3.6/dist-packages/pandas/core/indexing.py:537: SettingWithCopyWarning: \n",
            "A value is trying to be set on a copy of a slice from a DataFrame.\n",
            "Try using .loc[row_indexer,col_indexer] = value instead\n",
            "\n",
            "See the caveats in the documentation: http://pandas.pydata.org/pandas-docs/stable/indexing.html#indexing-view-versus-copy\n",
            "  self.obj[item] = s\n"
          ],
          "name": "stderr"
        },
        {
          "output_type": "stream",
          "text": [
            "... SVC Processing 2\n",
            "... Test acc 0.9920442715467646, fbs 0.8573881317737956\n"
          ],
          "name": "stdout"
        },
        {
          "output_type": "stream",
          "text": [
            "/usr/local/lib/python3.6/dist-packages/pandas/core/indexing.py:357: SettingWithCopyWarning: \n",
            "A value is trying to be set on a copy of a slice from a DataFrame.\n",
            "Try using .loc[row_indexer,col_indexer] = value instead\n",
            "\n",
            "See the caveats in the documentation: http://pandas.pydata.org/pandas-docs/stable/indexing.html#indexing-view-versus-copy\n",
            "  self.obj[key] = _infer_fill_value(value)\n",
            "/usr/local/lib/python3.6/dist-packages/pandas/core/indexing.py:537: SettingWithCopyWarning: \n",
            "A value is trying to be set on a copy of a slice from a DataFrame.\n",
            "Try using .loc[row_indexer,col_indexer] = value instead\n",
            "\n",
            "See the caveats in the documentation: http://pandas.pydata.org/pandas-docs/stable/indexing.html#indexing-view-versus-copy\n",
            "  self.obj[item] = s\n"
          ],
          "name": "stderr"
        },
        {
          "output_type": "stream",
          "text": [
            "... SVC Processing 3\n",
            "... Test acc 0.9957920113966358, fbs 0.93492166496709\n"
          ],
          "name": "stdout"
        },
        {
          "output_type": "stream",
          "text": [
            "/usr/local/lib/python3.6/dist-packages/pandas/core/indexing.py:357: SettingWithCopyWarning: \n",
            "A value is trying to be set on a copy of a slice from a DataFrame.\n",
            "Try using .loc[row_indexer,col_indexer] = value instead\n",
            "\n",
            "See the caveats in the documentation: http://pandas.pydata.org/pandas-docs/stable/indexing.html#indexing-view-versus-copy\n",
            "  self.obj[key] = _infer_fill_value(value)\n",
            "/usr/local/lib/python3.6/dist-packages/pandas/core/indexing.py:537: SettingWithCopyWarning: \n",
            "A value is trying to be set on a copy of a slice from a DataFrame.\n",
            "Try using .loc[row_indexer,col_indexer] = value instead\n",
            "\n",
            "See the caveats in the documentation: http://pandas.pydata.org/pandas-docs/stable/indexing.html#indexing-view-versus-copy\n",
            "  self.obj[item] = s\n"
          ],
          "name": "stderr"
        },
        {
          "output_type": "stream",
          "text": [
            "... SVC Processing 4\n",
            "... Test acc 0.9925264369075667, fbs 0.8697987888259426\n"
          ],
          "name": "stdout"
        },
        {
          "output_type": "stream",
          "text": [
            "/usr/local/lib/python3.6/dist-packages/pandas/core/indexing.py:357: SettingWithCopyWarning: \n",
            "A value is trying to be set on a copy of a slice from a DataFrame.\n",
            "Try using .loc[row_indexer,col_indexer] = value instead\n",
            "\n",
            "See the caveats in the documentation: http://pandas.pydata.org/pandas-docs/stable/indexing.html#indexing-view-versus-copy\n",
            "  self.obj[key] = _infer_fill_value(value)\n",
            "/usr/local/lib/python3.6/dist-packages/pandas/core/indexing.py:537: SettingWithCopyWarning: \n",
            "A value is trying to be set on a copy of a slice from a DataFrame.\n",
            "Try using .loc[row_indexer,col_indexer] = value instead\n",
            "\n",
            "See the caveats in the documentation: http://pandas.pydata.org/pandas-docs/stable/indexing.html#indexing-view-versus-copy\n",
            "  self.obj[item] = s\n"
          ],
          "name": "stderr"
        },
        {
          "output_type": "stream",
          "text": [
            "... SVC Processing 5\n",
            "... Test acc 0.9755629828502548, fbs 0.9653107888561285\n"
          ],
          "name": "stdout"
        },
        {
          "output_type": "stream",
          "text": [
            "/usr/local/lib/python3.6/dist-packages/pandas/core/indexing.py:357: SettingWithCopyWarning: \n",
            "A value is trying to be set on a copy of a slice from a DataFrame.\n",
            "Try using .loc[row_indexer,col_indexer] = value instead\n",
            "\n",
            "See the caveats in the documentation: http://pandas.pydata.org/pandas-docs/stable/indexing.html#indexing-view-versus-copy\n",
            "  self.obj[key] = _infer_fill_value(value)\n",
            "/usr/local/lib/python3.6/dist-packages/pandas/core/indexing.py:537: SettingWithCopyWarning: \n",
            "A value is trying to be set on a copy of a slice from a DataFrame.\n",
            "Try using .loc[row_indexer,col_indexer] = value instead\n",
            "\n",
            "See the caveats in the documentation: http://pandas.pydata.org/pandas-docs/stable/indexing.html#indexing-view-versus-copy\n",
            "  self.obj[item] = s\n"
          ],
          "name": "stderr"
        },
        {
          "output_type": "stream",
          "text": [
            "... SVC Processing 6\n",
            "... Test acc 0.9536463755410662, fbs 0.7678355501813785\n"
          ],
          "name": "stdout"
        },
        {
          "output_type": "stream",
          "text": [
            "/usr/local/lib/python3.6/dist-packages/pandas/core/indexing.py:357: SettingWithCopyWarning: \n",
            "A value is trying to be set on a copy of a slice from a DataFrame.\n",
            "Try using .loc[row_indexer,col_indexer] = value instead\n",
            "\n",
            "See the caveats in the documentation: http://pandas.pydata.org/pandas-docs/stable/indexing.html#indexing-view-versus-copy\n",
            "  self.obj[key] = _infer_fill_value(value)\n",
            "/usr/local/lib/python3.6/dist-packages/pandas/core/indexing.py:537: SettingWithCopyWarning: \n",
            "A value is trying to be set on a copy of a slice from a DataFrame.\n",
            "Try using .loc[row_indexer,col_indexer] = value instead\n",
            "\n",
            "See the caveats in the documentation: http://pandas.pydata.org/pandas-docs/stable/indexing.html#indexing-view-versus-copy\n",
            "  self.obj[item] = s\n"
          ],
          "name": "stderr"
        },
        {
          "output_type": "stream",
          "text": [
            "... SVC Processing 7\n",
            "... Test acc 0.9886143225028765, fbs 0.8171719073620788\n"
          ],
          "name": "stdout"
        },
        {
          "output_type": "stream",
          "text": [
            "/usr/local/lib/python3.6/dist-packages/pandas/core/indexing.py:357: SettingWithCopyWarning: \n",
            "A value is trying to be set on a copy of a slice from a DataFrame.\n",
            "Try using .loc[row_indexer,col_indexer] = value instead\n",
            "\n",
            "See the caveats in the documentation: http://pandas.pydata.org/pandas-docs/stable/indexing.html#indexing-view-versus-copy\n",
            "  self.obj[key] = _infer_fill_value(value)\n",
            "/usr/local/lib/python3.6/dist-packages/pandas/core/indexing.py:537: SettingWithCopyWarning: \n",
            "A value is trying to be set on a copy of a slice from a DataFrame.\n",
            "Try using .loc[row_indexer,col_indexer] = value instead\n",
            "\n",
            "See the caveats in the documentation: http://pandas.pydata.org/pandas-docs/stable/indexing.html#indexing-view-versus-copy\n",
            "  self.obj[item] = s\n"
          ],
          "name": "stderr"
        },
        {
          "output_type": "stream",
          "text": [
            "... SVC Processing 8\n",
            "... Test acc 0.9895238617062079, fbs 0.9138200625451047\n"
          ],
          "name": "stdout"
        },
        {
          "output_type": "stream",
          "text": [
            "/usr/local/lib/python3.6/dist-packages/pandas/core/indexing.py:357: SettingWithCopyWarning: \n",
            "A value is trying to be set on a copy of a slice from a DataFrame.\n",
            "Try using .loc[row_indexer,col_indexer] = value instead\n",
            "\n",
            "See the caveats in the documentation: http://pandas.pydata.org/pandas-docs/stable/indexing.html#indexing-view-versus-copy\n",
            "  self.obj[key] = _infer_fill_value(value)\n",
            "/usr/local/lib/python3.6/dist-packages/pandas/core/indexing.py:537: SettingWithCopyWarning: \n",
            "A value is trying to be set on a copy of a slice from a DataFrame.\n",
            "Try using .loc[row_indexer,col_indexer] = value instead\n",
            "\n",
            "See the caveats in the documentation: http://pandas.pydata.org/pandas-docs/stable/indexing.html#indexing-view-versus-copy\n",
            "  self.obj[item] = s\n"
          ],
          "name": "stderr"
        },
        {
          "output_type": "stream",
          "text": [
            "... SVC Processing 9\n",
            "... Test acc 0.9974467152484795, fbs 0.9745147233593029\n"
          ],
          "name": "stdout"
        },
        {
          "output_type": "stream",
          "text": [
            "/usr/local/lib/python3.6/dist-packages/pandas/core/indexing.py:357: SettingWithCopyWarning: \n",
            "A value is trying to be set on a copy of a slice from a DataFrame.\n",
            "Try using .loc[row_indexer,col_indexer] = value instead\n",
            "\n",
            "See the caveats in the documentation: http://pandas.pydata.org/pandas-docs/stable/indexing.html#indexing-view-versus-copy\n",
            "  self.obj[key] = _infer_fill_value(value)\n",
            "/usr/local/lib/python3.6/dist-packages/pandas/core/indexing.py:537: SettingWithCopyWarning: \n",
            "A value is trying to be set on a copy of a slice from a DataFrame.\n",
            "Try using .loc[row_indexer,col_indexer] = value instead\n",
            "\n",
            "See the caveats in the documentation: http://pandas.pydata.org/pandas-docs/stable/indexing.html#indexing-view-versus-copy\n",
            "  self.obj[item] = s\n"
          ],
          "name": "stderr"
        },
        {
          "output_type": "stream",
          "text": [
            "... SVC Processing 10\n",
            "... Test acc 0.9890745712563696, fbs 0.944931417904391\n"
          ],
          "name": "stdout"
        },
        {
          "output_type": "stream",
          "text": [
            "/usr/local/lib/python3.6/dist-packages/pandas/core/indexing.py:357: SettingWithCopyWarning: \n",
            "A value is trying to be set on a copy of a slice from a DataFrame.\n",
            "Try using .loc[row_indexer,col_indexer] = value instead\n",
            "\n",
            "See the caveats in the documentation: http://pandas.pydata.org/pandas-docs/stable/indexing.html#indexing-view-versus-copy\n",
            "  self.obj[key] = _infer_fill_value(value)\n",
            "/usr/local/lib/python3.6/dist-packages/pandas/core/indexing.py:537: SettingWithCopyWarning: \n",
            "A value is trying to be set on a copy of a slice from a DataFrame.\n",
            "Try using .loc[row_indexer,col_indexer] = value instead\n",
            "\n",
            "See the caveats in the documentation: http://pandas.pydata.org/pandas-docs/stable/indexing.html#indexing-view-versus-copy\n",
            "  self.obj[item] = s\n"
          ],
          "name": "stderr"
        },
        {
          "output_type": "stream",
          "text": [
            "... SVC Processing 11\n",
            "... Test acc 0.9911018574324695, fbs 0.8906284617088841\n"
          ],
          "name": "stdout"
        },
        {
          "output_type": "stream",
          "text": [
            "/usr/local/lib/python3.6/dist-packages/pandas/core/indexing.py:357: SettingWithCopyWarning: \n",
            "A value is trying to be set on a copy of a slice from a DataFrame.\n",
            "Try using .loc[row_indexer,col_indexer] = value instead\n",
            "\n",
            "See the caveats in the documentation: http://pandas.pydata.org/pandas-docs/stable/indexing.html#indexing-view-versus-copy\n",
            "  self.obj[key] = _infer_fill_value(value)\n",
            "/usr/local/lib/python3.6/dist-packages/pandas/core/indexing.py:537: SettingWithCopyWarning: \n",
            "A value is trying to be set on a copy of a slice from a DataFrame.\n",
            "Try using .loc[row_indexer,col_indexer] = value instead\n",
            "\n",
            "See the caveats in the documentation: http://pandas.pydata.org/pandas-docs/stable/indexing.html#indexing-view-versus-copy\n",
            "  self.obj[item] = s\n"
          ],
          "name": "stderr"
        },
        {
          "output_type": "stream",
          "text": [
            "... SVC Processing 12\n",
            "... Test acc 0.973097364527971, fbs 0.8377924127049462\n"
          ],
          "name": "stdout"
        },
        {
          "output_type": "stream",
          "text": [
            "/usr/local/lib/python3.6/dist-packages/pandas/core/indexing.py:357: SettingWithCopyWarning: \n",
            "A value is trying to be set on a copy of a slice from a DataFrame.\n",
            "Try using .loc[row_indexer,col_indexer] = value instead\n",
            "\n",
            "See the caveats in the documentation: http://pandas.pydata.org/pandas-docs/stable/indexing.html#indexing-view-versus-copy\n",
            "  self.obj[key] = _infer_fill_value(value)\n",
            "/usr/local/lib/python3.6/dist-packages/pandas/core/indexing.py:537: SettingWithCopyWarning: \n",
            "A value is trying to be set on a copy of a slice from a DataFrame.\n",
            "Try using .loc[row_indexer,col_indexer] = value instead\n",
            "\n",
            "See the caveats in the documentation: http://pandas.pydata.org/pandas-docs/stable/indexing.html#indexing-view-versus-copy\n",
            "  self.obj[item] = s\n"
          ],
          "name": "stderr"
        },
        {
          "output_type": "stream",
          "text": [
            "... SVC Processing 13\n",
            "... Test acc 0.9896882362610268, fbs 0.9009854528390426\n"
          ],
          "name": "stdout"
        },
        {
          "output_type": "stream",
          "text": [
            "/usr/local/lib/python3.6/dist-packages/pandas/core/indexing.py:357: SettingWithCopyWarning: \n",
            "A value is trying to be set on a copy of a slice from a DataFrame.\n",
            "Try using .loc[row_indexer,col_indexer] = value instead\n",
            "\n",
            "See the caveats in the documentation: http://pandas.pydata.org/pandas-docs/stable/indexing.html#indexing-view-versus-copy\n",
            "  self.obj[key] = _infer_fill_value(value)\n",
            "/usr/local/lib/python3.6/dist-packages/pandas/core/indexing.py:537: SettingWithCopyWarning: \n",
            "A value is trying to be set on a copy of a slice from a DataFrame.\n",
            "Try using .loc[row_indexer,col_indexer] = value instead\n",
            "\n",
            "See the caveats in the documentation: http://pandas.pydata.org/pandas-docs/stable/indexing.html#indexing-view-versus-copy\n",
            "  self.obj[item] = s\n"
          ],
          "name": "stderr"
        },
        {
          "output_type": "stream",
          "text": [
            "... SVC Processing 14\n",
            "... Test acc 0.9615473124760288, fbs 0.7825880114176975\n"
          ],
          "name": "stdout"
        },
        {
          "output_type": "stream",
          "text": [
            "/usr/local/lib/python3.6/dist-packages/pandas/core/indexing.py:357: SettingWithCopyWarning: \n",
            "A value is trying to be set on a copy of a slice from a DataFrame.\n",
            "Try using .loc[row_indexer,col_indexer] = value instead\n",
            "\n",
            "See the caveats in the documentation: http://pandas.pydata.org/pandas-docs/stable/indexing.html#indexing-view-versus-copy\n",
            "  self.obj[key] = _infer_fill_value(value)\n",
            "/usr/local/lib/python3.6/dist-packages/pandas/core/indexing.py:537: SettingWithCopyWarning: \n",
            "A value is trying to be set on a copy of a slice from a DataFrame.\n",
            "Try using .loc[row_indexer,col_indexer] = value instead\n",
            "\n",
            "See the caveats in the documentation: http://pandas.pydata.org/pandas-docs/stable/indexing.html#indexing-view-versus-copy\n",
            "  self.obj[item] = s\n"
          ],
          "name": "stderr"
        },
        {
          "output_type": "stream",
          "text": [
            "... SVC Processing 15\n",
            "... Test acc 0.995759136485672, fbs 0.9405339805825242\n"
          ],
          "name": "stdout"
        },
        {
          "output_type": "stream",
          "text": [
            "/usr/local/lib/python3.6/dist-packages/pandas/core/indexing.py:357: SettingWithCopyWarning: \n",
            "A value is trying to be set on a copy of a slice from a DataFrame.\n",
            "Try using .loc[row_indexer,col_indexer] = value instead\n",
            "\n",
            "See the caveats in the documentation: http://pandas.pydata.org/pandas-docs/stable/indexing.html#indexing-view-versus-copy\n",
            "  self.obj[key] = _infer_fill_value(value)\n",
            "/usr/local/lib/python3.6/dist-packages/pandas/core/indexing.py:537: SettingWithCopyWarning: \n",
            "A value is trying to be set on a copy of a slice from a DataFrame.\n",
            "Try using .loc[row_indexer,col_indexer] = value instead\n",
            "\n",
            "See the caveats in the documentation: http://pandas.pydata.org/pandas-docs/stable/indexing.html#indexing-view-versus-copy\n",
            "  self.obj[item] = s\n"
          ],
          "name": "stderr"
        },
        {
          "output_type": "stream",
          "text": [
            "... SVC Processing 16\n",
            "... Test acc 0.998728836776067, fbs 0.9856162144491665\n"
          ],
          "name": "stdout"
        },
        {
          "output_type": "stream",
          "text": [
            "/usr/local/lib/python3.6/dist-packages/pandas/core/indexing.py:357: SettingWithCopyWarning: \n",
            "A value is trying to be set on a copy of a slice from a DataFrame.\n",
            "Try using .loc[row_indexer,col_indexer] = value instead\n",
            "\n",
            "See the caveats in the documentation: http://pandas.pydata.org/pandas-docs/stable/indexing.html#indexing-view-versus-copy\n",
            "  self.obj[key] = _infer_fill_value(value)\n",
            "/usr/local/lib/python3.6/dist-packages/pandas/core/indexing.py:537: SettingWithCopyWarning: \n",
            "A value is trying to be set on a copy of a slice from a DataFrame.\n",
            "Try using .loc[row_indexer,col_indexer] = value instead\n",
            "\n",
            "See the caveats in the documentation: http://pandas.pydata.org/pandas-docs/stable/indexing.html#indexing-view-versus-copy\n",
            "  self.obj[item] = s\n"
          ],
          "name": "stderr"
        },
        {
          "output_type": "stream",
          "text": [
            "... SVC Processing 17\n",
            "... Test acc 0.9992767519587967, fbs 0.9922089825847847\n"
          ],
          "name": "stdout"
        },
        {
          "output_type": "stream",
          "text": [
            "/usr/local/lib/python3.6/dist-packages/pandas/core/indexing.py:357: SettingWithCopyWarning: \n",
            "A value is trying to be set on a copy of a slice from a DataFrame.\n",
            "Try using .loc[row_indexer,col_indexer] = value instead\n",
            "\n",
            "See the caveats in the documentation: http://pandas.pydata.org/pandas-docs/stable/indexing.html#indexing-view-versus-copy\n",
            "  self.obj[key] = _infer_fill_value(value)\n",
            "/usr/local/lib/python3.6/dist-packages/pandas/core/indexing.py:537: SettingWithCopyWarning: \n",
            "A value is trying to be set on a copy of a slice from a DataFrame.\n",
            "Try using .loc[row_indexer,col_indexer] = value instead\n",
            "\n",
            "See the caveats in the documentation: http://pandas.pydata.org/pandas-docs/stable/indexing.html#indexing-view-versus-copy\n",
            "  self.obj[item] = s\n"
          ],
          "name": "stderr"
        },
        {
          "output_type": "stream",
          "text": [
            "... SVC Processing 18\n",
            "... Test acc 0.9695687907511917, fbs 0.7062516348417472\n"
          ],
          "name": "stdout"
        },
        {
          "output_type": "stream",
          "text": [
            "/usr/local/lib/python3.6/dist-packages/pandas/core/indexing.py:357: SettingWithCopyWarning: \n",
            "A value is trying to be set on a copy of a slice from a DataFrame.\n",
            "Try using .loc[row_indexer,col_indexer] = value instead\n",
            "\n",
            "See the caveats in the documentation: http://pandas.pydata.org/pandas-docs/stable/indexing.html#indexing-view-versus-copy\n",
            "  self.obj[key] = _infer_fill_value(value)\n",
            "/usr/local/lib/python3.6/dist-packages/pandas/core/indexing.py:537: SettingWithCopyWarning: \n",
            "A value is trying to be set on a copy of a slice from a DataFrame.\n",
            "Try using .loc[row_indexer,col_indexer] = value instead\n",
            "\n",
            "See the caveats in the documentation: http://pandas.pydata.org/pandas-docs/stable/indexing.html#indexing-view-versus-copy\n",
            "  self.obj[item] = s\n"
          ],
          "name": "stderr"
        },
        {
          "output_type": "stream",
          "text": [
            "... SVC Processing 19\n",
            "... Test acc 0.9949810969261959, fbs 0.9610111183128084\n"
          ],
          "name": "stdout"
        },
        {
          "output_type": "stream",
          "text": [
            "/usr/local/lib/python3.6/dist-packages/pandas/core/indexing.py:357: SettingWithCopyWarning: \n",
            "A value is trying to be set on a copy of a slice from a DataFrame.\n",
            "Try using .loc[row_indexer,col_indexer] = value instead\n",
            "\n",
            "See the caveats in the documentation: http://pandas.pydata.org/pandas-docs/stable/indexing.html#indexing-view-versus-copy\n",
            "  self.obj[key] = _infer_fill_value(value)\n",
            "/usr/local/lib/python3.6/dist-packages/pandas/core/indexing.py:537: SettingWithCopyWarning: \n",
            "A value is trying to be set on a copy of a slice from a DataFrame.\n",
            "Try using .loc[row_indexer,col_indexer] = value instead\n",
            "\n",
            "See the caveats in the documentation: http://pandas.pydata.org/pandas-docs/stable/indexing.html#indexing-view-versus-copy\n",
            "  self.obj[item] = s\n"
          ],
          "name": "stderr"
        },
        {
          "output_type": "stream",
          "text": [
            "... mean1 0.846606860597406\n",
            "... mean2 0.8512929746982686\n",
            "... mean3 0.8939551744482002\n",
            "... LR Processing 0\n",
            "... Test acc 0.9839899183606378, fbs 0.6265256305939788\n"
          ],
          "name": "stdout"
        },
        {
          "output_type": "stream",
          "text": [
            "/usr/local/lib/python3.6/dist-packages/pandas/core/indexing.py:537: SettingWithCopyWarning: \n",
            "A value is trying to be set on a copy of a slice from a DataFrame.\n",
            "Try using .loc[row_indexer,col_indexer] = value instead\n",
            "\n",
            "See the caveats in the documentation: http://pandas.pydata.org/pandas-docs/stable/indexing.html#indexing-view-versus-copy\n",
            "  self.obj[item] = s\n"
          ],
          "name": "stderr"
        },
        {
          "output_type": "stream",
          "text": [
            "... LR Processing 1\n",
            "... Test acc 0.9847898745274232, fbs 0.8882736715597906\n"
          ],
          "name": "stdout"
        },
        {
          "output_type": "stream",
          "text": [
            "/usr/local/lib/python3.6/dist-packages/pandas/core/indexing.py:537: SettingWithCopyWarning: \n",
            "A value is trying to be set on a copy of a slice from a DataFrame.\n",
            "Try using .loc[row_indexer,col_indexer] = value instead\n",
            "\n",
            "See the caveats in the documentation: http://pandas.pydata.org/pandas-docs/stable/indexing.html#indexing-view-versus-copy\n",
            "  self.obj[item] = s\n"
          ],
          "name": "stderr"
        },
        {
          "output_type": "stream",
          "text": [
            "... LR Processing 2\n",
            "... Test acc 0.9880664073201468, fbs 0.8036348147096407\n"
          ],
          "name": "stdout"
        },
        {
          "output_type": "stream",
          "text": [
            "/usr/local/lib/python3.6/dist-packages/pandas/core/indexing.py:537: SettingWithCopyWarning: \n",
            "A value is trying to be set on a copy of a slice from a DataFrame.\n",
            "Try using .loc[row_indexer,col_indexer] = value instead\n",
            "\n",
            "See the caveats in the documentation: http://pandas.pydata.org/pandas-docs/stable/indexing.html#indexing-view-versus-copy\n",
            "  self.obj[item] = s\n"
          ],
          "name": "stderr"
        },
        {
          "output_type": "stream",
          "text": [
            "... LR Processing 3\n",
            "... Test acc 0.9936770587912991, fbs 0.9155072610947496\n"
          ],
          "name": "stdout"
        },
        {
          "output_type": "stream",
          "text": [
            "/usr/local/lib/python3.6/dist-packages/pandas/core/indexing.py:537: SettingWithCopyWarning: \n",
            "A value is trying to be set on a copy of a slice from a DataFrame.\n",
            "Try using .loc[row_indexer,col_indexer] = value instead\n",
            "\n",
            "See the caveats in the documentation: http://pandas.pydata.org/pandas-docs/stable/indexing.html#indexing-view-versus-copy\n",
            "  self.obj[item] = s\n"
          ],
          "name": "stderr"
        },
        {
          "output_type": "stream",
          "text": [
            "... LR Processing 4\n",
            "... Test acc 0.9900389019779738, fbs 0.8382838283828384\n"
          ],
          "name": "stdout"
        },
        {
          "output_type": "stream",
          "text": [
            "/usr/local/lib/python3.6/dist-packages/pandas/core/indexing.py:537: SettingWithCopyWarning: \n",
            "A value is trying to be set on a copy of a slice from a DataFrame.\n",
            "Try using .loc[row_indexer,col_indexer] = value instead\n",
            "\n",
            "See the caveats in the documentation: http://pandas.pydata.org/pandas-docs/stable/indexing.html#indexing-view-versus-copy\n",
            "  self.obj[item] = s\n"
          ],
          "name": "stderr"
        },
        {
          "output_type": "stream",
          "text": [
            "... LR Processing 5\n",
            "... Test acc 0.9713769108541997, fbs 0.9640855637900412\n"
          ],
          "name": "stdout"
        },
        {
          "output_type": "stream",
          "text": [
            "/usr/local/lib/python3.6/dist-packages/pandas/core/indexing.py:537: SettingWithCopyWarning: \n",
            "A value is trying to be set on a copy of a slice from a DataFrame.\n",
            "Try using .loc[row_indexer,col_indexer] = value instead\n",
            "\n",
            "See the caveats in the documentation: http://pandas.pydata.org/pandas-docs/stable/indexing.html#indexing-view-versus-copy\n",
            "  self.obj[item] = s\n"
          ],
          "name": "stderr"
        },
        {
          "output_type": "stream",
          "text": [
            "... LR Processing 6\n",
            "... Test acc 0.9527587529450441, fbs 0.7657062659952116\n"
          ],
          "name": "stdout"
        },
        {
          "output_type": "stream",
          "text": [
            "/usr/local/lib/python3.6/dist-packages/pandas/core/indexing.py:537: SettingWithCopyWarning: \n",
            "A value is trying to be set on a copy of a slice from a DataFrame.\n",
            "Try using .loc[row_indexer,col_indexer] = value instead\n",
            "\n",
            "See the caveats in the documentation: http://pandas.pydata.org/pandas-docs/stable/indexing.html#indexing-view-versus-copy\n",
            "  self.obj[item] = s\n"
          ],
          "name": "stderr"
        },
        {
          "output_type": "stream",
          "text": [
            "... LR Processing 7\n",
            "... Test acc 0.9865651197194675, fbs 0.7928129665173811\n"
          ],
          "name": "stdout"
        },
        {
          "output_type": "stream",
          "text": [
            "/usr/local/lib/python3.6/dist-packages/pandas/core/indexing.py:537: SettingWithCopyWarning: \n",
            "A value is trying to be set on a copy of a slice from a DataFrame.\n",
            "Try using .loc[row_indexer,col_indexer] = value instead\n",
            "\n",
            "See the caveats in the documentation: http://pandas.pydata.org/pandas-docs/stable/indexing.html#indexing-view-versus-copy\n",
            "  self.obj[item] = s\n"
          ],
          "name": "stderr"
        },
        {
          "output_type": "stream",
          "text": [
            "... LR Processing 8\n",
            "... Test acc 0.9855021642649718, fbs 0.8909501642935378\n"
          ],
          "name": "stdout"
        },
        {
          "output_type": "stream",
          "text": [
            "/usr/local/lib/python3.6/dist-packages/pandas/core/indexing.py:537: SettingWithCopyWarning: \n",
            "A value is trying to be set on a copy of a slice from a DataFrame.\n",
            "Try using .loc[row_indexer,col_indexer] = value instead\n",
            "\n",
            "See the caveats in the documentation: http://pandas.pydata.org/pandas-docs/stable/indexing.html#indexing-view-versus-copy\n",
            "  self.obj[item] = s\n"
          ],
          "name": "stderr"
        },
        {
          "output_type": "stream",
          "text": [
            "... LR Processing 9\n",
            "... Test acc 0.9958029697002904, fbs 0.9618545404739077\n"
          ],
          "name": "stdout"
        },
        {
          "output_type": "stream",
          "text": [
            "/usr/local/lib/python3.6/dist-packages/pandas/core/indexing.py:537: SettingWithCopyWarning: \n",
            "A value is trying to be set on a copy of a slice from a DataFrame.\n",
            "Try using .loc[row_indexer,col_indexer] = value instead\n",
            "\n",
            "See the caveats in the documentation: http://pandas.pydata.org/pandas-docs/stable/indexing.html#indexing-view-versus-copy\n",
            "  self.obj[item] = s\n"
          ],
          "name": "stderr"
        },
        {
          "output_type": "stream",
          "text": [
            "... LR Processing 10\n",
            "... Test acc 0.9846145416689497, fbs 0.9280921691533502\n"
          ],
          "name": "stdout"
        },
        {
          "output_type": "stream",
          "text": [
            "/usr/local/lib/python3.6/dist-packages/pandas/core/indexing.py:537: SettingWithCopyWarning: \n",
            "A value is trying to be set on a copy of a slice from a DataFrame.\n",
            "Try using .loc[row_indexer,col_indexer] = value instead\n",
            "\n",
            "See the caveats in the documentation: http://pandas.pydata.org/pandas-docs/stable/indexing.html#indexing-view-versus-copy\n",
            "  self.obj[item] = s\n"
          ],
          "name": "stderr"
        },
        {
          "output_type": "stream",
          "text": [
            "... LR Processing 11\n",
            "... Test acc 0.9876280751739631, fbs 0.8600888590829072\n"
          ],
          "name": "stdout"
        },
        {
          "output_type": "stream",
          "text": [
            "/usr/local/lib/python3.6/dist-packages/pandas/core/indexing.py:537: SettingWithCopyWarning: \n",
            "A value is trying to be set on a copy of a slice from a DataFrame.\n",
            "Try using .loc[row_indexer,col_indexer] = value instead\n",
            "\n",
            "See the caveats in the documentation: http://pandas.pydata.org/pandas-docs/stable/indexing.html#indexing-view-versus-copy\n",
            "  self.obj[item] = s\n"
          ],
          "name": "stderr"
        },
        {
          "output_type": "stream",
          "text": [
            "... LR Processing 12\n",
            "... Test acc 0.9686592515478604, fbs 0.819822862718607\n"
          ],
          "name": "stdout"
        },
        {
          "output_type": "stream",
          "text": [
            "/usr/local/lib/python3.6/dist-packages/pandas/core/indexing.py:537: SettingWithCopyWarning: \n",
            "A value is trying to be set on a copy of a slice from a DataFrame.\n",
            "Try using .loc[row_indexer,col_indexer] = value instead\n",
            "\n",
            "See the caveats in the documentation: http://pandas.pydata.org/pandas-docs/stable/indexing.html#indexing-view-versus-copy\n",
            "  self.obj[item] = s\n"
          ],
          "name": "stderr"
        },
        {
          "output_type": "stream",
          "text": [
            "... LR Processing 13\n",
            "... Test acc 0.9883622815188209, fbs 0.8936416890407616\n"
          ],
          "name": "stdout"
        },
        {
          "output_type": "stream",
          "text": [
            "/usr/local/lib/python3.6/dist-packages/pandas/core/indexing.py:537: SettingWithCopyWarning: \n",
            "A value is trying to be set on a copy of a slice from a DataFrame.\n",
            "Try using .loc[row_indexer,col_indexer] = value instead\n",
            "\n",
            "See the caveats in the documentation: http://pandas.pydata.org/pandas-docs/stable/indexing.html#indexing-view-versus-copy\n",
            "  self.obj[item] = s\n"
          ],
          "name": "stderr"
        },
        {
          "output_type": "stream",
          "text": [
            "... LR Processing 14\n",
            "... Test acc 0.9601446496082406, fbs 0.7775257021423237\n"
          ],
          "name": "stdout"
        },
        {
          "output_type": "stream",
          "text": [
            "/usr/local/lib/python3.6/dist-packages/pandas/core/indexing.py:537: SettingWithCopyWarning: \n",
            "A value is trying to be set on a copy of a slice from a DataFrame.\n",
            "Try using .loc[row_indexer,col_indexer] = value instead\n",
            "\n",
            "See the caveats in the documentation: http://pandas.pydata.org/pandas-docs/stable/indexing.html#indexing-view-versus-copy\n",
            "  self.obj[item] = s\n"
          ],
          "name": "stderr"
        },
        {
          "output_type": "stream",
          "text": [
            "... LR Processing 15\n",
            "... Test acc 0.9932606432524246, fbs 0.9145095367847411\n"
          ],
          "name": "stdout"
        },
        {
          "output_type": "stream",
          "text": [
            "/usr/local/lib/python3.6/dist-packages/pandas/core/indexing.py:537: SettingWithCopyWarning: \n",
            "A value is trying to be set on a copy of a slice from a DataFrame.\n",
            "Try using .loc[row_indexer,col_indexer] = value instead\n",
            "\n",
            "See the caveats in the documentation: http://pandas.pydata.org/pandas-docs/stable/indexing.html#indexing-view-versus-copy\n",
            "  self.obj[item] = s\n"
          ],
          "name": "stderr"
        },
        {
          "output_type": "stream",
          "text": [
            "... LR Processing 16\n",
            "... Test acc 0.9976987562325352, fbs 0.9805924412665986\n"
          ],
          "name": "stdout"
        },
        {
          "output_type": "stream",
          "text": [
            "/usr/local/lib/python3.6/dist-packages/pandas/core/indexing.py:537: SettingWithCopyWarning: \n",
            "A value is trying to be set on a copy of a slice from a DataFrame.\n",
            "Try using .loc[row_indexer,col_indexer] = value instead\n",
            "\n",
            "See the caveats in the documentation: http://pandas.pydata.org/pandas-docs/stable/indexing.html#indexing-view-versus-copy\n",
            "  self.obj[item] = s\n"
          ],
          "name": "stderr"
        },
        {
          "output_type": "stream",
          "text": [
            "... LR Processing 17\n",
            "... Test acc 0.998432962577393, fbs 0.9859981226533167\n"
          ],
          "name": "stdout"
        },
        {
          "output_type": "stream",
          "text": [
            "/usr/local/lib/python3.6/dist-packages/pandas/core/indexing.py:537: SettingWithCopyWarning: \n",
            "A value is trying to be set on a copy of a slice from a DataFrame.\n",
            "Try using .loc[row_indexer,col_indexer] = value instead\n",
            "\n",
            "See the caveats in the documentation: http://pandas.pydata.org/pandas-docs/stable/indexing.html#indexing-view-versus-copy\n",
            "  self.obj[item] = s\n"
          ],
          "name": "stderr"
        },
        {
          "output_type": "stream",
          "text": [
            "... LR Processing 18\n",
            "... Test acc 0.9686482932442058, fbs 0.6968594510727089\n"
          ],
          "name": "stdout"
        },
        {
          "output_type": "stream",
          "text": [
            "/usr/local/lib/python3.6/dist-packages/pandas/core/indexing.py:537: SettingWithCopyWarning: \n",
            "A value is trying to be set on a copy of a slice from a DataFrame.\n",
            "Try using .loc[row_indexer,col_indexer] = value instead\n",
            "\n",
            "See the caveats in the documentation: http://pandas.pydata.org/pandas-docs/stable/indexing.html#indexing-view-versus-copy\n",
            "  self.obj[item] = s\n"
          ],
          "name": "stderr"
        },
        {
          "output_type": "stream",
          "text": [
            "... LR Processing 19\n",
            "... Test acc 0.9938414333461181, fbs 0.9581469484292251\n"
          ],
          "name": "stdout"
        },
        {
          "output_type": "stream",
          "text": [
            "/usr/local/lib/python3.6/dist-packages/pandas/core/indexing.py:537: SettingWithCopyWarning: \n",
            "A value is trying to be set on a copy of a slice from a DataFrame.\n",
            "Try using .loc[row_indexer,col_indexer] = value instead\n",
            "\n",
            "See the caveats in the documentation: http://pandas.pydata.org/pandas-docs/stable/indexing.html#indexing-view-versus-copy\n",
            "  self.obj[item] = s\n"
          ],
          "name": "stderr"
        },
        {
          "output_type": "stream",
          "text": [
            "... mean1 0.7952341576868998\n",
            "... mean2 0.7998168280545633\n",
            "... mean3 0.885116378389921\n",
            "... SVC Processing 0\n",
            "... Test acc 0.9855679140868994, fbs 0.6736842105263158\n"
          ],
          "name": "stdout"
        },
        {
          "output_type": "stream",
          "text": [
            "/usr/local/lib/python3.6/dist-packages/pandas/core/indexing.py:357: SettingWithCopyWarning: \n",
            "A value is trying to be set on a copy of a slice from a DataFrame.\n",
            "Try using .loc[row_indexer,col_indexer] = value instead\n",
            "\n",
            "See the caveats in the documentation: http://pandas.pydata.org/pandas-docs/stable/indexing.html#indexing-view-versus-copy\n",
            "  self.obj[key] = _infer_fill_value(value)\n",
            "/usr/local/lib/python3.6/dist-packages/pandas/core/indexing.py:537: SettingWithCopyWarning: \n",
            "A value is trying to be set on a copy of a slice from a DataFrame.\n",
            "Try using .loc[row_indexer,col_indexer] = value instead\n",
            "\n",
            "See the caveats in the documentation: http://pandas.pydata.org/pandas-docs/stable/indexing.html#indexing-view-versus-copy\n",
            "  self.obj[item] = s\n"
          ],
          "name": "stderr"
        },
        {
          "output_type": "stream",
          "text": [
            "... SVC Processing 1\n",
            "... Test acc 0.987036326776615, fbs 0.897804391217565\n"
          ],
          "name": "stdout"
        },
        {
          "output_type": "stream",
          "text": [
            "/usr/local/lib/python3.6/dist-packages/pandas/core/indexing.py:357: SettingWithCopyWarning: \n",
            "A value is trying to be set on a copy of a slice from a DataFrame.\n",
            "Try using .loc[row_indexer,col_indexer] = value instead\n",
            "\n",
            "See the caveats in the documentation: http://pandas.pydata.org/pandas-docs/stable/indexing.html#indexing-view-versus-copy\n",
            "  self.obj[key] = _infer_fill_value(value)\n",
            "/usr/local/lib/python3.6/dist-packages/pandas/core/indexing.py:537: SettingWithCopyWarning: \n",
            "A value is trying to be set on a copy of a slice from a DataFrame.\n",
            "Try using .loc[row_indexer,col_indexer] = value instead\n",
            "\n",
            "See the caveats in the documentation: http://pandas.pydata.org/pandas-docs/stable/indexing.html#indexing-view-versus-copy\n",
            "  self.obj[item] = s\n"
          ],
          "name": "stderr"
        },
        {
          "output_type": "stream",
          "text": [
            "... SVC Processing 2\n",
            "... Test acc 0.9913319818092159, fbs 0.850820693953875\n"
          ],
          "name": "stdout"
        },
        {
          "output_type": "stream",
          "text": [
            "/usr/local/lib/python3.6/dist-packages/pandas/core/indexing.py:357: SettingWithCopyWarning: \n",
            "A value is trying to be set on a copy of a slice from a DataFrame.\n",
            "Try using .loc[row_indexer,col_indexer] = value instead\n",
            "\n",
            "See the caveats in the documentation: http://pandas.pydata.org/pandas-docs/stable/indexing.html#indexing-view-versus-copy\n",
            "  self.obj[key] = _infer_fill_value(value)\n",
            "/usr/local/lib/python3.6/dist-packages/pandas/core/indexing.py:537: SettingWithCopyWarning: \n",
            "A value is trying to be set on a copy of a slice from a DataFrame.\n",
            "Try using .loc[row_indexer,col_indexer] = value instead\n",
            "\n",
            "See the caveats in the documentation: http://pandas.pydata.org/pandas-docs/stable/indexing.html#indexing-view-versus-copy\n",
            "  self.obj[item] = s\n"
          ],
          "name": "stderr"
        },
        {
          "output_type": "stream",
          "text": [
            "... SVC Processing 3\n",
            "... Test acc 0.9961317188099282, fbs 0.9337518740629684\n"
          ],
          "name": "stdout"
        },
        {
          "output_type": "stream",
          "text": [
            "/usr/local/lib/python3.6/dist-packages/pandas/core/indexing.py:357: SettingWithCopyWarning: \n",
            "A value is trying to be set on a copy of a slice from a DataFrame.\n",
            "Try using .loc[row_indexer,col_indexer] = value instead\n",
            "\n",
            "See the caveats in the documentation: http://pandas.pydata.org/pandas-docs/stable/indexing.html#indexing-view-versus-copy\n",
            "  self.obj[key] = _infer_fill_value(value)\n",
            "/usr/local/lib/python3.6/dist-packages/pandas/core/indexing.py:537: SettingWithCopyWarning: \n",
            "A value is trying to be set on a copy of a slice from a DataFrame.\n",
            "Try using .loc[row_indexer,col_indexer] = value instead\n",
            "\n",
            "See the caveats in the documentation: http://pandas.pydata.org/pandas-docs/stable/indexing.html#indexing-view-versus-copy\n",
            "  self.obj[item] = s\n"
          ],
          "name": "stderr"
        },
        {
          "output_type": "stream",
          "text": [
            "... SVC Processing 4\n",
            "... Test acc 0.9925812284258397, fbs 0.8644118230509819\n"
          ],
          "name": "stdout"
        },
        {
          "output_type": "stream",
          "text": [
            "/usr/local/lib/python3.6/dist-packages/pandas/core/indexing.py:357: SettingWithCopyWarning: \n",
            "A value is trying to be set on a copy of a slice from a DataFrame.\n",
            "Try using .loc[row_indexer,col_indexer] = value instead\n",
            "\n",
            "See the caveats in the documentation: http://pandas.pydata.org/pandas-docs/stable/indexing.html#indexing-view-versus-copy\n",
            "  self.obj[key] = _infer_fill_value(value)\n",
            "/usr/local/lib/python3.6/dist-packages/pandas/core/indexing.py:537: SettingWithCopyWarning: \n",
            "A value is trying to be set on a copy of a slice from a DataFrame.\n",
            "Try using .loc[row_indexer,col_indexer] = value instead\n",
            "\n",
            "See the caveats in the documentation: http://pandas.pydata.org/pandas-docs/stable/indexing.html#indexing-view-versus-copy\n",
            "  self.obj[item] = s\n"
          ],
          "name": "stderr"
        },
        {
          "output_type": "stream",
          "text": [
            "... SVC Processing 5\n",
            "... Test acc 0.9752561503479261, fbs 0.9661286570770397\n"
          ],
          "name": "stdout"
        },
        {
          "output_type": "stream",
          "text": [
            "/usr/local/lib/python3.6/dist-packages/pandas/core/indexing.py:357: SettingWithCopyWarning: \n",
            "A value is trying to be set on a copy of a slice from a DataFrame.\n",
            "Try using .loc[row_indexer,col_indexer] = value instead\n",
            "\n",
            "See the caveats in the documentation: http://pandas.pydata.org/pandas-docs/stable/indexing.html#indexing-view-versus-copy\n",
            "  self.obj[key] = _infer_fill_value(value)\n",
            "/usr/local/lib/python3.6/dist-packages/pandas/core/indexing.py:537: SettingWithCopyWarning: \n",
            "A value is trying to be set on a copy of a slice from a DataFrame.\n",
            "Try using .loc[row_indexer,col_indexer] = value instead\n",
            "\n",
            "See the caveats in the documentation: http://pandas.pydata.org/pandas-docs/stable/indexing.html#indexing-view-versus-copy\n",
            "  self.obj[item] = s\n"
          ],
          "name": "stderr"
        },
        {
          "output_type": "stream",
          "text": [
            "... SVC Processing 6\n",
            "... Test acc 0.9531751684839187, fbs 0.7646469297651617\n"
          ],
          "name": "stdout"
        },
        {
          "output_type": "stream",
          "text": [
            "/usr/local/lib/python3.6/dist-packages/pandas/core/indexing.py:357: SettingWithCopyWarning: \n",
            "A value is trying to be set on a copy of a slice from a DataFrame.\n",
            "Try using .loc[row_indexer,col_indexer] = value instead\n",
            "\n",
            "See the caveats in the documentation: http://pandas.pydata.org/pandas-docs/stable/indexing.html#indexing-view-versus-copy\n",
            "  self.obj[key] = _infer_fill_value(value)\n",
            "/usr/local/lib/python3.6/dist-packages/pandas/core/indexing.py:537: SettingWithCopyWarning: \n",
            "A value is trying to be set on a copy of a slice from a DataFrame.\n",
            "Try using .loc[row_indexer,col_indexer] = value instead\n",
            "\n",
            "See the caveats in the documentation: http://pandas.pydata.org/pandas-docs/stable/indexing.html#indexing-view-versus-copy\n",
            "  self.obj[item] = s\n"
          ],
          "name": "stderr"
        },
        {
          "output_type": "stream",
          "text": [
            "... SVC Processing 7\n",
            "... Test acc 0.9888882800942415, fbs 0.8129336931380109\n"
          ],
          "name": "stdout"
        },
        {
          "output_type": "stream",
          "text": [
            "/usr/local/lib/python3.6/dist-packages/pandas/core/indexing.py:357: SettingWithCopyWarning: \n",
            "A value is trying to be set on a copy of a slice from a DataFrame.\n",
            "Try using .loc[row_indexer,col_indexer] = value instead\n",
            "\n",
            "See the caveats in the documentation: http://pandas.pydata.org/pandas-docs/stable/indexing.html#indexing-view-versus-copy\n",
            "  self.obj[key] = _infer_fill_value(value)\n",
            "/usr/local/lib/python3.6/dist-packages/pandas/core/indexing.py:537: SettingWithCopyWarning: \n",
            "A value is trying to be set on a copy of a slice from a DataFrame.\n",
            "Try using .loc[row_indexer,col_indexer] = value instead\n",
            "\n",
            "See the caveats in the documentation: http://pandas.pydata.org/pandas-docs/stable/indexing.html#indexing-view-versus-copy\n",
            "  self.obj[item] = s\n"
          ],
          "name": "stderr"
        },
        {
          "output_type": "stream",
          "text": [
            "... SVC Processing 8\n",
            "... Test acc 0.9899841104597008, fbs 0.9160539215686274\n"
          ],
          "name": "stdout"
        },
        {
          "output_type": "stream",
          "text": [
            "/usr/local/lib/python3.6/dist-packages/pandas/core/indexing.py:357: SettingWithCopyWarning: \n",
            "A value is trying to be set on a copy of a slice from a DataFrame.\n",
            "Try using .loc[row_indexer,col_indexer] = value instead\n",
            "\n",
            "See the caveats in the documentation: http://pandas.pydata.org/pandas-docs/stable/indexing.html#indexing-view-versus-copy\n",
            "  self.obj[key] = _infer_fill_value(value)\n",
            "/usr/local/lib/python3.6/dist-packages/pandas/core/indexing.py:537: SettingWithCopyWarning: \n",
            "A value is trying to be set on a copy of a slice from a DataFrame.\n",
            "Try using .loc[row_indexer,col_indexer] = value instead\n",
            "\n",
            "See the caveats in the documentation: http://pandas.pydata.org/pandas-docs/stable/indexing.html#indexing-view-versus-copy\n",
            "  self.obj[item] = s\n"
          ],
          "name": "stderr"
        },
        {
          "output_type": "stream",
          "text": [
            "... SVC Processing 9\n",
            "... Test acc 0.9972275491753877, fbs 0.9706614628894422\n"
          ],
          "name": "stdout"
        },
        {
          "output_type": "stream",
          "text": [
            "/usr/local/lib/python3.6/dist-packages/pandas/core/indexing.py:357: SettingWithCopyWarning: \n",
            "A value is trying to be set on a copy of a slice from a DataFrame.\n",
            "Try using .loc[row_indexer,col_indexer] = value instead\n",
            "\n",
            "See the caveats in the documentation: http://pandas.pydata.org/pandas-docs/stable/indexing.html#indexing-view-versus-copy\n",
            "  self.obj[key] = _infer_fill_value(value)\n",
            "/usr/local/lib/python3.6/dist-packages/pandas/core/indexing.py:537: SettingWithCopyWarning: \n",
            "A value is trying to be set on a copy of a slice from a DataFrame.\n",
            "Try using .loc[row_indexer,col_indexer] = value instead\n",
            "\n",
            "See the caveats in the documentation: http://pandas.pydata.org/pandas-docs/stable/indexing.html#indexing-view-versus-copy\n",
            "  self.obj[item] = s\n"
          ],
          "name": "stderr"
        },
        {
          "output_type": "stream",
          "text": [
            "... SVC Processing 10\n",
            "... Test acc 0.9884499479480576, fbs 0.9407051282051284\n"
          ],
          "name": "stdout"
        },
        {
          "output_type": "stream",
          "text": [
            "/usr/local/lib/python3.6/dist-packages/pandas/core/indexing.py:357: SettingWithCopyWarning: \n",
            "A value is trying to be set on a copy of a slice from a DataFrame.\n",
            "Try using .loc[row_indexer,col_indexer] = value instead\n",
            "\n",
            "See the caveats in the documentation: http://pandas.pydata.org/pandas-docs/stable/indexing.html#indexing-view-versus-copy\n",
            "  self.obj[key] = _infer_fill_value(value)\n",
            "/usr/local/lib/python3.6/dist-packages/pandas/core/indexing.py:537: SettingWithCopyWarning: \n",
            "A value is trying to be set on a copy of a slice from a DataFrame.\n",
            "Try using .loc[row_indexer,col_indexer] = value instead\n",
            "\n",
            "See the caveats in the documentation: http://pandas.pydata.org/pandas-docs/stable/indexing.html#indexing-view-versus-copy\n",
            "  self.obj[item] = s\n"
          ],
          "name": "stderr"
        },
        {
          "output_type": "stream",
          "text": [
            "... SVC Processing 11\n",
            "... Test acc 0.9914196482384526, fbs 0.8968850698174006\n"
          ],
          "name": "stdout"
        },
        {
          "output_type": "stream",
          "text": [
            "/usr/local/lib/python3.6/dist-packages/pandas/core/indexing.py:357: SettingWithCopyWarning: \n",
            "A value is trying to be set on a copy of a slice from a DataFrame.\n",
            "Try using .loc[row_indexer,col_indexer] = value instead\n",
            "\n",
            "See the caveats in the documentation: http://pandas.pydata.org/pandas-docs/stable/indexing.html#indexing-view-versus-copy\n",
            "  self.obj[key] = _infer_fill_value(value)\n",
            "/usr/local/lib/python3.6/dist-packages/pandas/core/indexing.py:537: SettingWithCopyWarning: \n",
            "A value is trying to be set on a copy of a slice from a DataFrame.\n",
            "Try using .loc[row_indexer,col_indexer] = value instead\n",
            "\n",
            "See the caveats in the documentation: http://pandas.pydata.org/pandas-docs/stable/indexing.html#indexing-view-versus-copy\n",
            "  self.obj[item] = s\n"
          ],
          "name": "stderr"
        },
        {
          "output_type": "stream",
          "text": [
            "... SVC Processing 12\n",
            "... Test acc 0.9735466549778095, fbs 0.8362952836637046\n"
          ],
          "name": "stdout"
        },
        {
          "output_type": "stream",
          "text": [
            "/usr/local/lib/python3.6/dist-packages/pandas/core/indexing.py:357: SettingWithCopyWarning: \n",
            "A value is trying to be set on a copy of a slice from a DataFrame.\n",
            "Try using .loc[row_indexer,col_indexer] = value instead\n",
            "\n",
            "See the caveats in the documentation: http://pandas.pydata.org/pandas-docs/stable/indexing.html#indexing-view-versus-copy\n",
            "  self.obj[key] = _infer_fill_value(value)\n",
            "/usr/local/lib/python3.6/dist-packages/pandas/core/indexing.py:537: SettingWithCopyWarning: \n",
            "A value is trying to be set on a copy of a slice from a DataFrame.\n",
            "Try using .loc[row_indexer,col_indexer] = value instead\n",
            "\n",
            "See the caveats in the documentation: http://pandas.pydata.org/pandas-docs/stable/indexing.html#indexing-view-versus-copy\n",
            "  self.obj[item] = s\n"
          ],
          "name": "stderr"
        },
        {
          "output_type": "stream",
          "text": [
            "... SVC Processing 13\n",
            "... Test acc 0.9895786532244808, fbs 0.8972638702526108\n"
          ],
          "name": "stdout"
        },
        {
          "output_type": "stream",
          "text": [
            "/usr/local/lib/python3.6/dist-packages/pandas/core/indexing.py:357: SettingWithCopyWarning: \n",
            "A value is trying to be set on a copy of a slice from a DataFrame.\n",
            "Try using .loc[row_indexer,col_indexer] = value instead\n",
            "\n",
            "See the caveats in the documentation: http://pandas.pydata.org/pandas-docs/stable/indexing.html#indexing-view-versus-copy\n",
            "  self.obj[key] = _infer_fill_value(value)\n",
            "/usr/local/lib/python3.6/dist-packages/pandas/core/indexing.py:537: SettingWithCopyWarning: \n",
            "A value is trying to be set on a copy of a slice from a DataFrame.\n",
            "Try using .loc[row_indexer,col_indexer] = value instead\n",
            "\n",
            "See the caveats in the documentation: http://pandas.pydata.org/pandas-docs/stable/indexing.html#indexing-view-versus-copy\n",
            "  self.obj[item] = s\n"
          ],
          "name": "stderr"
        },
        {
          "output_type": "stream",
          "text": [
            "... SVC Processing 14\n",
            "... Test acc 0.9624678099830146, fbs 0.7884998576715059\n"
          ],
          "name": "stdout"
        },
        {
          "output_type": "stream",
          "text": [
            "/usr/local/lib/python3.6/dist-packages/pandas/core/indexing.py:357: SettingWithCopyWarning: \n",
            "A value is trying to be set on a copy of a slice from a DataFrame.\n",
            "Try using .loc[row_indexer,col_indexer] = value instead\n",
            "\n",
            "See the caveats in the documentation: http://pandas.pydata.org/pandas-docs/stable/indexing.html#indexing-view-versus-copy\n",
            "  self.obj[key] = _infer_fill_value(value)\n",
            "/usr/local/lib/python3.6/dist-packages/pandas/core/indexing.py:537: SettingWithCopyWarning: \n",
            "A value is trying to be set on a copy of a slice from a DataFrame.\n",
            "Try using .loc[row_indexer,col_indexer] = value instead\n",
            "\n",
            "See the caveats in the documentation: http://pandas.pydata.org/pandas-docs/stable/indexing.html#indexing-view-versus-copy\n",
            "  self.obj[item] = s\n"
          ],
          "name": "stderr"
        },
        {
          "output_type": "stream",
          "text": [
            "... SVC Processing 15\n",
            "... Test acc 0.9963728014903293, fbs 0.9463320069380676\n"
          ],
          "name": "stdout"
        },
        {
          "output_type": "stream",
          "text": [
            "/usr/local/lib/python3.6/dist-packages/pandas/core/indexing.py:357: SettingWithCopyWarning: \n",
            "A value is trying to be set on a copy of a slice from a DataFrame.\n",
            "Try using .loc[row_indexer,col_indexer] = value instead\n",
            "\n",
            "See the caveats in the documentation: http://pandas.pydata.org/pandas-docs/stable/indexing.html#indexing-view-versus-copy\n",
            "  self.obj[key] = _infer_fill_value(value)\n",
            "/usr/local/lib/python3.6/dist-packages/pandas/core/indexing.py:537: SettingWithCopyWarning: \n",
            "A value is trying to be set on a copy of a slice from a DataFrame.\n",
            "Try using .loc[row_indexer,col_indexer] = value instead\n",
            "\n",
            "See the caveats in the documentation: http://pandas.pydata.org/pandas-docs/stable/indexing.html#indexing-view-versus-copy\n",
            "  self.obj[item] = s\n"
          ],
          "name": "stderr"
        },
        {
          "output_type": "stream",
          "text": [
            "... SVC Processing 16\n",
            "... Test acc 0.9988603364199222, fbs 0.9867092866756393\n"
          ],
          "name": "stdout"
        },
        {
          "output_type": "stream",
          "text": [
            "/usr/local/lib/python3.6/dist-packages/pandas/core/indexing.py:357: SettingWithCopyWarning: \n",
            "A value is trying to be set on a copy of a slice from a DataFrame.\n",
            "Try using .loc[row_indexer,col_indexer] = value instead\n",
            "\n",
            "See the caveats in the documentation: http://pandas.pydata.org/pandas-docs/stable/indexing.html#indexing-view-versus-copy\n",
            "  self.obj[key] = _infer_fill_value(value)\n",
            "/usr/local/lib/python3.6/dist-packages/pandas/core/indexing.py:537: SettingWithCopyWarning: \n",
            "A value is trying to be set on a copy of a slice from a DataFrame.\n",
            "Try using .loc[row_indexer,col_indexer] = value instead\n",
            "\n",
            "See the caveats in the documentation: http://pandas.pydata.org/pandas-docs/stable/indexing.html#indexing-view-versus-copy\n",
            "  self.obj[item] = s\n"
          ],
          "name": "stderr"
        },
        {
          "output_type": "stream",
          "text": [
            "... SVC Processing 17\n",
            "... Test acc 0.9993425017807244, fbs 0.9940877738194497\n"
          ],
          "name": "stdout"
        },
        {
          "output_type": "stream",
          "text": [
            "/usr/local/lib/python3.6/dist-packages/pandas/core/indexing.py:357: SettingWithCopyWarning: \n",
            "A value is trying to be set on a copy of a slice from a DataFrame.\n",
            "Try using .loc[row_indexer,col_indexer] = value instead\n",
            "\n",
            "See the caveats in the documentation: http://pandas.pydata.org/pandas-docs/stable/indexing.html#indexing-view-versus-copy\n",
            "  self.obj[key] = _infer_fill_value(value)\n",
            "/usr/local/lib/python3.6/dist-packages/pandas/core/indexing.py:537: SettingWithCopyWarning: \n",
            "A value is trying to be set on a copy of a slice from a DataFrame.\n",
            "Try using .loc[row_indexer,col_indexer] = value instead\n",
            "\n",
            "See the caveats in the documentation: http://pandas.pydata.org/pandas-docs/stable/indexing.html#indexing-view-versus-copy\n",
            "  self.obj[item] = s\n"
          ],
          "name": "stderr"
        },
        {
          "output_type": "stream",
          "text": [
            "... SVC Processing 18\n",
            "... Test acc 0.9695359158402279, fbs 0.7099498548429664\n"
          ],
          "name": "stdout"
        },
        {
          "output_type": "stream",
          "text": [
            "/usr/local/lib/python3.6/dist-packages/pandas/core/indexing.py:357: SettingWithCopyWarning: \n",
            "A value is trying to be set on a copy of a slice from a DataFrame.\n",
            "Try using .loc[row_indexer,col_indexer] = value instead\n",
            "\n",
            "See the caveats in the documentation: http://pandas.pydata.org/pandas-docs/stable/indexing.html#indexing-view-versus-copy\n",
            "  self.obj[key] = _infer_fill_value(value)\n",
            "/usr/local/lib/python3.6/dist-packages/pandas/core/indexing.py:537: SettingWithCopyWarning: \n",
            "A value is trying to be set on a copy of a slice from a DataFrame.\n",
            "Try using .loc[row_indexer,col_indexer] = value instead\n",
            "\n",
            "See the caveats in the documentation: http://pandas.pydata.org/pandas-docs/stable/indexing.html#indexing-view-versus-copy\n",
            "  self.obj[item] = s\n"
          ],
          "name": "stderr"
        },
        {
          "output_type": "stream",
          "text": [
            "... SVC Processing 19\n",
            "... Test acc 0.995408470768725, fbs 0.9647806293461403\n"
          ],
          "name": "stdout"
        },
        {
          "output_type": "stream",
          "text": [
            "/usr/local/lib/python3.6/dist-packages/pandas/core/indexing.py:357: SettingWithCopyWarning: \n",
            "A value is trying to be set on a copy of a slice from a DataFrame.\n",
            "Try using .loc[row_indexer,col_indexer] = value instead\n",
            "\n",
            "See the caveats in the documentation: http://pandas.pydata.org/pandas-docs/stable/indexing.html#indexing-view-versus-copy\n",
            "  self.obj[key] = _infer_fill_value(value)\n",
            "/usr/local/lib/python3.6/dist-packages/pandas/core/indexing.py:537: SettingWithCopyWarning: \n",
            "A value is trying to be set on a copy of a slice from a DataFrame.\n",
            "Try using .loc[row_indexer,col_indexer] = value instead\n",
            "\n",
            "See the caveats in the documentation: http://pandas.pydata.org/pandas-docs/stable/indexing.html#indexing-view-versus-copy\n",
            "  self.obj[item] = s\n"
          ],
          "name": "stderr"
        }
      ]
    },
    {
      "metadata": {
        "id": "ZpxTLMAnRZA6",
        "colab_type": "code",
        "colab": {}
      },
      "cell_type": "code",
      "source": [
        "data = open('/gdrive/My Drive/Colab Notebooks/AClassification.train.txt','r').readlines()\n",
        "data = [line.strip().split('\\t') for line in data]\n",
        "df = pd.DataFrame.from_records(data, columns=['id','labels','features'])\n",
        "df['features'] = df['features'].apply(lambda x: \" \".join([tok.split('/')[0] for tok in x.split(' ')[:300]]))\n",
        "categories = list(range(0, 20))\n",
        "for i in categories:\n",
        "  df[i] = df['labels'].apply(lambda x: 1 if i in [int(y) for y in x.split()] else 0)\n",
        "\n",
        "SVC_pipeline = Pipeline([\n",
        "    ('tfidf', TfidfVectorizer()),\n",
        "    ('clf', OneVsRestClassifier(LinearSVC(), n_jobs=1)),\n",
        "])\n",
        "LogReg_pipeline = Pipeline([\n",
        "    ('tfidf', TfidfVectorizer()),\n",
        "    ('clf', OneVsRestClassifier(LogisticRegression(solver='sag'), n_jobs=1)),\n",
        "])\n",
        "\n",
        "models = {'SVC':SVC_pipeline, 'LR':LogReg_pipeline}\n"
      ],
      "execution_count": 0,
      "outputs": []
    },
    {
      "metadata": {
        "id": "r6dPH2XxUfzW",
        "colab_type": "code",
        "outputId": "645ebe76-27ed-41c9-f95a-46d09fc7b068",
        "colab": {
          "base_uri": "https://localhost:8080/",
          "height": 2788
        }
      },
      "cell_type": "code",
      "source": [
        "train, test = train_test_split(df, random_state=42, test_size=0.3, shuffle=True)\n",
        "x_train = train.features\n",
        "x_test = test.features\n",
        "\n",
        "method = 'SVC'\n",
        "model = SVC_pipeline\n",
        "for category in categories:\n",
        "  print('... {} Processing {}'.format(method, category))\n",
        "  model.fit(x_train, train[category])\n",
        "  prediction = model.predict(x_test)\n",
        "  test['p{}'.format(category)] = prediction[:]\n",
        "  print('Test acc {}, fbs {}'.format(\n",
        "      accuracy_score(test[category], prediction), \n",
        "      fbeta_score(test[category], prediction, 0.5)))\n",
        "  \n",
        "fscoreli = []  \n",
        "yzli = []\n",
        "yli = []\n",
        "zli = []\n",
        "preli = []\n",
        "recli = []\n",
        "for idx in range(0,len(test)):\n",
        "  yz = 0.0\n",
        "  y = 0.0\n",
        "  z = 0.0\n",
        "\n",
        "  for category in categories:\n",
        "    if test.iloc[idx][category] == 1:\n",
        "      y+=1\n",
        "      if test.iloc[idx][category] == test.iloc[idx]['p{}'.format(category)]:\n",
        "        yz+=1\n",
        "    if test.iloc[idx]['p{}'.format(category)] == 1:\n",
        "      z+=1\n",
        "  pre = yz/(z+Ep)\n",
        "  rec = yz/(y+Ep)\n",
        "\n",
        "  yzli.append(yz)\n",
        "  yli.append(y)\n",
        "  zli.append(z)\n",
        "  preli.append(pre)\n",
        "  recli.append(rec)\n",
        "  fscoreli.append(_fbscore(pre, rec))\n",
        "\n",
        "print('mean1 {}'.format(np.mean(fscoreli)))\n",
        "print('mean2 {}'.format(_fbscore(np.mean(preli), np.mean(recli))))\n",
        "print('mean3 {}'.format((beta*beta+1)*np.sum(yzli)/(beta*beta*np.sum(yli)+np.sum(zli)+Ep)))\n",
        "    "
      ],
      "execution_count": 0,
      "outputs": [
        {
          "output_type": "stream",
          "text": [
            "... SVC Processing 0\n"
          ],
          "name": "stdout"
        },
        {
          "output_type": "stream",
          "text": [
            "/usr/local/lib/python3.6/dist-packages/ipykernel_launcher.py:11: SettingWithCopyWarning: \n",
            "A value is trying to be set on a copy of a slice from a DataFrame.\n",
            "Try using .loc[row_indexer,col_indexer] = value instead\n",
            "\n",
            "See the caveats in the documentation: http://pandas.pydata.org/pandas-docs/stable/indexing.html#indexing-view-versus-copy\n",
            "  # This is added back by InteractiveShellApp.init_path()\n"
          ],
          "name": "stderr"
        },
        {
          "output_type": "stream",
          "text": [
            "Test acc 0.9844611254177853, fbs 0.6555978474865468\n",
            "... SVC Processing 1\n"
          ],
          "name": "stdout"
        },
        {
          "output_type": "stream",
          "text": [
            "/usr/local/lib/python3.6/dist-packages/ipykernel_launcher.py:11: SettingWithCopyWarning: \n",
            "A value is trying to be set on a copy of a slice from a DataFrame.\n",
            "Try using .loc[row_indexer,col_indexer] = value instead\n",
            "\n",
            "See the caveats in the documentation: http://pandas.pydata.org/pandas-docs/stable/indexing.html#indexing-view-versus-copy\n",
            "  # This is added back by InteractiveShellApp.init_path()\n"
          ],
          "name": "stderr"
        },
        {
          "output_type": "stream",
          "text": [
            "Test acc 0.9862802038244479, fbs 0.8907682901976768\n",
            "... SVC Processing 2\n"
          ],
          "name": "stdout"
        },
        {
          "output_type": "stream",
          "text": [
            "/usr/local/lib/python3.6/dist-packages/ipykernel_launcher.py:11: SettingWithCopyWarning: \n",
            "A value is trying to be set on a copy of a slice from a DataFrame.\n",
            "Try using .loc[row_indexer,col_indexer] = value instead\n",
            "\n",
            "See the caveats in the documentation: http://pandas.pydata.org/pandas-docs/stable/indexing.html#indexing-view-versus-copy\n",
            "  # This is added back by InteractiveShellApp.init_path()\n"
          ],
          "name": "stderr"
        },
        {
          "output_type": "stream",
          "text": [
            "Test acc 0.9913210235055614, fbs 0.8404149652356252\n",
            "... SVC Processing 3\n"
          ],
          "name": "stdout"
        },
        {
          "output_type": "stream",
          "text": [
            "/usr/local/lib/python3.6/dist-packages/ipykernel_launcher.py:11: SettingWithCopyWarning: \n",
            "A value is trying to be set on a copy of a slice from a DataFrame.\n",
            "Try using .loc[row_indexer,col_indexer] = value instead\n",
            "\n",
            "See the caveats in the documentation: http://pandas.pydata.org/pandas-docs/stable/indexing.html#indexing-view-versus-copy\n",
            "  # This is added back by InteractiveShellApp.init_path()\n"
          ],
          "name": "stderr"
        },
        {
          "output_type": "stream",
          "text": [
            "Test acc 0.9958906361295271, fbs 0.9365517241379311\n",
            "... SVC Processing 4\n"
          ],
          "name": "stdout"
        },
        {
          "output_type": "stream",
          "text": [
            "/usr/local/lib/python3.6/dist-packages/ipykernel_launcher.py:11: SettingWithCopyWarning: \n",
            "A value is trying to be set on a copy of a slice from a DataFrame.\n",
            "Try using .loc[row_indexer,col_indexer] = value instead\n",
            "\n",
            "See the caveats in the documentation: http://pandas.pydata.org/pandas-docs/stable/indexing.html#indexing-view-versus-copy\n",
            "  # This is added back by InteractiveShellApp.init_path()\n"
          ],
          "name": "stderr"
        },
        {
          "output_type": "stream",
          "text": [
            "Test acc 0.9928003944989315, fbs 0.8620155038759689\n",
            "... SVC Processing 5\n"
          ],
          "name": "stdout"
        },
        {
          "output_type": "stream",
          "text": [
            "/usr/local/lib/python3.6/dist-packages/ipykernel_launcher.py:11: SettingWithCopyWarning: \n",
            "A value is trying to be set on a copy of a slice from a DataFrame.\n",
            "Try using .loc[row_indexer,col_indexer] = value instead\n",
            "\n",
            "See the caveats in the documentation: http://pandas.pydata.org/pandas-docs/stable/indexing.html#indexing-view-versus-copy\n",
            "  # This is added back by InteractiveShellApp.init_path()\n"
          ],
          "name": "stderr"
        },
        {
          "output_type": "stream",
          "text": [
            "Test acc 0.9760122733000931, fbs 0.9665378699778668\n",
            "... SVC Processing 6\n"
          ],
          "name": "stdout"
        },
        {
          "output_type": "stream",
          "text": [
            "/usr/local/lib/python3.6/dist-packages/ipykernel_launcher.py:11: SettingWithCopyWarning: \n",
            "A value is trying to be set on a copy of a slice from a DataFrame.\n",
            "Try using .loc[row_indexer,col_indexer] = value instead\n",
            "\n",
            "See the caveats in the documentation: http://pandas.pydata.org/pandas-docs/stable/indexing.html#indexing-view-versus-copy\n",
            "  # This is added back by InteractiveShellApp.init_path()\n"
          ],
          "name": "stderr"
        },
        {
          "output_type": "stream",
          "text": [
            "Test acc 0.9538436250068489, fbs 0.7680763614731491\n",
            "... SVC Processing 7\n"
          ],
          "name": "stdout"
        },
        {
          "output_type": "stream",
          "text": [
            "/usr/local/lib/python3.6/dist-packages/ipykernel_launcher.py:11: SettingWithCopyWarning: \n",
            "A value is trying to be set on a copy of a slice from a DataFrame.\n",
            "Try using .loc[row_indexer,col_indexer] = value instead\n",
            "\n",
            "See the caveats in the documentation: http://pandas.pydata.org/pandas-docs/stable/indexing.html#indexing-view-versus-copy\n",
            "  # This is added back by InteractiveShellApp.init_path()\n"
          ],
          "name": "stderr"
        },
        {
          "output_type": "stream",
          "text": [
            "Test acc 0.9887348638430771, fbs 0.8229977886741658\n",
            "... SVC Processing 8\n"
          ],
          "name": "stdout"
        },
        {
          "output_type": "stream",
          "text": [
            "/usr/local/lib/python3.6/dist-packages/ipykernel_launcher.py:11: SettingWithCopyWarning: \n",
            "A value is trying to be set on a copy of a slice from a DataFrame.\n",
            "Try using .loc[row_indexer,col_indexer] = value instead\n",
            "\n",
            "See the caveats in the documentation: http://pandas.pydata.org/pandas-docs/stable/indexing.html#indexing-view-versus-copy\n",
            "  # This is added back by InteractiveShellApp.init_path()\n"
          ],
          "name": "stderr"
        },
        {
          "output_type": "stream",
          "text": [
            "Test acc 0.9892937373294614, fbs 0.9106060606060605\n",
            "... SVC Processing 9\n"
          ],
          "name": "stdout"
        },
        {
          "output_type": "stream",
          "text": [
            "/usr/local/lib/python3.6/dist-packages/ipykernel_launcher.py:11: SettingWithCopyWarning: \n",
            "A value is trying to be set on a copy of a slice from a DataFrame.\n",
            "Try using .loc[row_indexer,col_indexer] = value instead\n",
            "\n",
            "See the caveats in the documentation: http://pandas.pydata.org/pandas-docs/stable/indexing.html#indexing-view-versus-copy\n",
            "  # This is added back by InteractiveShellApp.init_path()\n"
          ],
          "name": "stderr"
        },
        {
          "output_type": "stream",
          "text": [
            "Test acc 0.9973480905155881, fbs 0.9723031126642074\n",
            "... SVC Processing 10\n"
          ],
          "name": "stdout"
        },
        {
          "output_type": "stream",
          "text": [
            "/usr/local/lib/python3.6/dist-packages/ipykernel_launcher.py:11: SettingWithCopyWarning: \n",
            "A value is trying to be set on a copy of a slice from a DataFrame.\n",
            "Try using .loc[row_indexer,col_indexer] = value instead\n",
            "\n",
            "See the caveats in the documentation: http://pandas.pydata.org/pandas-docs/stable/indexing.html#indexing-view-versus-copy\n",
            "  # This is added back by InteractiveShellApp.init_path()\n"
          ],
          "name": "stderr"
        },
        {
          "output_type": "stream",
          "text": [
            "Test acc 0.9892170292038792, fbs 0.9459513442256222\n",
            "... SVC Processing 11\n"
          ],
          "name": "stdout"
        },
        {
          "output_type": "stream",
          "text": [
            "/usr/local/lib/python3.6/dist-packages/ipykernel_launcher.py:11: SettingWithCopyWarning: \n",
            "A value is trying to be set on a copy of a slice from a DataFrame.\n",
            "Try using .loc[row_indexer,col_indexer] = value instead\n",
            "\n",
            "See the caveats in the documentation: http://pandas.pydata.org/pandas-docs/stable/indexing.html#indexing-view-versus-copy\n",
            "  # This is added back by InteractiveShellApp.init_path()\n"
          ],
          "name": "stderr"
        },
        {
          "output_type": "stream",
          "text": [
            "Test acc 0.9915511478823078, fbs 0.8976564179746293\n",
            "... SVC Processing 12\n"
          ],
          "name": "stdout"
        },
        {
          "output_type": "stream",
          "text": [
            "/usr/local/lib/python3.6/dist-packages/ipykernel_launcher.py:11: SettingWithCopyWarning: \n",
            "A value is trying to be set on a copy of a slice from a DataFrame.\n",
            "Try using .loc[row_indexer,col_indexer] = value instead\n",
            "\n",
            "See the caveats in the documentation: http://pandas.pydata.org/pandas-docs/stable/indexing.html#indexing-view-versus-copy\n",
            "  # This is added back by InteractiveShellApp.init_path()\n"
          ],
          "name": "stderr"
        },
        {
          "output_type": "stream",
          "text": [
            "Test acc 0.9728124486329516, fbs 0.8345561887861312\n",
            "... SVC Processing 13\n"
          ],
          "name": "stdout"
        },
        {
          "output_type": "stream",
          "text": [
            "/usr/local/lib/python3.6/dist-packages/ipykernel_launcher.py:11: SettingWithCopyWarning: \n",
            "A value is trying to be set on a copy of a slice from a DataFrame.\n",
            "Try using .loc[row_indexer,col_indexer] = value instead\n",
            "\n",
            "See the caveats in the documentation: http://pandas.pydata.org/pandas-docs/stable/indexing.html#indexing-view-versus-copy\n",
            "  # This is added back by InteractiveShellApp.init_path()\n"
          ],
          "name": "stderr"
        },
        {
          "output_type": "stream",
          "text": [
            "Test acc 0.9896115281354446, fbs 0.8973665223665225\n",
            "... SVC Processing 14\n"
          ],
          "name": "stdout"
        },
        {
          "output_type": "stream",
          "text": [
            "/usr/local/lib/python3.6/dist-packages/ipykernel_launcher.py:11: SettingWithCopyWarning: \n",
            "A value is trying to be set on a copy of a slice from a DataFrame.\n",
            "Try using .loc[row_indexer,col_indexer] = value instead\n",
            "\n",
            "See the caveats in the documentation: http://pandas.pydata.org/pandas-docs/stable/indexing.html#indexing-view-versus-copy\n",
            "  # This is added back by InteractiveShellApp.init_path()\n"
          ],
          "name": "stderr"
        },
        {
          "output_type": "stream",
          "text": [
            "Test acc 0.9616130622979563, fbs 0.7856700101431309\n",
            "... SVC Processing 15\n"
          ],
          "name": "stdout"
        },
        {
          "output_type": "stream",
          "text": [
            "/usr/local/lib/python3.6/dist-packages/ipykernel_launcher.py:11: SettingWithCopyWarning: \n",
            "A value is trying to be set on a copy of a slice from a DataFrame.\n",
            "Try using .loc[row_indexer,col_indexer] = value instead\n",
            "\n",
            "See the caveats in the documentation: http://pandas.pydata.org/pandas-docs/stable/indexing.html#indexing-view-versus-copy\n",
            "  # This is added back by InteractiveShellApp.init_path()\n"
          ],
          "name": "stderr"
        },
        {
          "output_type": "stream",
          "text": [
            "Test acc 0.9960659689880007, fbs 0.9438957336320131\n",
            "... SVC Processing 16\n"
          ],
          "name": "stdout"
        },
        {
          "output_type": "stream",
          "text": [
            "/usr/local/lib/python3.6/dist-packages/ipykernel_launcher.py:11: SettingWithCopyWarning: \n",
            "A value is trying to be set on a copy of a slice from a DataFrame.\n",
            "Try using .loc[row_indexer,col_indexer] = value instead\n",
            "\n",
            "See the caveats in the documentation: http://pandas.pydata.org/pandas-docs/stable/indexing.html#indexing-view-versus-copy\n",
            "  # This is added back by InteractiveShellApp.init_path()\n"
          ],
          "name": "stderr"
        },
        {
          "output_type": "stream",
          "text": [
            "Test acc 0.9988055449016492, fbs 0.9861916823269874\n",
            "... SVC Processing 17\n"
          ],
          "name": "stdout"
        },
        {
          "output_type": "stream",
          "text": [
            "/usr/local/lib/python3.6/dist-packages/ipykernel_launcher.py:11: SettingWithCopyWarning: \n",
            "A value is trying to be set on a copy of a slice from a DataFrame.\n",
            "Try using .loc[row_indexer,col_indexer] = value instead\n",
            "\n",
            "See the caveats in the documentation: http://pandas.pydata.org/pandas-docs/stable/indexing.html#indexing-view-versus-copy\n",
            "  # This is added back by InteractiveShellApp.init_path()\n"
          ],
          "name": "stderr"
        },
        {
          "output_type": "stream",
          "text": [
            "Test acc 0.9993425017807244, fbs 0.9924888506376652\n",
            "... SVC Processing 18\n"
          ],
          "name": "stdout"
        },
        {
          "output_type": "stream",
          "text": [
            "/usr/local/lib/python3.6/dist-packages/ipykernel_launcher.py:11: SettingWithCopyWarning: \n",
            "A value is trying to be set on a copy of a slice from a DataFrame.\n",
            "Try using .loc[row_indexer,col_indexer] = value instead\n",
            "\n",
            "See the caveats in the documentation: http://pandas.pydata.org/pandas-docs/stable/indexing.html#indexing-view-versus-copy\n",
            "  # This is added back by InteractiveShellApp.init_path()\n"
          ],
          "name": "stderr"
        },
        {
          "output_type": "stream",
          "text": [
            "Test acc 0.9706646211166512, fbs 0.7148590079726042\n",
            "... SVC Processing 19\n"
          ],
          "name": "stdout"
        },
        {
          "output_type": "stream",
          "text": [
            "/usr/local/lib/python3.6/dist-packages/ipykernel_launcher.py:11: SettingWithCopyWarning: \n",
            "A value is trying to be set on a copy of a slice from a DataFrame.\n",
            "Try using .loc[row_indexer,col_indexer] = value instead\n",
            "\n",
            "See the caveats in the documentation: http://pandas.pydata.org/pandas-docs/stable/indexing.html#indexing-view-versus-copy\n",
            "  # This is added back by InteractiveShellApp.init_path()\n"
          ],
          "name": "stderr"
        },
        {
          "output_type": "stream",
          "text": [
            "Test acc 0.995057805051778, fbs 0.9616716122650841\n",
            "mean1 0.8461196417392761\n",
            "mean2 0.8507380247722793\n",
            "mean3 0.894527573423484\n"
          ],
          "name": "stdout"
        }
      ]
    },
    {
      "metadata": {
        "id": "9PPxyw2hVz48",
        "colab_type": "code",
        "outputId": "8ff2b56d-cd6c-40b3-fdb4-26d71e4cbd64",
        "colab": {
          "base_uri": "https://localhost:8080/",
          "height": 306
        }
      },
      "cell_type": "code",
      "source": [
        "train, test = train_test_split(df, random_state=42+i, test_size=0.3, shuffle=True)\n",
        "x_train = train.features\n",
        "x_test = test.features\n",
        "\n",
        "trainedmodel = {}\n",
        "\n",
        "for category in [0,1]:\n",
        "  SVC_pipeline = Pipeline([\n",
        "    ('tfidf', TfidfVectorizer()),\n",
        "    ('clf', OneVsRestClassifier(LinearSVC(), n_jobs=1)),\n",
        "  ])\n",
        "  SVC_pipeline.fit(x_train, train[category])\n",
        "  trainedmodel['model'+str(category)] = SVC_pipeline\n",
        "  prediction = SVC_pipeline.predict(x_test)\n",
        "  test['test'+str(category)] = prediction\n",
        "  \n",
        "test['test0la'] = trainedmodel['model0'].predict(x_test)\n"
      ],
      "execution_count": 0,
      "outputs": [
        {
          "output_type": "stream",
          "text": [
            "/usr/local/lib/python3.6/dist-packages/ipykernel_launcher.py:15: SettingWithCopyWarning: \n",
            "A value is trying to be set on a copy of a slice from a DataFrame.\n",
            "Try using .loc[row_indexer,col_indexer] = value instead\n",
            "\n",
            "See the caveats in the documentation: http://pandas.pydata.org/pandas-docs/stable/indexing.html#indexing-view-versus-copy\n",
            "  from ipykernel import kernelapp as app\n",
            "/usr/local/lib/python3.6/dist-packages/ipykernel_launcher.py:15: SettingWithCopyWarning: \n",
            "A value is trying to be set on a copy of a slice from a DataFrame.\n",
            "Try using .loc[row_indexer,col_indexer] = value instead\n",
            "\n",
            "See the caveats in the documentation: http://pandas.pydata.org/pandas-docs/stable/indexing.html#indexing-view-versus-copy\n",
            "  from ipykernel import kernelapp as app\n",
            "/usr/local/lib/python3.6/dist-packages/ipykernel_launcher.py:17: SettingWithCopyWarning: \n",
            "A value is trying to be set on a copy of a slice from a DataFrame.\n",
            "Try using .loc[row_indexer,col_indexer] = value instead\n",
            "\n",
            "See the caveats in the documentation: http://pandas.pydata.org/pandas-docs/stable/indexing.html#indexing-view-versus-copy\n"
          ],
          "name": "stderr"
        }
      ]
    },
    {
      "metadata": {
        "id": "msOFOUv6Rhk9",
        "colab_type": "code",
        "outputId": "d31802d7-fe42-4e71-d506-b928f614ded5",
        "colab": {
          "base_uri": "https://localhost:8080/",
          "height": 2224
        }
      },
      "cell_type": "code",
      "source": [
        "test"
      ],
      "execution_count": 0,
      "outputs": [
        {
          "output_type": "execute_result",
          "data": {
            "text/html": [
              "<div>\n",
              "<style scoped>\n",
              "    .dataframe tbody tr th:only-of-type {\n",
              "        vertical-align: middle;\n",
              "    }\n",
              "\n",
              "    .dataframe tbody tr th {\n",
              "        vertical-align: top;\n",
              "    }\n",
              "\n",
              "    .dataframe thead th {\n",
              "        text-align: right;\n",
              "    }\n",
              "</style>\n",
              "<table border=\"1\" class=\"dataframe\">\n",
              "  <thead>\n",
              "    <tr style=\"text-align: right;\">\n",
              "      <th></th>\n",
              "      <th>id</th>\n",
              "      <th>labels</th>\n",
              "      <th>features</th>\n",
              "      <th>0</th>\n",
              "      <th>1</th>\n",
              "      <th>2</th>\n",
              "      <th>3</th>\n",
              "      <th>4</th>\n",
              "      <th>5</th>\n",
              "      <th>6</th>\n",
              "      <th>...</th>\n",
              "      <th>13</th>\n",
              "      <th>14</th>\n",
              "      <th>15</th>\n",
              "      <th>16</th>\n",
              "      <th>17</th>\n",
              "      <th>18</th>\n",
              "      <th>19</th>\n",
              "      <th>test0</th>\n",
              "      <th>test1</th>\n",
              "      <th>test0la</th>\n",
              "    </tr>\n",
              "  </thead>\n",
              "  <tbody>\n",
              "    <tr>\n",
              "      <th>8919</th>\n",
              "      <td>15712</td>\n",
              "      <td>4</td>\n",
              "      <td>14711 9153 3543 14711 9153 3543 316 366 15760 ...</td>\n",
              "      <td>0</td>\n",
              "      <td>0</td>\n",
              "      <td>0</td>\n",
              "      <td>0</td>\n",
              "      <td>1</td>\n",
              "      <td>0</td>\n",
              "      <td>0</td>\n",
              "      <td>...</td>\n",
              "      <td>0</td>\n",
              "      <td>0</td>\n",
              "      <td>0</td>\n",
              "      <td>0</td>\n",
              "      <td>0</td>\n",
              "      <td>0</td>\n",
              "      <td>0</td>\n",
              "      <td>0</td>\n",
              "      <td>0</td>\n",
              "      <td>0</td>\n",
              "    </tr>\n",
              "    <tr>\n",
              "      <th>1657</th>\n",
              "      <td>6398</td>\n",
              "      <td>0</td>\n",
              "      <td>35 33 548 1123 35 33 35 2755 393 301 2382 393 ...</td>\n",
              "      <td>1</td>\n",
              "      <td>0</td>\n",
              "      <td>0</td>\n",
              "      <td>0</td>\n",
              "      <td>0</td>\n",
              "      <td>0</td>\n",
              "      <td>0</td>\n",
              "      <td>...</td>\n",
              "      <td>0</td>\n",
              "      <td>0</td>\n",
              "      <td>0</td>\n",
              "      <td>0</td>\n",
              "      <td>0</td>\n",
              "      <td>0</td>\n",
              "      <td>0</td>\n",
              "      <td>0</td>\n",
              "      <td>1</td>\n",
              "      <td>0</td>\n",
              "    </tr>\n",
              "    <tr>\n",
              "      <th>83826</th>\n",
              "      <td>101972</td>\n",
              "      <td>13 12</td>\n",
              "      <td>36244 13855 774 733 177 20260 337 33706 13855 ...</td>\n",
              "      <td>0</td>\n",
              "      <td>0</td>\n",
              "      <td>0</td>\n",
              "      <td>0</td>\n",
              "      <td>0</td>\n",
              "      <td>0</td>\n",
              "      <td>0</td>\n",
              "      <td>...</td>\n",
              "      <td>1</td>\n",
              "      <td>0</td>\n",
              "      <td>0</td>\n",
              "      <td>0</td>\n",
              "      <td>0</td>\n",
              "      <td>0</td>\n",
              "      <td>0</td>\n",
              "      <td>0</td>\n",
              "      <td>0</td>\n",
              "      <td>0</td>\n",
              "    </tr>\n",
              "    <tr>\n",
              "      <th>222498</th>\n",
              "      <td>346612</td>\n",
              "      <td>5</td>\n",
              "      <td>52476 43693 38550 234110 3652 9173 397 220 91 ...</td>\n",
              "      <td>0</td>\n",
              "      <td>0</td>\n",
              "      <td>0</td>\n",
              "      <td>0</td>\n",
              "      <td>0</td>\n",
              "      <td>1</td>\n",
              "      <td>0</td>\n",
              "      <td>...</td>\n",
              "      <td>0</td>\n",
              "      <td>0</td>\n",
              "      <td>0</td>\n",
              "      <td>0</td>\n",
              "      <td>0</td>\n",
              "      <td>0</td>\n",
              "      <td>0</td>\n",
              "      <td>0</td>\n",
              "      <td>0</td>\n",
              "      <td>0</td>\n",
              "    </tr>\n",
              "    <tr>\n",
              "      <th>21635</th>\n",
              "      <td>26741</td>\n",
              "      <td>15</td>\n",
              "      <td>241 189 174 189 809 199 96 1724 1349 36461 956...</td>\n",
              "      <td>0</td>\n",
              "      <td>0</td>\n",
              "      <td>0</td>\n",
              "      <td>0</td>\n",
              "      <td>0</td>\n",
              "      <td>0</td>\n",
              "      <td>0</td>\n",
              "      <td>...</td>\n",
              "      <td>0</td>\n",
              "      <td>0</td>\n",
              "      <td>1</td>\n",
              "      <td>0</td>\n",
              "      <td>0</td>\n",
              "      <td>0</td>\n",
              "      <td>0</td>\n",
              "      <td>0</td>\n",
              "      <td>0</td>\n",
              "      <td>0</td>\n",
              "    </tr>\n",
              "    <tr>\n",
              "      <th>230382</th>\n",
              "      <td>311963</td>\n",
              "      <td>5</td>\n",
              "      <td>8252 345 13534 171 8252 345 13534 171</td>\n",
              "      <td>0</td>\n",
              "      <td>0</td>\n",
              "      <td>0</td>\n",
              "      <td>0</td>\n",
              "      <td>0</td>\n",
              "      <td>1</td>\n",
              "      <td>0</td>\n",
              "      <td>...</td>\n",
              "      <td>0</td>\n",
              "      <td>0</td>\n",
              "      <td>0</td>\n",
              "      <td>0</td>\n",
              "      <td>0</td>\n",
              "      <td>0</td>\n",
              "      <td>0</td>\n",
              "      <td>0</td>\n",
              "      <td>0</td>\n",
              "      <td>0</td>\n",
              "    </tr>\n",
              "    <tr>\n",
              "      <th>85851</th>\n",
              "      <td>103278</td>\n",
              "      <td>13</td>\n",
              "      <td>5322 6851 189 4272 10613 4888 624 3921 34688 4...</td>\n",
              "      <td>0</td>\n",
              "      <td>0</td>\n",
              "      <td>0</td>\n",
              "      <td>0</td>\n",
              "      <td>0</td>\n",
              "      <td>0</td>\n",
              "      <td>0</td>\n",
              "      <td>...</td>\n",
              "      <td>1</td>\n",
              "      <td>0</td>\n",
              "      <td>0</td>\n",
              "      <td>0</td>\n",
              "      <td>0</td>\n",
              "      <td>0</td>\n",
              "      <td>0</td>\n",
              "      <td>0</td>\n",
              "      <td>0</td>\n",
              "      <td>0</td>\n",
              "    </tr>\n",
              "    <tr>\n",
              "      <th>276377</th>\n",
              "      <td>376397</td>\n",
              "      <td>5</td>\n",
              "      <td>485 4144 22597 613 10696 2234 6112 730 1717 18...</td>\n",
              "      <td>0</td>\n",
              "      <td>0</td>\n",
              "      <td>0</td>\n",
              "      <td>0</td>\n",
              "      <td>0</td>\n",
              "      <td>1</td>\n",
              "      <td>0</td>\n",
              "      <td>...</td>\n",
              "      <td>0</td>\n",
              "      <td>0</td>\n",
              "      <td>0</td>\n",
              "      <td>0</td>\n",
              "      <td>0</td>\n",
              "      <td>0</td>\n",
              "      <td>0</td>\n",
              "      <td>0</td>\n",
              "      <td>0</td>\n",
              "      <td>0</td>\n",
              "    </tr>\n",
              "    <tr>\n",
              "      <th>147440</th>\n",
              "      <td>198581</td>\n",
              "      <td>10</td>\n",
              "      <td>2005 20 205075 154984 136638 205076 205077 205...</td>\n",
              "      <td>0</td>\n",
              "      <td>0</td>\n",
              "      <td>0</td>\n",
              "      <td>0</td>\n",
              "      <td>0</td>\n",
              "      <td>0</td>\n",
              "      <td>0</td>\n",
              "      <td>...</td>\n",
              "      <td>0</td>\n",
              "      <td>0</td>\n",
              "      <td>0</td>\n",
              "      <td>0</td>\n",
              "      <td>0</td>\n",
              "      <td>0</td>\n",
              "      <td>0</td>\n",
              "      <td>0</td>\n",
              "      <td>0</td>\n",
              "      <td>0</td>\n",
              "    </tr>\n",
              "    <tr>\n",
              "      <th>270097</th>\n",
              "      <td>267602</td>\n",
              "      <td>5</td>\n",
              "      <td>485 4144 255 2029 271 4144 23 2005 745 2102 86...</td>\n",
              "      <td>0</td>\n",
              "      <td>0</td>\n",
              "      <td>0</td>\n",
              "      <td>0</td>\n",
              "      <td>0</td>\n",
              "      <td>1</td>\n",
              "      <td>0</td>\n",
              "      <td>...</td>\n",
              "      <td>0</td>\n",
              "      <td>0</td>\n",
              "      <td>0</td>\n",
              "      <td>0</td>\n",
              "      <td>0</td>\n",
              "      <td>0</td>\n",
              "      <td>0</td>\n",
              "      <td>0</td>\n",
              "      <td>0</td>\n",
              "      <td>0</td>\n",
              "    </tr>\n",
              "    <tr>\n",
              "      <th>107601</th>\n",
              "      <td>126656</td>\n",
              "      <td>19</td>\n",
              "      <td>50966 93094 14555 2822 548 93094 14555 48634 9...</td>\n",
              "      <td>0</td>\n",
              "      <td>0</td>\n",
              "      <td>0</td>\n",
              "      <td>0</td>\n",
              "      <td>0</td>\n",
              "      <td>0</td>\n",
              "      <td>0</td>\n",
              "      <td>...</td>\n",
              "      <td>0</td>\n",
              "      <td>0</td>\n",
              "      <td>0</td>\n",
              "      <td>0</td>\n",
              "      <td>0</td>\n",
              "      <td>0</td>\n",
              "      <td>1</td>\n",
              "      <td>0</td>\n",
              "      <td>0</td>\n",
              "      <td>0</td>\n",
              "    </tr>\n",
              "    <tr>\n",
              "      <th>206749</th>\n",
              "      <td>265324</td>\n",
              "      <td>6</td>\n",
              "      <td>15514 1922 75526 3344 548 561 719 1205 512 413...</td>\n",
              "      <td>0</td>\n",
              "      <td>0</td>\n",
              "      <td>0</td>\n",
              "      <td>0</td>\n",
              "      <td>0</td>\n",
              "      <td>0</td>\n",
              "      <td>1</td>\n",
              "      <td>...</td>\n",
              "      <td>0</td>\n",
              "      <td>0</td>\n",
              "      <td>0</td>\n",
              "      <td>0</td>\n",
              "      <td>0</td>\n",
              "      <td>0</td>\n",
              "      <td>0</td>\n",
              "      <td>0</td>\n",
              "      <td>0</td>\n",
              "      <td>0</td>\n",
              "    </tr>\n",
              "    <tr>\n",
              "      <th>8699</th>\n",
              "      <td>9805</td>\n",
              "      <td>4</td>\n",
              "      <td>16268 18720 16268 18720 517 20</td>\n",
              "      <td>0</td>\n",
              "      <td>0</td>\n",
              "      <td>0</td>\n",
              "      <td>0</td>\n",
              "      <td>1</td>\n",
              "      <td>0</td>\n",
              "      <td>0</td>\n",
              "      <td>...</td>\n",
              "      <td>0</td>\n",
              "      <td>0</td>\n",
              "      <td>0</td>\n",
              "      <td>0</td>\n",
              "      <td>0</td>\n",
              "      <td>0</td>\n",
              "      <td>0</td>\n",
              "      <td>0</td>\n",
              "      <td>0</td>\n",
              "      <td>0</td>\n",
              "    </tr>\n",
              "    <tr>\n",
              "      <th>30561</th>\n",
              "      <td>43737</td>\n",
              "      <td>3</td>\n",
              "      <td>708 48264 1571 314 241 279 290 19121 20 2240 1...</td>\n",
              "      <td>0</td>\n",
              "      <td>0</td>\n",
              "      <td>0</td>\n",
              "      <td>1</td>\n",
              "      <td>0</td>\n",
              "      <td>0</td>\n",
              "      <td>0</td>\n",
              "      <td>...</td>\n",
              "      <td>0</td>\n",
              "      <td>0</td>\n",
              "      <td>0</td>\n",
              "      <td>0</td>\n",
              "      <td>0</td>\n",
              "      <td>0</td>\n",
              "      <td>0</td>\n",
              "      <td>0</td>\n",
              "      <td>0</td>\n",
              "      <td>0</td>\n",
              "    </tr>\n",
              "    <tr>\n",
              "      <th>199321</th>\n",
              "      <td>257769</td>\n",
              "      <td>6</td>\n",
              "      <td>5322 54902 246 548 809 682 368 2539 624 2367 1...</td>\n",
              "      <td>0</td>\n",
              "      <td>0</td>\n",
              "      <td>0</td>\n",
              "      <td>0</td>\n",
              "      <td>0</td>\n",
              "      <td>0</td>\n",
              "      <td>1</td>\n",
              "      <td>...</td>\n",
              "      <td>0</td>\n",
              "      <td>0</td>\n",
              "      <td>0</td>\n",
              "      <td>0</td>\n",
              "      <td>0</td>\n",
              "      <td>0</td>\n",
              "      <td>0</td>\n",
              "      <td>0</td>\n",
              "      <td>0</td>\n",
              "      <td>0</td>\n",
              "    </tr>\n",
              "    <tr>\n",
              "      <th>273401</th>\n",
              "      <td>274017</td>\n",
              "      <td>5</td>\n",
              "      <td>80 2023 13534 20 271 80 1666 104 42 925</td>\n",
              "      <td>0</td>\n",
              "      <td>0</td>\n",
              "      <td>0</td>\n",
              "      <td>0</td>\n",
              "      <td>0</td>\n",
              "      <td>1</td>\n",
              "      <td>0</td>\n",
              "      <td>...</td>\n",
              "      <td>0</td>\n",
              "      <td>0</td>\n",
              "      <td>0</td>\n",
              "      <td>0</td>\n",
              "      <td>0</td>\n",
              "      <td>0</td>\n",
              "      <td>0</td>\n",
              "      <td>0</td>\n",
              "      <td>0</td>\n",
              "      <td>0</td>\n",
              "    </tr>\n",
              "    <tr>\n",
              "      <th>33869</th>\n",
              "      <td>42408</td>\n",
              "      <td>3</td>\n",
              "      <td>1824 47289 5156 54 5563 50529 1117 36587 5156 ...</td>\n",
              "      <td>0</td>\n",
              "      <td>0</td>\n",
              "      <td>0</td>\n",
              "      <td>1</td>\n",
              "      <td>0</td>\n",
              "      <td>0</td>\n",
              "      <td>0</td>\n",
              "      <td>...</td>\n",
              "      <td>0</td>\n",
              "      <td>0</td>\n",
              "      <td>0</td>\n",
              "      <td>0</td>\n",
              "      <td>0</td>\n",
              "      <td>0</td>\n",
              "      <td>0</td>\n",
              "      <td>0</td>\n",
              "      <td>0</td>\n",
              "      <td>0</td>\n",
              "    </tr>\n",
              "    <tr>\n",
              "      <th>106124</th>\n",
              "      <td>130438</td>\n",
              "      <td>19</td>\n",
              "      <td>50966 93290 1569 5140 682 191 719 93094 14555 ...</td>\n",
              "      <td>0</td>\n",
              "      <td>0</td>\n",
              "      <td>0</td>\n",
              "      <td>0</td>\n",
              "      <td>0</td>\n",
              "      <td>0</td>\n",
              "      <td>0</td>\n",
              "      <td>...</td>\n",
              "      <td>0</td>\n",
              "      <td>0</td>\n",
              "      <td>0</td>\n",
              "      <td>0</td>\n",
              "      <td>0</td>\n",
              "      <td>0</td>\n",
              "      <td>1</td>\n",
              "      <td>0</td>\n",
              "      <td>0</td>\n",
              "      <td>0</td>\n",
              "    </tr>\n",
              "    <tr>\n",
              "      <th>299938</th>\n",
              "      <td>348235</td>\n",
              "      <td>5</td>\n",
              "      <td>1093 2058 27908 18921 989 226974 5256 17212 10...</td>\n",
              "      <td>0</td>\n",
              "      <td>0</td>\n",
              "      <td>0</td>\n",
              "      <td>0</td>\n",
              "      <td>0</td>\n",
              "      <td>1</td>\n",
              "      <td>0</td>\n",
              "      <td>...</td>\n",
              "      <td>0</td>\n",
              "      <td>0</td>\n",
              "      <td>0</td>\n",
              "      <td>0</td>\n",
              "      <td>0</td>\n",
              "      <td>0</td>\n",
              "      <td>0</td>\n",
              "      <td>0</td>\n",
              "      <td>0</td>\n",
              "      <td>0</td>\n",
              "    </tr>\n",
              "    <tr>\n",
              "      <th>38558</th>\n",
              "      <td>59411</td>\n",
              "      <td>8 7</td>\n",
              "      <td>5282 20193 60028 5282 10730 32480 32478 60126 ...</td>\n",
              "      <td>0</td>\n",
              "      <td>0</td>\n",
              "      <td>0</td>\n",
              "      <td>0</td>\n",
              "      <td>0</td>\n",
              "      <td>0</td>\n",
              "      <td>0</td>\n",
              "      <td>...</td>\n",
              "      <td>0</td>\n",
              "      <td>0</td>\n",
              "      <td>0</td>\n",
              "      <td>0</td>\n",
              "      <td>0</td>\n",
              "      <td>0</td>\n",
              "      <td>0</td>\n",
              "      <td>0</td>\n",
              "      <td>0</td>\n",
              "      <td>0</td>\n",
              "    </tr>\n",
              "    <tr>\n",
              "      <th>143225</th>\n",
              "      <td>198592</td>\n",
              "      <td>10</td>\n",
              "      <td>2005 20 271 162229 29803 19821 137741 16001 10...</td>\n",
              "      <td>0</td>\n",
              "      <td>0</td>\n",
              "      <td>0</td>\n",
              "      <td>0</td>\n",
              "      <td>0</td>\n",
              "      <td>0</td>\n",
              "      <td>0</td>\n",
              "      <td>...</td>\n",
              "      <td>0</td>\n",
              "      <td>0</td>\n",
              "      <td>0</td>\n",
              "      <td>0</td>\n",
              "      <td>0</td>\n",
              "      <td>0</td>\n",
              "      <td>0</td>\n",
              "      <td>0</td>\n",
              "      <td>0</td>\n",
              "      <td>0</td>\n",
              "    </tr>\n",
              "    <tr>\n",
              "      <th>298899</th>\n",
              "      <td>277206</td>\n",
              "      <td>5</td>\n",
              "      <td>248412 248413 41000 22806 33749 248414 2376 15...</td>\n",
              "      <td>0</td>\n",
              "      <td>0</td>\n",
              "      <td>0</td>\n",
              "      <td>0</td>\n",
              "      <td>0</td>\n",
              "      <td>1</td>\n",
              "      <td>0</td>\n",
              "      <td>...</td>\n",
              "      <td>0</td>\n",
              "      <td>0</td>\n",
              "      <td>0</td>\n",
              "      <td>0</td>\n",
              "      <td>0</td>\n",
              "      <td>0</td>\n",
              "      <td>0</td>\n",
              "      <td>0</td>\n",
              "      <td>0</td>\n",
              "      <td>0</td>\n",
              "    </tr>\n",
              "    <tr>\n",
              "      <th>237721</th>\n",
              "      <td>344629</td>\n",
              "      <td>5</td>\n",
              "      <td>13534 6112 3433 13534 61 62 3155 24199 189 152...</td>\n",
              "      <td>0</td>\n",
              "      <td>0</td>\n",
              "      <td>0</td>\n",
              "      <td>0</td>\n",
              "      <td>0</td>\n",
              "      <td>1</td>\n",
              "      <td>0</td>\n",
              "      <td>...</td>\n",
              "      <td>0</td>\n",
              "      <td>0</td>\n",
              "      <td>0</td>\n",
              "      <td>0</td>\n",
              "      <td>0</td>\n",
              "      <td>0</td>\n",
              "      <td>0</td>\n",
              "      <td>0</td>\n",
              "      <td>0</td>\n",
              "      <td>0</td>\n",
              "    </tr>\n",
              "    <tr>\n",
              "      <th>26269</th>\n",
              "      <td>28119</td>\n",
              "      <td>15</td>\n",
              "      <td>492 36338 71 2310 3130 5066 36492 1709 189 113...</td>\n",
              "      <td>0</td>\n",
              "      <td>0</td>\n",
              "      <td>0</td>\n",
              "      <td>0</td>\n",
              "      <td>0</td>\n",
              "      <td>0</td>\n",
              "      <td>0</td>\n",
              "      <td>...</td>\n",
              "      <td>0</td>\n",
              "      <td>0</td>\n",
              "      <td>1</td>\n",
              "      <td>0</td>\n",
              "      <td>0</td>\n",
              "      <td>0</td>\n",
              "      <td>0</td>\n",
              "      <td>0</td>\n",
              "      <td>0</td>\n",
              "      <td>0</td>\n",
              "    </tr>\n",
              "    <tr>\n",
              "      <th>245711</th>\n",
              "      <td>277231</td>\n",
              "      <td>5</td>\n",
              "      <td>2023 13534 271 22852 54 951 13534 271</td>\n",
              "      <td>0</td>\n",
              "      <td>0</td>\n",
              "      <td>0</td>\n",
              "      <td>0</td>\n",
              "      <td>0</td>\n",
              "      <td>1</td>\n",
              "      <td>0</td>\n",
              "      <td>...</td>\n",
              "      <td>0</td>\n",
              "      <td>0</td>\n",
              "      <td>0</td>\n",
              "      <td>0</td>\n",
              "      <td>0</td>\n",
              "      <td>0</td>\n",
              "      <td>0</td>\n",
              "      <td>0</td>\n",
              "      <td>0</td>\n",
              "      <td>0</td>\n",
              "    </tr>\n",
              "    <tr>\n",
              "      <th>19722</th>\n",
              "      <td>25379</td>\n",
              "      <td>2</td>\n",
              "      <td>24146 17239 15811 17239 17239 4155 682 3396 18...</td>\n",
              "      <td>0</td>\n",
              "      <td>0</td>\n",
              "      <td>1</td>\n",
              "      <td>0</td>\n",
              "      <td>0</td>\n",
              "      <td>0</td>\n",
              "      <td>0</td>\n",
              "      <td>...</td>\n",
              "      <td>0</td>\n",
              "      <td>0</td>\n",
              "      <td>0</td>\n",
              "      <td>0</td>\n",
              "      <td>0</td>\n",
              "      <td>0</td>\n",
              "      <td>0</td>\n",
              "      <td>0</td>\n",
              "      <td>0</td>\n",
              "      <td>0</td>\n",
              "    </tr>\n",
              "    <tr>\n",
              "      <th>121103</th>\n",
              "      <td>149009</td>\n",
              "      <td>18</td>\n",
              "      <td>611 1226 10164 7876 611 490 666 356</td>\n",
              "      <td>0</td>\n",
              "      <td>0</td>\n",
              "      <td>0</td>\n",
              "      <td>0</td>\n",
              "      <td>0</td>\n",
              "      <td>0</td>\n",
              "      <td>0</td>\n",
              "      <td>...</td>\n",
              "      <td>0</td>\n",
              "      <td>0</td>\n",
              "      <td>0</td>\n",
              "      <td>0</td>\n",
              "      <td>0</td>\n",
              "      <td>1</td>\n",
              "      <td>0</td>\n",
              "      <td>0</td>\n",
              "      <td>0</td>\n",
              "      <td>0</td>\n",
              "    </tr>\n",
              "    <tr>\n",
              "      <th>278177</th>\n",
              "      <td>295180</td>\n",
              "      <td>5</td>\n",
              "      <td>1479 13534 20 28196 20070 18201 28196 3042 100...</td>\n",
              "      <td>0</td>\n",
              "      <td>0</td>\n",
              "      <td>0</td>\n",
              "      <td>0</td>\n",
              "      <td>0</td>\n",
              "      <td>1</td>\n",
              "      <td>0</td>\n",
              "      <td>...</td>\n",
              "      <td>0</td>\n",
              "      <td>0</td>\n",
              "      <td>0</td>\n",
              "      <td>0</td>\n",
              "      <td>0</td>\n",
              "      <td>0</td>\n",
              "      <td>0</td>\n",
              "      <td>0</td>\n",
              "      <td>0</td>\n",
              "      <td>0</td>\n",
              "    </tr>\n",
              "    <tr>\n",
              "      <th>281010</th>\n",
              "      <td>288595</td>\n",
              "      <td>5</td>\n",
              "      <td>485 9915 24291 271 997 43749 1105 232091 2086 ...</td>\n",
              "      <td>0</td>\n",
              "      <td>0</td>\n",
              "      <td>0</td>\n",
              "      <td>0</td>\n",
              "      <td>0</td>\n",
              "      <td>1</td>\n",
              "      <td>0</td>\n",
              "      <td>...</td>\n",
              "      <td>0</td>\n",
              "      <td>0</td>\n",
              "      <td>0</td>\n",
              "      <td>0</td>\n",
              "      <td>0</td>\n",
              "      <td>0</td>\n",
              "      <td>0</td>\n",
              "      <td>0</td>\n",
              "      <td>0</td>\n",
              "      <td>0</td>\n",
              "    </tr>\n",
              "    <tr>\n",
              "      <th>163752</th>\n",
              "      <td>206707</td>\n",
              "      <td>12</td>\n",
              "      <td>809 512 368 1966 32884 9531 809 512 368 1966 3...</td>\n",
              "      <td>0</td>\n",
              "      <td>0</td>\n",
              "      <td>0</td>\n",
              "      <td>0</td>\n",
              "      <td>0</td>\n",
              "      <td>0</td>\n",
              "      <td>0</td>\n",
              "      <td>...</td>\n",
              "      <td>0</td>\n",
              "      <td>0</td>\n",
              "      <td>0</td>\n",
              "      <td>0</td>\n",
              "      <td>0</td>\n",
              "      <td>0</td>\n",
              "      <td>0</td>\n",
              "      <td>0</td>\n",
              "      <td>0</td>\n",
              "      <td>0</td>\n",
              "    </tr>\n",
              "    <tr>\n",
              "      <th>...</th>\n",
              "      <td>...</td>\n",
              "      <td>...</td>\n",
              "      <td>...</td>\n",
              "      <td>...</td>\n",
              "      <td>...</td>\n",
              "      <td>...</td>\n",
              "      <td>...</td>\n",
              "      <td>...</td>\n",
              "      <td>...</td>\n",
              "      <td>...</td>\n",
              "      <td>...</td>\n",
              "      <td>...</td>\n",
              "      <td>...</td>\n",
              "      <td>...</td>\n",
              "      <td>...</td>\n",
              "      <td>...</td>\n",
              "      <td>...</td>\n",
              "      <td>...</td>\n",
              "      <td>...</td>\n",
              "      <td>...</td>\n",
              "      <td>...</td>\n",
              "    </tr>\n",
              "    <tr>\n",
              "      <th>285183</th>\n",
              "      <td>379363</td>\n",
              "      <td>5</td>\n",
              "      <td>96 11696 176 7361 8826 1709 16681 979 8897 110...</td>\n",
              "      <td>0</td>\n",
              "      <td>0</td>\n",
              "      <td>0</td>\n",
              "      <td>0</td>\n",
              "      <td>0</td>\n",
              "      <td>1</td>\n",
              "      <td>0</td>\n",
              "      <td>...</td>\n",
              "      <td>0</td>\n",
              "      <td>0</td>\n",
              "      <td>0</td>\n",
              "      <td>0</td>\n",
              "      <td>0</td>\n",
              "      <td>0</td>\n",
              "      <td>0</td>\n",
              "      <td>0</td>\n",
              "      <td>0</td>\n",
              "      <td>0</td>\n",
              "    </tr>\n",
              "    <tr>\n",
              "      <th>41811</th>\n",
              "      <td>62220</td>\n",
              "      <td>8 7</td>\n",
              "      <td>68558 60423 23460 16171 68558 44181 1491 14016...</td>\n",
              "      <td>0</td>\n",
              "      <td>0</td>\n",
              "      <td>0</td>\n",
              "      <td>0</td>\n",
              "      <td>0</td>\n",
              "      <td>0</td>\n",
              "      <td>0</td>\n",
              "      <td>...</td>\n",
              "      <td>0</td>\n",
              "      <td>0</td>\n",
              "      <td>0</td>\n",
              "      <td>0</td>\n",
              "      <td>0</td>\n",
              "      <td>0</td>\n",
              "      <td>0</td>\n",
              "      <td>0</td>\n",
              "      <td>0</td>\n",
              "      <td>0</td>\n",
              "    </tr>\n",
              "    <tr>\n",
              "      <th>222475</th>\n",
              "      <td>342923</td>\n",
              "      <td>5</td>\n",
              "      <td>485 317 241 148 148 611 11435 214 16670 18373 ...</td>\n",
              "      <td>0</td>\n",
              "      <td>0</td>\n",
              "      <td>0</td>\n",
              "      <td>0</td>\n",
              "      <td>0</td>\n",
              "      <td>1</td>\n",
              "      <td>0</td>\n",
              "      <td>...</td>\n",
              "      <td>0</td>\n",
              "      <td>0</td>\n",
              "      <td>0</td>\n",
              "      <td>0</td>\n",
              "      <td>0</td>\n",
              "      <td>0</td>\n",
              "      <td>0</td>\n",
              "      <td>0</td>\n",
              "      <td>0</td>\n",
              "      <td>0</td>\n",
              "    </tr>\n",
              "    <tr>\n",
              "      <th>255032</th>\n",
              "      <td>357790</td>\n",
              "      <td>5</td>\n",
              "      <td>485 2005 271 991 27765 247826 22605 6940 18239...</td>\n",
              "      <td>0</td>\n",
              "      <td>0</td>\n",
              "      <td>0</td>\n",
              "      <td>0</td>\n",
              "      <td>0</td>\n",
              "      <td>1</td>\n",
              "      <td>0</td>\n",
              "      <td>...</td>\n",
              "      <td>0</td>\n",
              "      <td>0</td>\n",
              "      <td>0</td>\n",
              "      <td>0</td>\n",
              "      <td>0</td>\n",
              "      <td>0</td>\n",
              "      <td>0</td>\n",
              "      <td>0</td>\n",
              "      <td>0</td>\n",
              "      <td>0</td>\n",
              "    </tr>\n",
              "    <tr>\n",
              "      <th>197980</th>\n",
              "      <td>227928</td>\n",
              "      <td>14</td>\n",
              "      <td>15514 2980 74616 81598 19574 548 2485 5 4643 3...</td>\n",
              "      <td>0</td>\n",
              "      <td>0</td>\n",
              "      <td>0</td>\n",
              "      <td>0</td>\n",
              "      <td>0</td>\n",
              "      <td>0</td>\n",
              "      <td>0</td>\n",
              "      <td>...</td>\n",
              "      <td>0</td>\n",
              "      <td>1</td>\n",
              "      <td>0</td>\n",
              "      <td>0</td>\n",
              "      <td>0</td>\n",
              "      <td>0</td>\n",
              "      <td>0</td>\n",
              "      <td>0</td>\n",
              "      <td>0</td>\n",
              "      <td>0</td>\n",
              "    </tr>\n",
              "    <tr>\n",
              "      <th>65298</th>\n",
              "      <td>94823</td>\n",
              "      <td>11</td>\n",
              "      <td>201 10226 25010 201 10226 25010 201</td>\n",
              "      <td>0</td>\n",
              "      <td>0</td>\n",
              "      <td>0</td>\n",
              "      <td>0</td>\n",
              "      <td>0</td>\n",
              "      <td>0</td>\n",
              "      <td>0</td>\n",
              "      <td>...</td>\n",
              "      <td>0</td>\n",
              "      <td>0</td>\n",
              "      <td>0</td>\n",
              "      <td>0</td>\n",
              "      <td>0</td>\n",
              "      <td>0</td>\n",
              "      <td>0</td>\n",
              "      <td>0</td>\n",
              "      <td>0</td>\n",
              "      <td>0</td>\n",
              "    </tr>\n",
              "    <tr>\n",
              "      <th>125747</th>\n",
              "      <td>158645</td>\n",
              "      <td>18 14 6</td>\n",
              "      <td>15514 3344 30708 4245 2300 512 3344 57337 3778...</td>\n",
              "      <td>0</td>\n",
              "      <td>0</td>\n",
              "      <td>0</td>\n",
              "      <td>0</td>\n",
              "      <td>0</td>\n",
              "      <td>0</td>\n",
              "      <td>1</td>\n",
              "      <td>...</td>\n",
              "      <td>0</td>\n",
              "      <td>1</td>\n",
              "      <td>0</td>\n",
              "      <td>0</td>\n",
              "      <td>0</td>\n",
              "      <td>1</td>\n",
              "      <td>0</td>\n",
              "      <td>0</td>\n",
              "      <td>0</td>\n",
              "      <td>0</td>\n",
              "    </tr>\n",
              "    <tr>\n",
              "      <th>190040</th>\n",
              "      <td>247580</td>\n",
              "      <td>14</td>\n",
              "      <td>52586 3344 233 93096 677 1599 6223 3344 561 33...</td>\n",
              "      <td>0</td>\n",
              "      <td>0</td>\n",
              "      <td>0</td>\n",
              "      <td>0</td>\n",
              "      <td>0</td>\n",
              "      <td>0</td>\n",
              "      <td>0</td>\n",
              "      <td>...</td>\n",
              "      <td>0</td>\n",
              "      <td>1</td>\n",
              "      <td>0</td>\n",
              "      <td>0</td>\n",
              "      <td>0</td>\n",
              "      <td>0</td>\n",
              "      <td>0</td>\n",
              "      <td>0</td>\n",
              "      <td>0</td>\n",
              "      <td>0</td>\n",
              "    </tr>\n",
              "    <tr>\n",
              "      <th>54339</th>\n",
              "      <td>66924</td>\n",
              "      <td>17</td>\n",
              "      <td>77924 16891 78207 2712 77964 77850 78095 77910...</td>\n",
              "      <td>0</td>\n",
              "      <td>0</td>\n",
              "      <td>0</td>\n",
              "      <td>0</td>\n",
              "      <td>0</td>\n",
              "      <td>0</td>\n",
              "      <td>0</td>\n",
              "      <td>...</td>\n",
              "      <td>0</td>\n",
              "      <td>0</td>\n",
              "      <td>0</td>\n",
              "      <td>0</td>\n",
              "      <td>1</td>\n",
              "      <td>0</td>\n",
              "      <td>0</td>\n",
              "      <td>0</td>\n",
              "      <td>0</td>\n",
              "      <td>0</td>\n",
              "    </tr>\n",
              "    <tr>\n",
              "      <th>218038</th>\n",
              "      <td>354002</td>\n",
              "      <td>5</td>\n",
              "      <td>485 2005 985 226814 2058 129552 230971 215850 ...</td>\n",
              "      <td>0</td>\n",
              "      <td>0</td>\n",
              "      <td>0</td>\n",
              "      <td>0</td>\n",
              "      <td>0</td>\n",
              "      <td>1</td>\n",
              "      <td>0</td>\n",
              "      <td>...</td>\n",
              "      <td>0</td>\n",
              "      <td>0</td>\n",
              "      <td>0</td>\n",
              "      <td>0</td>\n",
              "      <td>0</td>\n",
              "      <td>0</td>\n",
              "      <td>0</td>\n",
              "      <td>0</td>\n",
              "      <td>0</td>\n",
              "      <td>0</td>\n",
              "    </tr>\n",
              "    <tr>\n",
              "      <th>62352</th>\n",
              "      <td>101401</td>\n",
              "      <td>11</td>\n",
              "      <td>33262 33263 31089 246 33262 33263 31089 246</td>\n",
              "      <td>0</td>\n",
              "      <td>0</td>\n",
              "      <td>0</td>\n",
              "      <td>0</td>\n",
              "      <td>0</td>\n",
              "      <td>0</td>\n",
              "      <td>0</td>\n",
              "      <td>...</td>\n",
              "      <td>0</td>\n",
              "      <td>0</td>\n",
              "      <td>0</td>\n",
              "      <td>0</td>\n",
              "      <td>0</td>\n",
              "      <td>0</td>\n",
              "      <td>0</td>\n",
              "      <td>0</td>\n",
              "      <td>0</td>\n",
              "      <td>0</td>\n",
              "    </tr>\n",
              "    <tr>\n",
              "      <th>260527</th>\n",
              "      <td>333118</td>\n",
              "      <td>5</td>\n",
              "      <td>485 4144 1879 3433 5364 485 4144 20 5364 25445...</td>\n",
              "      <td>0</td>\n",
              "      <td>0</td>\n",
              "      <td>0</td>\n",
              "      <td>0</td>\n",
              "      <td>0</td>\n",
              "      <td>1</td>\n",
              "      <td>0</td>\n",
              "      <td>...</td>\n",
              "      <td>0</td>\n",
              "      <td>0</td>\n",
              "      <td>0</td>\n",
              "      <td>0</td>\n",
              "      <td>0</td>\n",
              "      <td>0</td>\n",
              "      <td>0</td>\n",
              "      <td>0</td>\n",
              "      <td>0</td>\n",
              "      <td>0</td>\n",
              "    </tr>\n",
              "    <tr>\n",
              "      <th>124527</th>\n",
              "      <td>140388</td>\n",
              "      <td>18</td>\n",
              "      <td>15514 1624 30708 67847 737 1624 30708 67847 19...</td>\n",
              "      <td>0</td>\n",
              "      <td>0</td>\n",
              "      <td>0</td>\n",
              "      <td>0</td>\n",
              "      <td>0</td>\n",
              "      <td>0</td>\n",
              "      <td>0</td>\n",
              "      <td>...</td>\n",
              "      <td>0</td>\n",
              "      <td>0</td>\n",
              "      <td>0</td>\n",
              "      <td>0</td>\n",
              "      <td>0</td>\n",
              "      <td>1</td>\n",
              "      <td>0</td>\n",
              "      <td>0</td>\n",
              "      <td>0</td>\n",
              "      <td>0</td>\n",
              "    </tr>\n",
              "    <tr>\n",
              "      <th>36866</th>\n",
              "      <td>64466</td>\n",
              "      <td>8 7</td>\n",
              "      <td>60297 91 20193 7600 1065 1224 20193 518 60850 ...</td>\n",
              "      <td>0</td>\n",
              "      <td>0</td>\n",
              "      <td>0</td>\n",
              "      <td>0</td>\n",
              "      <td>0</td>\n",
              "      <td>0</td>\n",
              "      <td>0</td>\n",
              "      <td>...</td>\n",
              "      <td>0</td>\n",
              "      <td>0</td>\n",
              "      <td>0</td>\n",
              "      <td>0</td>\n",
              "      <td>0</td>\n",
              "      <td>0</td>\n",
              "      <td>0</td>\n",
              "      <td>0</td>\n",
              "      <td>0</td>\n",
              "      <td>0</td>\n",
              "    </tr>\n",
              "    <tr>\n",
              "      <th>288162</th>\n",
              "      <td>284096</td>\n",
              "      <td>5</td>\n",
              "      <td>373 4144 271 16302 45835 35767 1138 3272 1509 ...</td>\n",
              "      <td>0</td>\n",
              "      <td>0</td>\n",
              "      <td>0</td>\n",
              "      <td>0</td>\n",
              "      <td>0</td>\n",
              "      <td>1</td>\n",
              "      <td>0</td>\n",
              "      <td>...</td>\n",
              "      <td>0</td>\n",
              "      <td>0</td>\n",
              "      <td>0</td>\n",
              "      <td>0</td>\n",
              "      <td>0</td>\n",
              "      <td>0</td>\n",
              "      <td>0</td>\n",
              "      <td>0</td>\n",
              "      <td>0</td>\n",
              "      <td>0</td>\n",
              "    </tr>\n",
              "    <tr>\n",
              "      <th>35989</th>\n",
              "      <td>58214</td>\n",
              "      <td>8 7</td>\n",
              "      <td>809 22554 33042 68804 498 707 33042 60973</td>\n",
              "      <td>0</td>\n",
              "      <td>0</td>\n",
              "      <td>0</td>\n",
              "      <td>0</td>\n",
              "      <td>0</td>\n",
              "      <td>0</td>\n",
              "      <td>0</td>\n",
              "      <td>...</td>\n",
              "      <td>0</td>\n",
              "      <td>0</td>\n",
              "      <td>0</td>\n",
              "      <td>0</td>\n",
              "      <td>0</td>\n",
              "      <td>0</td>\n",
              "      <td>0</td>\n",
              "      <td>0</td>\n",
              "      <td>0</td>\n",
              "      <td>0</td>\n",
              "    </tr>\n",
              "    <tr>\n",
              "      <th>100154</th>\n",
              "      <td>139979</td>\n",
              "      <td>19</td>\n",
              "      <td>50966 38288 548 177 1968 1104 2552 38288 10829...</td>\n",
              "      <td>0</td>\n",
              "      <td>0</td>\n",
              "      <td>0</td>\n",
              "      <td>0</td>\n",
              "      <td>0</td>\n",
              "      <td>0</td>\n",
              "      <td>0</td>\n",
              "      <td>...</td>\n",
              "      <td>0</td>\n",
              "      <td>0</td>\n",
              "      <td>0</td>\n",
              "      <td>0</td>\n",
              "      <td>0</td>\n",
              "      <td>0</td>\n",
              "      <td>1</td>\n",
              "      <td>0</td>\n",
              "      <td>0</td>\n",
              "      <td>0</td>\n",
              "    </tr>\n",
              "    <tr>\n",
              "      <th>350</th>\n",
              "      <td>6934</td>\n",
              "      <td>0</td>\n",
              "      <td>1 53 952 1 1 850 7309 446 9513 886 2430 9513 3...</td>\n",
              "      <td>1</td>\n",
              "      <td>0</td>\n",
              "      <td>0</td>\n",
              "      <td>0</td>\n",
              "      <td>0</td>\n",
              "      <td>0</td>\n",
              "      <td>0</td>\n",
              "      <td>...</td>\n",
              "      <td>0</td>\n",
              "      <td>0</td>\n",
              "      <td>0</td>\n",
              "      <td>0</td>\n",
              "      <td>0</td>\n",
              "      <td>0</td>\n",
              "      <td>0</td>\n",
              "      <td>1</td>\n",
              "      <td>0</td>\n",
              "      <td>1</td>\n",
              "    </tr>\n",
              "    <tr>\n",
              "      <th>288291</th>\n",
              "      <td>363642</td>\n",
              "      <td>5</td>\n",
              "      <td>21 171 246 644 1616 1304 43184 1910 1304 56774...</td>\n",
              "      <td>0</td>\n",
              "      <td>0</td>\n",
              "      <td>0</td>\n",
              "      <td>0</td>\n",
              "      <td>0</td>\n",
              "      <td>1</td>\n",
              "      <td>0</td>\n",
              "      <td>...</td>\n",
              "      <td>0</td>\n",
              "      <td>0</td>\n",
              "      <td>0</td>\n",
              "      <td>0</td>\n",
              "      <td>0</td>\n",
              "      <td>0</td>\n",
              "      <td>0</td>\n",
              "      <td>0</td>\n",
              "      <td>0</td>\n",
              "      <td>0</td>\n",
              "    </tr>\n",
              "    <tr>\n",
              "      <th>122403</th>\n",
              "      <td>141457</td>\n",
              "      <td>18</td>\n",
              "      <td>15514 21 171 241 75526 1922 75526 30708 4245 5...</td>\n",
              "      <td>0</td>\n",
              "      <td>0</td>\n",
              "      <td>0</td>\n",
              "      <td>0</td>\n",
              "      <td>0</td>\n",
              "      <td>0</td>\n",
              "      <td>0</td>\n",
              "      <td>...</td>\n",
              "      <td>0</td>\n",
              "      <td>0</td>\n",
              "      <td>0</td>\n",
              "      <td>0</td>\n",
              "      <td>0</td>\n",
              "      <td>1</td>\n",
              "      <td>0</td>\n",
              "      <td>0</td>\n",
              "      <td>0</td>\n",
              "      <td>0</td>\n",
              "    </tr>\n",
              "    <tr>\n",
              "      <th>342</th>\n",
              "      <td>6158</td>\n",
              "      <td>0</td>\n",
              "      <td>96 97 1359 97 1359 319 128</td>\n",
              "      <td>1</td>\n",
              "      <td>0</td>\n",
              "      <td>0</td>\n",
              "      <td>0</td>\n",
              "      <td>0</td>\n",
              "      <td>0</td>\n",
              "      <td>0</td>\n",
              "      <td>...</td>\n",
              "      <td>0</td>\n",
              "      <td>0</td>\n",
              "      <td>0</td>\n",
              "      <td>0</td>\n",
              "      <td>0</td>\n",
              "      <td>0</td>\n",
              "      <td>0</td>\n",
              "      <td>1</td>\n",
              "      <td>0</td>\n",
              "      <td>1</td>\n",
              "    </tr>\n",
              "    <tr>\n",
              "      <th>61444</th>\n",
              "      <td>94538</td>\n",
              "      <td>11</td>\n",
              "      <td>19583 19584 201 591 321 15583 19583 19584 201 ...</td>\n",
              "      <td>0</td>\n",
              "      <td>0</td>\n",
              "      <td>0</td>\n",
              "      <td>0</td>\n",
              "      <td>0</td>\n",
              "      <td>0</td>\n",
              "      <td>0</td>\n",
              "      <td>...</td>\n",
              "      <td>0</td>\n",
              "      <td>0</td>\n",
              "      <td>0</td>\n",
              "      <td>0</td>\n",
              "      <td>0</td>\n",
              "      <td>0</td>\n",
              "      <td>0</td>\n",
              "      <td>0</td>\n",
              "      <td>0</td>\n",
              "      <td>0</td>\n",
              "    </tr>\n",
              "    <tr>\n",
              "      <th>247184</th>\n",
              "      <td>314535</td>\n",
              "      <td>5</td>\n",
              "      <td>4144 20 271 128976 65960 4614 217754 97018 225...</td>\n",
              "      <td>0</td>\n",
              "      <td>0</td>\n",
              "      <td>0</td>\n",
              "      <td>0</td>\n",
              "      <td>0</td>\n",
              "      <td>1</td>\n",
              "      <td>0</td>\n",
              "      <td>...</td>\n",
              "      <td>0</td>\n",
              "      <td>0</td>\n",
              "      <td>0</td>\n",
              "      <td>0</td>\n",
              "      <td>0</td>\n",
              "      <td>0</td>\n",
              "      <td>0</td>\n",
              "      <td>0</td>\n",
              "      <td>0</td>\n",
              "      <td>0</td>\n",
              "    </tr>\n",
              "    <tr>\n",
              "      <th>117441</th>\n",
              "      <td>146937</td>\n",
              "      <td>18 14</td>\n",
              "      <td>15514 2539 3219 548 2339 856 337 3344 11370 37...</td>\n",
              "      <td>0</td>\n",
              "      <td>0</td>\n",
              "      <td>0</td>\n",
              "      <td>0</td>\n",
              "      <td>0</td>\n",
              "      <td>0</td>\n",
              "      <td>0</td>\n",
              "      <td>...</td>\n",
              "      <td>0</td>\n",
              "      <td>1</td>\n",
              "      <td>0</td>\n",
              "      <td>0</td>\n",
              "      <td>0</td>\n",
              "      <td>1</td>\n",
              "      <td>0</td>\n",
              "      <td>0</td>\n",
              "      <td>0</td>\n",
              "      <td>0</td>\n",
              "    </tr>\n",
              "    <tr>\n",
              "      <th>70221</th>\n",
              "      <td>93687</td>\n",
              "      <td>11</td>\n",
              "      <td>22471 90183 5596 3481 24791 19583 19584 5596 1...</td>\n",
              "      <td>0</td>\n",
              "      <td>0</td>\n",
              "      <td>0</td>\n",
              "      <td>0</td>\n",
              "      <td>0</td>\n",
              "      <td>0</td>\n",
              "      <td>0</td>\n",
              "      <td>...</td>\n",
              "      <td>0</td>\n",
              "      <td>0</td>\n",
              "      <td>0</td>\n",
              "      <td>0</td>\n",
              "      <td>0</td>\n",
              "      <td>0</td>\n",
              "      <td>0</td>\n",
              "      <td>0</td>\n",
              "      <td>0</td>\n",
              "      <td>0</td>\n",
              "    </tr>\n",
              "    <tr>\n",
              "      <th>171959</th>\n",
              "      <td>203501</td>\n",
              "      <td>12</td>\n",
              "      <td>31563 9154 24383 41941 2000 52639 6504 41941 2...</td>\n",
              "      <td>0</td>\n",
              "      <td>0</td>\n",
              "      <td>0</td>\n",
              "      <td>0</td>\n",
              "      <td>0</td>\n",
              "      <td>0</td>\n",
              "      <td>0</td>\n",
              "      <td>...</td>\n",
              "      <td>0</td>\n",
              "      <td>0</td>\n",
              "      <td>0</td>\n",
              "      <td>0</td>\n",
              "      <td>0</td>\n",
              "      <td>0</td>\n",
              "      <td>0</td>\n",
              "      <td>0</td>\n",
              "      <td>0</td>\n",
              "      <td>0</td>\n",
              "    </tr>\n",
              "    <tr>\n",
              "      <th>297121</th>\n",
              "      <td>268336</td>\n",
              "      <td>5</td>\n",
              "      <td>3754 485 2005 271 948 189 80 189 12731 226313 ...</td>\n",
              "      <td>0</td>\n",
              "      <td>0</td>\n",
              "      <td>0</td>\n",
              "      <td>0</td>\n",
              "      <td>0</td>\n",
              "      <td>1</td>\n",
              "      <td>0</td>\n",
              "      <td>...</td>\n",
              "      <td>0</td>\n",
              "      <td>0</td>\n",
              "      <td>0</td>\n",
              "      <td>0</td>\n",
              "      <td>0</td>\n",
              "      <td>0</td>\n",
              "      <td>0</td>\n",
              "      <td>0</td>\n",
              "      <td>0</td>\n",
              "      <td>0</td>\n",
              "    </tr>\n",
              "    <tr>\n",
              "      <th>165333</th>\n",
              "      <td>206543</td>\n",
              "      <td>12</td>\n",
              "      <td>36244 21991 96555 36244 548 6851 80 4272 1848 ...</td>\n",
              "      <td>0</td>\n",
              "      <td>0</td>\n",
              "      <td>0</td>\n",
              "      <td>0</td>\n",
              "      <td>0</td>\n",
              "      <td>0</td>\n",
              "      <td>0</td>\n",
              "      <td>...</td>\n",
              "      <td>0</td>\n",
              "      <td>0</td>\n",
              "      <td>0</td>\n",
              "      <td>0</td>\n",
              "      <td>0</td>\n",
              "      <td>0</td>\n",
              "      <td>0</td>\n",
              "      <td>0</td>\n",
              "      <td>0</td>\n",
              "      <td>0</td>\n",
              "    </tr>\n",
              "    <tr>\n",
              "      <th>176618</th>\n",
              "      <td>210491</td>\n",
              "      <td>12 6</td>\n",
              "      <td>54026 94110 677 737 106 777 30404 1202 80641 7...</td>\n",
              "      <td>0</td>\n",
              "      <td>0</td>\n",
              "      <td>0</td>\n",
              "      <td>0</td>\n",
              "      <td>0</td>\n",
              "      <td>0</td>\n",
              "      <td>1</td>\n",
              "      <td>...</td>\n",
              "      <td>0</td>\n",
              "      <td>0</td>\n",
              "      <td>0</td>\n",
              "      <td>0</td>\n",
              "      <td>0</td>\n",
              "      <td>0</td>\n",
              "      <td>0</td>\n",
              "      <td>0</td>\n",
              "      <td>0</td>\n",
              "      <td>0</td>\n",
              "    </tr>\n",
              "    <tr>\n",
              "      <th>296869</th>\n",
              "      <td>308000</td>\n",
              "      <td>5</td>\n",
              "      <td>4144 271 981 997 11782 16596 227802 18995 2152...</td>\n",
              "      <td>0</td>\n",
              "      <td>0</td>\n",
              "      <td>0</td>\n",
              "      <td>0</td>\n",
              "      <td>0</td>\n",
              "      <td>1</td>\n",
              "      <td>0</td>\n",
              "      <td>...</td>\n",
              "      <td>0</td>\n",
              "      <td>0</td>\n",
              "      <td>0</td>\n",
              "      <td>0</td>\n",
              "      <td>0</td>\n",
              "      <td>0</td>\n",
              "      <td>0</td>\n",
              "      <td>0</td>\n",
              "      <td>0</td>\n",
              "      <td>0</td>\n",
              "    </tr>\n",
              "  </tbody>\n",
              "</table>\n",
              "<p>91255 rows × 26 columns</p>\n",
              "</div>"
            ],
            "text/plain": [
              "            id   labels                                           features  0  \\\n",
              "8919     15712        4  14711 9153 3543 14711 9153 3543 316 366 15760 ...  0   \n",
              "1657      6398        0  35 33 548 1123 35 33 35 2755 393 301 2382 393 ...  1   \n",
              "83826   101972    13 12  36244 13855 774 733 177 20260 337 33706 13855 ...  0   \n",
              "222498  346612        5  52476 43693 38550 234110 3652 9173 397 220 91 ...  0   \n",
              "21635    26741       15  241 189 174 189 809 199 96 1724 1349 36461 956...  0   \n",
              "230382  311963        5              8252 345 13534 171 8252 345 13534 171  0   \n",
              "85851   103278       13  5322 6851 189 4272 10613 4888 624 3921 34688 4...  0   \n",
              "276377  376397        5  485 4144 22597 613 10696 2234 6112 730 1717 18...  0   \n",
              "147440  198581       10  2005 20 205075 154984 136638 205076 205077 205...  0   \n",
              "270097  267602        5  485 4144 255 2029 271 4144 23 2005 745 2102 86...  0   \n",
              "107601  126656       19  50966 93094 14555 2822 548 93094 14555 48634 9...  0   \n",
              "206749  265324        6  15514 1922 75526 3344 548 561 719 1205 512 413...  0   \n",
              "8699      9805        4                     16268 18720 16268 18720 517 20  0   \n",
              "30561    43737        3  708 48264 1571 314 241 279 290 19121 20 2240 1...  0   \n",
              "199321  257769        6  5322 54902 246 548 809 682 368 2539 624 2367 1...  0   \n",
              "273401  274017        5            80 2023 13534 20 271 80 1666 104 42 925  0   \n",
              "33869    42408        3  1824 47289 5156 54 5563 50529 1117 36587 5156 ...  0   \n",
              "106124  130438       19  50966 93290 1569 5140 682 191 719 93094 14555 ...  0   \n",
              "299938  348235        5  1093 2058 27908 18921 989 226974 5256 17212 10...  0   \n",
              "38558    59411      8 7  5282 20193 60028 5282 10730 32480 32478 60126 ...  0   \n",
              "143225  198592       10  2005 20 271 162229 29803 19821 137741 16001 10...  0   \n",
              "298899  277206        5  248412 248413 41000 22806 33749 248414 2376 15...  0   \n",
              "237721  344629        5  13534 6112 3433 13534 61 62 3155 24199 189 152...  0   \n",
              "26269    28119       15  492 36338 71 2310 3130 5066 36492 1709 189 113...  0   \n",
              "245711  277231        5              2023 13534 271 22852 54 951 13534 271  0   \n",
              "19722    25379        2  24146 17239 15811 17239 17239 4155 682 3396 18...  0   \n",
              "121103  149009       18                611 1226 10164 7876 611 490 666 356  0   \n",
              "278177  295180        5  1479 13534 20 28196 20070 18201 28196 3042 100...  0   \n",
              "281010  288595        5  485 9915 24291 271 997 43749 1105 232091 2086 ...  0   \n",
              "163752  206707       12  809 512 368 1966 32884 9531 809 512 368 1966 3...  0   \n",
              "...        ...      ...                                                ... ..   \n",
              "285183  379363        5  96 11696 176 7361 8826 1709 16681 979 8897 110...  0   \n",
              "41811    62220      8 7  68558 60423 23460 16171 68558 44181 1491 14016...  0   \n",
              "222475  342923        5  485 317 241 148 148 611 11435 214 16670 18373 ...  0   \n",
              "255032  357790        5  485 2005 271 991 27765 247826 22605 6940 18239...  0   \n",
              "197980  227928       14  15514 2980 74616 81598 19574 548 2485 5 4643 3...  0   \n",
              "65298    94823       11                201 10226 25010 201 10226 25010 201  0   \n",
              "125747  158645  18 14 6  15514 3344 30708 4245 2300 512 3344 57337 3778...  0   \n",
              "190040  247580       14  52586 3344 233 93096 677 1599 6223 3344 561 33...  0   \n",
              "54339    66924       17  77924 16891 78207 2712 77964 77850 78095 77910...  0   \n",
              "218038  354002        5  485 2005 985 226814 2058 129552 230971 215850 ...  0   \n",
              "62352   101401       11        33262 33263 31089 246 33262 33263 31089 246  0   \n",
              "260527  333118        5  485 4144 1879 3433 5364 485 4144 20 5364 25445...  0   \n",
              "124527  140388       18  15514 1624 30708 67847 737 1624 30708 67847 19...  0   \n",
              "36866    64466      8 7  60297 91 20193 7600 1065 1224 20193 518 60850 ...  0   \n",
              "288162  284096        5  373 4144 271 16302 45835 35767 1138 3272 1509 ...  0   \n",
              "35989    58214      8 7          809 22554 33042 68804 498 707 33042 60973  0   \n",
              "100154  139979       19  50966 38288 548 177 1968 1104 2552 38288 10829...  0   \n",
              "350       6934        0  1 53 952 1 1 850 7309 446 9513 886 2430 9513 3...  1   \n",
              "288291  363642        5  21 171 246 644 1616 1304 43184 1910 1304 56774...  0   \n",
              "122403  141457       18  15514 21 171 241 75526 1922 75526 30708 4245 5...  0   \n",
              "342       6158        0                         96 97 1359 97 1359 319 128  1   \n",
              "61444    94538       11  19583 19584 201 591 321 15583 19583 19584 201 ...  0   \n",
              "247184  314535        5  4144 20 271 128976 65960 4614 217754 97018 225...  0   \n",
              "117441  146937    18 14  15514 2539 3219 548 2339 856 337 3344 11370 37...  0   \n",
              "70221    93687       11  22471 90183 5596 3481 24791 19583 19584 5596 1...  0   \n",
              "171959  203501       12  31563 9154 24383 41941 2000 52639 6504 41941 2...  0   \n",
              "297121  268336        5  3754 485 2005 271 948 189 80 189 12731 226313 ...  0   \n",
              "165333  206543       12  36244 21991 96555 36244 548 6851 80 4272 1848 ...  0   \n",
              "176618  210491     12 6  54026 94110 677 737 106 777 30404 1202 80641 7...  0   \n",
              "296869  308000        5  4144 271 981 997 11782 16596 227802 18995 2152...  0   \n",
              "\n",
              "        1  2  3  4  5  6   ...     13  14  15  16  17  18  19  test0  test1  \\\n",
              "8919    0  0  0  1  0  0   ...      0   0   0   0   0   0   0      0      0   \n",
              "1657    0  0  0  0  0  0   ...      0   0   0   0   0   0   0      0      1   \n",
              "83826   0  0  0  0  0  0   ...      1   0   0   0   0   0   0      0      0   \n",
              "222498  0  0  0  0  1  0   ...      0   0   0   0   0   0   0      0      0   \n",
              "21635   0  0  0  0  0  0   ...      0   0   1   0   0   0   0      0      0   \n",
              "230382  0  0  0  0  1  0   ...      0   0   0   0   0   0   0      0      0   \n",
              "85851   0  0  0  0  0  0   ...      1   0   0   0   0   0   0      0      0   \n",
              "276377  0  0  0  0  1  0   ...      0   0   0   0   0   0   0      0      0   \n",
              "147440  0  0  0  0  0  0   ...      0   0   0   0   0   0   0      0      0   \n",
              "270097  0  0  0  0  1  0   ...      0   0   0   0   0   0   0      0      0   \n",
              "107601  0  0  0  0  0  0   ...      0   0   0   0   0   0   1      0      0   \n",
              "206749  0  0  0  0  0  1   ...      0   0   0   0   0   0   0      0      0   \n",
              "8699    0  0  0  1  0  0   ...      0   0   0   0   0   0   0      0      0   \n",
              "30561   0  0  1  0  0  0   ...      0   0   0   0   0   0   0      0      0   \n",
              "199321  0  0  0  0  0  1   ...      0   0   0   0   0   0   0      0      0   \n",
              "273401  0  0  0  0  1  0   ...      0   0   0   0   0   0   0      0      0   \n",
              "33869   0  0  1  0  0  0   ...      0   0   0   0   0   0   0      0      0   \n",
              "106124  0  0  0  0  0  0   ...      0   0   0   0   0   0   1      0      0   \n",
              "299938  0  0  0  0  1  0   ...      0   0   0   0   0   0   0      0      0   \n",
              "38558   0  0  0  0  0  0   ...      0   0   0   0   0   0   0      0      0   \n",
              "143225  0  0  0  0  0  0   ...      0   0   0   0   0   0   0      0      0   \n",
              "298899  0  0  0  0  1  0   ...      0   0   0   0   0   0   0      0      0   \n",
              "237721  0  0  0  0  1  0   ...      0   0   0   0   0   0   0      0      0   \n",
              "26269   0  0  0  0  0  0   ...      0   0   1   0   0   0   0      0      0   \n",
              "245711  0  0  0  0  1  0   ...      0   0   0   0   0   0   0      0      0   \n",
              "19722   0  1  0  0  0  0   ...      0   0   0   0   0   0   0      0      0   \n",
              "121103  0  0  0  0  0  0   ...      0   0   0   0   0   1   0      0      0   \n",
              "278177  0  0  0  0  1  0   ...      0   0   0   0   0   0   0      0      0   \n",
              "281010  0  0  0  0  1  0   ...      0   0   0   0   0   0   0      0      0   \n",
              "163752  0  0  0  0  0  0   ...      0   0   0   0   0   0   0      0      0   \n",
              "...    .. .. .. .. .. ..   ...     ..  ..  ..  ..  ..  ..  ..    ...    ...   \n",
              "285183  0  0  0  0  1  0   ...      0   0   0   0   0   0   0      0      0   \n",
              "41811   0  0  0  0  0  0   ...      0   0   0   0   0   0   0      0      0   \n",
              "222475  0  0  0  0  1  0   ...      0   0   0   0   0   0   0      0      0   \n",
              "255032  0  0  0  0  1  0   ...      0   0   0   0   0   0   0      0      0   \n",
              "197980  0  0  0  0  0  0   ...      0   1   0   0   0   0   0      0      0   \n",
              "65298   0  0  0  0  0  0   ...      0   0   0   0   0   0   0      0      0   \n",
              "125747  0  0  0  0  0  1   ...      0   1   0   0   0   1   0      0      0   \n",
              "190040  0  0  0  0  0  0   ...      0   1   0   0   0   0   0      0      0   \n",
              "54339   0  0  0  0  0  0   ...      0   0   0   0   1   0   0      0      0   \n",
              "218038  0  0  0  0  1  0   ...      0   0   0   0   0   0   0      0      0   \n",
              "62352   0  0  0  0  0  0   ...      0   0   0   0   0   0   0      0      0   \n",
              "260527  0  0  0  0  1  0   ...      0   0   0   0   0   0   0      0      0   \n",
              "124527  0  0  0  0  0  0   ...      0   0   0   0   0   1   0      0      0   \n",
              "36866   0  0  0  0  0  0   ...      0   0   0   0   0   0   0      0      0   \n",
              "288162  0  0  0  0  1  0   ...      0   0   0   0   0   0   0      0      0   \n",
              "35989   0  0  0  0  0  0   ...      0   0   0   0   0   0   0      0      0   \n",
              "100154  0  0  0  0  0  0   ...      0   0   0   0   0   0   1      0      0   \n",
              "350     0  0  0  0  0  0   ...      0   0   0   0   0   0   0      1      0   \n",
              "288291  0  0  0  0  1  0   ...      0   0   0   0   0   0   0      0      0   \n",
              "122403  0  0  0  0  0  0   ...      0   0   0   0   0   1   0      0      0   \n",
              "342     0  0  0  0  0  0   ...      0   0   0   0   0   0   0      1      0   \n",
              "61444   0  0  0  0  0  0   ...      0   0   0   0   0   0   0      0      0   \n",
              "247184  0  0  0  0  1  0   ...      0   0   0   0   0   0   0      0      0   \n",
              "117441  0  0  0  0  0  0   ...      0   1   0   0   0   1   0      0      0   \n",
              "70221   0  0  0  0  0  0   ...      0   0   0   0   0   0   0      0      0   \n",
              "171959  0  0  0  0  0  0   ...      0   0   0   0   0   0   0      0      0   \n",
              "297121  0  0  0  0  1  0   ...      0   0   0   0   0   0   0      0      0   \n",
              "165333  0  0  0  0  0  0   ...      0   0   0   0   0   0   0      0      0   \n",
              "176618  0  0  0  0  0  1   ...      0   0   0   0   0   0   0      0      0   \n",
              "296869  0  0  0  0  1  0   ...      0   0   0   0   0   0   0      0      0   \n",
              "\n",
              "        test0la  \n",
              "8919          0  \n",
              "1657          0  \n",
              "83826         0  \n",
              "222498        0  \n",
              "21635         0  \n",
              "230382        0  \n",
              "85851         0  \n",
              "276377        0  \n",
              "147440        0  \n",
              "270097        0  \n",
              "107601        0  \n",
              "206749        0  \n",
              "8699          0  \n",
              "30561         0  \n",
              "199321        0  \n",
              "273401        0  \n",
              "33869         0  \n",
              "106124        0  \n",
              "299938        0  \n",
              "38558         0  \n",
              "143225        0  \n",
              "298899        0  \n",
              "237721        0  \n",
              "26269         0  \n",
              "245711        0  \n",
              "19722         0  \n",
              "121103        0  \n",
              "278177        0  \n",
              "281010        0  \n",
              "163752        0  \n",
              "...         ...  \n",
              "285183        0  \n",
              "41811         0  \n",
              "222475        0  \n",
              "255032        0  \n",
              "197980        0  \n",
              "65298         0  \n",
              "125747        0  \n",
              "190040        0  \n",
              "54339         0  \n",
              "218038        0  \n",
              "62352         0  \n",
              "260527        0  \n",
              "124527        0  \n",
              "36866         0  \n",
              "288162        0  \n",
              "35989         0  \n",
              "100154        0  \n",
              "350           1  \n",
              "288291        0  \n",
              "122403        0  \n",
              "342           1  \n",
              "61444         0  \n",
              "247184        0  \n",
              "117441        0  \n",
              "70221         0  \n",
              "171959        0  \n",
              "297121        0  \n",
              "165333        0  \n",
              "176618        0  \n",
              "296869        0  \n",
              "\n",
              "[91255 rows x 26 columns]"
            ]
          },
          "metadata": {
            "tags": []
          },
          "execution_count": 23
        }
      ]
    },
    {
      "metadata": {
        "id": "2JU7NLbyxwoy",
        "colab_type": "code",
        "colab": {}
      },
      "cell_type": "code",
      "source": [
        "train, test = train_test_split(df, random_state=42+i, test_size=0.3, shuffle=True)\n",
        "x_train = train.features\n",
        "x_test = test.features\n",
        "\n",
        "trainedmodel = {}"
      ],
      "execution_count": 0,
      "outputs": []
    },
    {
      "metadata": {
        "id": "cCUU27DY1f8u",
        "colab_type": "code",
        "outputId": "e131abcb-d7cb-4cbc-a57a-eabcc6247262",
        "colab": {
          "base_uri": "https://localhost:8080/",
          "height": 156
        }
      },
      "cell_type": "code",
      "source": [
        "SVC_pipeline.fit(x_train, train[0])"
      ],
      "execution_count": 0,
      "outputs": [
        {
          "output_type": "execute_result",
          "data": {
            "text/plain": [
              "Pipeline(memory=None,\n",
              "     steps=[('tfidf', TfidfVectorizer(analyzer='word', binary=False, decode_error='strict',\n",
              "        dtype=<class 'numpy.float64'>, encoding='utf-8', input='content',\n",
              "        lowercase=True, max_df=1.0, max_features=None, min_df=1,\n",
              "        ngram_range=(1, 1), norm='l2', preprocessor=None, smooth_idf=True,...lti_class='ovr', penalty='l2', random_state=None, tol=0.0001,\n",
              "     verbose=0),\n",
              "          n_jobs=1))])"
            ]
          },
          "metadata": {
            "tags": []
          },
          "execution_count": 7
        }
      ]
    },
    {
      "metadata": {
        "id": "PqpsyqqzLbO4",
        "colab_type": "code",
        "outputId": "420ead92-d719-4b2f-b5ef-bf8e8b823505",
        "colab": {
          "base_uri": "https://localhost:8080/",
          "height": 221
        }
      },
      "cell_type": "code",
      "source": [
        "SVC_pipeline.fit(x_train, train[0])\n",
        "pred = SVC_pipeline.predict(x_test)\n",
        "test['pred0'] = pred\n",
        "trainedmodel['SVC0'] = SVC_pipeline\n",
        "SVC_pipeline.fit(x_train, train[1])\n",
        "pred2 = trainedmodel['SVC0'].predict(x_test)\n",
        "test['pred0_la'] = pred2"
      ],
      "execution_count": 0,
      "outputs": [
        {
          "output_type": "stream",
          "text": [
            "/usr/local/lib/python3.6/dist-packages/ipykernel_launcher.py:3: SettingWithCopyWarning: \n",
            "A value is trying to be set on a copy of a slice from a DataFrame.\n",
            "Try using .loc[row_indexer,col_indexer] = value instead\n",
            "\n",
            "See the caveats in the documentation: http://pandas.pydata.org/pandas-docs/stable/indexing.html#indexing-view-versus-copy\n",
            "  This is separate from the ipykernel package so we can avoid doing imports until\n",
            "/usr/local/lib/python3.6/dist-packages/ipykernel_launcher.py:7: SettingWithCopyWarning: \n",
            "A value is trying to be set on a copy of a slice from a DataFrame.\n",
            "Try using .loc[row_indexer,col_indexer] = value instead\n",
            "\n",
            "See the caveats in the documentation: http://pandas.pydata.org/pandas-docs/stable/indexing.html#indexing-view-versus-copy\n",
            "  import sys\n"
          ],
          "name": "stderr"
        }
      ]
    },
    {
      "metadata": {
        "id": "sYhOLdTdL3BR",
        "colab_type": "code",
        "outputId": "44e09ac0-b576-48c8-8bc3-765308836454",
        "colab": {
          "base_uri": "https://localhost:8080/",
          "height": 1969
        }
      },
      "cell_type": "code",
      "source": [
        "test"
      ],
      "execution_count": 0,
      "outputs": [
        {
          "output_type": "execute_result",
          "data": {
            "text/html": [
              "<div>\n",
              "<style scoped>\n",
              "    .dataframe tbody tr th:only-of-type {\n",
              "        vertical-align: middle;\n",
              "    }\n",
              "\n",
              "    .dataframe tbody tr th {\n",
              "        vertical-align: top;\n",
              "    }\n",
              "\n",
              "    .dataframe thead th {\n",
              "        text-align: right;\n",
              "    }\n",
              "</style>\n",
              "<table border=\"1\" class=\"dataframe\">\n",
              "  <thead>\n",
              "    <tr style=\"text-align: right;\">\n",
              "      <th></th>\n",
              "      <th>id</th>\n",
              "      <th>labels</th>\n",
              "      <th>features</th>\n",
              "      <th>0</th>\n",
              "      <th>1</th>\n",
              "      <th>2</th>\n",
              "      <th>3</th>\n",
              "      <th>4</th>\n",
              "      <th>5</th>\n",
              "      <th>6</th>\n",
              "      <th>...</th>\n",
              "      <th>12</th>\n",
              "      <th>13</th>\n",
              "      <th>14</th>\n",
              "      <th>15</th>\n",
              "      <th>16</th>\n",
              "      <th>17</th>\n",
              "      <th>18</th>\n",
              "      <th>19</th>\n",
              "      <th>pred0</th>\n",
              "      <th>pred0_la</th>\n",
              "    </tr>\n",
              "  </thead>\n",
              "  <tbody>\n",
              "    <tr>\n",
              "      <th>202288</th>\n",
              "      <td>255498</td>\n",
              "      <td>6</td>\n",
              "      <td>15514 54902 54902 1041 246 4643 3339 2367 189 ...</td>\n",
              "      <td>0</td>\n",
              "      <td>0</td>\n",
              "      <td>0</td>\n",
              "      <td>0</td>\n",
              "      <td>0</td>\n",
              "      <td>0</td>\n",
              "      <td>1</td>\n",
              "      <td>...</td>\n",
              "      <td>0</td>\n",
              "      <td>0</td>\n",
              "      <td>0</td>\n",
              "      <td>0</td>\n",
              "      <td>0</td>\n",
              "      <td>0</td>\n",
              "      <td>0</td>\n",
              "      <td>0</td>\n",
              "      <td>0</td>\n",
              "      <td>0</td>\n",
              "    </tr>\n",
              "    <tr>\n",
              "      <th>56926</th>\n",
              "      <td>67488</td>\n",
              "      <td>17</td>\n",
              "      <td>77875 4144 271 21278 15965 7537 3623 1801 3187...</td>\n",
              "      <td>0</td>\n",
              "      <td>0</td>\n",
              "      <td>0</td>\n",
              "      <td>0</td>\n",
              "      <td>0</td>\n",
              "      <td>0</td>\n",
              "      <td>0</td>\n",
              "      <td>...</td>\n",
              "      <td>0</td>\n",
              "      <td>0</td>\n",
              "      <td>0</td>\n",
              "      <td>0</td>\n",
              "      <td>0</td>\n",
              "      <td>1</td>\n",
              "      <td>0</td>\n",
              "      <td>0</td>\n",
              "      <td>0</td>\n",
              "      <td>0</td>\n",
              "    </tr>\n",
              "    <tr>\n",
              "      <th>118341</th>\n",
              "      <td>158671</td>\n",
              "      <td>18 14 6</td>\n",
              "      <td>15514 114374 114375 246 30708 4245 56751 1324 ...</td>\n",
              "      <td>0</td>\n",
              "      <td>0</td>\n",
              "      <td>0</td>\n",
              "      <td>0</td>\n",
              "      <td>0</td>\n",
              "      <td>0</td>\n",
              "      <td>1</td>\n",
              "      <td>...</td>\n",
              "      <td>0</td>\n",
              "      <td>0</td>\n",
              "      <td>1</td>\n",
              "      <td>0</td>\n",
              "      <td>0</td>\n",
              "      <td>0</td>\n",
              "      <td>1</td>\n",
              "      <td>0</td>\n",
              "      <td>0</td>\n",
              "      <td>0</td>\n",
              "    </tr>\n",
              "    <tr>\n",
              "      <th>96075</th>\n",
              "      <td>119061</td>\n",
              "      <td>8</td>\n",
              "      <td>3267 47229 56160 7424 56160 3710 7751 1199 666...</td>\n",
              "      <td>0</td>\n",
              "      <td>0</td>\n",
              "      <td>0</td>\n",
              "      <td>0</td>\n",
              "      <td>0</td>\n",
              "      <td>0</td>\n",
              "      <td>0</td>\n",
              "      <td>...</td>\n",
              "      <td>0</td>\n",
              "      <td>0</td>\n",
              "      <td>0</td>\n",
              "      <td>0</td>\n",
              "      <td>0</td>\n",
              "      <td>0</td>\n",
              "      <td>0</td>\n",
              "      <td>0</td>\n",
              "      <td>0</td>\n",
              "      <td>0</td>\n",
              "    </tr>\n",
              "    <tr>\n",
              "      <th>121582</th>\n",
              "      <td>141707</td>\n",
              "      <td>18 6</td>\n",
              "      <td>15514 4206 809 512 368 686 4206 60686 362 102 ...</td>\n",
              "      <td>0</td>\n",
              "      <td>0</td>\n",
              "      <td>0</td>\n",
              "      <td>0</td>\n",
              "      <td>0</td>\n",
              "      <td>0</td>\n",
              "      <td>1</td>\n",
              "      <td>...</td>\n",
              "      <td>0</td>\n",
              "      <td>0</td>\n",
              "      <td>0</td>\n",
              "      <td>0</td>\n",
              "      <td>0</td>\n",
              "      <td>0</td>\n",
              "      <td>1</td>\n",
              "      <td>0</td>\n",
              "      <td>0</td>\n",
              "      <td>0</td>\n",
              "    </tr>\n",
              "    <tr>\n",
              "      <th>67890</th>\n",
              "      <td>98013</td>\n",
              "      <td>11</td>\n",
              "      <td>17412 201 598 201 89797 36563 92097 8958 417 1...</td>\n",
              "      <td>0</td>\n",
              "      <td>0</td>\n",
              "      <td>0</td>\n",
              "      <td>0</td>\n",
              "      <td>0</td>\n",
              "      <td>0</td>\n",
              "      <td>0</td>\n",
              "      <td>...</td>\n",
              "      <td>0</td>\n",
              "      <td>0</td>\n",
              "      <td>0</td>\n",
              "      <td>0</td>\n",
              "      <td>0</td>\n",
              "      <td>0</td>\n",
              "      <td>0</td>\n",
              "      <td>0</td>\n",
              "      <td>0</td>\n",
              "      <td>0</td>\n",
              "    </tr>\n",
              "    <tr>\n",
              "      <th>236089</th>\n",
              "      <td>354657</td>\n",
              "      <td>5</td>\n",
              "      <td>148 20 548 344 241 148 1709 17673 228416 18921...</td>\n",
              "      <td>0</td>\n",
              "      <td>0</td>\n",
              "      <td>0</td>\n",
              "      <td>0</td>\n",
              "      <td>0</td>\n",
              "      <td>1</td>\n",
              "      <td>0</td>\n",
              "      <td>...</td>\n",
              "      <td>0</td>\n",
              "      <td>0</td>\n",
              "      <td>0</td>\n",
              "      <td>0</td>\n",
              "      <td>0</td>\n",
              "      <td>0</td>\n",
              "      <td>0</td>\n",
              "      <td>0</td>\n",
              "      <td>0</td>\n",
              "      <td>0</td>\n",
              "    </tr>\n",
              "    <tr>\n",
              "      <th>65260</th>\n",
              "      <td>95261</td>\n",
              "      <td>11</td>\n",
              "      <td>201 2342 4654 1140 17022 201 2342 4654 1140 16...</td>\n",
              "      <td>0</td>\n",
              "      <td>0</td>\n",
              "      <td>0</td>\n",
              "      <td>0</td>\n",
              "      <td>0</td>\n",
              "      <td>0</td>\n",
              "      <td>0</td>\n",
              "      <td>...</td>\n",
              "      <td>0</td>\n",
              "      <td>0</td>\n",
              "      <td>0</td>\n",
              "      <td>0</td>\n",
              "      <td>0</td>\n",
              "      <td>0</td>\n",
              "      <td>0</td>\n",
              "      <td>0</td>\n",
              "      <td>0</td>\n",
              "      <td>0</td>\n",
              "    </tr>\n",
              "    <tr>\n",
              "      <th>204504</th>\n",
              "      <td>265090</td>\n",
              "      <td>6</td>\n",
              "      <td>15514 246 1589 189 521 368 35799 176 873 15994...</td>\n",
              "      <td>0</td>\n",
              "      <td>0</td>\n",
              "      <td>0</td>\n",
              "      <td>0</td>\n",
              "      <td>0</td>\n",
              "      <td>0</td>\n",
              "      <td>1</td>\n",
              "      <td>...</td>\n",
              "      <td>0</td>\n",
              "      <td>0</td>\n",
              "      <td>0</td>\n",
              "      <td>0</td>\n",
              "      <td>0</td>\n",
              "      <td>0</td>\n",
              "      <td>0</td>\n",
              "      <td>0</td>\n",
              "      <td>0</td>\n",
              "      <td>0</td>\n",
              "    </tr>\n",
              "    <tr>\n",
              "      <th>231241</th>\n",
              "      <td>305992</td>\n",
              "      <td>5</td>\n",
              "      <td>485 2005 76316 3991 26674</td>\n",
              "      <td>0</td>\n",
              "      <td>0</td>\n",
              "      <td>0</td>\n",
              "      <td>0</td>\n",
              "      <td>0</td>\n",
              "      <td>1</td>\n",
              "      <td>0</td>\n",
              "      <td>...</td>\n",
              "      <td>0</td>\n",
              "      <td>0</td>\n",
              "      <td>0</td>\n",
              "      <td>0</td>\n",
              "      <td>0</td>\n",
              "      <td>0</td>\n",
              "      <td>0</td>\n",
              "      <td>0</td>\n",
              "      <td>0</td>\n",
              "      <td>0</td>\n",
              "    </tr>\n",
              "    <tr>\n",
              "      <th>245992</th>\n",
              "      <td>367216</td>\n",
              "      <td>5</td>\n",
              "      <td>373 518 4144 271 229545 979 226920 997 60780 4...</td>\n",
              "      <td>0</td>\n",
              "      <td>0</td>\n",
              "      <td>0</td>\n",
              "      <td>0</td>\n",
              "      <td>0</td>\n",
              "      <td>1</td>\n",
              "      <td>0</td>\n",
              "      <td>...</td>\n",
              "      <td>0</td>\n",
              "      <td>0</td>\n",
              "      <td>0</td>\n",
              "      <td>0</td>\n",
              "      <td>0</td>\n",
              "      <td>0</td>\n",
              "      <td>0</td>\n",
              "      <td>0</td>\n",
              "      <td>0</td>\n",
              "      <td>0</td>\n",
              "    </tr>\n",
              "    <tr>\n",
              "      <th>77987</th>\n",
              "      <td>82589</td>\n",
              "      <td>9</td>\n",
              "      <td>29269 2928 5364 1615 6679 104 1093 37807 624 6...</td>\n",
              "      <td>0</td>\n",
              "      <td>0</td>\n",
              "      <td>0</td>\n",
              "      <td>0</td>\n",
              "      <td>0</td>\n",
              "      <td>0</td>\n",
              "      <td>0</td>\n",
              "      <td>...</td>\n",
              "      <td>0</td>\n",
              "      <td>0</td>\n",
              "      <td>0</td>\n",
              "      <td>0</td>\n",
              "      <td>0</td>\n",
              "      <td>0</td>\n",
              "      <td>0</td>\n",
              "      <td>0</td>\n",
              "      <td>0</td>\n",
              "      <td>0</td>\n",
              "    </tr>\n",
              "    <tr>\n",
              "      <th>301307</th>\n",
              "      <td>342035</td>\n",
              "      <td>5</td>\n",
              "      <td>224997 1479 1844 18921 231997 3975 1709 11857 ...</td>\n",
              "      <td>0</td>\n",
              "      <td>0</td>\n",
              "      <td>0</td>\n",
              "      <td>0</td>\n",
              "      <td>0</td>\n",
              "      <td>1</td>\n",
              "      <td>0</td>\n",
              "      <td>...</td>\n",
              "      <td>0</td>\n",
              "      <td>0</td>\n",
              "      <td>0</td>\n",
              "      <td>0</td>\n",
              "      <td>0</td>\n",
              "      <td>0</td>\n",
              "      <td>0</td>\n",
              "      <td>0</td>\n",
              "      <td>0</td>\n",
              "      <td>0</td>\n",
              "    </tr>\n",
              "    <tr>\n",
              "      <th>167959</th>\n",
              "      <td>209233</td>\n",
              "      <td>12</td>\n",
              "      <td>11910 1971 4607 4070 5563 8539 11910</td>\n",
              "      <td>0</td>\n",
              "      <td>0</td>\n",
              "      <td>0</td>\n",
              "      <td>0</td>\n",
              "      <td>0</td>\n",
              "      <td>0</td>\n",
              "      <td>0</td>\n",
              "      <td>...</td>\n",
              "      <td>1</td>\n",
              "      <td>0</td>\n",
              "      <td>0</td>\n",
              "      <td>0</td>\n",
              "      <td>0</td>\n",
              "      <td>0</td>\n",
              "      <td>0</td>\n",
              "      <td>0</td>\n",
              "      <td>0</td>\n",
              "      <td>0</td>\n",
              "    </tr>\n",
              "    <tr>\n",
              "      <th>78459</th>\n",
              "      <td>78319</td>\n",
              "      <td>9</td>\n",
              "      <td>5364 22097 20 271 633 16 2879 21083 515 424 53...</td>\n",
              "      <td>0</td>\n",
              "      <td>0</td>\n",
              "      <td>0</td>\n",
              "      <td>0</td>\n",
              "      <td>0</td>\n",
              "      <td>0</td>\n",
              "      <td>0</td>\n",
              "      <td>...</td>\n",
              "      <td>0</td>\n",
              "      <td>0</td>\n",
              "      <td>0</td>\n",
              "      <td>0</td>\n",
              "      <td>0</td>\n",
              "      <td>0</td>\n",
              "      <td>0</td>\n",
              "      <td>0</td>\n",
              "      <td>0</td>\n",
              "      <td>0</td>\n",
              "    </tr>\n",
              "    <tr>\n",
              "      <th>65759</th>\n",
              "      <td>94445</td>\n",
              "      <td>11</td>\n",
              "      <td>26471 88858 90982 9042 20</td>\n",
              "      <td>0</td>\n",
              "      <td>0</td>\n",
              "      <td>0</td>\n",
              "      <td>0</td>\n",
              "      <td>0</td>\n",
              "      <td>0</td>\n",
              "      <td>0</td>\n",
              "      <td>...</td>\n",
              "      <td>0</td>\n",
              "      <td>0</td>\n",
              "      <td>0</td>\n",
              "      <td>0</td>\n",
              "      <td>0</td>\n",
              "      <td>0</td>\n",
              "      <td>0</td>\n",
              "      <td>0</td>\n",
              "      <td>0</td>\n",
              "      <td>0</td>\n",
              "    </tr>\n",
              "    <tr>\n",
              "      <th>255879</th>\n",
              "      <td>379044</td>\n",
              "      <td>5</td>\n",
              "      <td>8748 13534 271 285 882 3937 8607 762 986 47881...</td>\n",
              "      <td>0</td>\n",
              "      <td>0</td>\n",
              "      <td>0</td>\n",
              "      <td>0</td>\n",
              "      <td>0</td>\n",
              "      <td>1</td>\n",
              "      <td>0</td>\n",
              "      <td>...</td>\n",
              "      <td>0</td>\n",
              "      <td>0</td>\n",
              "      <td>0</td>\n",
              "      <td>0</td>\n",
              "      <td>0</td>\n",
              "      <td>0</td>\n",
              "      <td>0</td>\n",
              "      <td>0</td>\n",
              "      <td>0</td>\n",
              "      <td>0</td>\n",
              "    </tr>\n",
              "    <tr>\n",
              "      <th>41160</th>\n",
              "      <td>59806</td>\n",
              "      <td>8 7</td>\n",
              "      <td>14988 599 60028 6264 14988 1139 60028 599 36 6...</td>\n",
              "      <td>0</td>\n",
              "      <td>0</td>\n",
              "      <td>0</td>\n",
              "      <td>0</td>\n",
              "      <td>0</td>\n",
              "      <td>0</td>\n",
              "      <td>0</td>\n",
              "      <td>...</td>\n",
              "      <td>0</td>\n",
              "      <td>0</td>\n",
              "      <td>0</td>\n",
              "      <td>0</td>\n",
              "      <td>0</td>\n",
              "      <td>0</td>\n",
              "      <td>0</td>\n",
              "      <td>0</td>\n",
              "      <td>0</td>\n",
              "      <td>0</td>\n",
              "    </tr>\n",
              "    <tr>\n",
              "      <th>300164</th>\n",
              "      <td>351910</td>\n",
              "      <td>5</td>\n",
              "      <td>9616 72266 997 65883 18363 997 65883 937 2694 ...</td>\n",
              "      <td>0</td>\n",
              "      <td>0</td>\n",
              "      <td>0</td>\n",
              "      <td>0</td>\n",
              "      <td>0</td>\n",
              "      <td>1</td>\n",
              "      <td>0</td>\n",
              "      <td>...</td>\n",
              "      <td>0</td>\n",
              "      <td>0</td>\n",
              "      <td>0</td>\n",
              "      <td>0</td>\n",
              "      <td>0</td>\n",
              "      <td>0</td>\n",
              "      <td>0</td>\n",
              "      <td>0</td>\n",
              "      <td>0</td>\n",
              "      <td>0</td>\n",
              "    </tr>\n",
              "    <tr>\n",
              "      <th>89738</th>\n",
              "      <td>107640</td>\n",
              "      <td>13</td>\n",
              "      <td>5322 2539 611 11924 11130 5322 144 15717 41375...</td>\n",
              "      <td>0</td>\n",
              "      <td>0</td>\n",
              "      <td>0</td>\n",
              "      <td>0</td>\n",
              "      <td>0</td>\n",
              "      <td>0</td>\n",
              "      <td>0</td>\n",
              "      <td>...</td>\n",
              "      <td>0</td>\n",
              "      <td>1</td>\n",
              "      <td>0</td>\n",
              "      <td>0</td>\n",
              "      <td>0</td>\n",
              "      <td>0</td>\n",
              "      <td>0</td>\n",
              "      <td>0</td>\n",
              "      <td>0</td>\n",
              "      <td>0</td>\n",
              "    </tr>\n",
              "    <tr>\n",
              "      <th>135734</th>\n",
              "      <td>168103</td>\n",
              "      <td>1</td>\n",
              "      <td>27 20 4838 33 461 1977 226 672 11237 672 141 8...</td>\n",
              "      <td>0</td>\n",
              "      <td>1</td>\n",
              "      <td>0</td>\n",
              "      <td>0</td>\n",
              "      <td>0</td>\n",
              "      <td>0</td>\n",
              "      <td>0</td>\n",
              "      <td>...</td>\n",
              "      <td>0</td>\n",
              "      <td>0</td>\n",
              "      <td>0</td>\n",
              "      <td>0</td>\n",
              "      <td>0</td>\n",
              "      <td>0</td>\n",
              "      <td>0</td>\n",
              "      <td>0</td>\n",
              "      <td>0</td>\n",
              "      <td>1</td>\n",
              "    </tr>\n",
              "    <tr>\n",
              "      <th>230438</th>\n",
              "      <td>296928</td>\n",
              "      <td>5</td>\n",
              "      <td>2005 20 271 985 121061 123684 982 228982 979 2...</td>\n",
              "      <td>0</td>\n",
              "      <td>0</td>\n",
              "      <td>0</td>\n",
              "      <td>0</td>\n",
              "      <td>0</td>\n",
              "      <td>1</td>\n",
              "      <td>0</td>\n",
              "      <td>...</td>\n",
              "      <td>0</td>\n",
              "      <td>0</td>\n",
              "      <td>0</td>\n",
              "      <td>0</td>\n",
              "      <td>0</td>\n",
              "      <td>0</td>\n",
              "      <td>0</td>\n",
              "      <td>0</td>\n",
              "      <td>0</td>\n",
              "      <td>0</td>\n",
              "    </tr>\n",
              "    <tr>\n",
              "      <th>55737</th>\n",
              "      <td>65682</td>\n",
              "      <td>17</td>\n",
              "      <td>6124 13750 4675 31163 6124 13750 4675 31163 4 ...</td>\n",
              "      <td>0</td>\n",
              "      <td>0</td>\n",
              "      <td>0</td>\n",
              "      <td>0</td>\n",
              "      <td>0</td>\n",
              "      <td>0</td>\n",
              "      <td>0</td>\n",
              "      <td>...</td>\n",
              "      <td>0</td>\n",
              "      <td>0</td>\n",
              "      <td>0</td>\n",
              "      <td>0</td>\n",
              "      <td>0</td>\n",
              "      <td>1</td>\n",
              "      <td>0</td>\n",
              "      <td>0</td>\n",
              "      <td>0</td>\n",
              "      <td>0</td>\n",
              "    </tr>\n",
              "    <tr>\n",
              "      <th>59732</th>\n",
              "      <td>73977</td>\n",
              "      <td>17</td>\n",
              "      <td>7182 4144 271 78090 40528 77859 77980 77865 77...</td>\n",
              "      <td>0</td>\n",
              "      <td>0</td>\n",
              "      <td>0</td>\n",
              "      <td>0</td>\n",
              "      <td>0</td>\n",
              "      <td>0</td>\n",
              "      <td>0</td>\n",
              "      <td>...</td>\n",
              "      <td>0</td>\n",
              "      <td>0</td>\n",
              "      <td>0</td>\n",
              "      <td>0</td>\n",
              "      <td>0</td>\n",
              "      <td>1</td>\n",
              "      <td>0</td>\n",
              "      <td>0</td>\n",
              "      <td>0</td>\n",
              "      <td>0</td>\n",
              "    </tr>\n",
              "    <tr>\n",
              "      <th>61394</th>\n",
              "      <td>96236</td>\n",
              "      <td>11</td>\n",
              "      <td>88821 14852 88821 14852 9042 6339 21870 20058 ...</td>\n",
              "      <td>0</td>\n",
              "      <td>0</td>\n",
              "      <td>0</td>\n",
              "      <td>0</td>\n",
              "      <td>0</td>\n",
              "      <td>0</td>\n",
              "      <td>0</td>\n",
              "      <td>...</td>\n",
              "      <td>0</td>\n",
              "      <td>0</td>\n",
              "      <td>0</td>\n",
              "      <td>0</td>\n",
              "      <td>0</td>\n",
              "      <td>0</td>\n",
              "      <td>0</td>\n",
              "      <td>0</td>\n",
              "      <td>0</td>\n",
              "      <td>0</td>\n",
              "    </tr>\n",
              "    <tr>\n",
              "      <th>293390</th>\n",
              "      <td>350883</td>\n",
              "      <td>5</td>\n",
              "      <td>2005 271 1652 1105 9426 3975 997 41001 228853 ...</td>\n",
              "      <td>0</td>\n",
              "      <td>0</td>\n",
              "      <td>0</td>\n",
              "      <td>0</td>\n",
              "      <td>0</td>\n",
              "      <td>1</td>\n",
              "      <td>0</td>\n",
              "      <td>...</td>\n",
              "      <td>0</td>\n",
              "      <td>0</td>\n",
              "      <td>0</td>\n",
              "      <td>0</td>\n",
              "      <td>0</td>\n",
              "      <td>0</td>\n",
              "      <td>0</td>\n",
              "      <td>0</td>\n",
              "      <td>0</td>\n",
              "      <td>0</td>\n",
              "    </tr>\n",
              "    <tr>\n",
              "      <th>86999</th>\n",
              "      <td>107325</td>\n",
              "      <td>13</td>\n",
              "      <td>5322 106 4643 1277 354 6411 1879 3433 636 1616...</td>\n",
              "      <td>0</td>\n",
              "      <td>0</td>\n",
              "      <td>0</td>\n",
              "      <td>0</td>\n",
              "      <td>0</td>\n",
              "      <td>0</td>\n",
              "      <td>0</td>\n",
              "      <td>...</td>\n",
              "      <td>0</td>\n",
              "      <td>1</td>\n",
              "      <td>0</td>\n",
              "      <td>0</td>\n",
              "      <td>0</td>\n",
              "      <td>0</td>\n",
              "      <td>0</td>\n",
              "      <td>0</td>\n",
              "      <td>0</td>\n",
              "      <td>0</td>\n",
              "    </tr>\n",
              "    <tr>\n",
              "      <th>234466</th>\n",
              "      <td>291673</td>\n",
              "      <td>5</td>\n",
              "      <td>13534 20 271 80 225112 224984 1532 4586 2862 4...</td>\n",
              "      <td>0</td>\n",
              "      <td>0</td>\n",
              "      <td>0</td>\n",
              "      <td>0</td>\n",
              "      <td>0</td>\n",
              "      <td>1</td>\n",
              "      <td>0</td>\n",
              "      <td>...</td>\n",
              "      <td>0</td>\n",
              "      <td>0</td>\n",
              "      <td>0</td>\n",
              "      <td>0</td>\n",
              "      <td>0</td>\n",
              "      <td>0</td>\n",
              "      <td>0</td>\n",
              "      <td>0</td>\n",
              "      <td>0</td>\n",
              "      <td>0</td>\n",
              "    </tr>\n",
              "    <tr>\n",
              "      <th>129402</th>\n",
              "      <td>169704</td>\n",
              "      <td>1</td>\n",
              "      <td>1521 1522 1457 5242 3290 682 1205 719 1521 152...</td>\n",
              "      <td>0</td>\n",
              "      <td>1</td>\n",
              "      <td>0</td>\n",
              "      <td>0</td>\n",
              "      <td>0</td>\n",
              "      <td>0</td>\n",
              "      <td>0</td>\n",
              "      <td>...</td>\n",
              "      <td>0</td>\n",
              "      <td>0</td>\n",
              "      <td>0</td>\n",
              "      <td>0</td>\n",
              "      <td>0</td>\n",
              "      <td>0</td>\n",
              "      <td>0</td>\n",
              "      <td>0</td>\n",
              "      <td>0</td>\n",
              "      <td>1</td>\n",
              "    </tr>\n",
              "    <tr>\n",
              "      <th>239705</th>\n",
              "      <td>270203</td>\n",
              "      <td>5</td>\n",
              "      <td>485 4144 20 53 2209 1879 2209 2937 68023 84648...</td>\n",
              "      <td>0</td>\n",
              "      <td>0</td>\n",
              "      <td>0</td>\n",
              "      <td>0</td>\n",
              "      <td>0</td>\n",
              "      <td>1</td>\n",
              "      <td>0</td>\n",
              "      <td>...</td>\n",
              "      <td>0</td>\n",
              "      <td>0</td>\n",
              "      <td>0</td>\n",
              "      <td>0</td>\n",
              "      <td>0</td>\n",
              "      <td>0</td>\n",
              "      <td>0</td>\n",
              "      <td>0</td>\n",
              "      <td>0</td>\n",
              "      <td>0</td>\n",
              "    </tr>\n",
              "    <tr>\n",
              "      <th>...</th>\n",
              "      <td>...</td>\n",
              "      <td>...</td>\n",
              "      <td>...</td>\n",
              "      <td>...</td>\n",
              "      <td>...</td>\n",
              "      <td>...</td>\n",
              "      <td>...</td>\n",
              "      <td>...</td>\n",
              "      <td>...</td>\n",
              "      <td>...</td>\n",
              "      <td>...</td>\n",
              "      <td>...</td>\n",
              "      <td>...</td>\n",
              "      <td>...</td>\n",
              "      <td>...</td>\n",
              "      <td>...</td>\n",
              "      <td>...</td>\n",
              "      <td>...</td>\n",
              "      <td>...</td>\n",
              "      <td>...</td>\n",
              "      <td>...</td>\n",
              "    </tr>\n",
              "    <tr>\n",
              "      <th>25026</th>\n",
              "      <td>34246</td>\n",
              "      <td>15</td>\n",
              "      <td>36398 36398 2741 394 13334 191 388 373 3710 80...</td>\n",
              "      <td>0</td>\n",
              "      <td>0</td>\n",
              "      <td>0</td>\n",
              "      <td>0</td>\n",
              "      <td>0</td>\n",
              "      <td>0</td>\n",
              "      <td>0</td>\n",
              "      <td>...</td>\n",
              "      <td>0</td>\n",
              "      <td>0</td>\n",
              "      <td>0</td>\n",
              "      <td>1</td>\n",
              "      <td>0</td>\n",
              "      <td>0</td>\n",
              "      <td>0</td>\n",
              "      <td>0</td>\n",
              "      <td>0</td>\n",
              "      <td>0</td>\n",
              "    </tr>\n",
              "    <tr>\n",
              "      <th>215128</th>\n",
              "      <td>323617</td>\n",
              "      <td>5</td>\n",
              "      <td>948 661 2005 271 975 38856 997 91609 225142 17...</td>\n",
              "      <td>0</td>\n",
              "      <td>0</td>\n",
              "      <td>0</td>\n",
              "      <td>0</td>\n",
              "      <td>0</td>\n",
              "      <td>1</td>\n",
              "      <td>0</td>\n",
              "      <td>...</td>\n",
              "      <td>0</td>\n",
              "      <td>0</td>\n",
              "      <td>0</td>\n",
              "      <td>0</td>\n",
              "      <td>0</td>\n",
              "      <td>0</td>\n",
              "      <td>0</td>\n",
              "      <td>0</td>\n",
              "      <td>0</td>\n",
              "      <td>0</td>\n",
              "    </tr>\n",
              "    <tr>\n",
              "      <th>141387</th>\n",
              "      <td>167758</td>\n",
              "      <td>1</td>\n",
              "      <td>27 574 33 574 27 13 106082 314 2073 241</td>\n",
              "      <td>0</td>\n",
              "      <td>1</td>\n",
              "      <td>0</td>\n",
              "      <td>0</td>\n",
              "      <td>0</td>\n",
              "      <td>0</td>\n",
              "      <td>0</td>\n",
              "      <td>...</td>\n",
              "      <td>0</td>\n",
              "      <td>0</td>\n",
              "      <td>0</td>\n",
              "      <td>0</td>\n",
              "      <td>0</td>\n",
              "      <td>0</td>\n",
              "      <td>0</td>\n",
              "      <td>0</td>\n",
              "      <td>0</td>\n",
              "      <td>0</td>\n",
              "    </tr>\n",
              "    <tr>\n",
              "      <th>250878</th>\n",
              "      <td>372360</td>\n",
              "      <td>5</td>\n",
              "      <td>109 271 45202 997 40608 3097 975 10825 3706 39...</td>\n",
              "      <td>0</td>\n",
              "      <td>0</td>\n",
              "      <td>0</td>\n",
              "      <td>0</td>\n",
              "      <td>0</td>\n",
              "      <td>1</td>\n",
              "      <td>0</td>\n",
              "      <td>...</td>\n",
              "      <td>0</td>\n",
              "      <td>0</td>\n",
              "      <td>0</td>\n",
              "      <td>0</td>\n",
              "      <td>0</td>\n",
              "      <td>0</td>\n",
              "      <td>0</td>\n",
              "      <td>0</td>\n",
              "      <td>0</td>\n",
              "      <td>0</td>\n",
              "    </tr>\n",
              "    <tr>\n",
              "      <th>170164</th>\n",
              "      <td>212761</td>\n",
              "      <td>12</td>\n",
              "      <td>5065 31637 441 93896 49525 189 521 368 79406 1...</td>\n",
              "      <td>0</td>\n",
              "      <td>0</td>\n",
              "      <td>0</td>\n",
              "      <td>0</td>\n",
              "      <td>0</td>\n",
              "      <td>0</td>\n",
              "      <td>0</td>\n",
              "      <td>...</td>\n",
              "      <td>1</td>\n",
              "      <td>0</td>\n",
              "      <td>0</td>\n",
              "      <td>0</td>\n",
              "      <td>0</td>\n",
              "      <td>0</td>\n",
              "      <td>0</td>\n",
              "      <td>0</td>\n",
              "      <td>0</td>\n",
              "      <td>0</td>\n",
              "    </tr>\n",
              "    <tr>\n",
              "      <th>105722</th>\n",
              "      <td>127188</td>\n",
              "      <td>19</td>\n",
              "      <td>50966 14555 11362 39498 34865 9279 4676 108330...</td>\n",
              "      <td>0</td>\n",
              "      <td>0</td>\n",
              "      <td>0</td>\n",
              "      <td>0</td>\n",
              "      <td>0</td>\n",
              "      <td>0</td>\n",
              "      <td>0</td>\n",
              "      <td>...</td>\n",
              "      <td>0</td>\n",
              "      <td>0</td>\n",
              "      <td>0</td>\n",
              "      <td>0</td>\n",
              "      <td>0</td>\n",
              "      <td>0</td>\n",
              "      <td>0</td>\n",
              "      <td>1</td>\n",
              "      <td>0</td>\n",
              "      <td>0</td>\n",
              "    </tr>\n",
              "    <tr>\n",
              "      <th>229936</th>\n",
              "      <td>337703</td>\n",
              "      <td>5</td>\n",
              "      <td>136 1567 726 485 6264 636 136 1567 726 485 626...</td>\n",
              "      <td>0</td>\n",
              "      <td>0</td>\n",
              "      <td>0</td>\n",
              "      <td>0</td>\n",
              "      <td>0</td>\n",
              "      <td>1</td>\n",
              "      <td>0</td>\n",
              "      <td>...</td>\n",
              "      <td>0</td>\n",
              "      <td>0</td>\n",
              "      <td>0</td>\n",
              "      <td>0</td>\n",
              "      <td>0</td>\n",
              "      <td>0</td>\n",
              "      <td>0</td>\n",
              "      <td>0</td>\n",
              "      <td>0</td>\n",
              "      <td>0</td>\n",
              "    </tr>\n",
              "    <tr>\n",
              "      <th>38998</th>\n",
              "      <td>56033</td>\n",
              "      <td>8 7</td>\n",
              "      <td>21 171 21 171 241 7307 4098 241 60398 20193 60...</td>\n",
              "      <td>0</td>\n",
              "      <td>0</td>\n",
              "      <td>0</td>\n",
              "      <td>0</td>\n",
              "      <td>0</td>\n",
              "      <td>0</td>\n",
              "      <td>0</td>\n",
              "      <td>...</td>\n",
              "      <td>0</td>\n",
              "      <td>0</td>\n",
              "      <td>0</td>\n",
              "      <td>0</td>\n",
              "      <td>0</td>\n",
              "      <td>0</td>\n",
              "      <td>0</td>\n",
              "      <td>0</td>\n",
              "      <td>0</td>\n",
              "      <td>0</td>\n",
              "    </tr>\n",
              "    <tr>\n",
              "      <th>291500</th>\n",
              "      <td>358861</td>\n",
              "      <td>5</td>\n",
              "      <td>142 16661 60735 16661 60735 1848 519 997 61558...</td>\n",
              "      <td>0</td>\n",
              "      <td>0</td>\n",
              "      <td>0</td>\n",
              "      <td>0</td>\n",
              "      <td>0</td>\n",
              "      <td>1</td>\n",
              "      <td>0</td>\n",
              "      <td>...</td>\n",
              "      <td>0</td>\n",
              "      <td>0</td>\n",
              "      <td>0</td>\n",
              "      <td>0</td>\n",
              "      <td>0</td>\n",
              "      <td>0</td>\n",
              "      <td>0</td>\n",
              "      <td>0</td>\n",
              "      <td>0</td>\n",
              "      <td>0</td>\n",
              "    </tr>\n",
              "    <tr>\n",
              "      <th>273168</th>\n",
              "      <td>342604</td>\n",
              "      <td>5</td>\n",
              "      <td>485 2005 3290 107644 215852 981 16358 19523 21...</td>\n",
              "      <td>0</td>\n",
              "      <td>0</td>\n",
              "      <td>0</td>\n",
              "      <td>0</td>\n",
              "      <td>0</td>\n",
              "      <td>1</td>\n",
              "      <td>0</td>\n",
              "      <td>...</td>\n",
              "      <td>0</td>\n",
              "      <td>0</td>\n",
              "      <td>0</td>\n",
              "      <td>0</td>\n",
              "      <td>0</td>\n",
              "      <td>0</td>\n",
              "      <td>0</td>\n",
              "      <td>0</td>\n",
              "      <td>0</td>\n",
              "      <td>0</td>\n",
              "    </tr>\n",
              "    <tr>\n",
              "      <th>229391</th>\n",
              "      <td>296513</td>\n",
              "      <td>5</td>\n",
              "      <td>485 4144 20 26540 14105 36397 36390 561 388 21...</td>\n",
              "      <td>0</td>\n",
              "      <td>0</td>\n",
              "      <td>0</td>\n",
              "      <td>0</td>\n",
              "      <td>0</td>\n",
              "      <td>1</td>\n",
              "      <td>0</td>\n",
              "      <td>...</td>\n",
              "      <td>0</td>\n",
              "      <td>0</td>\n",
              "      <td>0</td>\n",
              "      <td>0</td>\n",
              "      <td>0</td>\n",
              "      <td>0</td>\n",
              "      <td>0</td>\n",
              "      <td>0</td>\n",
              "      <td>0</td>\n",
              "      <td>0</td>\n",
              "    </tr>\n",
              "    <tr>\n",
              "      <th>143501</th>\n",
              "      <td>184022</td>\n",
              "      <td>10</td>\n",
              "      <td>485 1479 4144 271 91 1578 57935</td>\n",
              "      <td>0</td>\n",
              "      <td>0</td>\n",
              "      <td>0</td>\n",
              "      <td>0</td>\n",
              "      <td>0</td>\n",
              "      <td>0</td>\n",
              "      <td>0</td>\n",
              "      <td>...</td>\n",
              "      <td>0</td>\n",
              "      <td>0</td>\n",
              "      <td>0</td>\n",
              "      <td>0</td>\n",
              "      <td>0</td>\n",
              "      <td>0</td>\n",
              "      <td>0</td>\n",
              "      <td>0</td>\n",
              "      <td>0</td>\n",
              "      <td>0</td>\n",
              "    </tr>\n",
              "    <tr>\n",
              "      <th>240821</th>\n",
              "      <td>346547</td>\n",
              "      <td>5</td>\n",
              "      <td>13534 317883 1591 19870 93 32 636 5957 34525 1...</td>\n",
              "      <td>0</td>\n",
              "      <td>0</td>\n",
              "      <td>0</td>\n",
              "      <td>0</td>\n",
              "      <td>0</td>\n",
              "      <td>1</td>\n",
              "      <td>0</td>\n",
              "      <td>...</td>\n",
              "      <td>0</td>\n",
              "      <td>0</td>\n",
              "      <td>0</td>\n",
              "      <td>0</td>\n",
              "      <td>0</td>\n",
              "      <td>0</td>\n",
              "      <td>0</td>\n",
              "      <td>0</td>\n",
              "      <td>0</td>\n",
              "      <td>0</td>\n",
              "    </tr>\n",
              "    <tr>\n",
              "      <th>57115</th>\n",
              "      <td>70710</td>\n",
              "      <td>17</td>\n",
              "      <td>373 7182 4144 271 54 3174 18537 54 11551 4144 ...</td>\n",
              "      <td>0</td>\n",
              "      <td>0</td>\n",
              "      <td>0</td>\n",
              "      <td>0</td>\n",
              "      <td>0</td>\n",
              "      <td>0</td>\n",
              "      <td>0</td>\n",
              "      <td>...</td>\n",
              "      <td>0</td>\n",
              "      <td>0</td>\n",
              "      <td>0</td>\n",
              "      <td>0</td>\n",
              "      <td>0</td>\n",
              "      <td>1</td>\n",
              "      <td>0</td>\n",
              "      <td>0</td>\n",
              "      <td>0</td>\n",
              "      <td>0</td>\n",
              "    </tr>\n",
              "    <tr>\n",
              "      <th>187739</th>\n",
              "      <td>242002</td>\n",
              "      <td>14</td>\n",
              "      <td>15514 3344 39780 96313 30404 189 521 68082 243...</td>\n",
              "      <td>0</td>\n",
              "      <td>0</td>\n",
              "      <td>0</td>\n",
              "      <td>0</td>\n",
              "      <td>0</td>\n",
              "      <td>0</td>\n",
              "      <td>0</td>\n",
              "      <td>...</td>\n",
              "      <td>0</td>\n",
              "      <td>0</td>\n",
              "      <td>1</td>\n",
              "      <td>0</td>\n",
              "      <td>0</td>\n",
              "      <td>0</td>\n",
              "      <td>0</td>\n",
              "      <td>0</td>\n",
              "      <td>0</td>\n",
              "      <td>0</td>\n",
              "    </tr>\n",
              "    <tr>\n",
              "      <th>293039</th>\n",
              "      <td>321459</td>\n",
              "      <td>5</td>\n",
              "      <td>809 13771 3607 2005 27798 979 5576 18356 22500...</td>\n",
              "      <td>0</td>\n",
              "      <td>0</td>\n",
              "      <td>0</td>\n",
              "      <td>0</td>\n",
              "      <td>0</td>\n",
              "      <td>1</td>\n",
              "      <td>0</td>\n",
              "      <td>...</td>\n",
              "      <td>0</td>\n",
              "      <td>0</td>\n",
              "      <td>0</td>\n",
              "      <td>0</td>\n",
              "      <td>0</td>\n",
              "      <td>0</td>\n",
              "      <td>0</td>\n",
              "      <td>0</td>\n",
              "      <td>0</td>\n",
              "      <td>0</td>\n",
              "    </tr>\n",
              "    <tr>\n",
              "      <th>20721</th>\n",
              "      <td>19178</td>\n",
              "      <td>2</td>\n",
              "      <td>13563 13683 233 4459 18767 8518 1349</td>\n",
              "      <td>0</td>\n",
              "      <td>0</td>\n",
              "      <td>1</td>\n",
              "      <td>0</td>\n",
              "      <td>0</td>\n",
              "      <td>0</td>\n",
              "      <td>0</td>\n",
              "      <td>...</td>\n",
              "      <td>0</td>\n",
              "      <td>0</td>\n",
              "      <td>0</td>\n",
              "      <td>0</td>\n",
              "      <td>0</td>\n",
              "      <td>0</td>\n",
              "      <td>0</td>\n",
              "      <td>0</td>\n",
              "      <td>0</td>\n",
              "      <td>0</td>\n",
              "    </tr>\n",
              "    <tr>\n",
              "      <th>104704</th>\n",
              "      <td>123925</td>\n",
              "      <td>19</td>\n",
              "      <td>50966 34865 4977 220 34865 4977 18162 483 1491...</td>\n",
              "      <td>0</td>\n",
              "      <td>0</td>\n",
              "      <td>0</td>\n",
              "      <td>0</td>\n",
              "      <td>0</td>\n",
              "      <td>0</td>\n",
              "      <td>0</td>\n",
              "      <td>...</td>\n",
              "      <td>0</td>\n",
              "      <td>0</td>\n",
              "      <td>0</td>\n",
              "      <td>0</td>\n",
              "      <td>0</td>\n",
              "      <td>0</td>\n",
              "      <td>0</td>\n",
              "      <td>1</td>\n",
              "      <td>0</td>\n",
              "      <td>0</td>\n",
              "    </tr>\n",
              "    <tr>\n",
              "      <th>213353</th>\n",
              "      <td>252874</td>\n",
              "      <td>6</td>\n",
              "      <td>15514 93660 14555 5255 366 539 15514 16108 139...</td>\n",
              "      <td>0</td>\n",
              "      <td>0</td>\n",
              "      <td>0</td>\n",
              "      <td>0</td>\n",
              "      <td>0</td>\n",
              "      <td>0</td>\n",
              "      <td>1</td>\n",
              "      <td>...</td>\n",
              "      <td>0</td>\n",
              "      <td>0</td>\n",
              "      <td>0</td>\n",
              "      <td>0</td>\n",
              "      <td>0</td>\n",
              "      <td>0</td>\n",
              "      <td>0</td>\n",
              "      <td>0</td>\n",
              "      <td>0</td>\n",
              "      <td>0</td>\n",
              "    </tr>\n",
              "    <tr>\n",
              "      <th>84322</th>\n",
              "      <td>112265</td>\n",
              "      <td>13</td>\n",
              "      <td>5322 93106 86809 548 246 851 21 271 207 35799 ...</td>\n",
              "      <td>0</td>\n",
              "      <td>0</td>\n",
              "      <td>0</td>\n",
              "      <td>0</td>\n",
              "      <td>0</td>\n",
              "      <td>0</td>\n",
              "      <td>0</td>\n",
              "      <td>...</td>\n",
              "      <td>0</td>\n",
              "      <td>1</td>\n",
              "      <td>0</td>\n",
              "      <td>0</td>\n",
              "      <td>0</td>\n",
              "      <td>0</td>\n",
              "      <td>0</td>\n",
              "      <td>0</td>\n",
              "      <td>0</td>\n",
              "      <td>0</td>\n",
              "    </tr>\n",
              "    <tr>\n",
              "      <th>278523</th>\n",
              "      <td>361589</td>\n",
              "      <td>5</td>\n",
              "      <td>485 259243 15842 1224 259243 485 1224</td>\n",
              "      <td>0</td>\n",
              "      <td>0</td>\n",
              "      <td>0</td>\n",
              "      <td>0</td>\n",
              "      <td>0</td>\n",
              "      <td>1</td>\n",
              "      <td>0</td>\n",
              "      <td>...</td>\n",
              "      <td>0</td>\n",
              "      <td>0</td>\n",
              "      <td>0</td>\n",
              "      <td>0</td>\n",
              "      <td>0</td>\n",
              "      <td>0</td>\n",
              "      <td>0</td>\n",
              "      <td>0</td>\n",
              "      <td>0</td>\n",
              "      <td>0</td>\n",
              "    </tr>\n",
              "    <tr>\n",
              "      <th>220539</th>\n",
              "      <td>372195</td>\n",
              "      <td>5</td>\n",
              "      <td>13534 41553 241 351 555 373 1778 969</td>\n",
              "      <td>0</td>\n",
              "      <td>0</td>\n",
              "      <td>0</td>\n",
              "      <td>0</td>\n",
              "      <td>0</td>\n",
              "      <td>1</td>\n",
              "      <td>0</td>\n",
              "      <td>...</td>\n",
              "      <td>0</td>\n",
              "      <td>0</td>\n",
              "      <td>0</td>\n",
              "      <td>0</td>\n",
              "      <td>0</td>\n",
              "      <td>0</td>\n",
              "      <td>0</td>\n",
              "      <td>0</td>\n",
              "      <td>0</td>\n",
              "      <td>0</td>\n",
              "    </tr>\n",
              "    <tr>\n",
              "      <th>185195</th>\n",
              "      <td>229666</td>\n",
              "      <td>14</td>\n",
              "      <td>15514 3344 2756 1163 42408 382 1848 2539 624 2...</td>\n",
              "      <td>0</td>\n",
              "      <td>0</td>\n",
              "      <td>0</td>\n",
              "      <td>0</td>\n",
              "      <td>0</td>\n",
              "      <td>0</td>\n",
              "      <td>0</td>\n",
              "      <td>...</td>\n",
              "      <td>0</td>\n",
              "      <td>0</td>\n",
              "      <td>1</td>\n",
              "      <td>0</td>\n",
              "      <td>0</td>\n",
              "      <td>0</td>\n",
              "      <td>0</td>\n",
              "      <td>0</td>\n",
              "      <td>0</td>\n",
              "      <td>0</td>\n",
              "    </tr>\n",
              "    <tr>\n",
              "      <th>23018</th>\n",
              "      <td>30410</td>\n",
              "      <td>15</td>\n",
              "      <td>1229 4272 189 4273 9733 36486 26581 4275 36340...</td>\n",
              "      <td>0</td>\n",
              "      <td>0</td>\n",
              "      <td>0</td>\n",
              "      <td>0</td>\n",
              "      <td>0</td>\n",
              "      <td>0</td>\n",
              "      <td>0</td>\n",
              "      <td>...</td>\n",
              "      <td>0</td>\n",
              "      <td>0</td>\n",
              "      <td>0</td>\n",
              "      <td>1</td>\n",
              "      <td>0</td>\n",
              "      <td>0</td>\n",
              "      <td>0</td>\n",
              "      <td>0</td>\n",
              "      <td>0</td>\n",
              "      <td>0</td>\n",
              "    </tr>\n",
              "    <tr>\n",
              "      <th>255778</th>\n",
              "      <td>303366</td>\n",
              "      <td>5</td>\n",
              "      <td>316 15944 4144 271 1868 9380 624 15914 2485 31...</td>\n",
              "      <td>0</td>\n",
              "      <td>0</td>\n",
              "      <td>0</td>\n",
              "      <td>0</td>\n",
              "      <td>0</td>\n",
              "      <td>1</td>\n",
              "      <td>0</td>\n",
              "      <td>...</td>\n",
              "      <td>0</td>\n",
              "      <td>0</td>\n",
              "      <td>0</td>\n",
              "      <td>0</td>\n",
              "      <td>0</td>\n",
              "      <td>0</td>\n",
              "      <td>0</td>\n",
              "      <td>0</td>\n",
              "      <td>0</td>\n",
              "      <td>0</td>\n",
              "    </tr>\n",
              "    <tr>\n",
              "      <th>142353</th>\n",
              "      <td>177855</td>\n",
              "      <td>1</td>\n",
              "      <td>27 672 71 287 250 2955 366 375 379</td>\n",
              "      <td>0</td>\n",
              "      <td>1</td>\n",
              "      <td>0</td>\n",
              "      <td>0</td>\n",
              "      <td>0</td>\n",
              "      <td>0</td>\n",
              "      <td>0</td>\n",
              "      <td>...</td>\n",
              "      <td>0</td>\n",
              "      <td>0</td>\n",
              "      <td>0</td>\n",
              "      <td>0</td>\n",
              "      <td>0</td>\n",
              "      <td>0</td>\n",
              "      <td>0</td>\n",
              "      <td>0</td>\n",
              "      <td>0</td>\n",
              "      <td>1</td>\n",
              "    </tr>\n",
              "    <tr>\n",
              "      <th>15900</th>\n",
              "      <td>17672</td>\n",
              "      <td>2</td>\n",
              "      <td>27483 887 263 27483 887 263 626</td>\n",
              "      <td>0</td>\n",
              "      <td>0</td>\n",
              "      <td>1</td>\n",
              "      <td>0</td>\n",
              "      <td>0</td>\n",
              "      <td>0</td>\n",
              "      <td>0</td>\n",
              "      <td>...</td>\n",
              "      <td>0</td>\n",
              "      <td>0</td>\n",
              "      <td>0</td>\n",
              "      <td>0</td>\n",
              "      <td>0</td>\n",
              "      <td>0</td>\n",
              "      <td>0</td>\n",
              "      <td>0</td>\n",
              "      <td>0</td>\n",
              "      <td>0</td>\n",
              "    </tr>\n",
              "    <tr>\n",
              "      <th>261417</th>\n",
              "      <td>297189</td>\n",
              "      <td>5</td>\n",
              "      <td>255 509 485 74396 20 985 636 6132 38731 1367 4...</td>\n",
              "      <td>0</td>\n",
              "      <td>0</td>\n",
              "      <td>0</td>\n",
              "      <td>0</td>\n",
              "      <td>0</td>\n",
              "      <td>1</td>\n",
              "      <td>0</td>\n",
              "      <td>...</td>\n",
              "      <td>0</td>\n",
              "      <td>0</td>\n",
              "      <td>0</td>\n",
              "      <td>0</td>\n",
              "      <td>0</td>\n",
              "      <td>0</td>\n",
              "      <td>0</td>\n",
              "      <td>0</td>\n",
              "      <td>0</td>\n",
              "      <td>0</td>\n",
              "    </tr>\n",
              "    <tr>\n",
              "      <th>221659</th>\n",
              "      <td>367159</td>\n",
              "      <td>5</td>\n",
              "      <td>13534 271 230033 207 344 599 613 15758 599 613...</td>\n",
              "      <td>0</td>\n",
              "      <td>0</td>\n",
              "      <td>0</td>\n",
              "      <td>0</td>\n",
              "      <td>0</td>\n",
              "      <td>1</td>\n",
              "      <td>0</td>\n",
              "      <td>...</td>\n",
              "      <td>0</td>\n",
              "      <td>0</td>\n",
              "      <td>0</td>\n",
              "      <td>0</td>\n",
              "      <td>0</td>\n",
              "      <td>0</td>\n",
              "      <td>0</td>\n",
              "      <td>0</td>\n",
              "      <td>0</td>\n",
              "      <td>0</td>\n",
              "    </tr>\n",
              "    <tr>\n",
              "      <th>60828</th>\n",
              "      <td>67607</td>\n",
              "      <td>17</td>\n",
              "      <td>77875 4144 271 814 32 39412 28534 6277 32 17084</td>\n",
              "      <td>0</td>\n",
              "      <td>0</td>\n",
              "      <td>0</td>\n",
              "      <td>0</td>\n",
              "      <td>0</td>\n",
              "      <td>0</td>\n",
              "      <td>0</td>\n",
              "      <td>...</td>\n",
              "      <td>0</td>\n",
              "      <td>0</td>\n",
              "      <td>0</td>\n",
              "      <td>0</td>\n",
              "      <td>0</td>\n",
              "      <td>1</td>\n",
              "      <td>0</td>\n",
              "      <td>0</td>\n",
              "      <td>0</td>\n",
              "      <td>0</td>\n",
              "    </tr>\n",
              "  </tbody>\n",
              "</table>\n",
              "<p>91255 rows × 25 columns</p>\n",
              "</div>"
            ],
            "text/plain": [
              "            id   labels                                           features  0  \\\n",
              "202288  255498        6  15514 54902 54902 1041 246 4643 3339 2367 189 ...  0   \n",
              "56926    67488       17  77875 4144 271 21278 15965 7537 3623 1801 3187...  0   \n",
              "118341  158671  18 14 6  15514 114374 114375 246 30708 4245 56751 1324 ...  0   \n",
              "96075   119061        8  3267 47229 56160 7424 56160 3710 7751 1199 666...  0   \n",
              "121582  141707     18 6  15514 4206 809 512 368 686 4206 60686 362 102 ...  0   \n",
              "67890    98013       11  17412 201 598 201 89797 36563 92097 8958 417 1...  0   \n",
              "236089  354657        5  148 20 548 344 241 148 1709 17673 228416 18921...  0   \n",
              "65260    95261       11  201 2342 4654 1140 17022 201 2342 4654 1140 16...  0   \n",
              "204504  265090        6  15514 246 1589 189 521 368 35799 176 873 15994...  0   \n",
              "231241  305992        5                          485 2005 76316 3991 26674  0   \n",
              "245992  367216        5  373 518 4144 271 229545 979 226920 997 60780 4...  0   \n",
              "77987    82589        9  29269 2928 5364 1615 6679 104 1093 37807 624 6...  0   \n",
              "301307  342035        5  224997 1479 1844 18921 231997 3975 1709 11857 ...  0   \n",
              "167959  209233       12               11910 1971 4607 4070 5563 8539 11910  0   \n",
              "78459    78319        9  5364 22097 20 271 633 16 2879 21083 515 424 53...  0   \n",
              "65759    94445       11                          26471 88858 90982 9042 20  0   \n",
              "255879  379044        5  8748 13534 271 285 882 3937 8607 762 986 47881...  0   \n",
              "41160    59806      8 7  14988 599 60028 6264 14988 1139 60028 599 36 6...  0   \n",
              "300164  351910        5  9616 72266 997 65883 18363 997 65883 937 2694 ...  0   \n",
              "89738   107640       13  5322 2539 611 11924 11130 5322 144 15717 41375...  0   \n",
              "135734  168103        1  27 20 4838 33 461 1977 226 672 11237 672 141 8...  0   \n",
              "230438  296928        5  2005 20 271 985 121061 123684 982 228982 979 2...  0   \n",
              "55737    65682       17  6124 13750 4675 31163 6124 13750 4675 31163 4 ...  0   \n",
              "59732    73977       17  7182 4144 271 78090 40528 77859 77980 77865 77...  0   \n",
              "61394    96236       11  88821 14852 88821 14852 9042 6339 21870 20058 ...  0   \n",
              "293390  350883        5  2005 271 1652 1105 9426 3975 997 41001 228853 ...  0   \n",
              "86999   107325       13  5322 106 4643 1277 354 6411 1879 3433 636 1616...  0   \n",
              "234466  291673        5  13534 20 271 80 225112 224984 1532 4586 2862 4...  0   \n",
              "129402  169704        1  1521 1522 1457 5242 3290 682 1205 719 1521 152...  0   \n",
              "239705  270203        5  485 4144 20 53 2209 1879 2209 2937 68023 84648...  0   \n",
              "...        ...      ...                                                ... ..   \n",
              "25026    34246       15  36398 36398 2741 394 13334 191 388 373 3710 80...  0   \n",
              "215128  323617        5  948 661 2005 271 975 38856 997 91609 225142 17...  0   \n",
              "141387  167758        1            27 574 33 574 27 13 106082 314 2073 241  0   \n",
              "250878  372360        5  109 271 45202 997 40608 3097 975 10825 3706 39...  0   \n",
              "170164  212761       12  5065 31637 441 93896 49525 189 521 368 79406 1...  0   \n",
              "105722  127188       19  50966 14555 11362 39498 34865 9279 4676 108330...  0   \n",
              "229936  337703        5  136 1567 726 485 6264 636 136 1567 726 485 626...  0   \n",
              "38998    56033      8 7  21 171 21 171 241 7307 4098 241 60398 20193 60...  0   \n",
              "291500  358861        5  142 16661 60735 16661 60735 1848 519 997 61558...  0   \n",
              "273168  342604        5  485 2005 3290 107644 215852 981 16358 19523 21...  0   \n",
              "229391  296513        5  485 4144 20 26540 14105 36397 36390 561 388 21...  0   \n",
              "143501  184022       10                    485 1479 4144 271 91 1578 57935  0   \n",
              "240821  346547        5  13534 317883 1591 19870 93 32 636 5957 34525 1...  0   \n",
              "57115    70710       17  373 7182 4144 271 54 3174 18537 54 11551 4144 ...  0   \n",
              "187739  242002       14  15514 3344 39780 96313 30404 189 521 68082 243...  0   \n",
              "293039  321459        5  809 13771 3607 2005 27798 979 5576 18356 22500...  0   \n",
              "20721    19178        2               13563 13683 233 4459 18767 8518 1349  0   \n",
              "104704  123925       19  50966 34865 4977 220 34865 4977 18162 483 1491...  0   \n",
              "213353  252874        6  15514 93660 14555 5255 366 539 15514 16108 139...  0   \n",
              "84322   112265       13  5322 93106 86809 548 246 851 21 271 207 35799 ...  0   \n",
              "278523  361589        5              485 259243 15842 1224 259243 485 1224  0   \n",
              "220539  372195        5               13534 41553 241 351 555 373 1778 969  0   \n",
              "185195  229666       14  15514 3344 2756 1163 42408 382 1848 2539 624 2...  0   \n",
              "23018    30410       15  1229 4272 189 4273 9733 36486 26581 4275 36340...  0   \n",
              "255778  303366        5  316 15944 4144 271 1868 9380 624 15914 2485 31...  0   \n",
              "142353  177855        1                 27 672 71 287 250 2955 366 375 379  0   \n",
              "15900    17672        2                    27483 887 263 27483 887 263 626  0   \n",
              "261417  297189        5  255 509 485 74396 20 985 636 6132 38731 1367 4...  0   \n",
              "221659  367159        5  13534 271 230033 207 344 599 613 15758 599 613...  0   \n",
              "60828    67607       17    77875 4144 271 814 32 39412 28534 6277 32 17084  0   \n",
              "\n",
              "        1  2  3  4  5  6    ...     12  13  14  15  16  17  18  19  pred0  \\\n",
              "202288  0  0  0  0  0  1    ...      0   0   0   0   0   0   0   0      0   \n",
              "56926   0  0  0  0  0  0    ...      0   0   0   0   0   1   0   0      0   \n",
              "118341  0  0  0  0  0  1    ...      0   0   1   0   0   0   1   0      0   \n",
              "96075   0  0  0  0  0  0    ...      0   0   0   0   0   0   0   0      0   \n",
              "121582  0  0  0  0  0  1    ...      0   0   0   0   0   0   1   0      0   \n",
              "67890   0  0  0  0  0  0    ...      0   0   0   0   0   0   0   0      0   \n",
              "236089  0  0  0  0  1  0    ...      0   0   0   0   0   0   0   0      0   \n",
              "65260   0  0  0  0  0  0    ...      0   0   0   0   0   0   0   0      0   \n",
              "204504  0  0  0  0  0  1    ...      0   0   0   0   0   0   0   0      0   \n",
              "231241  0  0  0  0  1  0    ...      0   0   0   0   0   0   0   0      0   \n",
              "245992  0  0  0  0  1  0    ...      0   0   0   0   0   0   0   0      0   \n",
              "77987   0  0  0  0  0  0    ...      0   0   0   0   0   0   0   0      0   \n",
              "301307  0  0  0  0  1  0    ...      0   0   0   0   0   0   0   0      0   \n",
              "167959  0  0  0  0  0  0    ...      1   0   0   0   0   0   0   0      0   \n",
              "78459   0  0  0  0  0  0    ...      0   0   0   0   0   0   0   0      0   \n",
              "65759   0  0  0  0  0  0    ...      0   0   0   0   0   0   0   0      0   \n",
              "255879  0  0  0  0  1  0    ...      0   0   0   0   0   0   0   0      0   \n",
              "41160   0  0  0  0  0  0    ...      0   0   0   0   0   0   0   0      0   \n",
              "300164  0  0  0  0  1  0    ...      0   0   0   0   0   0   0   0      0   \n",
              "89738   0  0  0  0  0  0    ...      0   1   0   0   0   0   0   0      0   \n",
              "135734  1  0  0  0  0  0    ...      0   0   0   0   0   0   0   0      0   \n",
              "230438  0  0  0  0  1  0    ...      0   0   0   0   0   0   0   0      0   \n",
              "55737   0  0  0  0  0  0    ...      0   0   0   0   0   1   0   0      0   \n",
              "59732   0  0  0  0  0  0    ...      0   0   0   0   0   1   0   0      0   \n",
              "61394   0  0  0  0  0  0    ...      0   0   0   0   0   0   0   0      0   \n",
              "293390  0  0  0  0  1  0    ...      0   0   0   0   0   0   0   0      0   \n",
              "86999   0  0  0  0  0  0    ...      0   1   0   0   0   0   0   0      0   \n",
              "234466  0  0  0  0  1  0    ...      0   0   0   0   0   0   0   0      0   \n",
              "129402  1  0  0  0  0  0    ...      0   0   0   0   0   0   0   0      0   \n",
              "239705  0  0  0  0  1  0    ...      0   0   0   0   0   0   0   0      0   \n",
              "...    .. .. .. .. .. ..    ...     ..  ..  ..  ..  ..  ..  ..  ..    ...   \n",
              "25026   0  0  0  0  0  0    ...      0   0   0   1   0   0   0   0      0   \n",
              "215128  0  0  0  0  1  0    ...      0   0   0   0   0   0   0   0      0   \n",
              "141387  1  0  0  0  0  0    ...      0   0   0   0   0   0   0   0      0   \n",
              "250878  0  0  0  0  1  0    ...      0   0   0   0   0   0   0   0      0   \n",
              "170164  0  0  0  0  0  0    ...      1   0   0   0   0   0   0   0      0   \n",
              "105722  0  0  0  0  0  0    ...      0   0   0   0   0   0   0   1      0   \n",
              "229936  0  0  0  0  1  0    ...      0   0   0   0   0   0   0   0      0   \n",
              "38998   0  0  0  0  0  0    ...      0   0   0   0   0   0   0   0      0   \n",
              "291500  0  0  0  0  1  0    ...      0   0   0   0   0   0   0   0      0   \n",
              "273168  0  0  0  0  1  0    ...      0   0   0   0   0   0   0   0      0   \n",
              "229391  0  0  0  0  1  0    ...      0   0   0   0   0   0   0   0      0   \n",
              "143501  0  0  0  0  0  0    ...      0   0   0   0   0   0   0   0      0   \n",
              "240821  0  0  0  0  1  0    ...      0   0   0   0   0   0   0   0      0   \n",
              "57115   0  0  0  0  0  0    ...      0   0   0   0   0   1   0   0      0   \n",
              "187739  0  0  0  0  0  0    ...      0   0   1   0   0   0   0   0      0   \n",
              "293039  0  0  0  0  1  0    ...      0   0   0   0   0   0   0   0      0   \n",
              "20721   0  1  0  0  0  0    ...      0   0   0   0   0   0   0   0      0   \n",
              "104704  0  0  0  0  0  0    ...      0   0   0   0   0   0   0   1      0   \n",
              "213353  0  0  0  0  0  1    ...      0   0   0   0   0   0   0   0      0   \n",
              "84322   0  0  0  0  0  0    ...      0   1   0   0   0   0   0   0      0   \n",
              "278523  0  0  0  0  1  0    ...      0   0   0   0   0   0   0   0      0   \n",
              "220539  0  0  0  0  1  0    ...      0   0   0   0   0   0   0   0      0   \n",
              "185195  0  0  0  0  0  0    ...      0   0   1   0   0   0   0   0      0   \n",
              "23018   0  0  0  0  0  0    ...      0   0   0   1   0   0   0   0      0   \n",
              "255778  0  0  0  0  1  0    ...      0   0   0   0   0   0   0   0      0   \n",
              "142353  1  0  0  0  0  0    ...      0   0   0   0   0   0   0   0      0   \n",
              "15900   0  1  0  0  0  0    ...      0   0   0   0   0   0   0   0      0   \n",
              "261417  0  0  0  0  1  0    ...      0   0   0   0   0   0   0   0      0   \n",
              "221659  0  0  0  0  1  0    ...      0   0   0   0   0   0   0   0      0   \n",
              "60828   0  0  0  0  0  0    ...      0   0   0   0   0   1   0   0      0   \n",
              "\n",
              "        pred0_la  \n",
              "202288         0  \n",
              "56926          0  \n",
              "118341         0  \n",
              "96075          0  \n",
              "121582         0  \n",
              "67890          0  \n",
              "236089         0  \n",
              "65260          0  \n",
              "204504         0  \n",
              "231241         0  \n",
              "245992         0  \n",
              "77987          0  \n",
              "301307         0  \n",
              "167959         0  \n",
              "78459          0  \n",
              "65759          0  \n",
              "255879         0  \n",
              "41160          0  \n",
              "300164         0  \n",
              "89738          0  \n",
              "135734         1  \n",
              "230438         0  \n",
              "55737          0  \n",
              "59732          0  \n",
              "61394          0  \n",
              "293390         0  \n",
              "86999          0  \n",
              "234466         0  \n",
              "129402         1  \n",
              "239705         0  \n",
              "...          ...  \n",
              "25026          0  \n",
              "215128         0  \n",
              "141387         0  \n",
              "250878         0  \n",
              "170164         0  \n",
              "105722         0  \n",
              "229936         0  \n",
              "38998          0  \n",
              "291500         0  \n",
              "273168         0  \n",
              "229391         0  \n",
              "143501         0  \n",
              "240821         0  \n",
              "57115          0  \n",
              "187739         0  \n",
              "293039         0  \n",
              "20721          0  \n",
              "104704         0  \n",
              "213353         0  \n",
              "84322          0  \n",
              "278523         0  \n",
              "220539         0  \n",
              "185195         0  \n",
              "23018          0  \n",
              "255778         0  \n",
              "142353         1  \n",
              "15900          0  \n",
              "261417         0  \n",
              "221659         0  \n",
              "60828          0  \n",
              "\n",
              "[91255 rows x 25 columns]"
            ]
          },
          "metadata": {
            "tags": []
          },
          "execution_count": 16
        }
      ]
    },
    {
      "metadata": {
        "id": "W_l2Y88CNm3B",
        "colab_type": "code",
        "outputId": "91bc384f-0521-4e31-c514-0139eca99d32",
        "colab": {
          "base_uri": "https://localhost:8080/",
          "height": 156
        }
      },
      "cell_type": "code",
      "source": [
        "trainedmodel['SVC0']"
      ],
      "execution_count": 0,
      "outputs": [
        {
          "output_type": "execute_result",
          "data": {
            "text/plain": [
              "Pipeline(memory=None,\n",
              "     steps=[('tfidf', TfidfVectorizer(analyzer='word', binary=False, decode_error='strict',\n",
              "        dtype=<class 'numpy.float64'>, encoding='utf-8', input='content',\n",
              "        lowercase=True, max_df=1.0, max_features=None, min_df=1,\n",
              "        ngram_range=(1, 1), norm='l2', preprocessor=None, smooth_idf=True,...lti_class='ovr', penalty='l2', random_state=None, tol=0.0001,\n",
              "     verbose=0),\n",
              "          n_jobs=1))])"
            ]
          },
          "metadata": {
            "tags": []
          },
          "execution_count": 17
        }
      ]
    },
    {
      "metadata": {
        "id": "uQrebrEjPBml",
        "colab_type": "code",
        "outputId": "80e9334f-4160-4bbf-fbcb-e632d6de39fc",
        "colab": {
          "base_uri": "https://localhost:8080/",
          "height": 156
        }
      },
      "cell_type": "code",
      "source": [
        "SVC_pipeline"
      ],
      "execution_count": 0,
      "outputs": [
        {
          "output_type": "execute_result",
          "data": {
            "text/plain": [
              "Pipeline(memory=None,\n",
              "     steps=[('tfidf', TfidfVectorizer(analyzer='word', binary=False, decode_error='strict',\n",
              "        dtype=<class 'numpy.float64'>, encoding='utf-8', input='content',\n",
              "        lowercase=True, max_df=1.0, max_features=None, min_df=1,\n",
              "        ngram_range=(1, 1), norm='l2', preprocessor=None, smooth_idf=True,...lti_class='ovr', penalty='l2', random_state=None, tol=0.0001,\n",
              "     verbose=0),\n",
              "          n_jobs=1))])"
            ]
          },
          "metadata": {
            "tags": []
          },
          "execution_count": 18
        }
      ]
    },
    {
      "metadata": {
        "id": "JasXraHsQAnB",
        "colab_type": "code",
        "outputId": "c54c2d68-da1b-4e0e-f55e-d4a0c71a283f",
        "colab": {
          "base_uri": "https://localhost:8080/",
          "height": 2057
        }
      },
      "cell_type": "code",
      "source": [
        "\n",
        "SVC_pipeline = Pipeline([\n",
        "    ('tfidf', TfidfVectorizer()),\n",
        "    ('clf', OneVsRestClassifier(LinearSVC(), n_jobs=1)),\n",
        "])\n",
        "LogReg_pipeline = Pipeline([\n",
        "    ('tfidf', TfidfVectorizer()),\n",
        "    ('clf', OneVsRestClassifier(LogisticRegression(solver='sag'), n_jobs=1)),\n",
        "])\n",
        "Ridge_pipeline = Pipeline([\n",
        "    ('tfidf', TfidfVectorizer()),\n",
        "    ('clf', OneVsRestClassifier(Ridge())),\n",
        "])\n",
        "\n",
        "models = {'SVC':SVC_pipeline, 'LR':LogReg_pipeline, 'RID':Ridge_pipeline}\n",
        "\n",
        "train, test = train_test_split(df, random_state=42, test_size=0.3, shuffle=True)\n",
        "x_train = train.features\n",
        "x_test = test.features\n",
        "for method, model in models.items():\n",
        "  for category in categories:\n",
        "    print('... {} Processing {}'.format(method, category))\n",
        "    model.fit(x_train, train[category])\n",
        "    prediction = model.predict(x_test)\n",
        "    print('Test acc {}, fbs {}'.format(\n",
        "        accuracy_score(test[category], prediction), \n",
        "        fbeta_score(test[category], prediction, 0.5)))"
      ],
      "execution_count": 0,
      "outputs": [
        {
          "output_type": "stream",
          "text": [
            "... SVC Processing 0\n",
            "Test acc 0.9844611254177853, fbs 0.6555978474865468\n",
            "... SVC Processing 1\n",
            "Test acc 0.9862802038244479, fbs 0.8907682901976768\n",
            "... SVC Processing 2\n",
            "Test acc 0.9913210235055614, fbs 0.8404149652356252\n",
            "... SVC Processing 3\n",
            "Test acc 0.9958906361295271, fbs 0.9365517241379311\n",
            "... SVC Processing 4\n",
            "Test acc 0.9928003944989315, fbs 0.8620155038759689\n",
            "... SVC Processing 5\n",
            "Test acc 0.9760122733000931, fbs 0.9665378699778668\n",
            "... SVC Processing 6\n",
            "Test acc 0.9538436250068489, fbs 0.7680763614731491\n",
            "... SVC Processing 7\n",
            "Test acc 0.9887348638430771, fbs 0.8229977886741658\n",
            "... SVC Processing 8\n",
            "Test acc 0.9892937373294614, fbs 0.9106060606060605\n",
            "... SVC Processing 9\n",
            "Test acc 0.9973480905155881, fbs 0.9723031126642074\n",
            "... SVC Processing 10\n",
            "Test acc 0.9892170292038792, fbs 0.9459513442256222\n",
            "... SVC Processing 11\n",
            "Test acc 0.9915511478823078, fbs 0.8976564179746293\n",
            "... SVC Processing 12\n",
            "Test acc 0.9728124486329516, fbs 0.8345561887861312\n",
            "... SVC Processing 13\n",
            "Test acc 0.9896115281354446, fbs 0.8973665223665225\n",
            "... SVC Processing 14\n",
            "Test acc 0.9616130622979563, fbs 0.7856700101431309\n",
            "... SVC Processing 15\n",
            "Test acc 0.9960659689880007, fbs 0.9438957336320131\n",
            "... SVC Processing 16\n",
            "Test acc 0.9988055449016492, fbs 0.9861916823269874\n",
            "... SVC Processing 17\n",
            "Test acc 0.9993425017807244, fbs 0.9924888506376652\n",
            "... SVC Processing 18\n",
            "Test acc 0.9706646211166512, fbs 0.7148590079726042\n",
            "... SVC Processing 19\n",
            "Test acc 0.995057805051778, fbs 0.9616716122650841\n",
            "... LR Processing 0\n",
            "Test acc 0.9836502109473454, fbs 0.6326791128131483\n",
            "... LR Processing 1\n",
            "Test acc 0.9842200427373843, fbs 0.884917737016195\n",
            "... LR Processing 2\n",
            "Test acc 0.9876390334776176, fbs 0.7864923747276689\n",
            "... LR Processing 3\n",
            "Test acc 0.9937428086132267, fbs 0.9151897466706717\n",
            "... LR Processing 4\n",
            "Test acc 0.990652566982631, fbs 0.8296447622290318\n",
            "... LR Processing 5\n",
            "Test acc 0.9726590323817873, fbs 0.9665799174228605\n",
            "... LR Processing 6\n",
            "Test acc 0.9528135444633171, fbs 0.7646831316647328\n",
            "... LR Processing 7\n",
            "Test acc 0.9863678702536848, fbs 0.792019347037485\n",
            "... LR Processing 8\n",
            "Test acc 0.9853049147991891, fbs 0.8882581002492385\n",
            "... LR Processing 9\n",
            "Test acc 0.9955180538052709, fbs 0.9563500033473922\n",
            "... LR Processing 10\n",
            "Test acc 0.9847350830091501, fbs 0.9279018532118019\n",
            "... LR Processing 11\n",
            "Test acc 0.9881650320530382, fbs 0.8716342634019361\n",
            "... LR Processing 12\n",
            "Test acc 0.9684729603857323, fbs 0.8186980557331429\n",
            "... LR Processing 13\n",
            "Test acc 0.9883294066078571, fbs 0.890042531898924\n",
            "... LR Processing 14\n",
            "Test acc 0.9602761492520958, fbs 0.7807630151217824\n",
            "... LR Processing 15\n",
            "Test acc 0.9936989753986083, fbs 0.9217909080499255\n",
            "... LR Processing 16\n",
            "Test acc 0.9978960056983179, fbs 0.9812293903779489\n",
            "... LR Processing 17\n",
            "Test acc 0.9984548791847022, fbs 0.9853283091477593\n",
            "... LR Processing 18\n",
            "Test acc 0.9695687907511917, fbs 0.7032575964960307\n",
            "... LR Processing 19\n",
            "Test acc 0.9941044326338283, fbs 0.9591784989858011\n",
            "... RID Processing 0\n",
            "Test acc 0.983661169251, fbs 0.6331983805668016\n",
            "... RID Processing 1\n",
            "Test acc 0.9833981699632897, fbs 0.8809534203518576\n",
            "... RID Processing 2\n",
            "Test acc 0.9883622815188209, fbs 0.7911515940143137\n",
            "... RID Processing 3\n",
            "Test acc 0.9942030573667197, fbs 0.9204959165600709\n",
            "... RID Processing 4\n",
            "Test acc 0.9902580680510656, fbs 0.8171620863712844\n",
            "... RID Processing 5\n",
            "Test acc 0.9674757547531642, fbs 0.9586245970798335\n",
            "... RID Processing 6\n",
            "Test acc 0.9537450002739576, fbs 0.775733821594095\n",
            "... RID Processing 7\n",
            "Test acc 0.9865651197194675, fbs 0.7931219774314884\n",
            "... RID Processing 8\n",
            "Test acc 0.9844611254177853, fbs 0.8775181869054282\n",
            "... RID Processing 9\n",
            "Test acc 0.9945975562982851, fbs 0.9494147443356834\n",
            "... RID Processing 10\n",
            "Test acc 0.9806585940496411, fbs 0.9097719717188745\n",
            "... RID Processing 11\n",
            "Test acc 0.9878691578543641, fbs 0.8583234946871309\n",
            "... RID Processing 12\n",
            "Test acc 0.9704892882581776, fbs 0.8329318459770966\n",
            "... RID Processing 13\n",
            "Test acc 0.9881869486603474, fbs 0.8910045546558704\n",
            "... RID Processing 14\n",
            "Test acc 0.9606816064873157, fbs 0.7844076655052264\n",
            "... RID Processing 15\n",
            "Test acc 0.9934688510218618, fbs 0.9194202898550725\n",
            "... RID Processing 16\n",
            "Test acc 0.9975124650704071, fbs 0.9782515626337873\n",
            "... RID Processing 17\n",
            "Test acc 0.9988603364199222, fbs 0.9893557867979981\n",
            "... RID Processing 18\n",
            "Test acc 0.9696893320913923, fbs 0.7081312410841654\n",
            "... RID Processing 19\n",
            "Test acc 0.9932606432524246, fbs 0.9566141405764046\n"
          ],
          "name": "stdout"
        }
      ]
    },
    {
      "metadata": {
        "id": "ExNGjTX6zP1o",
        "colab_type": "code",
        "outputId": "69f95a87-b442-4a87-8b60-755c5a68ba04",
        "colab": {
          "base_uri": "https://localhost:8080/",
          "height": 952
        }
      },
      "cell_type": "code",
      "source": [
        "Ridge_pipeline.get_params()"
      ],
      "execution_count": 0,
      "outputs": [
        {
          "output_type": "execute_result",
          "data": {
            "text/plain": [
              "{'clf': OneVsRestClassifier(estimator=Ridge(alpha=1.0, copy_X=True, fit_intercept=True, max_iter=None,\n",
              "    normalize=False, random_state=None, solver='auto', tol=0.001),\n",
              "           n_jobs=None),\n",
              " 'clf__estimator': Ridge(alpha=1.0, copy_X=True, fit_intercept=True, max_iter=None,\n",
              "    normalize=False, random_state=None, solver='auto', tol=0.001),\n",
              " 'clf__estimator__alpha': 1.0,\n",
              " 'clf__estimator__copy_X': True,\n",
              " 'clf__estimator__fit_intercept': True,\n",
              " 'clf__estimator__max_iter': None,\n",
              " 'clf__estimator__normalize': False,\n",
              " 'clf__estimator__random_state': None,\n",
              " 'clf__estimator__solver': 'auto',\n",
              " 'clf__estimator__tol': 0.001,\n",
              " 'clf__n_jobs': None,\n",
              " 'memory': None,\n",
              " 'steps': [('tfidf',\n",
              "   TfidfVectorizer(analyzer='word', binary=False, decode_error='strict',\n",
              "           dtype=<class 'numpy.float64'>, encoding='utf-8', input='content',\n",
              "           lowercase=True, max_df=1.0, max_features=None, min_df=1,\n",
              "           ngram_range=(1, 1), norm='l2', preprocessor=None, smooth_idf=True,\n",
              "           stop_words=None, strip_accents=None, sublinear_tf=False,\n",
              "           token_pattern='(?u)\\\\b\\\\w\\\\w+\\\\b', tokenizer=None, use_idf=True,\n",
              "           vocabulary=None)),\n",
              "  ('clf',\n",
              "   OneVsRestClassifier(estimator=Ridge(alpha=1.0, copy_X=True, fit_intercept=True, max_iter=None,\n",
              "      normalize=False, random_state=None, solver='auto', tol=0.001),\n",
              "             n_jobs=None))],\n",
              " 'tfidf': TfidfVectorizer(analyzer='word', binary=False, decode_error='strict',\n",
              "         dtype=<class 'numpy.float64'>, encoding='utf-8', input='content',\n",
              "         lowercase=True, max_df=1.0, max_features=None, min_df=1,\n",
              "         ngram_range=(1, 1), norm='l2', preprocessor=None, smooth_idf=True,\n",
              "         stop_words=None, strip_accents=None, sublinear_tf=False,\n",
              "         token_pattern='(?u)\\\\b\\\\w\\\\w+\\\\b', tokenizer=None, use_idf=True,\n",
              "         vocabulary=None),\n",
              " 'tfidf__analyzer': 'word',\n",
              " 'tfidf__binary': False,\n",
              " 'tfidf__decode_error': 'strict',\n",
              " 'tfidf__dtype': numpy.float64,\n",
              " 'tfidf__encoding': 'utf-8',\n",
              " 'tfidf__input': 'content',\n",
              " 'tfidf__lowercase': True,\n",
              " 'tfidf__max_df': 1.0,\n",
              " 'tfidf__max_features': None,\n",
              " 'tfidf__min_df': 1,\n",
              " 'tfidf__ngram_range': (1, 1),\n",
              " 'tfidf__norm': 'l2',\n",
              " 'tfidf__preprocessor': None,\n",
              " 'tfidf__smooth_idf': True,\n",
              " 'tfidf__stop_words': None,\n",
              " 'tfidf__strip_accents': None,\n",
              " 'tfidf__sublinear_tf': False,\n",
              " 'tfidf__token_pattern': '(?u)\\\\b\\\\w\\\\w+\\\\b',\n",
              " 'tfidf__tokenizer': None,\n",
              " 'tfidf__use_idf': True,\n",
              " 'tfidf__vocabulary': None}"
            ]
          },
          "metadata": {
            "tags": []
          },
          "execution_count": 33
        }
      ]
    },
    {
      "metadata": {
        "id": "ppZYhRrCtjNt",
        "colab_type": "code",
        "colab": {}
      },
      "cell_type": "code",
      "source": [
        "from sklearn.model_selection import GridSearchCV\n",
        "\n",
        "def get_best_params(model, params, category):\n",
        "    grid_model = GridSearchCV(model, param_grid=params, \n",
        "                              scoring='f1', cv=5)\n",
        "    grid_model.fit(x_train, train[category])\n",
        "    \n",
        "    print('{0} [{3}] 5 CV 시 최적 평균 RMSE 값: {1}, 최적 alpha:{2}'.format(model.__class__.__name__,\n",
        "                                        grid_model.best_score_, grid_model.best_params_, category))\n",
        "    return grid_model.best_estimator_\n",
        "\n",
        "for category in categories:\n",
        "  Ridge_pipeline = Pipeline([\n",
        "      ('tfidf', TfidfVectorizer()),\n",
        "      ('clf', OneVsRestClassifier(Ridge())),\n",
        "  ])\n",
        "  ridge_params = { 'clf__estimator__alpha':[0.05, 0.1, 1, 5, 8, 10, 12, 15, 20],\n",
        "                   'tfidf__max_df': [0.9, 0.95, 1.0],\n",
        "                   'tfidf__ngram_range': [(1,1), (1,2)]}\n",
        "  best_rige = get_best_params(Ridge_pipeline, ridge_params, category)\n"
      ],
      "execution_count": 0,
      "outputs": []
    },
    {
      "metadata": {
        "id": "3FwAR5YvqFEW",
        "colab_type": "code",
        "colab": {}
      },
      "cell_type": "code",
      "source": [
        "fscoreli = []  \n",
        "yzli = []\n",
        "yli = []\n",
        "zli = []\n",
        "preli = []\n",
        "recli = []\n",
        "for idx in range(0,len(test)):\n",
        "  yz = 0.0\n",
        "  y = 0.0\n",
        "  z = 0.0\n",
        "\n",
        "  for category in categories:\n",
        "    if test.iloc[idx][category] == 1:\n",
        "      y+=1\n",
        "      if test.iloc[idx][category] == test.iloc[idx]['p{}'.format(category)]:\n",
        "        yz+=1\n",
        "    if test.iloc[idx]['p{}'.format(category)] == 1:\n",
        "      z+=1\n",
        "  pre = yz/(z+Ep)\n",
        "  rec = yz/(y+Ep)\n",
        "\n",
        "  yzli.append(yz)\n",
        "  yli.append(y)\n",
        "  zli.append(z)\n",
        "  preli.append(pre)\n",
        "  recli.append(rec)\n",
        "  fscoreli.append(_fbscore(pre, rec))\n",
        "\n",
        "print('mean1 {}'.format(np.mean(fscoreli)))\n",
        "print('mean2 {}'.format(_fbscore(np.mean(preli), np.mean(recli))))\n",
        "print('mean3 {}'.format((beta*beta+1)*np.sum(yzli)/(beta*beta*np.sum(yli)+np.sum(zli)+Ep)))\n"
      ],
      "execution_count": 0,
      "outputs": []
    },
    {
      "metadata": {
        "id": "p4gG_IjNl1LA",
        "colab_type": "code",
        "outputId": "7af2dcfd-5413-430d-c04a-ec8692234b67",
        "colab": {
          "base_uri": "https://localhost:8080/",
          "height": 2822
        }
      },
      "cell_type": "code",
      "source": [
        "data = open('/gdrive/My Drive/Colab Notebooks/AClassification.train.txt','r').readlines()\n",
        "data = [line.strip().split('\\t') for line in data]\n",
        "df = pd.DataFrame.from_records(data, columns=['id','labels','features'])\n",
        "df['features'] = df['features'].apply(lambda x: \" \".join([tok.split('/')[0] for tok in x.split(' ')]))\n",
        "df['features300'] = df['features'].apply(lambda x: \" \".join(x.split()[:300]))\n",
        "categories = list(range(0, 20))\n",
        "for i in categories:\n",
        "  df[i] = df['labels'].apply(lambda x: 1 if i in [int(y) for y in x.split()] else 0)\n",
        "\n",
        "SVC_pipeline = Pipeline([\n",
        "    ('tfidf', TfidfVectorizer()),\n",
        "    ('clf', OneVsRestClassifier(LinearSVC(), n_jobs=1)),\n",
        "])\n",
        "LogReg_pipeline = Pipeline([\n",
        "    ('tfidf', TfidfVectorizer()),\n",
        "    ('clf', OneVsRestClassifier(LogisticRegression(solver='sag'), n_jobs=1)),\n",
        "])\n",
        "\n",
        "models = {'SVC':SVC_pipeline, 'LR':LogReg_pipeline}\n",
        "train, test = train_test_split(df, random_state=42, test_size=0.3, shuffle=True)\n",
        "x_train = train.features\n",
        "x_train300 = train.features300\n",
        "x_test = test.features\n",
        "for method, model in models.items():\n",
        "  fbs = []\n",
        "  for category in categories:\n",
        "    print('... {} Processing {}'.format(method, category))\n",
        "    model.fit(x_train, train[category])\n",
        "    prediction = model.predict(x_test)\n",
        "    fbscore = fbeta_score(test[category], prediction, 0.5)\n",
        "    fbs.append(fbscore)\n",
        "    print('Test acc {}, fbs {}'.format(\n",
        "        accuracy_score(test[category], prediction), \n",
        "        fbscore))\n",
        "  print('......{}'.format(np.mean(fbs)))\n",
        "\n",
        "print('..............................300...............................')\n",
        "for method, model in models.items():\n",
        "  fbs = []\n",
        "  for category in categories:\n",
        "    print('... {} Processing {}'.format(method, category))\n",
        "    model.fit(x_train300, train[category])\n",
        "    prediction = model.predict(x_test)\n",
        "    fbscore = fbeta_score(test[category], prediction, 0.5)\n",
        "    fbs.append(fbscore)\n",
        "    print('Test acc {}, fbs {}'.format(\n",
        "        accuracy_score(test[category], prediction), \n",
        "        fbscore))\n",
        "  print('......{}'.format(np.mean(fbs)))"
      ],
      "execution_count": 0,
      "outputs": [
        {
          "output_type": "stream",
          "text": [
            "... SVC Processing 0\n",
            "Test acc 0.9845049586324037, fbs 0.6569438969911969\n",
            "... SVC Processing 1\n",
            "Test acc 0.9862144540025204, fbs 0.8903299482034343\n",
            "... SVC Processing 2\n",
            "Test acc 0.9913100652019068, fbs 0.8400441257584115\n",
            "... SVC Processing 3\n",
            "Test acc 0.9959015944331817, fbs 0.9366669730673777\n",
            "... SVC Processing 4\n",
            "Test acc 0.9928113528025861, fbs 0.8625685604884611\n",
            "... SVC Processing 5\n",
            "Test acc 0.9760013149964385, fbs 0.9665498638133757\n",
            "... SVC Processing 6\n",
            "Test acc 0.9538984165251219, fbs 0.7683988536202887\n",
            "... SVC Processing 7\n",
            "Test acc 0.9886362391101857, fbs 0.8216665057449068\n",
            "... SVC Processing 8\n",
            "Test acc 0.989304695633116, fbs 0.9109655507035419\n",
            "... SVC Processing 9\n",
            "Test acc 0.9973152156046244, fbs 0.9719075668328049\n",
            "... SVC Processing 10\n",
            "Test acc 0.9891731959892609, fbs 0.94585949058339\n",
            "... SVC Processing 11\n",
            "Test acc 0.9915511478823078, fbs 0.897969433881036\n",
            "... SVC Processing 12\n",
            "Test acc 0.9728672401512246, fbs 0.8351836037574722\n",
            "... SVC Processing 13\n",
            "Test acc 0.98960056983179, fbs 0.8970199471280943\n",
            "... SVC Processing 14\n",
            "Test acc 0.9616349789052655, fbs 0.7857384251436295\n",
            "... SVC Processing 15\n",
            "Test acc 0.9960659689880007, fbs 0.9436361786550006\n",
            "... SVC Processing 16\n",
            "Test acc 0.9988165032053038, fbs 0.9862778730703258\n",
            "... SVC Processing 17\n",
            "Test acc 0.9993425017807244, fbs 0.9924888506376652\n",
            "... SVC Processing 18\n",
            "Test acc 0.9706207879020328, fbs 0.7143239338648403\n",
            "... SVC Processing 19\n",
            "Test acc 0.995057805051778, fbs 0.9616716122650841\n",
            "......0.879310559710517\n",
            "... LR Processing 0\n",
            "Test acc 0.9836392526436908, fbs 0.6322848475171643\n",
            "... LR Processing 1\n",
            "Test acc 0.9841871678264205, fbs 0.884729445136889\n",
            "... LR Processing 2\n",
            "Test acc 0.9876280751739631, fbs 0.7862229327132685\n",
            "... LR Processing 3\n",
            "Test acc 0.9937428086132267, fbs 0.9151897466706717\n",
            "... LR Processing 4\n",
            "Test acc 0.9906744835899403, fbs 0.8302122347066168\n",
            "... LR Processing 5\n",
            "Test acc 0.9726042408635144, fbs 0.966515795660105\n",
            "... LR Processing 6\n",
            "Test acc 0.9528354610706262, fbs 0.7647903662376401\n",
            "... LR Processing 7\n",
            "Test acc 0.9863240370390663, fbs 0.7915057915057916\n",
            "... LR Processing 8\n",
            "Test acc 0.9852610815845707, fbs 0.8878569448294982\n",
            "... LR Processing 9\n",
            "Test acc 0.9955180538052709, fbs 0.9561726329876212\n",
            "... LR Processing 10\n",
            "Test acc 0.9847022080981864, fbs 0.9277347970782728\n",
            "... LR Processing 11\n",
            "Test acc 0.9881540737493836, fbs 0.8715111074945073\n",
            "... LR Processing 12\n",
            "Test acc 0.968429127171114, fbs 0.8184383819379116\n",
            "... LR Processing 13\n",
            "Test acc 0.9883294066078571, fbs 0.8899099774943736\n",
            "... LR Processing 14\n",
            "Test acc 0.9603309407703687, fbs 0.7810336871250576\n",
            "... LR Processing 15\n",
            "Test acc 0.9937318503095721, fbs 0.9225134485521346\n",
            "... LR Processing 16\n",
            "Test acc 0.9978960056983179, fbs 0.9812293903779489\n",
            "... LR Processing 17\n",
            "Test acc 0.9984548791847022, fbs 0.9853283091477593\n",
            "... LR Processing 18\n",
            "Test acc 0.9695578324475371, fbs 0.7031036181509661\n",
            "... LR Processing 19\n",
            "Test acc 0.9941153909374829, fbs 0.9592374771851553\n",
            "......0.8627760466254676\n",
            "..............................300...............................\n",
            "... SVC Processing 0\n",
            "Test acc 0.9844611254177853, fbs 0.6555978474865468\n",
            "... SVC Processing 1\n",
            "Test acc 0.9862802038244479, fbs 0.8907682901976768\n",
            "... SVC Processing 2\n",
            "Test acc 0.9913100652019068, fbs 0.8400441257584115\n",
            "... SVC Processing 3\n",
            "Test acc 0.9958906361295271, fbs 0.9365517241379311\n",
            "... SVC Processing 4\n",
            "Test acc 0.9928003944989315, fbs 0.8620155038759689\n",
            "... SVC Processing 5\n",
            "Test acc 0.9759793983891294, fbs 0.9664508578587666\n",
            "... SVC Processing 6\n",
            "Test acc 0.9538436250068489, fbs 0.7680763614731491\n",
            "... SVC Processing 7\n",
            "Test acc 0.9887348638430771, fbs 0.822845614372178\n",
            "... SVC Processing 8\n",
            "Test acc 0.9892937373294614, fbs 0.9106060606060605\n",
            "... SVC Processing 9\n",
            "Test acc 0.9973371322119335, fbs 0.9720514977033061\n",
            "... SVC Processing 10\n",
            "Test acc 0.9892170292038792, fbs 0.9459513442256222\n",
            "... SVC Processing 11\n",
            "Test acc 0.9915511478823078, fbs 0.8976564179746293\n",
            "... SVC Processing 12\n",
            "Test acc 0.9728234069366062, fbs 0.8346128911181631\n",
            "... SVC Processing 13\n",
            "Test acc 0.9896115281354446, fbs 0.8973665223665225\n",
            "... SVC Processing 14\n",
            "Test acc 0.9616349789052655, fbs 0.785774647887324\n",
            "... SVC Processing 15\n",
            "Test acc 0.9960659689880007, fbs 0.9438957336320131\n",
            "... SVC Processing 16\n",
            "Test acc 0.9988055449016492, fbs 0.9861916823269874\n",
            "... SVC Processing 17\n",
            "Test acc 0.9993425017807244, fbs 0.9924888506376652\n",
            "... SVC Processing 18\n",
            "Test acc 0.9706646211166512, fbs 0.7148590079726042\n",
            "... SVC Processing 19\n",
            "Test acc 0.995057805051778, fbs 0.9616716122650841\n",
            "......0.8792738296938305\n",
            "... LR Processing 0\n",
            "Test acc 0.9836502109473454, fbs 0.6326791128131483\n",
            "... LR Processing 1\n",
            "Test acc 0.9842310010410389, fbs 0.8849804578447796\n",
            "... LR Processing 2\n",
            "Test acc 0.9876390334776176, fbs 0.7864923747276689\n",
            "... LR Processing 3\n",
            "Test acc 0.9937428086132267, fbs 0.9151897466706717\n",
            "... LR Processing 4\n",
            "Test acc 0.990652566982631, fbs 0.8296447622290318\n",
            "... LR Processing 5\n",
            "Test acc 0.9726151991671689, fbs 0.9665035984400399\n",
            "... LR Processing 6\n",
            "Test acc 0.9528245027669717, fbs 0.7647676410454771\n",
            "... LR Processing 7\n",
            "Test acc 0.9863788285573393, fbs 0.7922206350950444\n",
            "... LR Processing 8\n",
            "Test acc 0.9853158731028436, fbs 0.888358250276855\n",
            "... LR Processing 9\n",
            "Test acc 0.9955070955016163, fbs 0.9560939696138142\n",
            "... LR Processing 10\n",
            "Test acc 0.9847460413128047, fbs 0.9279575001079775\n",
            "... LR Processing 11\n",
            "Test acc 0.9881650320530382, fbs 0.8716342634019361\n",
            "... LR Processing 12\n",
            "Test acc 0.9684620020820777, fbs 0.8185749200977628\n",
            "... LR Processing 13\n",
            "Test acc 0.9883403649115117, fbs 0.8901325662831416\n",
            "... LR Processing 14\n",
            "Test acc 0.9602980658594049, fbs 0.7808713214079631\n",
            "... LR Processing 15\n",
            "Test acc 0.9936989753986083, fbs 0.9217909080499255\n",
            "... LR Processing 16\n",
            "Test acc 0.9978960056983179, fbs 0.9812293903779489\n",
            "... LR Processing 17\n",
            "Test acc 0.9984548791847022, fbs 0.9853283091477593\n",
            "... LR Processing 18\n",
            "Test acc 0.9695687907511917, fbs 0.7032575964960307\n",
            "... LR Processing 19\n",
            "Test acc 0.9941044326338283, fbs 0.9591784989858011\n",
            "......0.8628442911556388\n"
          ],
          "name": "stdout"
        }
      ]
    },
    {
      "metadata": {
        "id": "3nh1TAO9l36U",
        "colab_type": "code",
        "outputId": "916d368a-df9d-41ee-82cf-249202495d72",
        "colab": {
          "base_uri": "https://localhost:8080/",
          "height": 2822
        }
      },
      "cell_type": "code",
      "source": [
        "for method, model in models.items():\n",
        "  fbs = []\n",
        "  for category in categories:\n",
        "    print('... {} Processing {}'.format(method, category))\n",
        "    model.fit(x_train, train[category])\n",
        "    prediction = model.predict(x_test)\n",
        "    fbscore = fbeta_score(test[category], prediction, 0.5, average='micro')\n",
        "    fbs.append(fbscore)\n",
        "    print('Test acc {}, fbs {}'.format(\n",
        "        accuracy_score(test[category], prediction), \n",
        "        fbscore))\n",
        "  print('......{}'.format(np.mean(fbs)))\n",
        "\n",
        "print('..............................300...............................')\n",
        "for method, model in models.items():\n",
        "  fbs = []\n",
        "  for category in categories:\n",
        "    print('... {} Processing {}'.format(method, category))\n",
        "    model.fit(x_train300, train[category])\n",
        "    prediction = model.predict(x_test)\n",
        "    fbscore = fbeta_score(test[category], prediction, 0.5, average='micro')\n",
        "    fbs.append(fbscore)\n",
        "    print('Test acc {}, fbs {}'.format(\n",
        "        accuracy_score(test[category], prediction), \n",
        "        fbscore))\n",
        "  print('......{}'.format(np.mean(fbs)))"
      ],
      "execution_count": 0,
      "outputs": [
        {
          "output_type": "stream",
          "text": [
            "... SVC Processing 0\n",
            "Test acc 0.9845049586324037, fbs 0.9845049586324037\n",
            "... SVC Processing 1\n",
            "Test acc 0.9862144540025204, fbs 0.9862144540025204\n",
            "... SVC Processing 2\n",
            "Test acc 0.9913100652019068, fbs 0.9913100652019068\n",
            "... SVC Processing 3\n",
            "Test acc 0.9959015944331817, fbs 0.9959015944331818\n",
            "... SVC Processing 4\n",
            "Test acc 0.9928113528025861, fbs 0.992811352802586\n",
            "... SVC Processing 5\n",
            "Test acc 0.9760013149964385, fbs 0.9760013149964385\n",
            "... SVC Processing 6\n",
            "Test acc 0.9538984165251219, fbs 0.9538984165251219\n",
            "... SVC Processing 7\n",
            "Test acc 0.9886362391101857, fbs 0.9886362391101857\n",
            "... SVC Processing 8\n",
            "Test acc 0.989304695633116, fbs 0.9893046956331158\n",
            "... SVC Processing 9\n",
            "Test acc 0.9973152156046244, fbs 0.9973152156046244\n",
            "... SVC Processing 10\n",
            "Test acc 0.9891731959892609, fbs 0.9891731959892609\n",
            "... SVC Processing 11\n",
            "Test acc 0.9915511478823078, fbs 0.9915511478823078\n",
            "... SVC Processing 12\n",
            "Test acc 0.9728672401512246, fbs 0.9728672401512247\n",
            "... SVC Processing 13\n",
            "Test acc 0.98960056983179, fbs 0.98960056983179\n",
            "... SVC Processing 14\n",
            "Test acc 0.9616349789052655, fbs 0.9616349789052656\n",
            "... SVC Processing 15\n",
            "Test acc 0.9960659689880007, fbs 0.9960659689880007\n",
            "... SVC Processing 16\n",
            "Test acc 0.9988165032053038, fbs 0.9988165032053038\n",
            "... SVC Processing 17\n",
            "Test acc 0.9993425017807244, fbs 0.9993425017807245\n",
            "... SVC Processing 18\n",
            "Test acc 0.9706207879020328, fbs 0.9706207879020328\n",
            "... SVC Processing 19\n",
            "Test acc 0.995057805051778, fbs 0.9950578050517779\n",
            "......0.9860314503314888\n",
            "... LR Processing 0\n",
            "Test acc 0.9836392526436908, fbs 0.9836392526436907\n",
            "... LR Processing 1\n",
            "Test acc 0.9841871678264205, fbs 0.9841871678264204\n",
            "... LR Processing 2\n",
            "Test acc 0.9876280751739631, fbs 0.987628075173963\n",
            "... LR Processing 3\n",
            "Test acc 0.9937428086132267, fbs 0.9937428086132267\n",
            "... LR Processing 4\n",
            "Test acc 0.9906744835899403, fbs 0.9906744835899403\n",
            "... LR Processing 5\n",
            "Test acc 0.9726042408635144, fbs 0.9726042408635143\n",
            "... LR Processing 6\n",
            "Test acc 0.9528354610706262, fbs 0.9528354610706261\n",
            "... LR Processing 7\n",
            "Test acc 0.9863240370390663, fbs 0.9863240370390662\n",
            "... LR Processing 8\n",
            "Test acc 0.9852610815845707, fbs 0.9852610815845707\n",
            "... LR Processing 9\n",
            "Test acc 0.9955180538052709, fbs 0.9955180538052708\n",
            "... LR Processing 10\n",
            "Test acc 0.984713166401841, fbs 0.984713166401841\n",
            "... LR Processing 11\n",
            "Test acc 0.9881540737493836, fbs 0.9881540737493836\n",
            "... LR Processing 12\n",
            "Test acc 0.968429127171114, fbs 0.968429127171114\n",
            "... LR Processing 13\n",
            "Test acc 0.9883294066078571, fbs 0.988329406607857\n",
            "... LR Processing 14\n",
            "Test acc 0.9603309407703687, fbs 0.9603309407703687\n",
            "... LR Processing 15\n",
            "Test acc 0.9937318503095721, fbs 0.993731850309572\n",
            "... LR Processing 16\n",
            "Test acc 0.9978960056983179, fbs 0.9978960056983179\n",
            "... LR Processing 17\n",
            "Test acc 0.9984548791847022, fbs 0.9984548791847023\n",
            "... LR Processing 18\n",
            "Test acc 0.9695578324475371, fbs 0.969557832447537\n",
            "... LR Processing 19\n",
            "Test acc 0.9941153909374829, fbs 0.9941153909374828\n",
            "......0.9838063667744235\n",
            "..............................300...............................\n",
            "... SVC Processing 0\n",
            "Test acc 0.9844611254177853, fbs 0.9844611254177853\n",
            "... SVC Processing 1\n",
            "Test acc 0.9862802038244479, fbs 0.9862802038244478\n",
            "... SVC Processing 2\n",
            "Test acc 0.9913100652019068, fbs 0.9913100652019068\n",
            "... SVC Processing 3\n",
            "Test acc 0.9958906361295271, fbs 0.9958906361295272\n",
            "... SVC Processing 4\n",
            "Test acc 0.9928003944989315, fbs 0.9928003944989315\n",
            "... SVC Processing 5\n",
            "Test acc 0.9759793983891294, fbs 0.9759793983891294\n",
            "... SVC Processing 6\n",
            "Test acc 0.9538436250068489, fbs 0.9538436250068488\n",
            "... SVC Processing 7\n",
            "Test acc 0.9887348638430771, fbs 0.9887348638430771\n",
            "... SVC Processing 8\n",
            "Test acc 0.9892937373294614, fbs 0.9892937373294614\n",
            "... SVC Processing 9\n",
            "Test acc 0.9973371322119335, fbs 0.9973371322119335\n",
            "... SVC Processing 10\n",
            "Test acc 0.9892170292038792, fbs 0.9892170292038792\n",
            "... SVC Processing 11\n",
            "Test acc 0.9915511478823078, fbs 0.9915511478823078\n",
            "... SVC Processing 12\n",
            "Test acc 0.9728234069366062, fbs 0.9728234069366061\n",
            "... SVC Processing 13\n",
            "Test acc 0.9896115281354446, fbs 0.9896115281354446\n",
            "... SVC Processing 14\n",
            "Test acc 0.9616349789052655, fbs 0.9616349789052656\n",
            "... SVC Processing 15\n",
            "Test acc 0.9960659689880007, fbs 0.9960659689880007\n",
            "... SVC Processing 16\n",
            "Test acc 0.9988055449016492, fbs 0.9988055449016492\n",
            "... SVC Processing 17\n",
            "Test acc 0.9993425017807244, fbs 0.9993425017807245\n",
            "... SVC Processing 18\n",
            "Test acc 0.9706646211166512, fbs 0.9706646211166513\n",
            "... SVC Processing 19\n",
            "Test acc 0.995057805051778, fbs 0.9950578050517779\n",
            "......0.9860352857377679\n",
            "... LR Processing 0\n",
            "Test acc 0.9836502109473454, fbs 0.9836502109473454\n",
            "... LR Processing 1\n",
            "Test acc 0.9842310010410389, fbs 0.9842310010410389\n",
            "... LR Processing 2\n",
            "Test acc 0.9876390334776176, fbs 0.9876390334776176\n",
            "... LR Processing 3\n",
            "Test acc 0.9937428086132267, fbs 0.9937428086132267\n",
            "... LR Processing 4\n",
            "Test acc 0.990652566982631, fbs 0.990652566982631\n",
            "... LR Processing 5\n",
            "Test acc 0.9726151991671689, fbs 0.972615199167169\n",
            "... LR Processing 6\n",
            "Test acc 0.9528135444633171, fbs 0.9528135444633171\n",
            "... LR Processing 7\n",
            "Test acc 0.9863788285573393, fbs 0.9863788285573392\n",
            "... LR Processing 8\n",
            "Test acc 0.9853158731028436, fbs 0.9853158731028436\n",
            "... LR Processing 9\n",
            "Test acc 0.9955070955016163, fbs 0.9955070955016163\n",
            "... LR Processing 10\n",
            "Test acc 0.9847460413128047, fbs 0.9847460413128047\n",
            "... LR Processing 11\n",
            "Test acc 0.9881650320530382, fbs 0.9881650320530383\n",
            "... LR Processing 12\n",
            "Test acc 0.9684620020820777, fbs 0.9684620020820777\n",
            "... LR Processing 13\n",
            "Test acc 0.9883403649115117, fbs 0.9883403649115117\n",
            "... LR Processing 14\n",
            "Test acc 0.9602980658594049, fbs 0.960298065859405\n",
            "... LR Processing 15\n",
            "Test acc 0.9936989753986083, fbs 0.9936989753986082\n",
            "... LR Processing 16\n",
            "Test acc 0.9978960056983179, fbs 0.9978960056983179\n",
            "... LR Processing 17\n",
            "Test acc 0.9984548791847022, fbs 0.9984548791847023\n",
            "... LR Processing 18\n",
            "Test acc 0.9695687907511917, fbs 0.9695687907511917\n",
            "... LR Processing 19\n",
            "Test acc 0.9941044326338283, fbs 0.9941044326338283\n",
            "......0.9838140375869818\n"
          ],
          "name": "stdout"
        }
      ]
    },
    {
      "metadata": {
        "id": "LKTySQrf-xkI",
        "colab_type": "code",
        "colab": {}
      },
      "cell_type": "code",
      "source": [
        "data = open('/gdrive/My Drive/Colab Notebooks/AClassification.train.txt','r').readlines()\n",
        "data = [line.strip().split('\\t') for line in data]\n",
        "df = pd.DataFrame.from_records(data, columns=['id','labels','features'])\n",
        "df['features'] = df['features'].apply(lambda x: \" \".join([tok.split('/')[0] for tok in x.split(' ')[:300]]))\n",
        "categories = list(range(0, 20))\n",
        "for i in categories:\n",
        "  df[i] = df['labels'].apply(lambda x: 1 if i in [int(y) for y in x.split()] else 0)\n"
      ],
      "execution_count": 0,
      "outputs": []
    },
    {
      "metadata": {
        "id": "SJ_xERF1DOQ3",
        "colab_type": "code",
        "colab": {}
      },
      "cell_type": "code",
      "source": [
        "df['labels_count'] = df['labels'].apply(lambda x: len(x.split()))"
      ],
      "execution_count": 0,
      "outputs": []
    },
    {
      "metadata": {
        "id": "hZLFwKXqDObK",
        "colab_type": "code",
        "outputId": "c7adc8f2-37d5-4378-ccd9-f6f71c60fc23",
        "colab": {
          "base_uri": "https://localhost:8080/",
          "height": 269
        }
      },
      "cell_type": "code",
      "source": [
        "from matplotlib import pyplot as plt\n",
        "df['labels_count'].hist()\n",
        "plt.show()"
      ],
      "execution_count": 0,
      "outputs": [
        {
          "output_type": "display_data",
          "data": {
            "image/png": "[encoded data removed]",
            "text/plain": [
              "<Figure size 432x288 with 1 Axes>"
            ]
          },
          "metadata": {
            "tags": []
          }
        }
      ]
    },
    {
      "metadata": {
        "id": "IIez6nwmTz7w",
        "colab_type": "code",
        "colab": {}
      },
      "cell_type": "code",
      "source": [
        "\n",
        "SVC_pipeline = Pipeline([\n",
        "    ('tfidf', TfidfVectorizer(max_df=0.9,ngram_range=(1,2))),\n",
        "    ('clf', OneVsRestClassifier(LinearSVC(), n_jobs=1)),\n",
        "])\n",
        "LogReg_pipeline = Pipeline([\n",
        "    ('tfidf', TfidfVectorizer()),\n",
        "    ('clf', OneVsRestClassifier(LogisticRegression(solver='sag'), n_jobs=1)),\n",
        "])\n",
        "\n",
        "models = {'SVC':SVC_pipeline}#, 'LR':LogReg_pipeline}\n"
      ],
      "execution_count": 0,
      "outputs": []
    },
    {
      "metadata": {
        "id": "3VryHL88AyRU",
        "colab_type": "code",
        "colab": {}
      },
      "cell_type": "code",
      "source": [
        "train, test = train_test_split(df, random_state=42, test_size=0.3, shuffle=True)\n",
        "x_train = train.features\n",
        "x_test = test.features\n"
      ],
      "execution_count": 0,
      "outputs": []
    },
    {
      "metadata": {
        "id": "J2bNAV9yrSLi",
        "colab_type": "code",
        "colab": {}
      },
      "cell_type": "code",
      "source": [
        "from lightgbm import LGBMRegressor\n",
        "\n",
        "tfidv = TfidfVectorizer().fit(x_train)\n",
        "lgbm_reg = LGBMRegressor(n_estimators=1000, learning_rate=0.05, num_leaves=4, \n",
        "                         subsample=0.6, colsample_bytree=0.4, reg_lambda=10, n_jobs=-1)\n",
        "\n",
        "lgbm_reg.fit(tfidv.transform(x_train).toarray(), train[0])\n",
        "lgbm_pred = lgbm_reg.predict(x_test)\n",
        "print(fbeta_score(test[0], lgbm_pred, 0.5))\n",
        "fbeta_score(test[0], lgbm_pred, 0.5, average='micro')\n"
      ],
      "execution_count": 0,
      "outputs": []
    },
    {
      "metadata": {
        "id": "4psb39T2A5Yi",
        "colab_type": "code",
        "outputId": "9e7e061b-713e-4b84-a4f9-647bbab873af",
        "colab": {
          "base_uri": "https://localhost:8080/",
          "height": 2788
        }
      },
      "cell_type": "code",
      "source": [
        "for method, model in models.items():\n",
        "  for category in categories:\n",
        "    print('... {} Processing {}'.format(method, category))\n",
        "    model.fit(x_train, train[category])\n",
        "    prediction = model.predict(x_test)\n",
        "    test['p{}'.format(category)] = prediction[:]\n",
        "    print('Test acc {}, fbs {}'.format(\n",
        "        accuracy_score(test[category], prediction), \n",
        "        fbeta_score(test[category], prediction, 0.5)))\n",
        "\n",
        "  fscoreli = []  \n",
        "  yzli = []\n",
        "  yli = []\n",
        "  zli = []\n",
        "  preli = []\n",
        "  recli = []\n",
        "  for idx in range(0,len(test)):\n",
        "    yz = 0.0\n",
        "    y = 0.0\n",
        "    z = 0.0\n",
        "\n",
        "    for category in categories:\n",
        "      if test.iloc[idx][category] == 1:\n",
        "        y+=1\n",
        "        if test.iloc[idx][category] == test.iloc[idx]['p{}'.format(category)]:\n",
        "          yz+=1\n",
        "      if test.iloc[idx]['p{}'.format(category)] == 1:\n",
        "        z+=1\n",
        "    pre = yz/(z+Ep)\n",
        "    rec = yz/(y+Ep)\n",
        "\n",
        "    yzli.append(yz)\n",
        "    yli.append(y)\n",
        "    zli.append(z)\n",
        "    preli.append(pre)\n",
        "    recli.append(rec)\n",
        "    fscoreli.append(_fbscore(pre, rec))\n",
        "\n",
        "  print('mean1 {}'.format(np.mean(fscoreli)))\n",
        "  print('mean2 {}'.format(_fbscore(np.mean(preli), np.mean(recli))))\n",
        "  print('mean3 {}'.format((beta*beta+1)*np.sum(yzli)/(beta*beta*np.sum(yli)+np.sum(zli)+Ep)))\n"
      ],
      "execution_count": 0,
      "outputs": [
        {
          "output_type": "stream",
          "text": [
            "... SVC Processing 0\n"
          ],
          "name": "stdout"
        },
        {
          "output_type": "stream",
          "text": [
            "/usr/local/lib/python3.6/dist-packages/ipykernel_launcher.py:6: SettingWithCopyWarning: \n",
            "A value is trying to be set on a copy of a slice from a DataFrame.\n",
            "Try using .loc[row_indexer,col_indexer] = value instead\n",
            "\n",
            "See the caveats in the documentation: http://pandas.pydata.org/pandas-docs/stable/indexing.html#indexing-view-versus-copy\n",
            "  \n"
          ],
          "name": "stderr"
        },
        {
          "output_type": "stream",
          "text": [
            "Test acc 0.9850419155114788, fbs 0.6718329704111694\n",
            "... SVC Processing 1\n"
          ],
          "name": "stdout"
        },
        {
          "output_type": "stream",
          "text": [
            "/usr/local/lib/python3.6/dist-packages/ipykernel_launcher.py:6: SettingWithCopyWarning: \n",
            "A value is trying to be set on a copy of a slice from a DataFrame.\n",
            "Try using .loc[row_indexer,col_indexer] = value instead\n",
            "\n",
            "See the caveats in the documentation: http://pandas.pydata.org/pandas-docs/stable/indexing.html#indexing-view-versus-copy\n",
            "  \n"
          ],
          "name": "stderr"
        },
        {
          "output_type": "stream",
          "text": [
            "Test acc 0.9866637444523588, fbs 0.8871127682360876\n",
            "... SVC Processing 2\n"
          ],
          "name": "stdout"
        },
        {
          "output_type": "stream",
          "text": [
            "/usr/local/lib/python3.6/dist-packages/ipykernel_launcher.py:6: SettingWithCopyWarning: \n",
            "A value is trying to be set on a copy of a slice from a DataFrame.\n",
            "Try using .loc[row_indexer,col_indexer] = value instead\n",
            "\n",
            "See the caveats in the documentation: http://pandas.pydata.org/pandas-docs/stable/indexing.html#indexing-view-versus-copy\n",
            "  \n"
          ],
          "name": "stderr"
        },
        {
          "output_type": "stream",
          "text": [
            "Test acc 0.991167607254397, fbs 0.8348844848352129\n",
            "... SVC Processing 3\n"
          ],
          "name": "stdout"
        },
        {
          "output_type": "stream",
          "text": [
            "/usr/local/lib/python3.6/dist-packages/ipykernel_launcher.py:6: SettingWithCopyWarning: \n",
            "A value is trying to be set on a copy of a slice from a DataFrame.\n",
            "Try using .loc[row_indexer,col_indexer] = value instead\n",
            "\n",
            "See the caveats in the documentation: http://pandas.pydata.org/pandas-docs/stable/indexing.html#indexing-view-versus-copy\n",
            "  \n"
          ],
          "name": "stderr"
        },
        {
          "output_type": "stream",
          "text": [
            "Test acc 0.996109802202619, fbs 0.9325521066284999\n",
            "... SVC Processing 4\n"
          ],
          "name": "stdout"
        },
        {
          "output_type": "stream",
          "text": [
            "/usr/local/lib/python3.6/dist-packages/ipykernel_launcher.py:6: SettingWithCopyWarning: \n",
            "A value is trying to be set on a copy of a slice from a DataFrame.\n",
            "Try using .loc[row_indexer,col_indexer] = value instead\n",
            "\n",
            "See the caveats in the documentation: http://pandas.pydata.org/pandas-docs/stable/indexing.html#indexing-view-versus-copy\n",
            "  \n"
          ],
          "name": "stderr"
        },
        {
          "output_type": "stream",
          "text": [
            "Test acc 0.9930633937866419, fbs 0.85599293216845\n",
            "... SVC Processing 5\n"
          ],
          "name": "stdout"
        },
        {
          "output_type": "stream",
          "text": [
            "/usr/local/lib/python3.6/dist-packages/ipykernel_launcher.py:6: SettingWithCopyWarning: \n",
            "A value is trying to be set on a copy of a slice from a DataFrame.\n",
            "Try using .loc[row_indexer,col_indexer] = value instead\n",
            "\n",
            "See the caveats in the documentation: http://pandas.pydata.org/pandas-docs/stable/indexing.html#indexing-view-versus-copy\n",
            "  \n"
          ],
          "name": "stderr"
        },
        {
          "output_type": "stream",
          "text": [
            "Test acc 0.9791353898416525, fbs 0.9691670946946856\n",
            "... SVC Processing 6\n"
          ],
          "name": "stdout"
        },
        {
          "output_type": "stream",
          "text": [
            "/usr/local/lib/python3.6/dist-packages/ipykernel_launcher.py:6: SettingWithCopyWarning: \n",
            "A value is trying to be set on a copy of a slice from a DataFrame.\n",
            "Try using .loc[row_indexer,col_indexer] = value instead\n",
            "\n",
            "See the caveats in the documentation: http://pandas.pydata.org/pandas-docs/stable/indexing.html#indexing-view-versus-copy\n",
            "  \n"
          ],
          "name": "stderr"
        },
        {
          "output_type": "stream",
          "text": [
            "Test acc 0.9543148320639965, fbs 0.762407737337745\n",
            "... SVC Processing 7\n"
          ],
          "name": "stdout"
        },
        {
          "output_type": "stream",
          "text": [
            "/usr/local/lib/python3.6/dist-packages/ipykernel_launcher.py:6: SettingWithCopyWarning: \n",
            "A value is trying to be set on a copy of a slice from a DataFrame.\n",
            "Try using .loc[row_indexer,col_indexer] = value instead\n",
            "\n",
            "See the caveats in the documentation: http://pandas.pydata.org/pandas-docs/stable/indexing.html#indexing-view-versus-copy\n",
            "  \n"
          ],
          "name": "stderr"
        },
        {
          "output_type": "stream",
          "text": [
            "Test acc 0.9892389458111884, fbs 0.8291858390459199\n",
            "... SVC Processing 8\n"
          ],
          "name": "stdout"
        },
        {
          "output_type": "stream",
          "text": [
            "/usr/local/lib/python3.6/dist-packages/ipykernel_launcher.py:6: SettingWithCopyWarning: \n",
            "A value is trying to be set on a copy of a slice from a DataFrame.\n",
            "Try using .loc[row_indexer,col_indexer] = value instead\n",
            "\n",
            "See the caveats in the documentation: http://pandas.pydata.org/pandas-docs/stable/indexing.html#indexing-view-versus-copy\n",
            "  \n"
          ],
          "name": "stderr"
        },
        {
          "output_type": "stream",
          "text": [
            "Test acc 0.9892279875075338, fbs 0.9133316965381781\n",
            "... SVC Processing 9\n"
          ],
          "name": "stdout"
        },
        {
          "output_type": "stream",
          "text": [
            "/usr/local/lib/python3.6/dist-packages/ipykernel_launcher.py:6: SettingWithCopyWarning: \n",
            "A value is trying to be set on a copy of a slice from a DataFrame.\n",
            "Try using .loc[row_indexer,col_indexer] = value instead\n",
            "\n",
            "See the caveats in the documentation: http://pandas.pydata.org/pandas-docs/stable/indexing.html#indexing-view-versus-copy\n",
            "  \n"
          ],
          "name": "stderr"
        },
        {
          "output_type": "stream",
          "text": [
            "Test acc 0.9976877979288806, fbs 0.9723728705416961\n",
            "... SVC Processing 10\n"
          ],
          "name": "stdout"
        },
        {
          "output_type": "stream",
          "text": [
            "/usr/local/lib/python3.6/dist-packages/ipykernel_launcher.py:6: SettingWithCopyWarning: \n",
            "A value is trying to be set on a copy of a slice from a DataFrame.\n",
            "Try using .loc[row_indexer,col_indexer] = value instead\n",
            "\n",
            "See the caveats in the documentation: http://pandas.pydata.org/pandas-docs/stable/indexing.html#indexing-view-versus-copy\n",
            "  \n"
          ],
          "name": "stderr"
        },
        {
          "output_type": "stream",
          "text": [
            "Test acc 0.9907292751082133, fbs 0.9556125468534226\n",
            "... SVC Processing 11\n"
          ],
          "name": "stdout"
        },
        {
          "output_type": "stream",
          "text": [
            "/usr/local/lib/python3.6/dist-packages/ipykernel_launcher.py:6: SettingWithCopyWarning: \n",
            "A value is trying to be set on a copy of a slice from a DataFrame.\n",
            "Try using .loc[row_indexer,col_indexer] = value instead\n",
            "\n",
            "See the caveats in the documentation: http://pandas.pydata.org/pandas-docs/stable/indexing.html#indexing-view-versus-copy\n",
            "  \n"
          ],
          "name": "stderr"
        },
        {
          "output_type": "stream",
          "text": [
            "Test acc 0.9916607309188538, fbs 0.8952643094078623\n",
            "... SVC Processing 12\n"
          ],
          "name": "stdout"
        },
        {
          "output_type": "stream",
          "text": [
            "/usr/local/lib/python3.6/dist-packages/ipykernel_launcher.py:6: SettingWithCopyWarning: \n",
            "A value is trying to be set on a copy of a slice from a DataFrame.\n",
            "Try using .loc[row_indexer,col_indexer] = value instead\n",
            "\n",
            "See the caveats in the documentation: http://pandas.pydata.org/pandas-docs/stable/indexing.html#indexing-view-versus-copy\n",
            "  \n"
          ],
          "name": "stderr"
        },
        {
          "output_type": "stream",
          "text": [
            "Test acc 0.9751465673113802, fbs 0.8471782919926751\n",
            "... SVC Processing 13\n"
          ],
          "name": "stdout"
        },
        {
          "output_type": "stream",
          "text": [
            "/usr/local/lib/python3.6/dist-packages/ipykernel_launcher.py:6: SettingWithCopyWarning: \n",
            "A value is trying to be set on a copy of a slice from a DataFrame.\n",
            "Try using .loc[row_indexer,col_indexer] = value instead\n",
            "\n",
            "See the caveats in the documentation: http://pandas.pydata.org/pandas-docs/stable/indexing.html#indexing-view-versus-copy\n",
            "  \n"
          ],
          "name": "stderr"
        },
        {
          "output_type": "stream",
          "text": [
            "Test acc 0.9900279436743192, fbs 0.8977004716981133\n",
            "... SVC Processing 14\n"
          ],
          "name": "stdout"
        },
        {
          "output_type": "stream",
          "text": [
            "/usr/local/lib/python3.6/dist-packages/ipykernel_launcher.py:6: SettingWithCopyWarning: \n",
            "A value is trying to be set on a copy of a slice from a DataFrame.\n",
            "Try using .loc[row_indexer,col_indexer] = value instead\n",
            "\n",
            "See the caveats in the documentation: http://pandas.pydata.org/pandas-docs/stable/indexing.html#indexing-view-versus-copy\n",
            "  \n"
          ],
          "name": "stderr"
        },
        {
          "output_type": "stream",
          "text": [
            "Test acc 0.9630376417730535, fbs 0.7881700054141851\n",
            "... SVC Processing 15\n"
          ],
          "name": "stdout"
        },
        {
          "output_type": "stream",
          "text": [
            "/usr/local/lib/python3.6/dist-packages/ipykernel_launcher.py:6: SettingWithCopyWarning: \n",
            "A value is trying to be set on a copy of a slice from a DataFrame.\n",
            "Try using .loc[row_indexer,col_indexer] = value instead\n",
            "\n",
            "See the caveats in the documentation: http://pandas.pydata.org/pandas-docs/stable/indexing.html#indexing-view-versus-copy\n",
            "  \n"
          ],
          "name": "stderr"
        },
        {
          "output_type": "stream",
          "text": [
            "Test acc 0.9962960933647471, fbs 0.9483196263580056\n",
            "... SVC Processing 16\n"
          ],
          "name": "stdout"
        },
        {
          "output_type": "stream",
          "text": [
            "/usr/local/lib/python3.6/dist-packages/ipykernel_launcher.py:6: SettingWithCopyWarning: \n",
            "A value is trying to be set on a copy of a slice from a DataFrame.\n",
            "Try using .loc[row_indexer,col_indexer] = value instead\n",
            "\n",
            "See the caveats in the documentation: http://pandas.pydata.org/pandas-docs/stable/indexing.html#indexing-view-versus-copy\n",
            "  \n"
          ],
          "name": "stderr"
        },
        {
          "output_type": "stream",
          "text": [
            "Test acc 0.9988822530272314, fbs 0.9879774270058069\n",
            "... SVC Processing 17\n"
          ],
          "name": "stdout"
        },
        {
          "output_type": "stream",
          "text": [
            "/usr/local/lib/python3.6/dist-packages/ipykernel_launcher.py:6: SettingWithCopyWarning: \n",
            "A value is trying to be set on a copy of a slice from a DataFrame.\n",
            "Try using .loc[row_indexer,col_indexer] = value instead\n",
            "\n",
            "See the caveats in the documentation: http://pandas.pydata.org/pandas-docs/stable/indexing.html#indexing-view-versus-copy\n",
            "  \n"
          ],
          "name": "stderr"
        },
        {
          "output_type": "stream",
          "text": [
            "Test acc 0.9993753766916881, fbs 0.9915841969921296\n",
            "... SVC Processing 18\n"
          ],
          "name": "stdout"
        },
        {
          "output_type": "stream",
          "text": [
            "/usr/local/lib/python3.6/dist-packages/ipykernel_launcher.py:6: SettingWithCopyWarning: \n",
            "A value is trying to be set on a copy of a slice from a DataFrame.\n",
            "Try using .loc[row_indexer,col_indexer] = value instead\n",
            "\n",
            "See the caveats in the documentation: http://pandas.pydata.org/pandas-docs/stable/indexing.html#indexing-view-versus-copy\n",
            "  \n"
          ],
          "name": "stderr"
        },
        {
          "output_type": "stream",
          "text": [
            "Test acc 0.9702701221850858, fbs 0.7055603426428101\n",
            "... SVC Processing 19\n"
          ],
          "name": "stdout"
        },
        {
          "output_type": "stream",
          "text": [
            "/usr/local/lib/python3.6/dist-packages/ipykernel_launcher.py:6: SettingWithCopyWarning: \n",
            "A value is trying to be set on a copy of a slice from a DataFrame.\n",
            "Try using .loc[row_indexer,col_indexer] = value instead\n",
            "\n",
            "See the caveats in the documentation: http://pandas.pydata.org/pandas-docs/stable/indexing.html#indexing-view-versus-copy\n",
            "  \n"
          ],
          "name": "stderr"
        },
        {
          "output_type": "stream",
          "text": [
            "Test acc 0.9952769711248699, fbs 0.9613498136158525\n",
            "mean1 0.8580003004134011\n",
            "mean2 0.8627111935937128\n",
            "mean3 0.8946162226362463\n"
          ],
          "name": "stdout"
        }
      ]
    },
    {
      "metadata": {
        "id": "cHt-JovHUpRa",
        "colab_type": "code",
        "outputId": "2627eb94-aa6e-4583-dc62-3b4aaca80448",
        "colab": {
          "base_uri": "https://localhost:8080/",
          "height": 7259
        }
      },
      "cell_type": "code",
      "source": [
        "LogReg_pipeline1 = Pipeline([\n",
        "    ('tfidf', TfidfVectorizer(max_df=1.0,ngram_range=(1,1))),\n",
        "    ('clf', OneVsRestClassifier(LogisticRegression(solver='sag'), n_jobs=1)),\n",
        "])\n",
        "LogReg_pipeline2 = Pipeline([\n",
        "    ('tfidf', TfidfVectorizer(max_df=0.9,ngram_range=(1,1))),\n",
        "    ('clf', OneVsRestClassifier(LogisticRegression(solver='sag'), n_jobs=1)),\n",
        "])\n",
        "LogReg_pipeline3 = Pipeline([\n",
        "    ('tfidf', TfidfVectorizer(max_df=1.0,ngram_range=(1,2))),\n",
        "    ('clf', OneVsRestClassifier(LogisticRegression(solver='sag'), n_jobs=1)),\n",
        "])\n",
        "models = {'LR1':LogReg_pipeline1,'LR2':LogReg_pipeline2,'LR3':LogReg_pipeline3}\n",
        "\n",
        "for method, model in models.items():\n",
        "  for category in categories:\n",
        "    print('... {} Processing {}'.format(method, category))\n",
        "    model.fit(x_train, train[category])\n",
        "    prediction = model.predict(x_test)\n",
        "    test['p{}'.format(category)] = prediction\n",
        "    print('Test acc {}, fbs {}'.format(\n",
        "        accuracy_score(test[category], prediction), \n",
        "        fbeta_score(test[category], prediction, 0.5)))\n",
        "    \n",
        "  col = ['id','labels','features'] + ['p{}'.format(x) for x in range(0,20)]\n",
        "  gt = test.drop(columns=col)\n",
        "  col = ['id','labels','features'] + list(range(0,20))\n",
        "  pred = test.drop(columns=col)\n",
        "\n",
        "  print('.................................{}......................................'.format(method))\n",
        "  print('f0.5 score {}'.format(fbeta_score(gt.values,pred.values,0.5,average='micro')))\n",
        "  "
      ],
      "execution_count": 0,
      "outputs": [
        {
          "output_type": "stream",
          "text": [
            "... LR1 Processing 0\n"
          ],
          "name": "stdout"
        },
        {
          "output_type": "stream",
          "text": [
            "/usr/local/lib/python3.6/dist-packages/ipykernel_launcher.py:20: SettingWithCopyWarning: \n",
            "A value is trying to be set on a copy of a slice from a DataFrame.\n",
            "Try using .loc[row_indexer,col_indexer] = value instead\n",
            "\n",
            "See the caveats in the documentation: http://pandas.pydata.org/pandas-docs/stable/indexing.html#indexing-view-versus-copy\n"
          ],
          "name": "stderr"
        },
        {
          "output_type": "stream",
          "text": [
            "Test acc 0.9836502109473454, fbs 0.6326791128131483\n",
            "... LR1 Processing 1\n"
          ],
          "name": "stdout"
        },
        {
          "output_type": "stream",
          "text": [
            "/usr/local/lib/python3.6/dist-packages/ipykernel_launcher.py:20: SettingWithCopyWarning: \n",
            "A value is trying to be set on a copy of a slice from a DataFrame.\n",
            "Try using .loc[row_indexer,col_indexer] = value instead\n",
            "\n",
            "See the caveats in the documentation: http://pandas.pydata.org/pandas-docs/stable/indexing.html#indexing-view-versus-copy\n"
          ],
          "name": "stderr"
        },
        {
          "output_type": "stream",
          "text": [
            "Test acc 0.9842200427373843, fbs 0.884917737016195\n",
            "... LR1 Processing 2\n"
          ],
          "name": "stdout"
        },
        {
          "output_type": "stream",
          "text": [
            "/usr/local/lib/python3.6/dist-packages/ipykernel_launcher.py:20: SettingWithCopyWarning: \n",
            "A value is trying to be set on a copy of a slice from a DataFrame.\n",
            "Try using .loc[row_indexer,col_indexer] = value instead\n",
            "\n",
            "See the caveats in the documentation: http://pandas.pydata.org/pandas-docs/stable/indexing.html#indexing-view-versus-copy\n"
          ],
          "name": "stderr"
        },
        {
          "output_type": "stream",
          "text": [
            "Test acc 0.9876390334776176, fbs 0.7864923747276689\n",
            "... LR1 Processing 3\n"
          ],
          "name": "stdout"
        },
        {
          "output_type": "stream",
          "text": [
            "/usr/local/lib/python3.6/dist-packages/ipykernel_launcher.py:20: SettingWithCopyWarning: \n",
            "A value is trying to be set on a copy of a slice from a DataFrame.\n",
            "Try using .loc[row_indexer,col_indexer] = value instead\n",
            "\n",
            "See the caveats in the documentation: http://pandas.pydata.org/pandas-docs/stable/indexing.html#indexing-view-versus-copy\n"
          ],
          "name": "stderr"
        },
        {
          "output_type": "stream",
          "text": [
            "Test acc 0.9937428086132267, fbs 0.9151897466706717\n",
            "... LR1 Processing 4\n"
          ],
          "name": "stdout"
        },
        {
          "output_type": "stream",
          "text": [
            "/usr/local/lib/python3.6/dist-packages/ipykernel_launcher.py:20: SettingWithCopyWarning: \n",
            "A value is trying to be set on a copy of a slice from a DataFrame.\n",
            "Try using .loc[row_indexer,col_indexer] = value instead\n",
            "\n",
            "See the caveats in the documentation: http://pandas.pydata.org/pandas-docs/stable/indexing.html#indexing-view-versus-copy\n"
          ],
          "name": "stderr"
        },
        {
          "output_type": "stream",
          "text": [
            "Test acc 0.990652566982631, fbs 0.8296447622290318\n",
            "... LR1 Processing 5\n"
          ],
          "name": "stdout"
        },
        {
          "output_type": "stream",
          "text": [
            "/usr/local/lib/python3.6/dist-packages/ipykernel_launcher.py:20: SettingWithCopyWarning: \n",
            "A value is trying to be set on a copy of a slice from a DataFrame.\n",
            "Try using .loc[row_indexer,col_indexer] = value instead\n",
            "\n",
            "See the caveats in the documentation: http://pandas.pydata.org/pandas-docs/stable/indexing.html#indexing-view-versus-copy\n"
          ],
          "name": "stderr"
        },
        {
          "output_type": "stream",
          "text": [
            "Test acc 0.9726590323817873, fbs 0.9665799174228605\n",
            "... LR1 Processing 6\n"
          ],
          "name": "stdout"
        },
        {
          "output_type": "stream",
          "text": [
            "/usr/local/lib/python3.6/dist-packages/ipykernel_launcher.py:20: SettingWithCopyWarning: \n",
            "A value is trying to be set on a copy of a slice from a DataFrame.\n",
            "Try using .loc[row_indexer,col_indexer] = value instead\n",
            "\n",
            "See the caveats in the documentation: http://pandas.pydata.org/pandas-docs/stable/indexing.html#indexing-view-versus-copy\n"
          ],
          "name": "stderr"
        },
        {
          "output_type": "stream",
          "text": [
            "Test acc 0.9528025861596625, fbs 0.7646294966016467\n",
            "... LR1 Processing 7\n"
          ],
          "name": "stdout"
        },
        {
          "output_type": "stream",
          "text": [
            "/usr/local/lib/python3.6/dist-packages/ipykernel_launcher.py:20: SettingWithCopyWarning: \n",
            "A value is trying to be set on a copy of a slice from a DataFrame.\n",
            "Try using .loc[row_indexer,col_indexer] = value instead\n",
            "\n",
            "See the caveats in the documentation: http://pandas.pydata.org/pandas-docs/stable/indexing.html#indexing-view-versus-copy\n"
          ],
          "name": "stderr"
        },
        {
          "output_type": "stream",
          "text": [
            "Test acc 0.9863678702536848, fbs 0.792019347037485\n",
            "... LR1 Processing 8\n"
          ],
          "name": "stdout"
        },
        {
          "output_type": "stream",
          "text": [
            "/usr/local/lib/python3.6/dist-packages/ipykernel_launcher.py:20: SettingWithCopyWarning: \n",
            "A value is trying to be set on a copy of a slice from a DataFrame.\n",
            "Try using .loc[row_indexer,col_indexer] = value instead\n",
            "\n",
            "See the caveats in the documentation: http://pandas.pydata.org/pandas-docs/stable/indexing.html#indexing-view-versus-copy\n"
          ],
          "name": "stderr"
        },
        {
          "output_type": "stream",
          "text": [
            "Test acc 0.9853049147991891, fbs 0.8882581002492385\n",
            "... LR1 Processing 9\n"
          ],
          "name": "stdout"
        },
        {
          "output_type": "stream",
          "text": [
            "/usr/local/lib/python3.6/dist-packages/ipykernel_launcher.py:20: SettingWithCopyWarning: \n",
            "A value is trying to be set on a copy of a slice from a DataFrame.\n",
            "Try using .loc[row_indexer,col_indexer] = value instead\n",
            "\n",
            "See the caveats in the documentation: http://pandas.pydata.org/pandas-docs/stable/indexing.html#indexing-view-versus-copy\n"
          ],
          "name": "stderr"
        },
        {
          "output_type": "stream",
          "text": [
            "Test acc 0.9955180538052709, fbs 0.9563500033473922\n",
            "... LR1 Processing 10\n"
          ],
          "name": "stdout"
        },
        {
          "output_type": "stream",
          "text": [
            "/usr/local/lib/python3.6/dist-packages/ipykernel_launcher.py:20: SettingWithCopyWarning: \n",
            "A value is trying to be set on a copy of a slice from a DataFrame.\n",
            "Try using .loc[row_indexer,col_indexer] = value instead\n",
            "\n",
            "See the caveats in the documentation: http://pandas.pydata.org/pandas-docs/stable/indexing.html#indexing-view-versus-copy\n"
          ],
          "name": "stderr"
        },
        {
          "output_type": "stream",
          "text": [
            "Test acc 0.9847350830091501, fbs 0.9279018532118019\n",
            "... LR1 Processing 11\n"
          ],
          "name": "stdout"
        },
        {
          "output_type": "stream",
          "text": [
            "/usr/local/lib/python3.6/dist-packages/ipykernel_launcher.py:20: SettingWithCopyWarning: \n",
            "A value is trying to be set on a copy of a slice from a DataFrame.\n",
            "Try using .loc[row_indexer,col_indexer] = value instead\n",
            "\n",
            "See the caveats in the documentation: http://pandas.pydata.org/pandas-docs/stable/indexing.html#indexing-view-versus-copy\n"
          ],
          "name": "stderr"
        },
        {
          "output_type": "stream",
          "text": [
            "Test acc 0.9881650320530382, fbs 0.8716342634019361\n",
            "... LR1 Processing 12\n"
          ],
          "name": "stdout"
        },
        {
          "output_type": "stream",
          "text": [
            "/usr/local/lib/python3.6/dist-packages/ipykernel_launcher.py:20: SettingWithCopyWarning: \n",
            "A value is trying to be set on a copy of a slice from a DataFrame.\n",
            "Try using .loc[row_indexer,col_indexer] = value instead\n",
            "\n",
            "See the caveats in the documentation: http://pandas.pydata.org/pandas-docs/stable/indexing.html#indexing-view-versus-copy\n"
          ],
          "name": "stderr"
        },
        {
          "output_type": "stream",
          "text": [
            "Test acc 0.9684729603857323, fbs 0.8186980557331429\n",
            "... LR1 Processing 13\n"
          ],
          "name": "stdout"
        },
        {
          "output_type": "stream",
          "text": [
            "/usr/local/lib/python3.6/dist-packages/ipykernel_launcher.py:20: SettingWithCopyWarning: \n",
            "A value is trying to be set on a copy of a slice from a DataFrame.\n",
            "Try using .loc[row_indexer,col_indexer] = value instead\n",
            "\n",
            "See the caveats in the documentation: http://pandas.pydata.org/pandas-docs/stable/indexing.html#indexing-view-versus-copy\n"
          ],
          "name": "stderr"
        },
        {
          "output_type": "stream",
          "text": [
            "Test acc 0.9883294066078571, fbs 0.890042531898924\n",
            "... LR1 Processing 14\n"
          ],
          "name": "stdout"
        },
        {
          "output_type": "stream",
          "text": [
            "/usr/local/lib/python3.6/dist-packages/ipykernel_launcher.py:20: SettingWithCopyWarning: \n",
            "A value is trying to be set on a copy of a slice from a DataFrame.\n",
            "Try using .loc[row_indexer,col_indexer] = value instead\n",
            "\n",
            "See the caveats in the documentation: http://pandas.pydata.org/pandas-docs/stable/indexing.html#indexing-view-versus-copy\n"
          ],
          "name": "stderr"
        },
        {
          "output_type": "stream",
          "text": [
            "Test acc 0.9602761492520958, fbs 0.7807630151217824\n",
            "... LR1 Processing 15\n"
          ],
          "name": "stdout"
        },
        {
          "output_type": "stream",
          "text": [
            "/usr/local/lib/python3.6/dist-packages/ipykernel_launcher.py:20: SettingWithCopyWarning: \n",
            "A value is trying to be set on a copy of a slice from a DataFrame.\n",
            "Try using .loc[row_indexer,col_indexer] = value instead\n",
            "\n",
            "See the caveats in the documentation: http://pandas.pydata.org/pandas-docs/stable/indexing.html#indexing-view-versus-copy\n"
          ],
          "name": "stderr"
        },
        {
          "output_type": "stream",
          "text": [
            "Test acc 0.9936989753986083, fbs 0.9217909080499255\n",
            "... LR1 Processing 16\n"
          ],
          "name": "stdout"
        },
        {
          "output_type": "stream",
          "text": [
            "/usr/local/lib/python3.6/dist-packages/ipykernel_launcher.py:20: SettingWithCopyWarning: \n",
            "A value is trying to be set on a copy of a slice from a DataFrame.\n",
            "Try using .loc[row_indexer,col_indexer] = value instead\n",
            "\n",
            "See the caveats in the documentation: http://pandas.pydata.org/pandas-docs/stable/indexing.html#indexing-view-versus-copy\n"
          ],
          "name": "stderr"
        },
        {
          "output_type": "stream",
          "text": [
            "Test acc 0.9978960056983179, fbs 0.9812293903779489\n",
            "... LR1 Processing 17\n"
          ],
          "name": "stdout"
        },
        {
          "output_type": "stream",
          "text": [
            "/usr/local/lib/python3.6/dist-packages/ipykernel_launcher.py:20: SettingWithCopyWarning: \n",
            "A value is trying to be set on a copy of a slice from a DataFrame.\n",
            "Try using .loc[row_indexer,col_indexer] = value instead\n",
            "\n",
            "See the caveats in the documentation: http://pandas.pydata.org/pandas-docs/stable/indexing.html#indexing-view-versus-copy\n"
          ],
          "name": "stderr"
        },
        {
          "output_type": "stream",
          "text": [
            "Test acc 0.9984548791847022, fbs 0.9853283091477593\n",
            "... LR1 Processing 18\n"
          ],
          "name": "stdout"
        },
        {
          "output_type": "stream",
          "text": [
            "/usr/local/lib/python3.6/dist-packages/ipykernel_launcher.py:20: SettingWithCopyWarning: \n",
            "A value is trying to be set on a copy of a slice from a DataFrame.\n",
            "Try using .loc[row_indexer,col_indexer] = value instead\n",
            "\n",
            "See the caveats in the documentation: http://pandas.pydata.org/pandas-docs/stable/indexing.html#indexing-view-versus-copy\n"
          ],
          "name": "stderr"
        },
        {
          "output_type": "stream",
          "text": [
            "Test acc 0.9695687907511917, fbs 0.7032575964960307\n",
            "... LR1 Processing 19\n"
          ],
          "name": "stdout"
        },
        {
          "output_type": "stream",
          "text": [
            "/usr/local/lib/python3.6/dist-packages/ipykernel_launcher.py:20: SettingWithCopyWarning: \n",
            "A value is trying to be set on a copy of a slice from a DataFrame.\n",
            "Try using .loc[row_indexer,col_indexer] = value instead\n",
            "\n",
            "See the caveats in the documentation: http://pandas.pydata.org/pandas-docs/stable/indexing.html#indexing-view-versus-copy\n"
          ],
          "name": "stderr"
        },
        {
          "output_type": "stream",
          "text": [
            "Test acc 0.9941044326338283, fbs 0.9591784989858011\n",
            ".................................LR1......................................\n",
            "f0.5 score 0.8862154509121252\n",
            "... LR2 Processing 0\n"
          ],
          "name": "stdout"
        },
        {
          "output_type": "stream",
          "text": [
            "/usr/local/lib/python3.6/dist-packages/ipykernel_launcher.py:20: SettingWithCopyWarning: \n",
            "A value is trying to be set on a copy of a slice from a DataFrame.\n",
            "Try using .loc[row_indexer,col_indexer] = value instead\n",
            "\n",
            "See the caveats in the documentation: http://pandas.pydata.org/pandas-docs/stable/indexing.html#indexing-view-versus-copy\n"
          ],
          "name": "stderr"
        },
        {
          "output_type": "stream",
          "text": [
            "Test acc 0.9836502109473454, fbs 0.6326791128131483\n",
            "... LR2 Processing 1\n"
          ],
          "name": "stdout"
        },
        {
          "output_type": "stream",
          "text": [
            "/usr/local/lib/python3.6/dist-packages/ipykernel_launcher.py:20: SettingWithCopyWarning: \n",
            "A value is trying to be set on a copy of a slice from a DataFrame.\n",
            "Try using .loc[row_indexer,col_indexer] = value instead\n",
            "\n",
            "See the caveats in the documentation: http://pandas.pydata.org/pandas-docs/stable/indexing.html#indexing-view-versus-copy\n"
          ],
          "name": "stderr"
        },
        {
          "output_type": "stream",
          "text": [
            "Test acc 0.9842200427373843, fbs 0.884917737016195\n",
            "... LR2 Processing 2\n"
          ],
          "name": "stdout"
        },
        {
          "output_type": "stream",
          "text": [
            "/usr/local/lib/python3.6/dist-packages/ipykernel_launcher.py:20: SettingWithCopyWarning: \n",
            "A value is trying to be set on a copy of a slice from a DataFrame.\n",
            "Try using .loc[row_indexer,col_indexer] = value instead\n",
            "\n",
            "See the caveats in the documentation: http://pandas.pydata.org/pandas-docs/stable/indexing.html#indexing-view-versus-copy\n"
          ],
          "name": "stderr"
        },
        {
          "output_type": "stream",
          "text": [
            "Test acc 0.9876390334776176, fbs 0.7864923747276689\n",
            "... LR2 Processing 3\n"
          ],
          "name": "stdout"
        },
        {
          "output_type": "stream",
          "text": [
            "/usr/local/lib/python3.6/dist-packages/ipykernel_launcher.py:20: SettingWithCopyWarning: \n",
            "A value is trying to be set on a copy of a slice from a DataFrame.\n",
            "Try using .loc[row_indexer,col_indexer] = value instead\n",
            "\n",
            "See the caveats in the documentation: http://pandas.pydata.org/pandas-docs/stable/indexing.html#indexing-view-versus-copy\n"
          ],
          "name": "stderr"
        },
        {
          "output_type": "stream",
          "text": [
            "Test acc 0.9937428086132267, fbs 0.9151897466706717\n",
            "... LR2 Processing 4\n"
          ],
          "name": "stdout"
        },
        {
          "output_type": "stream",
          "text": [
            "/usr/local/lib/python3.6/dist-packages/ipykernel_launcher.py:20: SettingWithCopyWarning: \n",
            "A value is trying to be set on a copy of a slice from a DataFrame.\n",
            "Try using .loc[row_indexer,col_indexer] = value instead\n",
            "\n",
            "See the caveats in the documentation: http://pandas.pydata.org/pandas-docs/stable/indexing.html#indexing-view-versus-copy\n"
          ],
          "name": "stderr"
        },
        {
          "output_type": "stream",
          "text": [
            "Test acc 0.990652566982631, fbs 0.8296447622290318\n",
            "... LR2 Processing 5\n"
          ],
          "name": "stdout"
        },
        {
          "output_type": "stream",
          "text": [
            "/usr/local/lib/python3.6/dist-packages/ipykernel_launcher.py:20: SettingWithCopyWarning: \n",
            "A value is trying to be set on a copy of a slice from a DataFrame.\n",
            "Try using .loc[row_indexer,col_indexer] = value instead\n",
            "\n",
            "See the caveats in the documentation: http://pandas.pydata.org/pandas-docs/stable/indexing.html#indexing-view-versus-copy\n"
          ],
          "name": "stderr"
        },
        {
          "output_type": "stream",
          "text": [
            "Test acc 0.9726590323817873, fbs 0.9665799174228605\n",
            "... LR2 Processing 6\n"
          ],
          "name": "stdout"
        },
        {
          "output_type": "stream",
          "text": [
            "/usr/local/lib/python3.6/dist-packages/ipykernel_launcher.py:20: SettingWithCopyWarning: \n",
            "A value is trying to be set on a copy of a slice from a DataFrame.\n",
            "Try using .loc[row_indexer,col_indexer] = value instead\n",
            "\n",
            "See the caveats in the documentation: http://pandas.pydata.org/pandas-docs/stable/indexing.html#indexing-view-versus-copy\n"
          ],
          "name": "stderr"
        },
        {
          "output_type": "stream",
          "text": [
            "Test acc 0.9528025861596625, fbs 0.7646294966016467\n",
            "... LR2 Processing 7\n"
          ],
          "name": "stdout"
        },
        {
          "output_type": "stream",
          "text": [
            "/usr/local/lib/python3.6/dist-packages/ipykernel_launcher.py:20: SettingWithCopyWarning: \n",
            "A value is trying to be set on a copy of a slice from a DataFrame.\n",
            "Try using .loc[row_indexer,col_indexer] = value instead\n",
            "\n",
            "See the caveats in the documentation: http://pandas.pydata.org/pandas-docs/stable/indexing.html#indexing-view-versus-copy\n"
          ],
          "name": "stderr"
        },
        {
          "output_type": "stream",
          "text": [
            "Test acc 0.9863678702536848, fbs 0.792019347037485\n",
            "... LR2 Processing 8\n"
          ],
          "name": "stdout"
        },
        {
          "output_type": "stream",
          "text": [
            "/usr/local/lib/python3.6/dist-packages/ipykernel_launcher.py:20: SettingWithCopyWarning: \n",
            "A value is trying to be set on a copy of a slice from a DataFrame.\n",
            "Try using .loc[row_indexer,col_indexer] = value instead\n",
            "\n",
            "See the caveats in the documentation: http://pandas.pydata.org/pandas-docs/stable/indexing.html#indexing-view-versus-copy\n"
          ],
          "name": "stderr"
        },
        {
          "output_type": "stream",
          "text": [
            "Test acc 0.9853049147991891, fbs 0.8882581002492385\n",
            "... LR2 Processing 9\n"
          ],
          "name": "stdout"
        },
        {
          "output_type": "stream",
          "text": [
            "/usr/local/lib/python3.6/dist-packages/ipykernel_launcher.py:20: SettingWithCopyWarning: \n",
            "A value is trying to be set on a copy of a slice from a DataFrame.\n",
            "Try using .loc[row_indexer,col_indexer] = value instead\n",
            "\n",
            "See the caveats in the documentation: http://pandas.pydata.org/pandas-docs/stable/indexing.html#indexing-view-versus-copy\n"
          ],
          "name": "stderr"
        },
        {
          "output_type": "stream",
          "text": [
            "Test acc 0.9955180538052709, fbs 0.9563500033473922\n",
            "... LR2 Processing 10\n"
          ],
          "name": "stdout"
        },
        {
          "output_type": "stream",
          "text": [
            "/usr/local/lib/python3.6/dist-packages/ipykernel_launcher.py:20: SettingWithCopyWarning: \n",
            "A value is trying to be set on a copy of a slice from a DataFrame.\n",
            "Try using .loc[row_indexer,col_indexer] = value instead\n",
            "\n",
            "See the caveats in the documentation: http://pandas.pydata.org/pandas-docs/stable/indexing.html#indexing-view-versus-copy\n"
          ],
          "name": "stderr"
        },
        {
          "output_type": "stream",
          "text": [
            "Test acc 0.9847350830091501, fbs 0.9279018532118019\n",
            "... LR2 Processing 11\n"
          ],
          "name": "stdout"
        },
        {
          "output_type": "stream",
          "text": [
            "/usr/local/lib/python3.6/dist-packages/ipykernel_launcher.py:20: SettingWithCopyWarning: \n",
            "A value is trying to be set on a copy of a slice from a DataFrame.\n",
            "Try using .loc[row_indexer,col_indexer] = value instead\n",
            "\n",
            "See the caveats in the documentation: http://pandas.pydata.org/pandas-docs/stable/indexing.html#indexing-view-versus-copy\n"
          ],
          "name": "stderr"
        },
        {
          "output_type": "stream",
          "text": [
            "Test acc 0.9881650320530382, fbs 0.8716342634019361\n",
            "... LR2 Processing 12\n"
          ],
          "name": "stdout"
        },
        {
          "output_type": "stream",
          "text": [
            "/usr/local/lib/python3.6/dist-packages/ipykernel_launcher.py:20: SettingWithCopyWarning: \n",
            "A value is trying to be set on a copy of a slice from a DataFrame.\n",
            "Try using .loc[row_indexer,col_indexer] = value instead\n",
            "\n",
            "See the caveats in the documentation: http://pandas.pydata.org/pandas-docs/stable/indexing.html#indexing-view-versus-copy\n"
          ],
          "name": "stderr"
        },
        {
          "output_type": "stream",
          "text": [
            "Test acc 0.9684729603857323, fbs 0.8186980557331429\n",
            "... LR2 Processing 13\n"
          ],
          "name": "stdout"
        },
        {
          "output_type": "stream",
          "text": [
            "/usr/local/lib/python3.6/dist-packages/ipykernel_launcher.py:20: SettingWithCopyWarning: \n",
            "A value is trying to be set on a copy of a slice from a DataFrame.\n",
            "Try using .loc[row_indexer,col_indexer] = value instead\n",
            "\n",
            "See the caveats in the documentation: http://pandas.pydata.org/pandas-docs/stable/indexing.html#indexing-view-versus-copy\n"
          ],
          "name": "stderr"
        },
        {
          "output_type": "stream",
          "text": [
            "Test acc 0.9883294066078571, fbs 0.890042531898924\n",
            "... LR2 Processing 14\n"
          ],
          "name": "stdout"
        },
        {
          "output_type": "stream",
          "text": [
            "/usr/local/lib/python3.6/dist-packages/ipykernel_launcher.py:20: SettingWithCopyWarning: \n",
            "A value is trying to be set on a copy of a slice from a DataFrame.\n",
            "Try using .loc[row_indexer,col_indexer] = value instead\n",
            "\n",
            "See the caveats in the documentation: http://pandas.pydata.org/pandas-docs/stable/indexing.html#indexing-view-versus-copy\n"
          ],
          "name": "stderr"
        },
        {
          "output_type": "stream",
          "text": [
            "Test acc 0.9602761492520958, fbs 0.7807630151217824\n",
            "... LR2 Processing 15\n"
          ],
          "name": "stdout"
        },
        {
          "output_type": "stream",
          "text": [
            "/usr/local/lib/python3.6/dist-packages/ipykernel_launcher.py:20: SettingWithCopyWarning: \n",
            "A value is trying to be set on a copy of a slice from a DataFrame.\n",
            "Try using .loc[row_indexer,col_indexer] = value instead\n",
            "\n",
            "See the caveats in the documentation: http://pandas.pydata.org/pandas-docs/stable/indexing.html#indexing-view-versus-copy\n"
          ],
          "name": "stderr"
        },
        {
          "output_type": "stream",
          "text": [
            "Test acc 0.9936989753986083, fbs 0.9217909080499255\n",
            "... LR2 Processing 16\n"
          ],
          "name": "stdout"
        },
        {
          "output_type": "stream",
          "text": [
            "/usr/local/lib/python3.6/dist-packages/ipykernel_launcher.py:20: SettingWithCopyWarning: \n",
            "A value is trying to be set on a copy of a slice from a DataFrame.\n",
            "Try using .loc[row_indexer,col_indexer] = value instead\n",
            "\n",
            "See the caveats in the documentation: http://pandas.pydata.org/pandas-docs/stable/indexing.html#indexing-view-versus-copy\n"
          ],
          "name": "stderr"
        },
        {
          "output_type": "stream",
          "text": [
            "Test acc 0.9978960056983179, fbs 0.9812293903779489\n",
            "... LR2 Processing 17\n"
          ],
          "name": "stdout"
        },
        {
          "output_type": "stream",
          "text": [
            "/usr/local/lib/python3.6/dist-packages/ipykernel_launcher.py:20: SettingWithCopyWarning: \n",
            "A value is trying to be set on a copy of a slice from a DataFrame.\n",
            "Try using .loc[row_indexer,col_indexer] = value instead\n",
            "\n",
            "See the caveats in the documentation: http://pandas.pydata.org/pandas-docs/stable/indexing.html#indexing-view-versus-copy\n"
          ],
          "name": "stderr"
        },
        {
          "output_type": "stream",
          "text": [
            "Test acc 0.9984548791847022, fbs 0.9853283091477593\n",
            "... LR2 Processing 18\n"
          ],
          "name": "stdout"
        },
        {
          "output_type": "stream",
          "text": [
            "/usr/local/lib/python3.6/dist-packages/ipykernel_launcher.py:20: SettingWithCopyWarning: \n",
            "A value is trying to be set on a copy of a slice from a DataFrame.\n",
            "Try using .loc[row_indexer,col_indexer] = value instead\n",
            "\n",
            "See the caveats in the documentation: http://pandas.pydata.org/pandas-docs/stable/indexing.html#indexing-view-versus-copy\n"
          ],
          "name": "stderr"
        },
        {
          "output_type": "stream",
          "text": [
            "Test acc 0.9695687907511917, fbs 0.7032575964960307\n",
            "... LR2 Processing 19\n"
          ],
          "name": "stdout"
        },
        {
          "output_type": "stream",
          "text": [
            "/usr/local/lib/python3.6/dist-packages/ipykernel_launcher.py:20: SettingWithCopyWarning: \n",
            "A value is trying to be set on a copy of a slice from a DataFrame.\n",
            "Try using .loc[row_indexer,col_indexer] = value instead\n",
            "\n",
            "See the caveats in the documentation: http://pandas.pydata.org/pandas-docs/stable/indexing.html#indexing-view-versus-copy\n"
          ],
          "name": "stderr"
        },
        {
          "output_type": "stream",
          "text": [
            "Test acc 0.9941044326338283, fbs 0.9591784989858011\n",
            ".................................LR2......................................\n",
            "f0.5 score 0.8862154509121252\n",
            "... LR3 Processing 0\n"
          ],
          "name": "stdout"
        },
        {
          "output_type": "stream",
          "text": [
            "/usr/local/lib/python3.6/dist-packages/ipykernel_launcher.py:20: SettingWithCopyWarning: \n",
            "A value is trying to be set on a copy of a slice from a DataFrame.\n",
            "Try using .loc[row_indexer,col_indexer] = value instead\n",
            "\n",
            "See the caveats in the documentation: http://pandas.pydata.org/pandas-docs/stable/indexing.html#indexing-view-versus-copy\n"
          ],
          "name": "stderr"
        },
        {
          "output_type": "stream",
          "text": [
            "Test acc 0.9835406279107994, fbs 0.6286297284570711\n",
            "... LR3 Processing 1\n"
          ],
          "name": "stdout"
        },
        {
          "output_type": "stream",
          "text": [
            "/usr/local/lib/python3.6/dist-packages/ipykernel_launcher.py:20: SettingWithCopyWarning: \n",
            "A value is trying to be set on a copy of a slice from a DataFrame.\n",
            "Try using .loc[row_indexer,col_indexer] = value instead\n",
            "\n",
            "See the caveats in the documentation: http://pandas.pydata.org/pandas-docs/stable/indexing.html#indexing-view-versus-copy\n"
          ],
          "name": "stderr"
        },
        {
          "output_type": "stream",
          "text": [
            "Test acc 0.9837488356802367, fbs 0.876114420923649\n",
            "... LR3 Processing 2\n"
          ],
          "name": "stdout"
        },
        {
          "output_type": "stream",
          "text": [
            "/usr/local/lib/python3.6/dist-packages/ipykernel_launcher.py:20: SettingWithCopyWarning: \n",
            "A value is trying to be set on a copy of a slice from a DataFrame.\n",
            "Try using .loc[row_indexer,col_indexer] = value instead\n",
            "\n",
            "See the caveats in the documentation: http://pandas.pydata.org/pandas-docs/stable/indexing.html#indexing-view-versus-copy\n"
          ],
          "name": "stderr"
        },
        {
          "output_type": "stream",
          "text": [
            "Test acc 0.9866527861487042, fbs 0.7586258851890915\n",
            "... LR3 Processing 3\n"
          ],
          "name": "stdout"
        },
        {
          "output_type": "stream",
          "text": [
            "/usr/local/lib/python3.6/dist-packages/ipykernel_launcher.py:20: SettingWithCopyWarning: \n",
            "A value is trying to be set on a copy of a slice from a DataFrame.\n",
            "Try using .loc[row_indexer,col_indexer] = value instead\n",
            "\n",
            "See the caveats in the documentation: http://pandas.pydata.org/pandas-docs/stable/indexing.html#indexing-view-versus-copy\n"
          ],
          "name": "stderr"
        },
        {
          "output_type": "stream",
          "text": [
            "Test acc 0.9933483096816613, fbs 0.9075359694134219\n",
            "... LR3 Processing 4\n"
          ],
          "name": "stdout"
        },
        {
          "output_type": "stream",
          "text": [
            "/usr/local/lib/python3.6/dist-packages/ipykernel_launcher.py:20: SettingWithCopyWarning: \n",
            "A value is trying to be set on a copy of a slice from a DataFrame.\n",
            "Try using .loc[row_indexer,col_indexer] = value instead\n",
            "\n",
            "See the caveats in the documentation: http://pandas.pydata.org/pandas-docs/stable/indexing.html#indexing-view-versus-copy\n"
          ],
          "name": "stderr"
        },
        {
          "output_type": "stream",
          "text": [
            "Test acc 0.9907511917155224, fbs 0.8269720101781172\n",
            "... LR3 Processing 5\n"
          ],
          "name": "stdout"
        },
        {
          "output_type": "stream",
          "text": [
            "/usr/local/lib/python3.6/dist-packages/ipykernel_launcher.py:20: SettingWithCopyWarning: \n",
            "A value is trying to be set on a copy of a slice from a DataFrame.\n",
            "Try using .loc[row_indexer,col_indexer] = value instead\n",
            "\n",
            "See the caveats in the documentation: http://pandas.pydata.org/pandas-docs/stable/indexing.html#indexing-view-versus-copy\n"
          ],
          "name": "stderr"
        },
        {
          "output_type": "stream",
          "text": [
            "Test acc 0.9726590323817873, fbs 0.9644040676732211\n",
            "... LR3 Processing 6\n"
          ],
          "name": "stdout"
        },
        {
          "output_type": "stream",
          "text": [
            "/usr/local/lib/python3.6/dist-packages/ipykernel_launcher.py:20: SettingWithCopyWarning: \n",
            "A value is trying to be set on a copy of a slice from a DataFrame.\n",
            "Try using .loc[row_indexer,col_indexer] = value instead\n",
            "\n",
            "See the caveats in the documentation: http://pandas.pydata.org/pandas-docs/stable/indexing.html#indexing-view-versus-copy\n"
          ],
          "name": "stderr"
        },
        {
          "output_type": "stream",
          "text": [
            "Test acc 0.9524847953536792, fbs 0.7548079428779904\n",
            "... LR3 Processing 7\n"
          ],
          "name": "stdout"
        },
        {
          "output_type": "stream",
          "text": [
            "/usr/local/lib/python3.6/dist-packages/ipykernel_launcher.py:20: SettingWithCopyWarning: \n",
            "A value is trying to be set on a copy of a slice from a DataFrame.\n",
            "Try using .loc[row_indexer,col_indexer] = value instead\n",
            "\n",
            "See the caveats in the documentation: http://pandas.pydata.org/pandas-docs/stable/indexing.html#indexing-view-versus-copy\n"
          ],
          "name": "stderr"
        },
        {
          "output_type": "stream",
          "text": [
            "Test acc 0.9862473289134842, fbs 0.7892129884424876\n",
            "... LR3 Processing 8\n"
          ],
          "name": "stdout"
        },
        {
          "output_type": "stream",
          "text": [
            "/usr/local/lib/python3.6/dist-packages/ipykernel_launcher.py:20: SettingWithCopyWarning: \n",
            "A value is trying to be set on a copy of a slice from a DataFrame.\n",
            "Try using .loc[row_indexer,col_indexer] = value instead\n",
            "\n",
            "See the caveats in the documentation: http://pandas.pydata.org/pandas-docs/stable/indexing.html#indexing-view-versus-copy\n"
          ],
          "name": "stderr"
        },
        {
          "output_type": "stream",
          "text": [
            "Test acc 0.984011834967947, fbs 0.8776289253817343\n",
            "... LR3 Processing 9\n"
          ],
          "name": "stdout"
        },
        {
          "output_type": "stream",
          "text": [
            "/usr/local/lib/python3.6/dist-packages/ipykernel_launcher.py:20: SettingWithCopyWarning: \n",
            "A value is trying to be set on a copy of a slice from a DataFrame.\n",
            "Try using .loc[row_indexer,col_indexer] = value instead\n",
            "\n",
            "See the caveats in the documentation: http://pandas.pydata.org/pandas-docs/stable/indexing.html#indexing-view-versus-copy\n"
          ],
          "name": "stderr"
        },
        {
          "output_type": "stream",
          "text": [
            "Test acc 0.9960111774697277, fbs 0.958786679854929\n",
            "... LR3 Processing 10\n"
          ],
          "name": "stdout"
        },
        {
          "output_type": "stream",
          "text": [
            "/usr/local/lib/python3.6/dist-packages/ipykernel_launcher.py:20: SettingWithCopyWarning: \n",
            "A value is trying to be set on a copy of a slice from a DataFrame.\n",
            "Try using .loc[row_indexer,col_indexer] = value instead\n",
            "\n",
            "See the caveats in the documentation: http://pandas.pydata.org/pandas-docs/stable/indexing.html#indexing-view-versus-copy\n"
          ],
          "name": "stderr"
        },
        {
          "output_type": "stream",
          "text": [
            "Test acc 0.9853049147991891, fbs 0.9321377886724295\n",
            "... LR3 Processing 11\n"
          ],
          "name": "stdout"
        },
        {
          "output_type": "stream",
          "text": [
            "/usr/local/lib/python3.6/dist-packages/ipykernel_launcher.py:20: SettingWithCopyWarning: \n",
            "A value is trying to be set on a copy of a slice from a DataFrame.\n",
            "Try using .loc[row_indexer,col_indexer] = value instead\n",
            "\n",
            "See the caveats in the documentation: http://pandas.pydata.org/pandas-docs/stable/indexing.html#indexing-view-versus-copy\n"
          ],
          "name": "stderr"
        },
        {
          "output_type": "stream",
          "text": [
            "Test acc 0.9875623253520355, fbs 0.861140572733948\n",
            "... LR3 Processing 12\n"
          ],
          "name": "stdout"
        },
        {
          "output_type": "stream",
          "text": [
            "/usr/local/lib/python3.6/dist-packages/ipykernel_launcher.py:20: SettingWithCopyWarning: \n",
            "A value is trying to be set on a copy of a slice from a DataFrame.\n",
            "Try using .loc[row_indexer,col_indexer] = value instead\n",
            "\n",
            "See the caveats in the documentation: http://pandas.pydata.org/pandas-docs/stable/indexing.html#indexing-view-versus-copy\n"
          ],
          "name": "stderr"
        },
        {
          "output_type": "stream",
          "text": [
            "Test acc 0.9676620459152924, fbs 0.8102361323534898\n",
            "... LR3 Processing 13\n"
          ],
          "name": "stdout"
        },
        {
          "output_type": "stream",
          "text": [
            "/usr/local/lib/python3.6/dist-packages/ipykernel_launcher.py:20: SettingWithCopyWarning: \n",
            "A value is trying to be set on a copy of a slice from a DataFrame.\n",
            "Try using .loc[row_indexer,col_indexer] = value instead\n",
            "\n",
            "See the caveats in the documentation: http://pandas.pydata.org/pandas-docs/stable/indexing.html#indexing-view-versus-copy\n"
          ],
          "name": "stderr"
        },
        {
          "output_type": "stream",
          "text": [
            "Test acc 0.9883403649115117, fbs 0.8868577075098814\n",
            "... LR3 Processing 14\n"
          ],
          "name": "stdout"
        },
        {
          "output_type": "stream",
          "text": [
            "/usr/local/lib/python3.6/dist-packages/ipykernel_launcher.py:20: SettingWithCopyWarning: \n",
            "A value is trying to be set on a copy of a slice from a DataFrame.\n",
            "Try using .loc[row_indexer,col_indexer] = value instead\n",
            "\n",
            "See the caveats in the documentation: http://pandas.pydata.org/pandas-docs/stable/indexing.html#indexing-view-versus-copy\n"
          ],
          "name": "stderr"
        },
        {
          "output_type": "stream",
          "text": [
            "Test acc 0.9609665223823353, fbs 0.7786907923860115\n",
            "... LR3 Processing 15\n"
          ],
          "name": "stdout"
        },
        {
          "output_type": "stream",
          "text": [
            "/usr/local/lib/python3.6/dist-packages/ipykernel_launcher.py:20: SettingWithCopyWarning: \n",
            "A value is trying to be set on a copy of a slice from a DataFrame.\n",
            "Try using .loc[row_indexer,col_indexer] = value instead\n",
            "\n",
            "See the caveats in the documentation: http://pandas.pydata.org/pandas-docs/stable/indexing.html#indexing-view-versus-copy\n"
          ],
          "name": "stderr"
        },
        {
          "output_type": "stream",
          "text": [
            "Test acc 0.9932277683414608, fbs 0.9165590893087666\n",
            "... LR3 Processing 16\n"
          ],
          "name": "stdout"
        },
        {
          "output_type": "stream",
          "text": [
            "/usr/local/lib/python3.6/dist-packages/ipykernel_launcher.py:20: SettingWithCopyWarning: \n",
            "A value is trying to be set on a copy of a slice from a DataFrame.\n",
            "Try using .loc[row_indexer,col_indexer] = value instead\n",
            "\n",
            "See the caveats in the documentation: http://pandas.pydata.org/pandas-docs/stable/indexing.html#indexing-view-versus-copy\n"
          ],
          "name": "stderr"
        },
        {
          "output_type": "stream",
          "text": [
            "Test acc 0.9976001314996439, fbs 0.9789941081034925\n",
            "... LR3 Processing 17\n"
          ],
          "name": "stdout"
        },
        {
          "output_type": "stream",
          "text": [
            "/usr/local/lib/python3.6/dist-packages/ipykernel_launcher.py:20: SettingWithCopyWarning: \n",
            "A value is trying to be set on a copy of a slice from a DataFrame.\n",
            "Try using .loc[row_indexer,col_indexer] = value instead\n",
            "\n",
            "See the caveats in the documentation: http://pandas.pydata.org/pandas-docs/stable/indexing.html#indexing-view-versus-copy\n"
          ],
          "name": "stderr"
        },
        {
          "output_type": "stream",
          "text": [
            "Test acc 0.9985206290066297, fbs 0.9858366007841883\n",
            "... LR3 Processing 18\n"
          ],
          "name": "stdout"
        },
        {
          "output_type": "stream",
          "text": [
            "/usr/local/lib/python3.6/dist-packages/ipykernel_launcher.py:20: SettingWithCopyWarning: \n",
            "A value is trying to be set on a copy of a slice from a DataFrame.\n",
            "Try using .loc[row_indexer,col_indexer] = value instead\n",
            "\n",
            "See the caveats in the documentation: http://pandas.pydata.org/pandas-docs/stable/indexing.html#indexing-view-versus-copy\n"
          ],
          "name": "stderr"
        },
        {
          "output_type": "stream",
          "text": [
            "Test acc 0.9695030409292642, fbs 0.6986615280454143\n",
            "... LR3 Processing 19\n",
            "Test acc 0.9936332255766808, fbs 0.954462289083147\n",
            ".................................LR3......................................\n",
            "f0.5 score 0.8806566449546845\n"
          ],
          "name": "stdout"
        },
        {
          "output_type": "stream",
          "text": [
            "/usr/local/lib/python3.6/dist-packages/ipykernel_launcher.py:20: SettingWithCopyWarning: \n",
            "A value is trying to be set on a copy of a slice from a DataFrame.\n",
            "Try using .loc[row_indexer,col_indexer] = value instead\n",
            "\n",
            "See the caveats in the documentation: http://pandas.pydata.org/pandas-docs/stable/indexing.html#indexing-view-versus-copy\n"
          ],
          "name": "stderr"
        }
      ]
    },
    {
      "metadata": {
        "id": "Y1VdWbmmBtMb",
        "colab_type": "code",
        "colab": {}
      },
      "cell_type": "code",
      "source": [
        ""
      ],
      "execution_count": 0,
      "outputs": []
    }
  ]
}